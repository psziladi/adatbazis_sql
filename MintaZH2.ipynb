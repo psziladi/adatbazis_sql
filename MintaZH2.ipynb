{
    "metadata": {
        "kernelspec": {
            "name": "SQL",
            "display_name": "SQL",
            "language": "sql"
        },
        "language_info": {
            "name": "sql",
            "version": ""
        }
    },
    "nbformat_minor": 2,
    "nbformat": 4,
    "cells": [
        {
            "cell_type": "markdown",
            "source": [
                "1\\. feladat"
            ],
            "metadata": {
                "language": "sql",
                "azdata_cell_guid": "0b89e4e2-1895-4a39-beb3-9b4eaf6c6237"
            },
            "attachments": {}
        },
        {
            "cell_type": "code",
            "source": [
                "SELECT IIF(v.USERNEV IS NULL, 'Végösszeg', v.USERNEV),\r\n",
                "COUNT(DIstinct szh.SZALLAS_ID)\r\n",
                "FROM Vendeg v LEFT JOIN Foglalas f ON v.USERNEV = f.UGYFEL_FK\r\n",
                "            LEFT JOIN Szoba sz ON f.SZOBA_FK = sz.SZOBA_ID\r\n",
                "            LEFT JOIN Szallashely szh ON sz.SZALLAS_FK = szh.SZALLAS_ID\r\n",
                "GROUP BY ROLLUP(v.USERNEV)"
            ],
            "metadata": {
                "azdata_cell_guid": "0e322a7f-570b-460f-8546-731068ce9c0e",
                "language": "sql",
                "tags": []
            },
            "outputs": [
                {
                    "output_type": "display_data",
                    "data": {
                        "text/html": "Warning: Null value is eliminated by an aggregate or other SET operation."
                    },
                    "metadata": {}
                },
                {
                    "output_type": "display_data",
                    "data": {
                        "text/html": "(197 rows affected)"
                    },
                    "metadata": {}
                },
                {
                    "output_type": "display_data",
                    "data": {
                        "text/html": "Total execution time: 00:00:00.071"
                    },
                    "metadata": {}
                },
                {
                    "output_type": "execute_result",
                    "metadata": {},
                    "execution_count": 13,
                    "data": {
                        "application/vnd.dataresource+json": {
                            "schema": {
                                "fields": [
                                    {
                                        "name": "(No column name)"
                                    },
                                    {
                                        "name": "(No column name)"
                                    }
                                ]
                            },
                            "data": [
                                {
                                    "(No column name)": "2"
                                },
                                {
                                    "(No column name)": "2"
                                },
                                {
                                    "(No column name)": "5"
                                },
                                {
                                    "(No column name)": "4"
                                },
                                {
                                    "(No column name)": "3"
                                },
                                {
                                    "(No column name)": "5"
                                },
                                {
                                    "(No column name)": "3"
                                },
                                {
                                    "(No column name)": "7"
                                },
                                {
                                    "(No column name)": "3"
                                },
                                {
                                    "(No column name)": "6"
                                },
                                {
                                    "(No column name)": "4"
                                },
                                {
                                    "(No column name)": "3"
                                },
                                {
                                    "(No column name)": "6"
                                },
                                {
                                    "(No column name)": "5"
                                },
                                {
                                    "(No column name)": "2"
                                },
                                {
                                    "(No column name)": "5"
                                },
                                {
                                    "(No column name)": "3"
                                },
                                {
                                    "(No column name)": "1"
                                },
                                {
                                    "(No column name)": "4"
                                },
                                {
                                    "(No column name)": "1"
                                },
                                {
                                    "(No column name)": "2"
                                },
                                {
                                    "(No column name)": "2"
                                },
                                {
                                    "(No column name)": "6"
                                },
                                {
                                    "(No column name)": "3"
                                },
                                {
                                    "(No column name)": "3"
                                },
                                {
                                    "(No column name)": "6"
                                },
                                {
                                    "(No column name)": "4"
                                },
                                {
                                    "(No column name)": "1"
                                },
                                {
                                    "(No column name)": "5"
                                },
                                {
                                    "(No column name)": "5"
                                },
                                {
                                    "(No column name)": "8"
                                },
                                {
                                    "(No column name)": "4"
                                },
                                {
                                    "(No column name)": "3"
                                },
                                {
                                    "(No column name)": "5"
                                },
                                {
                                    "(No column name)": "3"
                                },
                                {
                                    "(No column name)": "5"
                                },
                                {
                                    "(No column name)": "3"
                                },
                                {
                                    "(No column name)": "2"
                                },
                                {
                                    "(No column name)": "6"
                                },
                                {
                                    "(No column name)": "8"
                                },
                                {
                                    "(No column name)": "4"
                                },
                                {
                                    "(No column name)": "3"
                                },
                                {
                                    "(No column name)": "9"
                                },
                                {
                                    "(No column name)": "1"
                                },
                                {
                                    "(No column name)": "2"
                                },
                                {
                                    "(No column name)": "4"
                                },
                                {
                                    "(No column name)": "7"
                                },
                                {
                                    "(No column name)": "5"
                                },
                                {
                                    "(No column name)": "3"
                                },
                                {
                                    "(No column name)": "6"
                                },
                                {
                                    "(No column name)": "4"
                                },
                                {
                                    "(No column name)": "5"
                                },
                                {
                                    "(No column name)": "5"
                                },
                                {
                                    "(No column name)": "6"
                                },
                                {
                                    "(No column name)": "4"
                                },
                                {
                                    "(No column name)": "4"
                                },
                                {
                                    "(No column name)": "4"
                                },
                                {
                                    "(No column name)": "6"
                                },
                                {
                                    "(No column name)": "6"
                                },
                                {
                                    "(No column name)": "5"
                                },
                                {
                                    "(No column name)": "5"
                                },
                                {
                                    "(No column name)": "6"
                                },
                                {
                                    "(No column name)": "5"
                                },
                                {
                                    "(No column name)": "1"
                                },
                                {
                                    "(No column name)": "4"
                                },
                                {
                                    "(No column name)": "3"
                                },
                                {
                                    "(No column name)": "4"
                                },
                                {
                                    "(No column name)": "5"
                                },
                                {
                                    "(No column name)": "3"
                                },
                                {
                                    "(No column name)": "4"
                                },
                                {
                                    "(No column name)": "5"
                                },
                                {
                                    "(No column name)": "3"
                                },
                                {
                                    "(No column name)": "3"
                                },
                                {
                                    "(No column name)": "2"
                                },
                                {
                                    "(No column name)": "3"
                                },
                                {
                                    "(No column name)": "4"
                                },
                                {
                                    "(No column name)": "4"
                                },
                                {
                                    "(No column name)": "5"
                                },
                                {
                                    "(No column name)": "5"
                                },
                                {
                                    "(No column name)": "4"
                                },
                                {
                                    "(No column name)": "0"
                                },
                                {
                                    "(No column name)": "4"
                                },
                                {
                                    "(No column name)": "1"
                                },
                                {
                                    "(No column name)": "4"
                                },
                                {
                                    "(No column name)": "5"
                                },
                                {
                                    "(No column name)": "7"
                                },
                                {
                                    "(No column name)": "3"
                                },
                                {
                                    "(No column name)": "3"
                                },
                                {
                                    "(No column name)": "2"
                                },
                                {
                                    "(No column name)": "2"
                                },
                                {
                                    "(No column name)": "2"
                                },
                                {
                                    "(No column name)": "4"
                                },
                                {
                                    "(No column name)": "3"
                                },
                                {
                                    "(No column name)": "4"
                                },
                                {
                                    "(No column name)": "2"
                                },
                                {
                                    "(No column name)": "5"
                                },
                                {
                                    "(No column name)": "3"
                                },
                                {
                                    "(No column name)": "3"
                                },
                                {
                                    "(No column name)": "3"
                                },
                                {
                                    "(No column name)": "3"
                                },
                                {
                                    "(No column name)": "5"
                                },
                                {
                                    "(No column name)": "3"
                                },
                                {
                                    "(No column name)": "2"
                                },
                                {
                                    "(No column name)": "2"
                                },
                                {
                                    "(No column name)": "4"
                                },
                                {
                                    "(No column name)": "5"
                                },
                                {
                                    "(No column name)": "6"
                                },
                                {
                                    "(No column name)": "3"
                                },
                                {
                                    "(No column name)": "4"
                                },
                                {
                                    "(No column name)": "4"
                                },
                                {
                                    "(No column name)": "3"
                                },
                                {
                                    "(No column name)": "3"
                                },
                                {
                                    "(No column name)": "2"
                                },
                                {
                                    "(No column name)": "6"
                                },
                                {
                                    "(No column name)": "6"
                                },
                                {
                                    "(No column name)": "6"
                                },
                                {
                                    "(No column name)": "5"
                                },
                                {
                                    "(No column name)": "4"
                                },
                                {
                                    "(No column name)": "5"
                                },
                                {
                                    "(No column name)": "3"
                                },
                                {
                                    "(No column name)": "5"
                                },
                                {
                                    "(No column name)": "1"
                                },
                                {
                                    "(No column name)": "5"
                                },
                                {
                                    "(No column name)": "3"
                                },
                                {
                                    "(No column name)": "5"
                                },
                                {
                                    "(No column name)": "6"
                                },
                                {
                                    "(No column name)": "3"
                                },
                                {
                                    "(No column name)": "2"
                                },
                                {
                                    "(No column name)": "6"
                                },
                                {
                                    "(No column name)": "3"
                                },
                                {
                                    "(No column name)": "2"
                                },
                                {
                                    "(No column name)": "5"
                                },
                                {
                                    "(No column name)": "4"
                                },
                                {
                                    "(No column name)": "3"
                                },
                                {
                                    "(No column name)": "3"
                                },
                                {
                                    "(No column name)": "5"
                                },
                                {
                                    "(No column name)": "2"
                                },
                                {
                                    "(No column name)": "4"
                                },
                                {
                                    "(No column name)": "4"
                                },
                                {
                                    "(No column name)": "4"
                                },
                                {
                                    "(No column name)": "4"
                                },
                                {
                                    "(No column name)": "5"
                                },
                                {
                                    "(No column name)": "5"
                                },
                                {
                                    "(No column name)": "2"
                                },
                                {
                                    "(No column name)": "3"
                                },
                                {
                                    "(No column name)": "3"
                                },
                                {
                                    "(No column name)": "4"
                                },
                                {
                                    "(No column name)": "3"
                                },
                                {
                                    "(No column name)": "7"
                                },
                                {
                                    "(No column name)": "3"
                                },
                                {
                                    "(No column name)": "4"
                                },
                                {
                                    "(No column name)": "4"
                                },
                                {
                                    "(No column name)": "4"
                                },
                                {
                                    "(No column name)": "5"
                                },
                                {
                                    "(No column name)": "3"
                                },
                                {
                                    "(No column name)": "4"
                                },
                                {
                                    "(No column name)": "4"
                                },
                                {
                                    "(No column name)": "2"
                                },
                                {
                                    "(No column name)": "3"
                                },
                                {
                                    "(No column name)": "4"
                                },
                                {
                                    "(No column name)": "3"
                                },
                                {
                                    "(No column name)": "4"
                                },
                                {
                                    "(No column name)": "3"
                                },
                                {
                                    "(No column name)": "3"
                                },
                                {
                                    "(No column name)": "9"
                                },
                                {
                                    "(No column name)": "3"
                                },
                                {
                                    "(No column name)": "2"
                                },
                                {
                                    "(No column name)": "1"
                                },
                                {
                                    "(No column name)": "4"
                                },
                                {
                                    "(No column name)": "5"
                                },
                                {
                                    "(No column name)": "6"
                                },
                                {
                                    "(No column name)": "2"
                                },
                                {
                                    "(No column name)": "4"
                                },
                                {
                                    "(No column name)": "6"
                                },
                                {
                                    "(No column name)": "2"
                                },
                                {
                                    "(No column name)": "1"
                                },
                                {
                                    "(No column name)": "4"
                                },
                                {
                                    "(No column name)": "1"
                                },
                                {
                                    "(No column name)": "5"
                                },
                                {
                                    "(No column name)": "7"
                                },
                                {
                                    "(No column name)": "5"
                                },
                                {
                                    "(No column name)": "4"
                                },
                                {
                                    "(No column name)": "4"
                                },
                                {
                                    "(No column name)": "2"
                                },
                                {
                                    "(No column name)": "5"
                                },
                                {
                                    "(No column name)": "2"
                                },
                                {
                                    "(No column name)": "5"
                                },
                                {
                                    "(No column name)": "3"
                                },
                                {
                                    "(No column name)": "2"
                                },
                                {
                                    "(No column name)": "2"
                                },
                                {
                                    "(No column name)": "2"
                                },
                                {
                                    "(No column name)": "6"
                                },
                                {
                                    "(No column name)": "2"
                                },
                                {
                                    "(No column name)": "4"
                                },
                                {
                                    "(No column name)": "4"
                                },
                                {
                                    "(No column name)": "5"
                                },
                                {
                                    "(No column name)": "12"
                                }
                            ]
                        },
                        "text/html": [
                            "<table>",
                            "<tr><th>(No column name)</th><th>(No column name)</th></tr>",
                            "<tr><td>adam1</td><td>2</td></tr>",
                            "<tr><td>adam3</td><td>2</td></tr>",
                            "<tr><td>adam4</td><td>5</td></tr>",
                            "<tr><td>agnes</td><td>4</td></tr>",
                            "<tr><td>agnes3</td><td>3</td></tr>",
                            "<tr><td>AGNESH</td><td>5</td></tr>",
                            "<tr><td>AGNESK</td><td>3</td></tr>",
                            "<tr><td>akos</td><td>7</td></tr>",
                            "<tr><td>aladar</td><td>3</td></tr>",
                            "<tr><td>alexandra</td><td>6</td></tr>",
                            "<tr><td>andi</td><td>4</td></tr>",
                            "<tr><td>andras2</td><td>3</td></tr>",
                            "<tr><td>andras21</td><td>6</td></tr>",
                            "<tr><td>andras3</td><td>5</td></tr>",
                            "<tr><td>andras4</td><td>2</td></tr>",
                            "<tr><td>andras41</td><td>5</td></tr>",
                            "<tr><td>ANDRASE</td><td>3</td></tr>",
                            "<tr><td>ANDRASN</td><td>1</td></tr>",
                            "<tr><td>andrea</td><td>4</td></tr>",
                            "<tr><td>andrea3</td><td>1</td></tr>",
                            "<tr><td>andrea4</td><td>2</td></tr>",
                            "<tr><td>ANDREAT</td><td>2</td></tr>",
                            "<tr><td>anett3</td><td>6</td></tr>",
                            "<tr><td>aniko</td><td>3</td></tr>",
                            "<tr><td>aniko4</td><td>3</td></tr>",
                            "<tr><td>ANIKOS</td><td>6</td></tr>",
                            "<tr><td>anita</td><td>4</td></tr>",
                            "<tr><td>annamaria1</td><td>1</td></tr>",
                            "<tr><td>ANNAMARIAR</td><td>5</td></tr>",
                            "<tr><td>aron2</td><td>5</td></tr>",
                            "<tr><td>ARONK</td><td>8</td></tr>",
                            "<tr><td>arpad2</td><td>4</td></tr>",
                            "<tr><td>ARPADH</td><td>3</td></tr>",
                            "<tr><td>ARPADM</td><td>5</td></tr>",
                            "<tr><td>attila</td><td>3</td></tr>",
                            "<tr><td>attila1</td><td>5</td></tr>",
                            "<tr><td>attila4</td><td>3</td></tr>",
                            "<tr><td>ATTILAO</td><td>2</td></tr>",
                            "<tr><td>balazs1</td><td>6</td></tr>",
                            "<tr><td>balazs2</td><td>8</td></tr>",
                            "<tr><td>balazs3</td><td>4</td></tr>",
                            "<tr><td>balint</td><td>3</td></tr>",
                            "<tr><td>balint1</td><td>9</td></tr>",
                            "<tr><td>balint2</td><td>1</td></tr>",
                            "<tr><td>balu</td><td>2</td></tr>",
                            "<tr><td>beata4</td><td>4</td></tr>",
                            "<tr><td>BEATRIXK</td><td>7</td></tr>",
                            "<tr><td>BEATRIXS</td><td>5</td></tr>",
                            "<tr><td>BELAF</td><td>3</td></tr>",
                            "<tr><td>bence</td><td>6</td></tr>",
                            "<tr><td>BENCEB</td><td>4</td></tr>",
                            "<tr><td>bernadett1</td><td>5</td></tr>",
                            "<tr><td>bernadett2</td><td>5</td></tr>",
                            "<tr><td>BERNADETTO</td><td>6</td></tr>",
                            "<tr><td>bertalan</td><td>4</td></tr>",
                            "<tr><td>brigitta</td><td>4</td></tr>",
                            "<tr><td>brigitta3</td><td>4</td></tr>",
                            "<tr><td>csongor3</td><td>6</td></tr>",
                            "<tr><td>dani</td><td>6</td></tr>",
                            "<tr><td>daniel</td><td>5</td></tr>",
                            "<tr><td>daniel1</td><td>5</td></tr>",
                            "<tr><td>david</td><td>6</td></tr>",
                            "<tr><td>david1</td><td>5</td></tr>",
                            "<tr><td>david4</td><td>1</td></tr>",
                            "<tr><td>debora</td><td>4</td></tr>",
                            "<tr><td>denes</td><td>3</td></tr>",
                            "<tr><td>dora3</td><td>4</td></tr>",
                            "<tr><td>edit</td><td>5</td></tr>",
                            "<tr><td>emese</td><td>3</td></tr>",
                            "<tr><td>eszter</td><td>4</td></tr>",
                            "<tr><td>eszter2</td><td>5</td></tr>",
                            "<tr><td>eszter4</td><td>3</td></tr>",
                            "<tr><td>ESZTERE</td><td>3</td></tr>",
                            "<tr><td>eva</td><td>2</td></tr>",
                            "<tr><td>eva2</td><td>3</td></tr>",
                            "<tr><td>EVAV</td><td>4</td></tr>",
                            "<tr><td>ferenc1</td><td>4</td></tr>",
                            "<tr><td>fruzsina4</td><td>5</td></tr>",
                            "<tr><td>gabor1</td><td>5</td></tr>",
                            "<tr><td>gabor4</td><td>4</td></tr>",
                            "<tr><td>GABORS</td><td>0</td></tr>",
                            "<tr><td>gabriella1</td><td>4</td></tr>",
                            "<tr><td>gabriella10</td><td>1</td></tr>",
                            "<tr><td>georgij</td><td>4</td></tr>",
                            "<tr><td>gusztav</td><td>5</td></tr>",
                            "<tr><td>GYONGYIK</td><td>7</td></tr>",
                            "<tr><td>GYORGYO</td><td>3</td></tr>",
                            "<tr><td>henrik3</td><td>3</td></tr>",
                            "<tr><td>IBOLYAA</td><td>2</td></tr>",
                            "<tr><td>ilona3</td><td>2</td></tr>",
                            "<tr><td>imre</td><td>2</td></tr>",
                            "<tr><td>imre1</td><td>4</td></tr>",
                            "<tr><td>istvan</td><td>3</td></tr>",
                            "<tr><td>istvan1</td><td>4</td></tr>",
                            "<tr><td>ISTVANV</td><td>2</td></tr>",
                            "<tr><td>janos3</td><td>5</td></tr>",
                            "<tr><td>JANOSG</td><td>3</td></tr>",
                            "<tr><td>JANOSP</td><td>3</td></tr>",
                            "<tr><td>jozsef</td><td>3</td></tr>",
                            "<tr><td>jozsef2</td><td>3</td></tr>",
                            "<tr><td>JOZSEFG</td><td>5</td></tr>",
                            "<tr><td>JUDITH</td><td>3</td></tr>",
                            "<tr><td>julia</td><td>2</td></tr>",
                            "<tr><td>julia4</td><td>2</td></tr>",
                            "<tr><td>julianna4</td><td>4</td></tr>",
                            "<tr><td>kata</td><td>5</td></tr>",
                            "<tr><td>katalin</td><td>6</td></tr>",
                            "<tr><td>katalin4</td><td>3</td></tr>",
                            "<tr><td>kati</td><td>4</td></tr>",
                            "<tr><td>katka</td><td>4</td></tr>",
                            "<tr><td>klaudia2</td><td>3</td></tr>",
                            "<tr><td>kornel4</td><td>3</td></tr>",
                            "<tr><td>kristof4</td><td>2</td></tr>",
                            "<tr><td>kriszti</td><td>6</td></tr>",
                            "<tr><td>krisztian4</td><td>6</td></tr>",
                            "<tr><td>KRISZTIANM</td><td>6</td></tr>",
                            "<tr><td>krisztina</td><td>5</td></tr>",
                            "<tr><td>krisztina1</td><td>4</td></tr>",
                            "<tr><td>KRISZTINAG</td><td>5</td></tr>",
                            "<tr><td>lajos</td><td>3</td></tr>",
                            "<tr><td>lala</td><td>5</td></tr>",
                            "<tr><td>laszlo1</td><td>1</td></tr>",
                            "<tr><td>laszlo2</td><td>5</td></tr>",
                            "<tr><td>LASZLOA</td><td>3</td></tr>",
                            "<tr><td>LASZLON</td><td>5</td></tr>",
                            "<tr><td>maria1</td><td>6</td></tr>",
                            "<tr><td>mark</td><td>3</td></tr>",
                            "<tr><td>MARKH</td><td>2</td></tr>",
                            "<tr><td>marton</td><td>6</td></tr>",
                            "<tr><td>MATEK</td><td>3</td></tr>",
                            "<tr><td>matyas2</td><td>2</td></tr>",
                            "<tr><td>MATYASS</td><td>5</td></tr>",
                            "<tr><td>MIHALYJ</td><td>4</td></tr>",
                            "<tr><td>miklos2</td><td>3</td></tr>",
                            "<tr><td>MIKLOSB</td><td>3</td></tr>",
                            "<tr><td>MONIKAM</td><td>5</td></tr>",
                            "<tr><td>NANDORF</td><td>2</td></tr>",
                            "<tr><td>nikolett3</td><td>4</td></tr>",
                            "<tr><td>nikoletta4</td><td>4</td></tr>",
                            "<tr><td>NIKOLETTAT</td><td>4</td></tr>",
                            "<tr><td>norbert</td><td>4</td></tr>",
                            "<tr><td>norbert2</td><td>5</td></tr>",
                            "<tr><td>norbert4</td><td>5</td></tr>",
                            "<tr><td>norbert5</td><td>2</td></tr>",
                            "<tr><td>pal</td><td>3</td></tr>",
                            "<tr><td>peter1</td><td>3</td></tr>",
                            "<tr><td>peter2</td><td>4</td></tr>",
                            "<tr><td>peter3</td><td>3</td></tr>",
                            "<tr><td>peter4</td><td>7</td></tr>",
                            "<tr><td>PETERB</td><td>3</td></tr>",
                            "<tr><td>polla</td><td>4</td></tr>",
                            "<tr><td>rajmond4</td><td>4</td></tr>",
                            "<tr><td>reka4</td><td>4</td></tr>",
                            "<tr><td>RENATAK</td><td>5</td></tr>",
                            "<tr><td>RENATAS</td><td>3</td></tr>",
                            "<tr><td>robert2</td><td>4</td></tr>",
                            "<tr><td>ROBERTI</td><td>4</td></tr>",
                            "<tr><td>ROBERTP</td><td>2</td></tr>",
                            "<tr><td>roland</td><td>3</td></tr>",
                            "<tr><td>roland1</td><td>4</td></tr>",
                            "<tr><td>roza2</td><td>3</td></tr>",
                            "<tr><td>sandor</td><td>4</td></tr>",
                            "<tr><td>sandor3</td><td>3</td></tr>",
                            "<tr><td>sandor4</td><td>3</td></tr>",
                            "<tr><td>sara</td><td>9</td></tr>",
                            "<tr><td>SEBASTIANF</td><td>3</td></tr>",
                            "<tr><td>sebestyen</td><td>2</td></tr>",
                            "<tr><td>szabolcs</td><td>1</td></tr>",
                            "<tr><td>SZABOLCSM</td><td>4</td></tr>",
                            "<tr><td>SZILARDS</td><td>5</td></tr>",
                            "<tr><td>szilvia1</td><td>6</td></tr>",
                            "<tr><td>tamara2</td><td>2</td></tr>",
                            "<tr><td>tamas</td><td>4</td></tr>",
                            "<tr><td>TAMASF</td><td>6</td></tr>",
                            "<tr><td>tibor</td><td>2</td></tr>",
                            "<tr><td>tibor2</td><td>1</td></tr>",
                            "<tr><td>tihamer</td><td>4</td></tr>",
                            "<tr><td>timea</td><td>1</td></tr>",
                            "<tr><td>timea2</td><td>5</td></tr>",
                            "<tr><td>tunde</td><td>7</td></tr>",
                            "<tr><td>valentin</td><td>5</td></tr>",
                            "<tr><td>veronika4</td><td>4</td></tr>",
                            "<tr><td>VIKTORIAU</td><td>4</td></tr>",
                            "<tr><td>VIKTORK</td><td>2</td></tr>",
                            "<tr><td>vivien3</td><td>5</td></tr>",
                            "<tr><td>zoltan</td><td>2</td></tr>",
                            "<tr><td>zoltan4</td><td>5</td></tr>",
                            "<tr><td>ZOLTANP</td><td>3</td></tr>",
                            "<tr><td>ZOLTANT</td><td>2</td></tr>",
                            "<tr><td>zsofi1</td><td>2</td></tr>",
                            "<tr><td>zsolt1</td><td>2</td></tr>",
                            "<tr><td>ZSOLTJ</td><td>6</td></tr>",
                            "<tr><td>zsuzsa</td><td>2</td></tr>",
                            "<tr><td>zsuzsa3</td><td>4</td></tr>",
                            "<tr><td>zsuzsanna</td><td>4</td></tr>",
                            "<tr><td>ZSUZSAV</td><td>5</td></tr>",
                            "<tr><td>Végösszeg</td><td>12</td></tr>",
                            "</table>"
                        ]
                    }
                }
            ],
            "execution_count": 13
        },
        {
            "cell_type": "markdown",
            "source": [
                "2\\. feladat"
            ],
            "metadata": {
                "azdata_cell_guid": "8e210764-f9df-4d16-8f03-f58fecdddc0a"
            },
            "attachments": {}
        },
        {
            "cell_type": "code",
            "source": [
                "SELECT *,\r\n",
                "DATEDIFF(year, SZUL_DAT, GETDATE()) AS 'Életkor',\r\n",
                "AVG(DATEDIFF(year, SZUL_DAT, GETDATE())) OVER(ORDER BY SZUL_DAT DESC\r\n",
                "ROWS BETWEEN 2 PRECEDING AND 2 FOLLOWING)\r\n",
                "AS 'Kor mozgóátlag'\r\n",
                "FROM Vendeg"
            ],
            "metadata": {
                "azdata_cell_guid": "f644f9a7-bc49-49b4-883b-cf30597e54a8",
                "language": "sql"
            },
            "outputs": [
                {
                    "output_type": "display_data",
                    "data": {
                        "text/html": "(196 rows affected)"
                    },
                    "metadata": {}
                },
                {
                    "output_type": "display_data",
                    "data": {
                        "text/html": "Total execution time: 00:00:00.010"
                    },
                    "metadata": {}
                },
                {
                    "output_type": "execute_result",
                    "metadata": {},
                    "execution_count": 25,
                    "data": {
                        "application/vnd.dataresource+json": {
                            "schema": {
                                "fields": [
                                    {
                                        "name": "USERNEV"
                                    },
                                    {
                                        "name": "NEV"
                                    },
                                    {
                                        "name": "EMAIL"
                                    },
                                    {
                                        "name": "SZAML_CIM"
                                    },
                                    {
                                        "name": "SZUL_DAT"
                                    },
                                    {
                                        "name": "Életkor"
                                    },
                                    {
                                        "name": "Kor mozgóátlag"
                                    }
                                ]
                            },
                            "data": [
                                {
                                    "USERNEV": "eszter2",
                                    "NEV": "Balogh Eszter",
                                    "EMAIL": "eszter.balogh@mail.hu",
                                    "SZAML_CIM": "6760 Kistelek Kossuth utca 11.",
                                    "SZUL_DAT": "1998-01-31",
                                    "Életkor": "26",
                                    "Kor mozgóátlag": "26"
                                },
                                {
                                    "USERNEV": "istvan1",
                                    "NEV": "Vizi István",
                                    "EMAIL": "istván.vizi@mail.hu",
                                    "SZAML_CIM": "7086 Ozora Rákóczi utca 1.",
                                    "SZUL_DAT": "1997-12-01",
                                    "Életkor": "27",
                                    "Kor mozgóátlag": "26"
                                },
                                {
                                    "USERNEV": "TAMASF",
                                    "NEV": "Fényes Tamás",
                                    "EMAIL": "TAMASF@gmail.com",
                                    "SZAML_CIM": "9023 Győr Arany János utca 1.",
                                    "SZUL_DAT": "1997-11-06",
                                    "Életkor": "27",
                                    "Kor mozgóátlag": "26"
                                },
                                {
                                    "USERNEV": "andras2",
                                    "NEV": "Tóth András",
                                    "EMAIL": "andrás.tóth@mail.hu",
                                    "SZAML_CIM": "4071 Egyek Petőfi utca 30.",
                                    "SZUL_DAT": "1997-10-31",
                                    "Életkor": "27",
                                    "Kor mozgóátlag": "27"
                                },
                                {
                                    "USERNEV": "andras41",
                                    "NEV": "Komjáti András",
                                    "EMAIL": "andras41@gmail.com",
                                    "SZAML_CIM": "5065 Nagykörű Kossuth út 24.",
                                    "SZUL_DAT": "1997-10-25",
                                    "Életkor": "27",
                                    "Kor mozgóátlag": "27"
                                },
                                {
                                    "USERNEV": "NIKOLETTAT",
                                    "NEV": "Tatár Nikoletta",
                                    "EMAIL": "nikoletta.tatár@mail.hu",
                                    "SZAML_CIM": "1067 Budapest Győri utca 12.",
                                    "SZUL_DAT": "1997-10-19",
                                    "Életkor": "27",
                                    "Kor mozgóátlag": "27"
                                },
                                {
                                    "USERNEV": "MARKH",
                                    "NEV": "Horváth Márk",
                                    "EMAIL": "márk.horváth@mail.hu",
                                    "SZAML_CIM": "4400 Nyíregyháza Badacsonyi utca 12.",
                                    "SZUL_DAT": "1997-09-23",
                                    "Életkor": "27",
                                    "Kor mozgóátlag": "27"
                                },
                                {
                                    "USERNEV": "balint2",
                                    "NEV": "Vukasinovity Bálint",
                                    "EMAIL": "balint2@gmail.com",
                                    "SZAML_CIM": "2330 Dunaharaszti Béke utca 7.",
                                    "SZUL_DAT": "1997-09-03",
                                    "Életkor": "27",
                                    "Kor mozgóátlag": "27"
                                },
                                {
                                    "USERNEV": "JUDITH",
                                    "NEV": "Hídasi Judit",
                                    "EMAIL": "JUDITH@gmail.com",
                                    "SZAML_CIM": "2100 Gödöllő Fő út 169.",
                                    "SZUL_DAT": "1997-07-12",
                                    "Életkor": "27",
                                    "Kor mozgóátlag": "27"
                                },
                                {
                                    "USERNEV": "sandor4",
                                    "NEV": "Nagy Sándor",
                                    "EMAIL": "sandor4@gmail.com",
                                    "SZAML_CIM": "4600 Kisvárda Fő utca 47.",
                                    "SZUL_DAT": "1997-06-11",
                                    "Életkor": "27",
                                    "Kor mozgóátlag": "27"
                                },
                                {
                                    "USERNEV": "ANDRASE",
                                    "NEV": "Erdei András",
                                    "EMAIL": "ANDRASE@gmail.com",
                                    "SZAML_CIM": "5071 Besenyszög Szolnoki út 8.",
                                    "SZUL_DAT": "1997-05-29",
                                    "Életkor": "27",
                                    "Kor mozgóátlag": "27"
                                },
                                {
                                    "USERNEV": "MATEK",
                                    "NEV": "Koza Máté",
                                    "EMAIL": "máté.koza@mail.hu",
                                    "SZAML_CIM": "1011 Budapest Központi telep 3.",
                                    "SZUL_DAT": "1997-02-28",
                                    "Életkor": "27",
                                    "Kor mozgóátlag": "27"
                                },
                                {
                                    "USERNEV": "lala",
                                    "NEV": "Nagymihály Lajos",
                                    "EMAIL": "lajos.nagymihály@mail.hu",
                                    "SZAML_CIM": "8638 Balatonlelle Rákóczi út 200.",
                                    "SZUL_DAT": "1997-02-24",
                                    "Életkor": "27",
                                    "Kor mozgóátlag": "27"
                                },
                                {
                                    "USERNEV": "bernadett2",
                                    "NEV": "Kovács Bernadett",
                                    "EMAIL": "bernadett.kovács@mail.hu",
                                    "SZAML_CIM": "4200 Hajdúszoboszló Fő út 122.",
                                    "SZUL_DAT": "1996-08-20",
                                    "Életkor": "28",
                                    "Kor mozgóátlag": "27"
                                },
                                {
                                    "USERNEV": "fruzsina4",
                                    "NEV": "Frank Fruzsina",
                                    "EMAIL": "fruzsina4@gmail.com",
                                    "SZAML_CIM": "9700 Szombathely Szabadság utca 95.",
                                    "SZUL_DAT": "1996-08-16",
                                    "Életkor": "28",
                                    "Kor mozgóátlag": "27"
                                },
                                {
                                    "USERNEV": "andrea3",
                                    "NEV": "Szomor Andrea",
                                    "EMAIL": "andrea3@gmail.com",
                                    "SZAML_CIM": "7960 Sellye Bécsi utca 82.",
                                    "SZUL_DAT": "1996-05-10",
                                    "Életkor": "28",
                                    "Kor mozgóátlag": "28"
                                },
                                {
                                    "USERNEV": "VIKTORIAU",
                                    "NEV": "Urbán Viktoria",
                                    "EMAIL": "viktoria.urbán@mail.hu",
                                    "SZAML_CIM": "3860 Encs Népboltsor  2.",
                                    "SZUL_DAT": "1996-05-03",
                                    "Életkor": "28",
                                    "Kor mozgóátlag": "28"
                                },
                                {
                                    "USERNEV": "balint",
                                    "NEV": "Horváth Bálint",
                                    "EMAIL": "balint@gmail.com",
                                    "SZAML_CIM": "6646 Tömörkény Endrődi Sándor utca 47.",
                                    "SZUL_DAT": "1996-03-17",
                                    "Életkor": "28",
                                    "Kor mozgóátlag": "28"
                                },
                                {
                                    "USERNEV": "mark",
                                    "NEV": "Kispál Márk",
                                    "EMAIL": "márk.kispál@mail.hu",
                                    "SZAML_CIM": "1086 Budapest Juhászföldi út 1.",
                                    "SZUL_DAT": "1996-01-23",
                                    "Életkor": "28",
                                    "Kor mozgóátlag": "28"
                                },
                                {
                                    "USERNEV": "timea",
                                    "NEV": "Papós Tímea",
                                    "EMAIL": "timea@gmail.com",
                                    "SZAML_CIM": "1035 Budapest  Kossuth út 77.",
                                    "SZUL_DAT": "1996-01-08",
                                    "Életkor": "28",
                                    "Kor mozgóátlag": "28"
                                },
                                {
                                    "USERNEV": "maria1",
                                    "NEV": "Baráth Mária",
                                    "EMAIL": "mária.baráth@mail.hu",
                                    "SZAML_CIM": "1047 Budapest Posta köz 2.",
                                    "SZUL_DAT": "1995-11-19",
                                    "Életkor": "29",
                                    "Kor mozgóátlag": "28"
                                },
                                {
                                    "USERNEV": "miklos2",
                                    "NEV": "Gondos Miklós",
                                    "EMAIL": "miklos2@gmail.com",
                                    "SZAML_CIM": "2100 Gödöllő Árpád utca 23.",
                                    "SZUL_DAT": "1995-10-07",
                                    "Életkor": "29",
                                    "Kor mozgóátlag": "28"
                                },
                                {
                                    "USERNEV": "dora3",
                                    "NEV": "Sarodi Dóra",
                                    "EMAIL": "dóra.sarodi@mail.hu",
                                    "SZAML_CIM": "2855 Bokod Fő út 18.",
                                    "SZUL_DAT": "1995-05-18",
                                    "Életkor": "29",
                                    "Kor mozgóátlag": "29"
                                },
                                {
                                    "USERNEV": "ATTILAO",
                                    "NEV": "Opra Attila",
                                    "EMAIL": "ATTILAO@gmail.com",
                                    "SZAML_CIM": "8283 Káptalantóti Rákóczi út 200.",
                                    "SZUL_DAT": "1995-05-08",
                                    "Életkor": "29",
                                    "Kor mozgóátlag": "29"
                                },
                                {
                                    "USERNEV": "kati",
                                    "NEV": "Zatykó Katalin",
                                    "EMAIL": "katalin.zatykó@mail.hu",
                                    "SZAML_CIM": "7511 Ötvöskónyi Kossuth Lajos utca 6.",
                                    "SZUL_DAT": "1995-05-01",
                                    "Életkor": "29",
                                    "Kor mozgóátlag": "29"
                                },
                                {
                                    "USERNEV": "BELAF",
                                    "NEV": "Farkas Béla",
                                    "EMAIL": "BELAF@gmail.com",
                                    "SZAML_CIM": "5530 Vésztő Petőfi Sándor utca 3.",
                                    "SZUL_DAT": "1995-02-24",
                                    "Életkor": "29",
                                    "Kor mozgóátlag": "29"
                                },
                                {
                                    "USERNEV": "zsuzsanna",
                                    "NEV": "Barta Zsuzsanna",
                                    "EMAIL": "zsuzsanna.barta@mail.hu",
                                    "SZAML_CIM": "4172 Biharnagybajom Dózsa György utca 37.",
                                    "SZUL_DAT": "1994-10-07",
                                    "Életkor": "30",
                                    "Kor mozgóátlag": "29"
                                },
                                {
                                    "USERNEV": "beata4",
                                    "NEV": "Bagi Beáta",
                                    "EMAIL": "beáta.bagi@mail.hu",
                                    "SZAML_CIM": "8477 Tüskevár Felszabadulás utca 32.",
                                    "SZUL_DAT": "1994-03-19",
                                    "Életkor": "30",
                                    "Kor mozgóátlag": "30"
                                },
                                {
                                    "USERNEV": "polla",
                                    "NEV": "Palágyi Polla",
                                    "EMAIL": "polla@gmail.com",
                                    "SZAML_CIM": "2484 Agárd Fő út 18.",
                                    "SZUL_DAT": "1994-02-04",
                                    "Életkor": "30",
                                    "Kor mozgóátlag": "30"
                                },
                                {
                                    "USERNEV": "tibor",
                                    "NEV": "Gombos Tibor",
                                    "EMAIL": "tibor.gombos@mail.hu",
                                    "SZAML_CIM": "7100 Szekszárd Kossuth utca 77.",
                                    "SZUL_DAT": "1993-11-28",
                                    "Életkor": "31",
                                    "Kor mozgóátlag": "30"
                                },
                                {
                                    "USERNEV": "rajmond4",
                                    "NEV": "Rácz Rajmond",
                                    "EMAIL": "rajmond.rácz@mail.hu",
                                    "SZAML_CIM": "9155 Lébény Petőfi utca 1/2.",
                                    "SZUL_DAT": "1993-09-25",
                                    "Életkor": "31",
                                    "Kor mozgóátlag": "30"
                                },
                                {
                                    "USERNEV": "eszter4",
                                    "NEV": "Fülöp Eszter",
                                    "EMAIL": "eszter.fülöp@mail.hu",
                                    "SZAML_CIM": "3643 Dédestapolcsány Kossuth Lajos utca 47/b.",
                                    "SZUL_DAT": "1993-06-28",
                                    "Életkor": "31",
                                    "Kor mozgóátlag": "31"
                                },
                                {
                                    "USERNEV": "andrea",
                                    "NEV": "Kiss Andrea",
                                    "EMAIL": "andrea.kiss@mail.hu",
                                    "SZAML_CIM": "1113 Budapest Petőfi Sándor utca 87.",
                                    "SZUL_DAT": "1993-03-25",
                                    "Életkor": "31",
                                    "Kor mozgóátlag": "31"
                                },
                                {
                                    "USERNEV": "julia",
                                    "NEV": "Tóth Júlia",
                                    "EMAIL": "julia@gmail.com",
                                    "SZAML_CIM": "5310 Kisújszállás Árpád utca 4.",
                                    "SZUL_DAT": "1993-03-02",
                                    "Életkor": "31",
                                    "Kor mozgóátlag": "31"
                                },
                                {
                                    "USERNEV": "balazs1",
                                    "NEV": "Bozsik Balázs",
                                    "EMAIL": "balázs.bozsik@mail.hu",
                                    "SZAML_CIM": "2300 Ráckeve Bécsi utca 82.",
                                    "SZUL_DAT": "1992-11-03",
                                    "Életkor": "32",
                                    "Kor mozgóátlag": "31"
                                },
                                {
                                    "USERNEV": "SEBASTIANF",
                                    "NEV": "Foltényi Sebastián",
                                    "EMAIL": "SEBASTIANF@gmail.com",
                                    "SZAML_CIM": "7960 Sellye Grassalkovich út 10.",
                                    "SZUL_DAT": "1992-09-09",
                                    "Életkor": "32",
                                    "Kor mozgóátlag": "31"
                                },
                                {
                                    "USERNEV": "alexandra",
                                    "NEV": "Bagóczki Alexandra",
                                    "EMAIL": "alexandra.bagóczki@mail.hu",
                                    "SZAML_CIM": "2381 Táborfalva Petőfi utca 1/2.",
                                    "SZUL_DAT": "1992-03-25",
                                    "Életkor": "32",
                                    "Kor mozgóátlag": "32"
                                },
                                {
                                    "USERNEV": "sebestyen",
                                    "NEV": "Rab Sebestyén",
                                    "EMAIL": "sebestyen@gmail.com",
                                    "SZAML_CIM": "7130 Tolna Központi telep 3.",
                                    "SZUL_DAT": "1992-03-03",
                                    "Életkor": "32",
                                    "Kor mozgóátlag": "32"
                                },
                                {
                                    "USERNEV": "adam1",
                                    "NEV": "Kiss Ádám",
                                    "EMAIL": "ádám.kiss@mail.hu",
                                    "SZAML_CIM": "5630 Békés Szolnoki út 8.",
                                    "SZUL_DAT": "1991-12-28",
                                    "Életkor": "33",
                                    "Kor mozgóátlag": "32"
                                },
                                {
                                    "USERNEV": "norbert2",
                                    "NEV": "Hegedűs Norbert",
                                    "EMAIL": "norbert.hegedűs@mail.hu",
                                    "SZAML_CIM": "2081 Piliscsaba Rendeki utca 21.",
                                    "SZUL_DAT": "1991-07-17",
                                    "Életkor": "33",
                                    "Kor mozgóátlag": "32"
                                },
                                {
                                    "USERNEV": "tihamer",
                                    "NEV": "Kazy Tihamér",
                                    "EMAIL": "tihamér.kazy@mail.hu",
                                    "SZAML_CIM": "2370 Dabas Fő utca 60.",
                                    "SZUL_DAT": "1991-07-05",
                                    "Életkor": "33",
                                    "Kor mozgóátlag": "33"
                                },
                                {
                                    "USERNEV": "vivien3",
                                    "NEV": "Boros Vivien",
                                    "EMAIL": "vivien3@gmail.com",
                                    "SZAML_CIM": "2117 Isaszeg Fő út 122.",
                                    "SZUL_DAT": "1991-07-01",
                                    "Életkor": "33",
                                    "Kor mozgóátlag": "33"
                                },
                                {
                                    "USERNEV": "brigitta3",
                                    "NEV": "Pataki Brigitta",
                                    "EMAIL": "brigitta.pataki@mail.hu",
                                    "SZAML_CIM": "2730 Albertirsa Rendeki utca 21.",
                                    "SZUL_DAT": "1991-05-23",
                                    "Életkor": "33",
                                    "Kor mozgóátlag": "33"
                                },
                                {
                                    "USERNEV": "RENATAS",
                                    "NEV": "Szirmai Renáta",
                                    "EMAIL": "RENATAS@gmail.com",
                                    "SZAML_CIM": "2053 Herceghalom Kossuth utca 27.",
                                    "SZUL_DAT": "1991-03-26",
                                    "Életkor": "33",
                                    "Kor mozgóátlag": "33"
                                },
                                {
                                    "USERNEV": "david4",
                                    "NEV": "Berta Dávid",
                                    "EMAIL": "david4@gmail.com",
                                    "SZAML_CIM": "3500 Miskolc Balatoni út 12.",
                                    "SZUL_DAT": "1990-10-08",
                                    "Életkor": "34",
                                    "Kor mozgóátlag": "33"
                                },
                                {
                                    "USERNEV": "julianna4",
                                    "NEV": "Szabó Julianna",
                                    "EMAIL": "julianna4@gmail.com",
                                    "SZAML_CIM": "6700 Szeged Kossuth Lajos utca 6.",
                                    "SZUL_DAT": "1990-09-29",
                                    "Életkor": "34",
                                    "Kor mozgóátlag": "33"
                                },
                                {
                                    "USERNEV": "ilona3",
                                    "NEV": "Bosnyák Ilona",
                                    "EMAIL": "ilona3@gmail.com",
                                    "SZAML_CIM": "2483 Gárdony Posta köz 2.",
                                    "SZUL_DAT": "1990-08-06",
                                    "Életkor": "34",
                                    "Kor mozgóátlag": "34"
                                },
                                {
                                    "USERNEV": "szabolcs",
                                    "NEV": "Bodor Szabolcs",
                                    "EMAIL": "szabolcs.bodor@mail.hu",
                                    "SZAML_CIM": "6786 Ruzsa Ady Endre út 27.",
                                    "SZUL_DAT": "1990-07-16",
                                    "Életkor": "34",
                                    "Kor mozgóátlag": "34"
                                },
                                {
                                    "USERNEV": "arpad2",
                                    "NEV": "Ötvös Árpád",
                                    "EMAIL": "árpád.ötvös@mail.hu",
                                    "SZAML_CIM": "2600 Vác Padragi út 158.",
                                    "SZUL_DAT": "1990-06-08",
                                    "Életkor": "34",
                                    "Kor mozgóátlag": "34"
                                },
                                {
                                    "USERNEV": "GABORS",
                                    "NEV": "Szöllősi Gábor",
                                    "EMAIL": "GABORS@gmail.com",
                                    "SZAML_CIM": "3630 Putnok Kossuth utca 27.",
                                    "SZUL_DAT": "1990-05-31",
                                    "Életkor": "34",
                                    "Kor mozgóátlag": "34"
                                },
                                {
                                    "USERNEV": "ARPADH",
                                    "NEV": "Horváth Árpád",
                                    "EMAIL": "árpád.horváth@mail.hu",
                                    "SZAML_CIM": "7349 Szászvár Dózsa György u. 1.",
                                    "SZUL_DAT": "1990-05-18",
                                    "Életkor": "34",
                                    "Kor mozgóátlag": "34"
                                },
                                {
                                    "USERNEV": "annamaria1",
                                    "NEV": "Szűcs Annamária",
                                    "EMAIL": "annamária.szűcs@mail.hu",
                                    "SZAML_CIM": "1191 Budapest Rendeki utca 21.",
                                    "SZUL_DAT": "1990-04-27",
                                    "Életkor": "34",
                                    "Kor mozgóátlag": "34"
                                },
                                {
                                    "USERNEV": "balint1",
                                    "NEV": "Molnár Bálint",
                                    "EMAIL": "balint1@gmail.com",
                                    "SZAML_CIM": "9181 Kimle Fő út 169.",
                                    "SZUL_DAT": "1989-08-24",
                                    "Életkor": "35",
                                    "Kor mozgóátlag": "34"
                                },
                                {
                                    "USERNEV": "ARONK",
                                    "NEV": "Kelemen Áron",
                                    "EMAIL": "áron.kelemen@mail.hu",
                                    "SZAML_CIM": "8200 Veszprém Petőfi utca 8.",
                                    "SZUL_DAT": "1989-08-10",
                                    "Életkor": "35",
                                    "Kor mozgóátlag": "34"
                                },
                                {
                                    "USERNEV": "emese",
                                    "NEV": "Kuruc Emese",
                                    "EMAIL": "emese.kuruc@mail.hu",
                                    "SZAML_CIM": "6700 Szeged Rákóczi utca 67.",
                                    "SZUL_DAT": "1989-08-10",
                                    "Életkor": "35",
                                    "Kor mozgóátlag": "35"
                                },
                                {
                                    "USERNEV": "marton",
                                    "NEV": "Kalacsi Márton",
                                    "EMAIL": "marton@gmail.com",
                                    "SZAML_CIM": "5137 Jászkisér Fő út 169.",
                                    "SZUL_DAT": "1989-06-24",
                                    "Életkor": "35",
                                    "Kor mozgóátlag": "35"
                                },
                                {
                                    "USERNEV": "VIKTORK",
                                    "NEV": "Keresztúri Viktor",
                                    "EMAIL": "viktor.keresztúri@mail.hu",
                                    "SZAML_CIM": "2532 Tokodaltáró Nagy Lajos tér 4.",
                                    "SZUL_DAT": "1989-05-05",
                                    "Életkor": "35",
                                    "Kor mozgóátlag": "35"
                                },
                                {
                                    "USERNEV": "ISTVANV",
                                    "NEV": "Varga István",
                                    "EMAIL": "ISTVANV@gmail.com",
                                    "SZAML_CIM": "6320 Solt Hősök tere 11.",
                                    "SZUL_DAT": "1989-04-09",
                                    "Életkor": "35",
                                    "Kor mozgóátlag": "35"
                                },
                                {
                                    "USERNEV": "sandor3",
                                    "NEV": "Farkas Sándor",
                                    "EMAIL": "sándor.farkas@mail.hu",
                                    "SZAML_CIM": "8640 Fonyód Tanácsköztársaság tér 1.",
                                    "SZUL_DAT": "1989-01-27",
                                    "Életkor": "35",
                                    "Kor mozgóátlag": "35"
                                },
                                {
                                    "USERNEV": "roza2",
                                    "NEV": "Bucskó Róza",
                                    "EMAIL": "roza2@gmail.com",
                                    "SZAML_CIM": "5661 Újkígyós Arany János utca 3.",
                                    "SZUL_DAT": "1988-12-26",
                                    "Életkor": "36",
                                    "Kor mozgóátlag": "35"
                                },
                                {
                                    "USERNEV": "ANIKOS",
                                    "NEV": "Simon Anikó",
                                    "EMAIL": "ANIKOS@gmail.com",
                                    "SZAML_CIM": "5137 Jászkisér Bécsi utca 82.",
                                    "SZUL_DAT": "1988-12-14",
                                    "Életkor": "36",
                                    "Kor mozgóátlag": "35"
                                },
                                {
                                    "USERNEV": "AGNESK",
                                    "NEV": "Kovács Ágnes",
                                    "EMAIL": "AGNESK@gmail.com",
                                    "SZAML_CIM": "1084 Budapest Endrődi Sándor utca 47.",
                                    "SZUL_DAT": "1988-10-02",
                                    "Életkor": "36",
                                    "Kor mozgóátlag": "36"
                                },
                                {
                                    "USERNEV": "imre",
                                    "NEV": "Búza Imre",
                                    "EMAIL": "imre.búza@mail.hu",
                                    "SZAML_CIM": "9181 Kimle Petőfi Sándor tér 1.",
                                    "SZUL_DAT": "1988-09-30",
                                    "Életkor": "36",
                                    "Kor mozgóátlag": "36"
                                },
                                {
                                    "USERNEV": "zsolt1",
                                    "NEV": "Pulai Zsolt",
                                    "EMAIL": "zsolt.pulai@mail.hu",
                                    "SZAML_CIM": "8391 Sármellék Fő utca 60.",
                                    "SZUL_DAT": "1988-05-27",
                                    "Életkor": "36",
                                    "Kor mozgóátlag": "36"
                                },
                                {
                                    "USERNEV": "RENATAK",
                                    "NEV": "Kardos Renáta",
                                    "EMAIL": "renáta.kardos@mail.hu",
                                    "SZAML_CIM": "7086 Ozora Bécsi utca 82.",
                                    "SZUL_DAT": "1988-05-17",
                                    "Életkor": "36",
                                    "Kor mozgóátlag": "36"
                                },
                                {
                                    "USERNEV": "BERNADETTO",
                                    "NEV": "Orbán Bernadett",
                                    "EMAIL": "bernadett.orbán@mail.hu",
                                    "SZAML_CIM": "5085 Rákóczifalva Arany János utca 1.",
                                    "SZUL_DAT": "1987-12-07",
                                    "Életkor": "37",
                                    "Kor mozgóátlag": "36"
                                },
                                {
                                    "USERNEV": "KRISZTINAG",
                                    "NEV": "Gyárfás Krisztina",
                                    "EMAIL": "KRISZTINAG@gmail.com",
                                    "SZAML_CIM": "6762 Sándorfalva Arany János utca 1.",
                                    "SZUL_DAT": "1987-09-19",
                                    "Életkor": "37",
                                    "Kor mozgóátlag": "36"
                                },
                                {
                                    "USERNEV": "bence",
                                    "NEV": "Győrffy Bence",
                                    "EMAIL": "bence@gmail.com",
                                    "SZAML_CIM": "6900 Makó Árpád utca 23.",
                                    "SZUL_DAT": "1987-07-09",
                                    "Életkor": "37",
                                    "Kor mozgóátlag": "37"
                                },
                                {
                                    "USERNEV": "eszter",
                                    "NEV": "Molnár Eszter",
                                    "EMAIL": "eszter.molnár@mail.hu",
                                    "SZAML_CIM": "6800 Hódmezővásárhely Fő út 77.",
                                    "SZUL_DAT": "1987-05-10",
                                    "Életkor": "37",
                                    "Kor mozgóátlag": "37"
                                },
                                {
                                    "USERNEV": "gabor4",
                                    "NEV": "Telek Gábor",
                                    "EMAIL": "gábor.telek@mail.hu",
                                    "SZAML_CIM": "9071 Görbeháza Fő út 169.",
                                    "SZUL_DAT": "1987-03-15",
                                    "Életkor": "37",
                                    "Kor mozgóátlag": "37"
                                },
                                {
                                    "USERNEV": "henrik3",
                                    "NEV": "Nádudvari Henrik",
                                    "EMAIL": "henrik.nádudvari@mail.hu",
                                    "SZAML_CIM": "1077 Budapest Tanácsköztársaság tér 1.",
                                    "SZUL_DAT": "1986-12-05",
                                    "Életkor": "38",
                                    "Kor mozgóátlag": "37"
                                },
                                {
                                    "USERNEV": "ANDREAT",
                                    "NEV": "Tornyos Andrea",
                                    "EMAIL": "ANDREAT@gmail.com",
                                    "SZAML_CIM": "6131 Szank Bécsi utca 82.",
                                    "SZUL_DAT": "1986-11-14",
                                    "Életkor": "38",
                                    "Kor mozgóátlag": "37"
                                },
                                {
                                    "USERNEV": "dani",
                                    "NEV": "Vörös Dániel",
                                    "EMAIL": "daniel@gmail.com",
                                    "SZAML_CIM": "7150 Bonyhád Dózsa György u. 1.",
                                    "SZUL_DAT": "1986-10-14",
                                    "Életkor": "38",
                                    "Kor mozgóátlag": "38"
                                },
                                {
                                    "USERNEV": "balazs3",
                                    "NEV": "Bakódy Balázs",
                                    "EMAIL": "balazs3@gmail.com",
                                    "SZAML_CIM": "2131 Göd Arany János utca 1.",
                                    "SZUL_DAT": "1986-09-09",
                                    "Életkor": "38",
                                    "Kor mozgóátlag": "38"
                                },
                                {
                                    "USERNEV": "istvan",
                                    "NEV": "Soós István",
                                    "EMAIL": "istvan@gmail.com",
                                    "SZAML_CIM": "2370 Dabas Kossuth utca 27.",
                                    "SZUL_DAT": "1986-06-28",
                                    "Életkor": "38",
                                    "Kor mozgóátlag": "38"
                                },
                                {
                                    "USERNEV": "zoltan4",
                                    "NEV": "Barna Zoltán",
                                    "EMAIL": "zoltan4@gmail.com",
                                    "SZAML_CIM": "8313 Balatongyörök Jászai tér 21.",
                                    "SZUL_DAT": "1986-05-20",
                                    "Életkor": "38",
                                    "Kor mozgóátlag": "38"
                                },
                                {
                                    "USERNEV": "ARPADM",
                                    "NEV": "Móricz Árpád",
                                    "EMAIL": "árpád.móricz@mail.hu",
                                    "SZAML_CIM": "3910 Tokaj Rákóczi utca 67.",
                                    "SZUL_DAT": "1986-04-20",
                                    "Életkor": "38",
                                    "Kor mozgóátlag": "38"
                                },
                                {
                                    "USERNEV": "katalin4",
                                    "NEV": "Kertész Katalin",
                                    "EMAIL": "katalin4@gmail.com",
                                    "SZAML_CIM": "2800 Tatabánya Búvár utca 4.",
                                    "SZUL_DAT": "1986-04-13",
                                    "Életkor": "38",
                                    "Kor mozgóátlag": "38"
                                },
                                {
                                    "USERNEV": "valentin",
                                    "NEV": "Feró Valentin",
                                    "EMAIL": "valentin.feró@mail.hu",
                                    "SZAML_CIM": "3895 Gönc Búvár utca 4.",
                                    "SZUL_DAT": "1986-01-09",
                                    "Életkor": "38",
                                    "Kor mozgóátlag": "38"
                                },
                                {
                                    "USERNEV": "roland1",
                                    "NEV": "Ferencz Roland",
                                    "EMAIL": "roland.ferencz@mail.hu",
                                    "SZAML_CIM": "2424 Előszállás Fő út 169.",
                                    "SZUL_DAT": "1985-12-31",
                                    "Életkor": "39",
                                    "Kor mozgóátlag": "38"
                                },
                                {
                                    "USERNEV": "ZOLTANT",
                                    "NEV": "Tóth Zoltán",
                                    "EMAIL": "zoltán.tóth@mail.hu",
                                    "SZAML_CIM": "4244 Újfehértó Posta köz 2.",
                                    "SZUL_DAT": "1985-12-14",
                                    "Életkor": "39",
                                    "Kor mozgóátlag": "38"
                                },
                                {
                                    "USERNEV": "jozsef",
                                    "NEV": "Gergely József",
                                    "EMAIL": "jozsef@gmail.com",
                                    "SZAML_CIM": "6050 Lajosmizse Fő út 18.",
                                    "SZUL_DAT": "1985-11-01",
                                    "Életkor": "39",
                                    "Kor mozgóátlag": "39"
                                },
                                {
                                    "USERNEV": "peter4",
                                    "NEV": "Bíró Péter",
                                    "EMAIL": "péter.bíró@mail.hu",
                                    "SZAML_CIM": "5137 Jászkisér Rákóczi utca 67.",
                                    "SZUL_DAT": "1985-09-01",
                                    "Életkor": "39",
                                    "Kor mozgóátlag": "39"
                                },
                                {
                                    "USERNEV": "julia4",
                                    "NEV": "Nagy Júlia",
                                    "EMAIL": "julia4@gmail.com",
                                    "SZAML_CIM": "7000 Sárbogárd Jászai tér 21.",
                                    "SZUL_DAT": "1985-08-11",
                                    "Életkor": "39",
                                    "Kor mozgóátlag": "39"
                                },
                                {
                                    "USERNEV": "tibor2",
                                    "NEV": "Dániel Tibor",
                                    "EMAIL": "tibor2@gmail.com",
                                    "SZAML_CIM": "6646 Tömörkény Árpád utca 23.",
                                    "SZUL_DAT": "1985-02-02",
                                    "Életkor": "39",
                                    "Kor mozgóátlag": "39"
                                },
                                {
                                    "USERNEV": "balazs2",
                                    "NEV": "Szűcs Balázs",
                                    "EMAIL": "balázs.szűcs@mail.hu",
                                    "SZAML_CIM": "3170 Szécsény Szabadság utca 95.",
                                    "SZUL_DAT": "1984-10-31",
                                    "Életkor": "40",
                                    "Kor mozgóátlag": "39"
                                },
                                {
                                    "USERNEV": "bernadett1",
                                    "NEV": "Simon Bernadett",
                                    "EMAIL": "bernadett1@gmail.com",
                                    "SZAML_CIM": "2300 Ráckeve Fő utca 108.",
                                    "SZUL_DAT": "1984-10-13",
                                    "Életkor": "40",
                                    "Kor mozgóátlag": "39"
                                },
                                {
                                    "USERNEV": "JANOSP",
                                    "NEV": "Pálinkás János",
                                    "EMAIL": "JANOSP@gmail.com",
                                    "SZAML_CIM": "5920 Csorvás Padragi út 158.",
                                    "SZUL_DAT": "1984-10-12",
                                    "Életkor": "40",
                                    "Kor mozgóátlag": "40"
                                },
                                {
                                    "USERNEV": "tamas",
                                    "NEV": "Antal Tamás",
                                    "EMAIL": "tamás.antal@mail.hu",
                                    "SZAML_CIM": "4440 Tiszavasvári Posta köz 2.",
                                    "SZUL_DAT": "1984-09-05",
                                    "Életkor": "40",
                                    "Kor mozgóátlag": "40"
                                },
                                {
                                    "USERNEV": "edit",
                                    "NEV": "Bittmann Edit",
                                    "EMAIL": "edit.bittmann@mail.hu",
                                    "SZAML_CIM": "6077 Orgovány Fő utca 60.",
                                    "SZUL_DAT": "1984-04-20",
                                    "Életkor": "40",
                                    "Kor mozgóátlag": "40"
                                },
                                {
                                    "USERNEV": "andras4",
                                    "NEV": "Back András",
                                    "EMAIL": "andras4@gmail.com",
                                    "SZAML_CIM": "3783 Edelény Fő út 169.",
                                    "SZUL_DAT": "1984-04-07",
                                    "Életkor": "40",
                                    "Kor mozgóátlag": "40"
                                },
                                {
                                    "USERNEV": "csongor3",
                                    "NEV": "Nagymihály Csongor",
                                    "EMAIL": "csongor.nagymihály@mail.hu",
                                    "SZAML_CIM": "9181 Kimle Deák Ferenc út 5.",
                                    "SZUL_DAT": "1984-03-05",
                                    "Életkor": "40",
                                    "Kor mozgóátlag": "40"
                                },
                                {
                                    "USERNEV": "kristof4",
                                    "NEV": "Poprádi Kristóf",
                                    "EMAIL": "kristof4@gmail.com",
                                    "SZAML_CIM": "8220 Balatonalmádi Mészáros utca 7.",
                                    "SZUL_DAT": "1984-01-15",
                                    "Életkor": "40",
                                    "Kor mozgóátlag": "40"
                                },
                                {
                                    "USERNEV": "IBOLYAA",
                                    "NEV": "Andor Ibolya",
                                    "EMAIL": "ibolya.andor@mail.hu",
                                    "SZAML_CIM": "9023 Győr Posta köz 2.",
                                    "SZUL_DAT": "1983-11-27",
                                    "Életkor": "41",
                                    "Kor mozgóátlag": "40"
                                },
                                {
                                    "USERNEV": "zsofi1",
                                    "NEV": "Molnár Zsófi",
                                    "EMAIL": "zsofi1@gmail.com",
                                    "SZAML_CIM": "2730 Albertirsa Árpád utca 23.",
                                    "SZUL_DAT": "1983-11-17",
                                    "Életkor": "41",
                                    "Kor mozgóátlag": "40"
                                },
                                {
                                    "USERNEV": "ferenc1",
                                    "NEV": "Orosz Ferenc",
                                    "EMAIL": "ferenc.orosz@mail.hu",
                                    "SZAML_CIM": "5061 Tiszasüly Arany János utca 3.",
                                    "SZUL_DAT": "1983-10-08",
                                    "Életkor": "41",
                                    "Kor mozgóátlag": "41"
                                },
                                {
                                    "USERNEV": "ZSOLTJ",
                                    "NEV": "Józsa Zsolt",
                                    "EMAIL": "ZSOLTJ@gmail.com",
                                    "SZAML_CIM": "8315 Gyenesdiás Bajcsy-Zsilinszky utca 4.",
                                    "SZUL_DAT": "1983-09-29",
                                    "Életkor": "41",
                                    "Kor mozgóátlag": "41"
                                },
                                {
                                    "USERNEV": "veronika4",
                                    "NEV": "Tankó Veronika",
                                    "EMAIL": "veronika4@gmail.com",
                                    "SZAML_CIM": "6412 Balotaszállás Rendeki utca 21.",
                                    "SZUL_DAT": "1983-08-28",
                                    "Életkor": "41",
                                    "Kor mozgóátlag": "41"
                                },
                                {
                                    "USERNEV": "peter3",
                                    "NEV": "Szalai Péter",
                                    "EMAIL": "peter3@gmail.com",
                                    "SZAML_CIM": "1155 Budapest Arany János utca 3.",
                                    "SZUL_DAT": "1983-07-18",
                                    "Életkor": "41",
                                    "Kor mozgóátlag": "41"
                                },
                                {
                                    "USERNEV": "norbert4",
                                    "NEV": "Mile Norbert",
                                    "EMAIL": "norbert4@gmail.com",
                                    "SZAML_CIM": "3973 Cigánd Bajcsy-Zsilinszky utca 4.",
                                    "SZUL_DAT": "1983-06-15",
                                    "Életkor": "41",
                                    "Kor mozgóátlag": "41"
                                },
                                {
                                    "USERNEV": "georgij",
                                    "NEV": "Nyíri Georgij",
                                    "EMAIL": "georgij.nyíri@mail.hu",
                                    "SZAML_CIM": "8391 Sármellék Grassalkovich út 10.",
                                    "SZUL_DAT": "1983-02-23",
                                    "Életkor": "41",
                                    "Kor mozgóátlag": "41"
                                },
                                {
                                    "USERNEV": "gabriella1",
                                    "NEV": "Nagy Gabriella",
                                    "EMAIL": "gabriella1@gmail.com",
                                    "SZAML_CIM": "1077 Budapest Dob utca 1",
                                    "SZUL_DAT": "1982-11-01",
                                    "Életkor": "42",
                                    "Kor mozgóátlag": "41"
                                },
                                {
                                    "USERNEV": "attila1",
                                    "NEV": "Gulyás Attila",
                                    "EMAIL": "attila.gulyás@mail.hu",
                                    "SZAML_CIM": "3881 Abaújszántó Szolnoki út 8.",
                                    "SZUL_DAT": "1982-08-16",
                                    "Életkor": "42",
                                    "Kor mozgóátlag": "41"
                                },
                                {
                                    "USERNEV": "akos",
                                    "NEV": "Bíró Ákos",
                                    "EMAIL": "ákos.bíró@mail.hu",
                                    "SZAML_CIM": "9023 Győr Kossuth Lajos utca 47/b.",
                                    "SZUL_DAT": "1982-04-24",
                                    "Életkor": "42",
                                    "Kor mozgóátlag": "42"
                                },
                                {
                                    "USERNEV": "klaudia2",
                                    "NEV": "Bakó Klaudia",
                                    "EMAIL": "klaudia.bakó@mail.hu",
                                    "SZAML_CIM": "8254 Kővágóörs Kossuth Lajos utca 6.",
                                    "SZUL_DAT": "1982-04-16",
                                    "Életkor": "42",
                                    "Kor mozgóátlag": "42"
                                },
                                {
                                    "USERNEV": "AGNESH",
                                    "NEV": "Horváth Ágnes",
                                    "EMAIL": "AGNESH@gmail.com",
                                    "SZAML_CIM": "8200 Veszprém Rákóczi utca 21.",
                                    "SZUL_DAT": "1981-12-24",
                                    "Életkor": "43",
                                    "Kor mozgóátlag": "42"
                                },
                                {
                                    "USERNEV": "nikolett3",
                                    "NEV": "Horváth Nikolett",
                                    "EMAIL": "nikolett3@gmail.com",
                                    "SZAML_CIM": "1072 Budapest Arany János utca 1.",
                                    "SZUL_DAT": "1981-09-29",
                                    "Életkor": "43",
                                    "Kor mozgóátlag": "42"
                                },
                                {
                                    "USERNEV": "andrea4",
                                    "NEV": "Neizer Andrea",
                                    "EMAIL": "andrea4@gmail.com",
                                    "SZAML_CIM": "1124 Budapest Kiss u. 8.",
                                    "SZUL_DAT": "1981-05-17",
                                    "Életkor": "43",
                                    "Kor mozgóátlag": "43"
                                },
                                {
                                    "USERNEV": "BEATRIXS",
                                    "NEV": "Szekendi Beatrix",
                                    "EMAIL": "beatrix.szekendi@mail.hu",
                                    "SZAML_CIM": "4060 Balmazújváros Jászai tér 21.",
                                    "SZUL_DAT": "1981-04-06",
                                    "Életkor": "43",
                                    "Kor mozgóátlag": "43"
                                },
                                {
                                    "USERNEV": "EVAV",
                                    "NEV": "Viktor Éva",
                                    "EMAIL": "EVAV@gmail.com",
                                    "SZAML_CIM": "6913 Csanádpalota Arany János utca 3.",
                                    "SZUL_DAT": "1980-12-26",
                                    "Életkor": "44",
                                    "Kor mozgóátlag": "43"
                                },
                                {
                                    "USERNEV": "aladar",
                                    "NEV": "Dunai Aladár",
                                    "EMAIL": "aladár.dunai@mail.hu",
                                    "SZAML_CIM": "5931 Nagyszénás Árpád utca 23.",
                                    "SZUL_DAT": "1980-11-01",
                                    "Életkor": "44",
                                    "Kor mozgóátlag": "43"
                                },
                                {
                                    "USERNEV": "zsuzsa",
                                    "NEV": "Pusztai Zsuzsanna",
                                    "EMAIL": "zsuzsanna@gmail.com",
                                    "SZAML_CIM": "6783 Ásotthalom Badacsonyi utca 12.",
                                    "SZUL_DAT": "1980-09-17",
                                    "Életkor": "44",
                                    "Kor mozgóátlag": "44"
                                },
                                {
                                    "USERNEV": "ANDRASN",
                                    "NEV": "Nagy András",
                                    "EMAIL": "andrás.nagy@mail.hu",
                                    "SZAML_CIM": "6500 Baja Fő út 169.",
                                    "SZUL_DAT": "1980-09-05",
                                    "Életkor": "44",
                                    "Kor mozgóátlag": "44"
                                },
                                {
                                    "USERNEV": "tamara2",
                                    "NEV": "Miklós Tamara",
                                    "EMAIL": "tamara.miklós@mail.hu",
                                    "SZAML_CIM": "3910 Tokaj Kossuth út 39.",
                                    "SZUL_DAT": "1980-08-11",
                                    "Életkor": "44",
                                    "Kor mozgóátlag": "44"
                                },
                                {
                                    "USERNEV": "SZABOLCSM",
                                    "NEV": "Miklós Szabolcs",
                                    "EMAIL": "szabolcs.miklós@mail.hu",
                                    "SZAML_CIM": "1102 Budapest Fő út 169.",
                                    "SZUL_DAT": "1980-08-11",
                                    "Életkor": "44",
                                    "Kor mozgóátlag": "44"
                                },
                                {
                                    "USERNEV": "GYORGYO",
                                    "NEV": "Oroszi György",
                                    "EMAIL": "GYORGYO@gmail.com",
                                    "SZAML_CIM": "7220 Sarkad Dózsa György u. 1.",
                                    "SZUL_DAT": "1980-03-23",
                                    "Életkor": "44",
                                    "Kor mozgóátlag": "44"
                                },
                                {
                                    "USERNEV": "attila",
                                    "NEV": "Csóti Attila",
                                    "EMAIL": "attila@gmail.com",
                                    "SZAML_CIM": "3000 Hatvan Bajcsy-Zsilinszky utca 4.",
                                    "SZUL_DAT": "1979-12-25",
                                    "Életkor": "45",
                                    "Kor mozgóátlag": "44"
                                },
                                {
                                    "USERNEV": "agnes",
                                    "NEV": "Lengyel Ágnes",
                                    "EMAIL": "agnes@gmail.com",
                                    "SZAML_CIM": "5200 Törökszentmiklós Deák Ferenc út 5.",
                                    "SZUL_DAT": "1979-12-10",
                                    "Életkor": "45",
                                    "Kor mozgóátlag": "44"
                                },
                                {
                                    "USERNEV": "zoltan",
                                    "NEV": "Fodor Zoltán",
                                    "EMAIL": "zoltán.fodor@mail.hu",
                                    "SZAML_CIM": "3441 Mezőkeresztes Fő utca 23.",
                                    "SZUL_DAT": "1979-11-25",
                                    "Életkor": "45",
                                    "Kor mozgóátlag": "45"
                                },
                                {
                                    "USERNEV": "MIHALYJ",
                                    "NEV": "Juhász Mihály",
                                    "EMAIL": "mihály.juhász@mail.hu",
                                    "SZAML_CIM": "6786 Ruzsa Rákóczi utca 1.",
                                    "SZUL_DAT": "1979-10-12",
                                    "Életkor": "45",
                                    "Kor mozgóátlag": "45"
                                },
                                {
                                    "USERNEV": "krisztina",
                                    "NEV": "Szedlár Krisztina",
                                    "EMAIL": "krisztina@gmail.com",
                                    "SZAML_CIM": "6646 Tömörkény Arany János utca 1.",
                                    "SZUL_DAT": "1979-05-10",
                                    "Életkor": "45",
                                    "Kor mozgóátlag": "45"
                                },
                                {
                                    "USERNEV": "zsuzsa3",
                                    "NEV": "Varsányi Zsuzsa",
                                    "EMAIL": "zsuzsa.varsányi@mail.hu",
                                    "SZAML_CIM": "8600 Siófok Árpád utca 4.",
                                    "SZUL_DAT": "1979-03-06",
                                    "Életkor": "45",
                                    "Kor mozgóátlag": "45"
                                },
                                {
                                    "USERNEV": "MIKLOSB",
                                    "NEV": "Balla Miklós",
                                    "EMAIL": "miklós.balla@mail.hu",
                                    "SZAML_CIM": "4060 Balmazújváros Szent István utca 2.",
                                    "SZUL_DAT": "1979-02-16",
                                    "Életkor": "45",
                                    "Kor mozgóátlag": "45"
                                },
                                {
                                    "USERNEV": "daniel",
                                    "NEV": "Rácz Dániel",
                                    "EMAIL": "dániel.rácz@mail.hu",
                                    "SZAML_CIM": "9181 Kimle Szabadság tér 9.",
                                    "SZUL_DAT": "1978-11-28",
                                    "Életkor": "46",
                                    "Kor mozgóátlag": "45"
                                },
                                {
                                    "USERNEV": "lajos",
                                    "NEV": "Kiss Lajos",
                                    "EMAIL": "lajos.kiss@mail.hu",
                                    "SZAML_CIM": "1077 Budapest Dob utca 1",
                                    "SZUL_DAT": "1978-10-31",
                                    "Életkor": "46",
                                    "Kor mozgóátlag": "45"
                                },
                                {
                                    "USERNEV": "brigitta",
                                    "NEV": "Székely Brigitta",
                                    "EMAIL": "brigitta.székely@mail.hu",
                                    "SZAML_CIM": "2462 Martonvásár Fő utca 47.",
                                    "SZUL_DAT": "1978-09-13",
                                    "Életkor": "46",
                                    "Kor mozgóátlag": "46"
                                },
                                {
                                    "USERNEV": "jozsef2",
                                    "NEV": "Vajda József",
                                    "EMAIL": "józsef.vajda@mail.hu",
                                    "SZAML_CIM": "6700 Szeged Baracsi László utca 14.",
                                    "SZUL_DAT": "1978-09-04",
                                    "Életkor": "46",
                                    "Kor mozgóátlag": "46"
                                },
                                {
                                    "USERNEV": "ESZTERE",
                                    "NEV": "Érsek Eszter",
                                    "EMAIL": "eszter.érsek@mail.hu",
                                    "SZAML_CIM": "6785 Pusztamérges Kossuth Lajos utca 6.",
                                    "SZUL_DAT": "1978-08-28",
                                    "Életkor": "46",
                                    "Kor mozgóátlag": "46"
                                },
                                {
                                    "USERNEV": "kriszti",
                                    "NEV": "Horváth Krisztina",
                                    "EMAIL": "kriszti@gmail.com",
                                    "SZAML_CIM": "6060 Tiszakécske Árpád utca 4.",
                                    "SZUL_DAT": "1978-06-12",
                                    "Életkor": "46",
                                    "Kor mozgóátlag": "46"
                                },
                                {
                                    "USERNEV": "aniko4",
                                    "NEV": "Böröcz Anikó",
                                    "EMAIL": "aniko4@gmail.com",
                                    "SZAML_CIM": "2484 Agárd Petőfi Sándor tér 1.",
                                    "SZUL_DAT": "1978-03-26",
                                    "Életkor": "46",
                                    "Kor mozgóátlag": "46"
                                },
                                {
                                    "USERNEV": "andras21",
                                    "NEV": "Molnár András",
                                    "EMAIL": "andrás.molnár@mail.hu",
                                    "SZAML_CIM": "7900 Szigetvár Rákóczi utca 67.",
                                    "SZUL_DAT": "1977-11-16",
                                    "Életkor": "47",
                                    "Kor mozgóátlag": "46"
                                },
                                {
                                    "USERNEV": "bertalan",
                                    "NEV": "Csiger Bertalan",
                                    "EMAIL": "bertalan@gmail.com",
                                    "SZAML_CIM": "1192 Budapest Fő út 169.",
                                    "SZUL_DAT": "1977-10-15",
                                    "Életkor": "47",
                                    "Kor mozgóátlag": "46"
                                },
                                {
                                    "USERNEV": "ANNAMARIAR",
                                    "NEV": "Regős Annamária",
                                    "EMAIL": "ANNAMARIAR@gmail.com",
                                    "SZAML_CIM": "8283 Káptalantóti Petőfi Sándor tér 1.",
                                    "SZUL_DAT": "1977-09-26",
                                    "Életkor": "47",
                                    "Kor mozgóátlag": "47"
                                },
                                {
                                    "USERNEV": "ZOLTANP",
                                    "NEV": "Pintér Zoltán",
                                    "EMAIL": "zoltán.pintér@mail.hu",
                                    "SZAML_CIM": "6050 Lajosmizse Fő út 18.",
                                    "SZUL_DAT": "1977-06-07",
                                    "Életkor": "47",
                                    "Kor mozgóátlag": "47"
                                },
                                {
                                    "USERNEV": "robert2",
                                    "NEV": "Patay Róbert",
                                    "EMAIL": "robert2@gmail.com",
                                    "SZAML_CIM": "2370 Dabas Rákóczi utca 21.",
                                    "SZUL_DAT": "1977-01-08",
                                    "Életkor": "47",
                                    "Kor mozgóátlag": "47"
                                },
                                {
                                    "USERNEV": "ZSUZSAV",
                                    "NEV": "Vajda Zsuzsa",
                                    "EMAIL": "zsuzsa.vajda@mail.hu",
                                    "SZAML_CIM": "6786 Ruzsa Kossuth utca 77.",
                                    "SZUL_DAT": "1976-12-11",
                                    "Életkor": "48",
                                    "Kor mozgóátlag": "47"
                                },
                                {
                                    "USERNEV": "debora",
                                    "NEV": "Barna Debóra",
                                    "EMAIL": "debóra.barna@mail.hu",
                                    "SZAML_CIM": "1155 Budapest Fő út 169.",
                                    "SZUL_DAT": "1976-10-14",
                                    "Életkor": "48",
                                    "Kor mozgóátlag": "47"
                                },
                                {
                                    "USERNEV": "balu",
                                    "NEV": "Endresz Bálint",
                                    "EMAIL": "bálint.endresz@mail.hu",
                                    "SZAML_CIM": "3973 Cigánd Fő út 169.",
                                    "SZUL_DAT": "1976-08-01",
                                    "Életkor": "48",
                                    "Kor mozgóátlag": "48"
                                },
                                {
                                    "USERNEV": "adam4",
                                    "NEV": "Bieniek Ádám",
                                    "EMAIL": "ádám.bieniek@mail.hu",
                                    "SZAML_CIM": "8630 Balatonboglár Juhászföldi út 1.",
                                    "SZUL_DAT": "1976-08-01",
                                    "Életkor": "48",
                                    "Kor mozgóátlag": "48"
                                },
                                {
                                    "USERNEV": "imre1",
                                    "NEV": "Papp Imre",
                                    "EMAIL": "imre.papp@mail.hu",
                                    "SZAML_CIM": "1077 Budapest Szolnoki út 8.",
                                    "SZUL_DAT": "1976-06-25",
                                    "Életkor": "48",
                                    "Kor mozgóátlag": "48"
                                },
                                {
                                    "USERNEV": "peter1",
                                    "NEV": "Kozma Péter",
                                    "EMAIL": "peter1@gmail.com",
                                    "SZAML_CIM": "6913 Csanádpalota Központi telep 3.",
                                    "SZUL_DAT": "1976-03-18",
                                    "Életkor": "48",
                                    "Kor mozgóátlag": "48"
                                },
                                {
                                    "USERNEV": "peter2",
                                    "NEV": "Bozsó Péter",
                                    "EMAIL": "peter2@gmail.com",
                                    "SZAML_CIM": "4800 Vásárosnamény Zombori út 2/A",
                                    "SZUL_DAT": "1976-01-26",
                                    "Életkor": "48",
                                    "Kor mozgóátlag": "48"
                                },
                                {
                                    "USERNEV": "attila4",
                                    "NEV": "Baróti Attila",
                                    "EMAIL": "attila.baróti@mail.hu",
                                    "SZAML_CIM": "7149 Báta Arany János utca 3.",
                                    "SZUL_DAT": "1975-11-06",
                                    "Életkor": "49",
                                    "Kor mozgóátlag": "48"
                                },
                                {
                                    "USERNEV": "kornel4",
                                    "NEV": "Lukács Kornél",
                                    "EMAIL": "kornél.lukács@mail.hu",
                                    "SZAML_CIM": "2053 Herceghalom Bécsi utca 82.",
                                    "SZUL_DAT": "1975-09-30",
                                    "Életkor": "49",
                                    "Kor mozgóátlag": "48"
                                },
                                {
                                    "USERNEV": "timea2",
                                    "NEV": "Dusha Tímea",
                                    "EMAIL": "tímea.dusha@mail.hu",
                                    "SZAML_CIM": "5920 Csorvás Kossuth utca 8.",
                                    "SZUL_DAT": "1975-08-22",
                                    "Életkor": "49",
                                    "Kor mozgóátlag": "49"
                                },
                                {
                                    "USERNEV": "norbert5",
                                    "NEV": "Béres Norbert",
                                    "EMAIL": "norbert5@gmail.com",
                                    "SZAML_CIM": "8640 Fonyód Bajcsy-Zsilinszky utca 4.",
                                    "SZUL_DAT": "1975-07-27",
                                    "Életkor": "49",
                                    "Kor mozgóátlag": "49"
                                },
                                {
                                    "USERNEV": "JOZSEFG",
                                    "NEV": "Gyuris József",
                                    "EMAIL": "józsef.gyuris@mail.hu",
                                    "SZAML_CIM": "2660 Balassagyarmat Petőfi utca 1/2.",
                                    "SZUL_DAT": "1975-05-26",
                                    "Életkor": "49",
                                    "Kor mozgóátlag": "49"
                                },
                                {
                                    "USERNEV": "katka",
                                    "NEV": "Kovács Katalin",
                                    "EMAIL": "katalin.kovács@mail.hu",
                                    "SZAML_CIM": "8254 Kővágóörs Petőfi utca 22.",
                                    "SZUL_DAT": "1975-03-31",
                                    "Életkor": "49",
                                    "Kor mozgóátlag": "49"
                                },
                                {
                                    "USERNEV": "MATYASS",
                                    "NEV": "Szilágyi Mátyás",
                                    "EMAIL": "mátyás.szilágyi@mail.hu",
                                    "SZAML_CIM": "9023 Győr Kossuth Lajos utca 6.",
                                    "SZUL_DAT": "1975-03-22",
                                    "Életkor": "49",
                                    "Kor mozgóátlag": "49"
                                },
                                {
                                    "USERNEV": "denes",
                                    "NEV": "Tömböly Dénes",
                                    "EMAIL": "denes@gmail.com",
                                    "SZAML_CIM": "2400 Dunaújváros Kossuth út 39.",
                                    "SZUL_DAT": "1975-03-14",
                                    "Életkor": "49",
                                    "Kor mozgóátlag": "49"
                                },
                                {
                                    "USERNEV": "laszlo2",
                                    "NEV": "Móra László",
                                    "EMAIL": "lászló.móra@mail.hu",
                                    "SZAML_CIM": "9970 Szentgotthárd Petőfi utca 1/2.",
                                    "SZUL_DAT": "1975-02-19",
                                    "Életkor": "49",
                                    "Kor mozgóátlag": "49"
                                },
                                {
                                    "USERNEV": "JANOSG",
                                    "NEV": "Giliga János",
                                    "EMAIL": "JANOSG@gmail.com",
                                    "SZAML_CIM": "3300 Eger Deák Ferenc út 5.",
                                    "SZUL_DAT": "1975-01-03",
                                    "Életkor": "49",
                                    "Kor mozgóátlag": "49"
                                },
                                {
                                    "USERNEV": "MONIKAM",
                                    "NEV": "Mohos Mónika",
                                    "EMAIL": "mónika.mohos@mail.hu",
                                    "SZAML_CIM": "2241 Sülysáp Baracsi László utca 14.",
                                    "SZUL_DAT": "1974-10-01",
                                    "Életkor": "50",
                                    "Kor mozgóátlag": "49"
                                },
                                {
                                    "USERNEV": "GYONGYIK",
                                    "NEV": "Kornseé Gyöngyi",
                                    "EMAIL": "gyöngyi.kornseé@mail.hu",
                                    "SZAML_CIM": "8800 Nagykanizsa Fő út 60.",
                                    "SZUL_DAT": "1974-06-07",
                                    "Életkor": "50",
                                    "Kor mozgóátlag": "49"
                                },
                                {
                                    "USERNEV": "tunde",
                                    "NEV": "Turcsik Tünde",
                                    "EMAIL": "tunde@gmail.com",
                                    "SZAML_CIM": "7130 Tolna Fő út 122.",
                                    "SZUL_DAT": "1974-02-12",
                                    "Életkor": "50",
                                    "Kor mozgóátlag": "50"
                                },
                                {
                                    "USERNEV": "david",
                                    "NEV": "Ambrus Dávid",
                                    "EMAIL": "david@gmail.com",
                                    "SZAML_CIM": "1149 Budapest Fő út 18.",
                                    "SZUL_DAT": "1974-02-11",
                                    "Életkor": "50",
                                    "Kor mozgóátlag": "50"
                                },
                                {
                                    "USERNEV": "gabor1",
                                    "NEV": "Köves Gábor",
                                    "EMAIL": "gabor1@gmail.com",
                                    "SZAML_CIM": "6762 Sándorfalva Árpád utca 23.",
                                    "SZUL_DAT": "1973-07-15",
                                    "Életkor": "51",
                                    "Kor mozgóátlag": "50"
                                },
                                {
                                    "USERNEV": "BENCEB",
                                    "NEV": "Bajusz Bence",
                                    "EMAIL": "bence.bajusz@mail.hu",
                                    "SZAML_CIM": "8391 Sármellék Fő utca 56.",
                                    "SZUL_DAT": "1973-06-21",
                                    "Életkor": "51",
                                    "Kor mozgóátlag": "50"
                                },
                                {
                                    "USERNEV": "aniko",
                                    "NEV": "Tóth Anikó",
                                    "EMAIL": "aniko@gmail.com",
                                    "SZAML_CIM": "2085 Pilisvörösvár Deák Ferenc út 5.",
                                    "SZUL_DAT": "1973-06-03",
                                    "Életkor": "51",
                                    "Kor mozgóátlag": "51"
                                },
                                {
                                    "USERNEV": "sara",
                                    "NEV": "Farkas Sára",
                                    "EMAIL": "sára.farkas@mail.hu",
                                    "SZAML_CIM": "5940 Tótkomlós Felszabadulás utca 32.",
                                    "SZUL_DAT": "1973-04-05",
                                    "Életkor": "51",
                                    "Kor mozgóátlag": "51"
                                },
                                {
                                    "USERNEV": "matyas2",
                                    "NEV": "Botka Mátyás",
                                    "EMAIL": "matyas2@gmail.com",
                                    "SZAML_CIM": "2700 Cegléd Kossuth Lajos utca 6.",
                                    "SZUL_DAT": "1972-07-07",
                                    "Életkor": "52",
                                    "Kor mozgóátlag": "51"
                                },
                                {
                                    "USERNEV": "ROBERTP",
                                    "NEV": "Pásztor Róbert",
                                    "EMAIL": "ROBERTP@gmail.com",
                                    "SZAML_CIM": "5137 Jászkisér Ady Endre út 27.",
                                    "SZUL_DAT": "1972-05-16",
                                    "Életkor": "52",
                                    "Kor mozgóátlag": "51"
                                },
                                {
                                    "USERNEV": "BEATRIXK",
                                    "NEV": "Kerényi Beatrix",
                                    "EMAIL": "beatrix.kerényi@mail.hu",
                                    "SZAML_CIM": "7396 Magyarszék Kossuth Lajos utca 47/b.",
                                    "SZUL_DAT": "1972-04-06",
                                    "Életkor": "52",
                                    "Kor mozgóátlag": "52"
                                },
                                {
                                    "USERNEV": "nikoletta4",
                                    "NEV": "Kő Nikoletta",
                                    "EMAIL": "nikoletta4@gmail.com",
                                    "SZAML_CIM": "5537 Zsadány Fő út 18.",
                                    "SZUL_DAT": "1972-01-10",
                                    "Életkor": "52",
                                    "Kor mozgóátlag": "52"
                                },
                                {
                                    "USERNEV": "eva2",
                                    "NEV": "Perlinger Éva",
                                    "EMAIL": "eva2@gmail.com",
                                    "SZAML_CIM": "9653 Répcelak Bécsi utca 82.",
                                    "SZUL_DAT": "1971-08-19",
                                    "Életkor": "53",
                                    "Kor mozgóátlag": "52"
                                },
                                {
                                    "USERNEV": "aron2",
                                    "NEV": "Jakab Áron",
                                    "EMAIL": "aron2@gmail.com",
                                    "SZAML_CIM": "7133 Fadd Bajcsy-Zsilinszky utca 4.",
                                    "SZUL_DAT": "1971-04-26",
                                    "Életkor": "53",
                                    "Kor mozgóátlag": "52"
                                },
                                {
                                    "USERNEV": "andras3",
                                    "NEV": "Vígh András",
                                    "EMAIL": "andrás.vígh@mail.hu",
                                    "SZAML_CIM": "1118 Budapest Arany János utca 1.",
                                    "SZUL_DAT": "1971-04-02",
                                    "Életkor": "53",
                                    "Kor mozgóátlag": "53"
                                },
                                {
                                    "USERNEV": "anita",
                                    "NEV": "Hamvay-Kovács Anita",
                                    "EMAIL": "anita.hamvay-kovács@mail.hu",
                                    "SZAML_CIM": "7220 Sarkad Táncsics utca 19.",
                                    "SZUL_DAT": "1971-03-20",
                                    "Életkor": "53",
                                    "Kor mozgóátlag": "53"
                                },
                                {
                                    "USERNEV": "szilvia1",
                                    "NEV": "Tari Szilvia",
                                    "EMAIL": "szilvia.tari@mail.hu",
                                    "SZAML_CIM": "6080 Szabadszállás Bécsi utca 82.",
                                    "SZUL_DAT": "1971-03-09",
                                    "Életkor": "53",
                                    "Kor mozgóátlag": "53"
                                },
                                {
                                    "USERNEV": "david1",
                                    "NEV": "Sobják Dávid",
                                    "EMAIL": "david1@gmail.com",
                                    "SZAML_CIM": "5083 Kengyel Arany János utca 3.",
                                    "SZUL_DAT": "1970-08-16",
                                    "Életkor": "54",
                                    "Kor mozgóátlag": "53"
                                },
                                {
                                    "USERNEV": "krisztian4",
                                    "NEV": "Czérna Krisztián",
                                    "EMAIL": "krisztián.czérna@mail.hu",
                                    "SZAML_CIM": "1107 Budapest Dózsa György utca 37.",
                                    "SZUL_DAT": "1970-08-01",
                                    "Életkor": "54",
                                    "Kor mozgóátlag": "53"
                                },
                                {
                                    "USERNEV": "adam3",
                                    "NEV": "Barkóci Ádám",
                                    "EMAIL": "adam3@gmail.com",
                                    "SZAML_CIM": "3910 Tokaj Dózsa György utca 37.",
                                    "SZUL_DAT": "1970-06-07",
                                    "Életkor": "54",
                                    "Kor mozgóátlag": "54"
                                },
                                {
                                    "USERNEV": "sandor",
                                    "NEV": "Karasz Sándor",
                                    "EMAIL": "sandor@gmail.com",
                                    "SZAML_CIM": "8283 Káptalantóti Kossuth Lajos utca 1/a.",
                                    "SZUL_DAT": "1970-01-27",
                                    "Életkor": "54",
                                    "Kor mozgóátlag": "54"
                                },
                                {
                                    "USERNEV": "reka4",
                                    "NEV": "Szikszai Réka",
                                    "EMAIL": "réka.szikszai@mail.hu",
                                    "SZAML_CIM": "8254 Kővágóörs Templom utca 73.",
                                    "SZUL_DAT": "1969-11-27",
                                    "Életkor": "55",
                                    "Kor mozgóátlag": "54"
                                },
                                {
                                    "USERNEV": "krisztina1",
                                    "NEV": "Bori Krisztina",
                                    "EMAIL": "krisztina.bori@mail.hu",
                                    "SZAML_CIM": "2115 Vácszentlászló Fő utca 47.",
                                    "SZUL_DAT": "1969-10-13",
                                    "Életkor": "55",
                                    "Kor mozgóátlag": "54"
                                },
                                {
                                    "USERNEV": "norbert",
                                    "NEV": "Szűcs Norbert",
                                    "EMAIL": "norbert@gmail.com",
                                    "SZAML_CIM": "5071 Besenyszög Győri utca 12.",
                                    "SZUL_DAT": "1969-07-17",
                                    "Életkor": "55",
                                    "Kor mozgóátlag": "55"
                                },
                                {
                                    "USERNEV": "daniel1",
                                    "NEV": "Keszler Dániel",
                                    "EMAIL": "dániel.keszler@mail.hu",
                                    "SZAML_CIM": "3580 Tiszaújváros Kossuth Lajos utca 6.",
                                    "SZUL_DAT": "1969-07-16",
                                    "Életkor": "55",
                                    "Kor mozgóátlag": "55"
                                },
                                {
                                    "USERNEV": "LASZLOA",
                                    "NEV": "Antal László",
                                    "EMAIL": "lászló.antal@mail.hu",
                                    "SZAML_CIM": "2484 Agárd Bécsi utca 82.",
                                    "SZUL_DAT": "1969-06-29",
                                    "Életkor": "55",
                                    "Kor mozgóátlag": "55"
                                },
                                {
                                    "USERNEV": "gabriella10",
                                    "NEV": "Vida Gabriella",
                                    "EMAIL": "gabriella10@gmail.com",
                                    "SZAML_CIM": "2484 Agárd Arany János utca 3.",
                                    "SZUL_DAT": "1969-06-18",
                                    "Életkor": "55",
                                    "Kor mozgóátlag": "55"
                                },
                                {
                                    "USERNEV": "LASZLON",
                                    "NEV": "Nagy László",
                                    "EMAIL": "lászló.nagy@mail.hu",
                                    "SZAML_CIM": "1173 Budapest Jászai tér 21.",
                                    "SZUL_DAT": "1969-04-12",
                                    "Életkor": "55",
                                    "Kor mozgóátlag": "55"
                                },
                                {
                                    "USERNEV": "PETERB",
                                    "NEV": "Berendi Péter",
                                    "EMAIL": "péter.berendi@mail.hu",
                                    "SZAML_CIM": "3980 Sátoraljaújhely Vasút utca 4/10.",
                                    "SZUL_DAT": "1969-01-01",
                                    "Életkor": "55",
                                    "Kor mozgóátlag": "55"
                                },
                                {
                                    "USERNEV": "NANDORF",
                                    "NEV": "Fő Nándor",
                                    "EMAIL": "nándor.fő@mail.hu",
                                    "SZAML_CIM": "5920 Csorvás Bécsi utca 82.",
                                    "SZUL_DAT": "1968-11-12",
                                    "Életkor": "56",
                                    "Kor mozgóátlag": "55"
                                },
                                {
                                    "USERNEV": "kata",
                                    "NEV": "Gondos Katalin",
                                    "EMAIL": "katalin.gondos@mail.hu",
                                    "SZAML_CIM": "8237 Tihany Kossuth Lajos utca 6.",
                                    "SZUL_DAT": "1968-06-22",
                                    "Életkor": "56",
                                    "Kor mozgóátlag": "55"
                                },
                                {
                                    "USERNEV": "KRISZTIANM",
                                    "NEV": "Mogyródi Krisztián",
                                    "EMAIL": "KRISZTIANM@gmail.com",
                                    "SZAML_CIM": "9155 Lébény Jászai tér 21.",
                                    "SZUL_DAT": "1968-05-27",
                                    "Életkor": "56",
                                    "Kor mozgóátlag": "56"
                                },
                                {
                                    "USERNEV": "andi",
                                    "NEV": "Maródi Andrea",
                                    "EMAIL": "andrea.maródi@mail.hu",
                                    "SZAML_CIM": "5465 Cserkeszőlő Árpád utca 4.",
                                    "SZUL_DAT": "1968-05-07",
                                    "Életkor": "56",
                                    "Kor mozgóátlag": "56"
                                },
                                {
                                    "USERNEV": "roland",
                                    "NEV": "Tóth Roland",
                                    "EMAIL": "roland@gmail.com",
                                    "SZAML_CIM": "2000 Szentendre Fő út 169.",
                                    "SZUL_DAT": "1968-03-21",
                                    "Életkor": "56",
                                    "Kor mozgóátlag": "56"
                                },
                                {
                                    "USERNEV": "pal",
                                    "NEV": "Barabás Pál",
                                    "EMAIL": "pál.barabás@mail.hu",
                                    "SZAML_CIM": "1183 Budapest Szolnoki út 8.",
                                    "SZUL_DAT": "1968-02-06",
                                    "Életkor": "56",
                                    "Kor mozgóátlag": "56"
                                },
                                {
                                    "USERNEV": "katalin",
                                    "NEV": "Horváth Katalin",
                                    "EMAIL": "katalin.horváth@mail.hu",
                                    "SZAML_CIM": "2424 Előszállás Rákóczi út 200.",
                                    "SZUL_DAT": "1968-01-01",
                                    "Életkor": "56",
                                    "Kor mozgóátlag": "56"
                                },
                                {
                                    "USERNEV": "janos3",
                                    "NEV": "Harangozó János",
                                    "EMAIL": "janos3@gmail.com",
                                    "SZAML_CIM": "8700 Marcali Petőfi Sándor tér 1.",
                                    "SZUL_DAT": "1967-11-02",
                                    "Életkor": "57",
                                    "Kor mozgóátlag": "56"
                                },
                                {
                                    "USERNEV": "laszlo1",
                                    "NEV": "Farkas László",
                                    "EMAIL": "lászló.farkas@mail.hu",
                                    "SZAML_CIM": "5200 Törökszentmiklós Rendeki utca 21.",
                                    "SZUL_DAT": "1967-10-30",
                                    "Életkor": "57",
                                    "Kor mozgóátlag": "56"
                                },
                                {
                                    "USERNEV": "SZILARDS",
                                    "NEV": "Szalai Szilárd",
                                    "EMAIL": "szilárd.szalai@mail.hu",
                                    "SZAML_CIM": "1077 Budapest Fő út 18.",
                                    "SZUL_DAT": "1967-09-28",
                                    "Életkor": "57",
                                    "Kor mozgóátlag": "57"
                                },
                                {
                                    "USERNEV": "ROBERTI",
                                    "NEV": "Iván Róbert",
                                    "EMAIL": "róbert.iván@mail.hu",
                                    "SZAML_CIM": "2377 Örkény Petőfi Sándor utca 3.",
                                    "SZUL_DAT": "1967-07-02",
                                    "Életkor": "57",
                                    "Kor mozgóátlag": "57"
                                },
                                {
                                    "USERNEV": "eva",
                                    "NEV": "Enyedi Éva",
                                    "EMAIL": "eva@gmail.com",
                                    "SZAML_CIM": "4231 Bököny Petőfi utca 8.",
                                    "SZUL_DAT": "1967-06-30",
                                    "Életkor": "57",
                                    "Kor mozgóátlag": "57"
                                },
                                {
                                    "USERNEV": "agnes3",
                                    "NEV": "Hartyánszky Ágnes",
                                    "EMAIL": "agnes3@gmail.com",
                                    "SZAML_CIM": "6430 Bácsalmás Posta köz 2.",
                                    "SZUL_DAT": "1967-04-11",
                                    "Életkor": "57",
                                    "Kor mozgóátlag": "57"
                                },
                                {
                                    "USERNEV": "gusztav",
                                    "NEV": "Bárci Gusztáv",
                                    "EMAIL": "gusztav@gmail.com",
                                    "SZAML_CIM": "3643 Dédestapolcsány Endrődi Sándor utca 47.",
                                    "SZUL_DAT": "1967-02-25",
                                    "Életkor": "57",
                                    "Kor mozgóátlag": "57"
                                },
                                {
                                    "USERNEV": "anett3",
                                    "NEV": "Pivarcsi Anett",
                                    "EMAIL": "anett.pivarcsi@mail.hu",
                                    "SZAML_CIM": "1149 Budapest Fő út 60.",
                                    "SZUL_DAT": "1967-01-03",
                                    "Életkor": "57",
                                    "Kor mozgóátlag": "57"
                                }
                            ]
                        },
                        "text/html": [
                            "<table>",
                            "<tr><th>USERNEV</th><th>NEV</th><th>EMAIL</th><th>SZAML_CIM</th><th>SZUL_DAT</th><th>Életkor</th><th>Kor mozgóátlag</th></tr>",
                            "<tr><td>eszter2</td><td>Balogh Eszter</td><td>eszter.balogh@mail.hu</td><td>6760 Kistelek Kossuth utca 11.</td><td>1998-01-31</td><td>26</td><td>26</td></tr>",
                            "<tr><td>istvan1</td><td>Vizi István</td><td>istván.vizi@mail.hu</td><td>7086 Ozora Rákóczi utca 1.</td><td>1997-12-01</td><td>27</td><td>26</td></tr>",
                            "<tr><td>TAMASF</td><td>Fényes Tamás</td><td>TAMASF@gmail.com</td><td>9023 Győr Arany János utca 1.</td><td>1997-11-06</td><td>27</td><td>26</td></tr>",
                            "<tr><td>andras2</td><td>Tóth András</td><td>andrás.tóth@mail.hu</td><td>4071 Egyek Petőfi utca 30.</td><td>1997-10-31</td><td>27</td><td>27</td></tr>",
                            "<tr><td>andras41</td><td>Komjáti András</td><td>andras41@gmail.com</td><td>5065 Nagykörű Kossuth út 24.</td><td>1997-10-25</td><td>27</td><td>27</td></tr>",
                            "<tr><td>NIKOLETTAT</td><td>Tatár Nikoletta</td><td>nikoletta.tatár@mail.hu</td><td>1067 Budapest Győri utca 12.</td><td>1997-10-19</td><td>27</td><td>27</td></tr>",
                            "<tr><td>MARKH</td><td>Horváth Márk</td><td>márk.horváth@mail.hu</td><td>4400 Nyíregyháza Badacsonyi utca 12.</td><td>1997-09-23</td><td>27</td><td>27</td></tr>",
                            "<tr><td>balint2</td><td>Vukasinovity Bálint</td><td>balint2@gmail.com</td><td>2330 Dunaharaszti Béke utca 7.</td><td>1997-09-03</td><td>27</td><td>27</td></tr>",
                            "<tr><td>JUDITH</td><td>Hídasi Judit</td><td>JUDITH@gmail.com</td><td>2100 Gödöllő Fő út 169.</td><td>1997-07-12</td><td>27</td><td>27</td></tr>",
                            "<tr><td>sandor4</td><td>Nagy Sándor</td><td>sandor4@gmail.com</td><td>4600 Kisvárda Fő utca 47.</td><td>1997-06-11</td><td>27</td><td>27</td></tr>",
                            "<tr><td>ANDRASE</td><td>Erdei András</td><td>ANDRASE@gmail.com</td><td>5071 Besenyszög Szolnoki út 8.</td><td>1997-05-29</td><td>27</td><td>27</td></tr>",
                            "<tr><td>MATEK</td><td>Koza Máté</td><td>máté.koza@mail.hu</td><td>1011 Budapest Központi telep 3.</td><td>1997-02-28</td><td>27</td><td>27</td></tr>",
                            "<tr><td>lala</td><td>Nagymihály Lajos</td><td>lajos.nagymihály@mail.hu</td><td>8638 Balatonlelle Rákóczi út 200.</td><td>1997-02-24</td><td>27</td><td>27</td></tr>",
                            "<tr><td>bernadett2</td><td>Kovács Bernadett</td><td>bernadett.kovács@mail.hu</td><td>4200 Hajdúszoboszló Fő út 122.</td><td>1996-08-20</td><td>28</td><td>27</td></tr>",
                            "<tr><td>fruzsina4</td><td>Frank Fruzsina</td><td>fruzsina4@gmail.com</td><td>9700 Szombathely Szabadság utca 95.</td><td>1996-08-16</td><td>28</td><td>27</td></tr>",
                            "<tr><td>andrea3</td><td>Szomor Andrea</td><td>andrea3@gmail.com</td><td>7960 Sellye Bécsi utca 82.</td><td>1996-05-10</td><td>28</td><td>28</td></tr>",
                            "<tr><td>VIKTORIAU</td><td>Urbán Viktoria</td><td>viktoria.urbán@mail.hu</td><td>3860 Encs Népboltsor  2.</td><td>1996-05-03</td><td>28</td><td>28</td></tr>",
                            "<tr><td>balint</td><td>Horváth Bálint</td><td>balint@gmail.com</td><td>6646 Tömörkény Endrődi Sándor utca 47.</td><td>1996-03-17</td><td>28</td><td>28</td></tr>",
                            "<tr><td>mark</td><td>Kispál Márk</td><td>márk.kispál@mail.hu</td><td>1086 Budapest Juhászföldi út 1.</td><td>1996-01-23</td><td>28</td><td>28</td></tr>",
                            "<tr><td>timea</td><td>Papós Tímea</td><td>timea@gmail.com</td><td>1035 Budapest  Kossuth út 77.</td><td>1996-01-08</td><td>28</td><td>28</td></tr>",
                            "<tr><td>maria1</td><td>Baráth Mária</td><td>mária.baráth@mail.hu</td><td>1047 Budapest Posta köz 2.</td><td>1995-11-19</td><td>29</td><td>28</td></tr>",
                            "<tr><td>miklos2</td><td>Gondos Miklós</td><td>miklos2@gmail.com</td><td>2100 Gödöllő Árpád utca 23.</td><td>1995-10-07</td><td>29</td><td>28</td></tr>",
                            "<tr><td>dora3</td><td>Sarodi Dóra</td><td>dóra.sarodi@mail.hu</td><td>2855 Bokod Fő út 18.</td><td>1995-05-18</td><td>29</td><td>29</td></tr>",
                            "<tr><td>ATTILAO</td><td>Opra Attila</td><td>ATTILAO@gmail.com</td><td>8283 Káptalantóti Rákóczi út 200.</td><td>1995-05-08</td><td>29</td><td>29</td></tr>",
                            "<tr><td>kati</td><td>Zatykó Katalin</td><td>katalin.zatykó@mail.hu</td><td>7511 Ötvöskónyi Kossuth Lajos utca 6.</td><td>1995-05-01</td><td>29</td><td>29</td></tr>",
                            "<tr><td>BELAF</td><td>Farkas Béla</td><td>BELAF@gmail.com</td><td>5530 Vésztő Petőfi Sándor utca 3.</td><td>1995-02-24</td><td>29</td><td>29</td></tr>",
                            "<tr><td>zsuzsanna</td><td>Barta Zsuzsanna</td><td>zsuzsanna.barta@mail.hu</td><td>4172 Biharnagybajom Dózsa György utca 37.</td><td>1994-10-07</td><td>30</td><td>29</td></tr>",
                            "<tr><td>beata4</td><td>Bagi Beáta</td><td>beáta.bagi@mail.hu</td><td>8477 Tüskevár Felszabadulás utca 32.</td><td>1994-03-19</td><td>30</td><td>30</td></tr>",
                            "<tr><td>polla</td><td>Palágyi Polla</td><td>polla@gmail.com</td><td>2484 Agárd Fő út 18.</td><td>1994-02-04</td><td>30</td><td>30</td></tr>",
                            "<tr><td>tibor</td><td>Gombos Tibor</td><td>tibor.gombos@mail.hu</td><td>7100 Szekszárd Kossuth utca 77.</td><td>1993-11-28</td><td>31</td><td>30</td></tr>",
                            "<tr><td>rajmond4</td><td>Rácz Rajmond</td><td>rajmond.rácz@mail.hu</td><td>9155 Lébény Petőfi utca 1/2.</td><td>1993-09-25</td><td>31</td><td>30</td></tr>",
                            "<tr><td>eszter4</td><td>Fülöp Eszter</td><td>eszter.fülöp@mail.hu</td><td>3643 Dédestapolcsány Kossuth Lajos utca 47/b.</td><td>1993-06-28</td><td>31</td><td>31</td></tr>",
                            "<tr><td>andrea</td><td>Kiss Andrea</td><td>andrea.kiss@mail.hu</td><td>1113 Budapest Petőfi Sándor utca 87.</td><td>1993-03-25</td><td>31</td><td>31</td></tr>",
                            "<tr><td>julia</td><td>Tóth Júlia</td><td>julia@gmail.com</td><td>5310 Kisújszállás Árpád utca 4.</td><td>1993-03-02</td><td>31</td><td>31</td></tr>",
                            "<tr><td>balazs1</td><td>Bozsik Balázs</td><td>balázs.bozsik@mail.hu</td><td>2300 Ráckeve Bécsi utca 82.</td><td>1992-11-03</td><td>32</td><td>31</td></tr>",
                            "<tr><td>SEBASTIANF</td><td>Foltényi Sebastián</td><td>SEBASTIANF@gmail.com</td><td>7960 Sellye Grassalkovich út 10.</td><td>1992-09-09</td><td>32</td><td>31</td></tr>",
                            "<tr><td>alexandra</td><td>Bagóczki Alexandra</td><td>alexandra.bagóczki@mail.hu</td><td>2381 Táborfalva Petőfi utca 1/2.</td><td>1992-03-25</td><td>32</td><td>32</td></tr>",
                            "<tr><td>sebestyen</td><td>Rab Sebestyén</td><td>sebestyen@gmail.com</td><td>7130 Tolna Központi telep 3.</td><td>1992-03-03</td><td>32</td><td>32</td></tr>",
                            "<tr><td>adam1</td><td>Kiss Ádám</td><td>ádám.kiss@mail.hu</td><td>5630 Békés Szolnoki út 8.</td><td>1991-12-28</td><td>33</td><td>32</td></tr>",
                            "<tr><td>norbert2</td><td>Hegedűs Norbert</td><td>norbert.hegedűs@mail.hu</td><td>2081 Piliscsaba Rendeki utca 21.</td><td>1991-07-17</td><td>33</td><td>32</td></tr>",
                            "<tr><td>tihamer</td><td>Kazy Tihamér</td><td>tihamér.kazy@mail.hu</td><td>2370 Dabas Fő utca 60.</td><td>1991-07-05</td><td>33</td><td>33</td></tr>",
                            "<tr><td>vivien3</td><td>Boros Vivien</td><td>vivien3@gmail.com</td><td>2117 Isaszeg Fő út 122.</td><td>1991-07-01</td><td>33</td><td>33</td></tr>",
                            "<tr><td>brigitta3</td><td>Pataki Brigitta</td><td>brigitta.pataki@mail.hu</td><td>2730 Albertirsa Rendeki utca 21.</td><td>1991-05-23</td><td>33</td><td>33</td></tr>",
                            "<tr><td>RENATAS</td><td>Szirmai Renáta</td><td>RENATAS@gmail.com</td><td>2053 Herceghalom Kossuth utca 27.</td><td>1991-03-26</td><td>33</td><td>33</td></tr>",
                            "<tr><td>david4</td><td>Berta Dávid</td><td>david4@gmail.com</td><td>3500 Miskolc Balatoni út 12.</td><td>1990-10-08</td><td>34</td><td>33</td></tr>",
                            "<tr><td>julianna4</td><td>Szabó Julianna</td><td>julianna4@gmail.com</td><td>6700 Szeged Kossuth Lajos utca 6.</td><td>1990-09-29</td><td>34</td><td>33</td></tr>",
                            "<tr><td>ilona3</td><td>Bosnyák Ilona</td><td>ilona3@gmail.com</td><td>2483 Gárdony Posta köz 2.</td><td>1990-08-06</td><td>34</td><td>34</td></tr>",
                            "<tr><td>szabolcs</td><td>Bodor Szabolcs</td><td>szabolcs.bodor@mail.hu</td><td>6786 Ruzsa Ady Endre út 27.</td><td>1990-07-16</td><td>34</td><td>34</td></tr>",
                            "<tr><td>arpad2</td><td>Ötvös Árpád</td><td>árpád.ötvös@mail.hu</td><td>2600 Vác Padragi út 158.</td><td>1990-06-08</td><td>34</td><td>34</td></tr>",
                            "<tr><td>GABORS</td><td>Szöllősi Gábor</td><td>GABORS@gmail.com</td><td>3630 Putnok Kossuth utca 27.</td><td>1990-05-31</td><td>34</td><td>34</td></tr>",
                            "<tr><td>ARPADH</td><td>Horváth Árpád</td><td>árpád.horváth@mail.hu</td><td>7349 Szászvár Dózsa György u. 1.</td><td>1990-05-18</td><td>34</td><td>34</td></tr>",
                            "<tr><td>annamaria1</td><td>Szűcs Annamária</td><td>annamária.szűcs@mail.hu</td><td>1191 Budapest Rendeki utca 21.</td><td>1990-04-27</td><td>34</td><td>34</td></tr>",
                            "<tr><td>balint1</td><td>Molnár Bálint</td><td>balint1@gmail.com</td><td>9181 Kimle Fő út 169.</td><td>1989-08-24</td><td>35</td><td>34</td></tr>",
                            "<tr><td>ARONK</td><td>Kelemen Áron</td><td>áron.kelemen@mail.hu</td><td>8200 Veszprém Petőfi utca 8.</td><td>1989-08-10</td><td>35</td><td>34</td></tr>",
                            "<tr><td>emese</td><td>Kuruc Emese</td><td>emese.kuruc@mail.hu</td><td>6700 Szeged Rákóczi utca 67.</td><td>1989-08-10</td><td>35</td><td>35</td></tr>",
                            "<tr><td>marton</td><td>Kalacsi Márton</td><td>marton@gmail.com</td><td>5137 Jászkisér Fő út 169.</td><td>1989-06-24</td><td>35</td><td>35</td></tr>",
                            "<tr><td>VIKTORK</td><td>Keresztúri Viktor</td><td>viktor.keresztúri@mail.hu</td><td>2532 Tokodaltáró Nagy Lajos tér 4.</td><td>1989-05-05</td><td>35</td><td>35</td></tr>",
                            "<tr><td>ISTVANV</td><td>Varga István</td><td>ISTVANV@gmail.com</td><td>6320 Solt Hősök tere 11.</td><td>1989-04-09</td><td>35</td><td>35</td></tr>",
                            "<tr><td>sandor3</td><td>Farkas Sándor</td><td>sándor.farkas@mail.hu</td><td>8640 Fonyód Tanácsköztársaság tér 1.</td><td>1989-01-27</td><td>35</td><td>35</td></tr>",
                            "<tr><td>roza2</td><td>Bucskó Róza</td><td>roza2@gmail.com</td><td>5661 Újkígyós Arany János utca 3.</td><td>1988-12-26</td><td>36</td><td>35</td></tr>",
                            "<tr><td>ANIKOS</td><td>Simon Anikó</td><td>ANIKOS@gmail.com</td><td>5137 Jászkisér Bécsi utca 82.</td><td>1988-12-14</td><td>36</td><td>35</td></tr>",
                            "<tr><td>AGNESK</td><td>Kovács Ágnes</td><td>AGNESK@gmail.com</td><td>1084 Budapest Endrődi Sándor utca 47.</td><td>1988-10-02</td><td>36</td><td>36</td></tr>",
                            "<tr><td>imre</td><td>Búza Imre</td><td>imre.búza@mail.hu</td><td>9181 Kimle Petőfi Sándor tér 1.</td><td>1988-09-30</td><td>36</td><td>36</td></tr>",
                            "<tr><td>zsolt1</td><td>Pulai Zsolt</td><td>zsolt.pulai@mail.hu</td><td>8391 Sármellék Fő utca 60.</td><td>1988-05-27</td><td>36</td><td>36</td></tr>",
                            "<tr><td>RENATAK</td><td>Kardos Renáta</td><td>renáta.kardos@mail.hu</td><td>7086 Ozora Bécsi utca 82.</td><td>1988-05-17</td><td>36</td><td>36</td></tr>",
                            "<tr><td>BERNADETTO</td><td>Orbán Bernadett</td><td>bernadett.orbán@mail.hu</td><td>5085 Rákóczifalva Arany János utca 1.</td><td>1987-12-07</td><td>37</td><td>36</td></tr>",
                            "<tr><td>KRISZTINAG</td><td>Gyárfás Krisztina</td><td>KRISZTINAG@gmail.com</td><td>6762 Sándorfalva Arany János utca 1.</td><td>1987-09-19</td><td>37</td><td>36</td></tr>",
                            "<tr><td>bence</td><td>Győrffy Bence</td><td>bence@gmail.com</td><td>6900 Makó Árpád utca 23.</td><td>1987-07-09</td><td>37</td><td>37</td></tr>",
                            "<tr><td>eszter</td><td>Molnár Eszter</td><td>eszter.molnár@mail.hu</td><td>6800 Hódmezővásárhely Fő út 77.</td><td>1987-05-10</td><td>37</td><td>37</td></tr>",
                            "<tr><td>gabor4</td><td>Telek Gábor</td><td>gábor.telek@mail.hu</td><td>9071 Görbeháza Fő út 169.</td><td>1987-03-15</td><td>37</td><td>37</td></tr>",
                            "<tr><td>henrik3</td><td>Nádudvari Henrik</td><td>henrik.nádudvari@mail.hu</td><td>1077 Budapest Tanácsköztársaság tér 1.</td><td>1986-12-05</td><td>38</td><td>37</td></tr>",
                            "<tr><td>ANDREAT</td><td>Tornyos Andrea</td><td>ANDREAT@gmail.com</td><td>6131 Szank Bécsi utca 82.</td><td>1986-11-14</td><td>38</td><td>37</td></tr>",
                            "<tr><td>dani</td><td>Vörös Dániel</td><td>daniel@gmail.com</td><td>7150 Bonyhád Dózsa György u. 1.</td><td>1986-10-14</td><td>38</td><td>38</td></tr>",
                            "<tr><td>balazs3</td><td>Bakódy Balázs</td><td>balazs3@gmail.com</td><td>2131 Göd Arany János utca 1.</td><td>1986-09-09</td><td>38</td><td>38</td></tr>",
                            "<tr><td>istvan</td><td>Soós István</td><td>istvan@gmail.com</td><td>2370 Dabas Kossuth utca 27.</td><td>1986-06-28</td><td>38</td><td>38</td></tr>",
                            "<tr><td>zoltan4</td><td>Barna Zoltán</td><td>zoltan4@gmail.com</td><td>8313 Balatongyörök Jászai tér 21.</td><td>1986-05-20</td><td>38</td><td>38</td></tr>",
                            "<tr><td>ARPADM</td><td>Móricz Árpád</td><td>árpád.móricz@mail.hu</td><td>3910 Tokaj Rákóczi utca 67.</td><td>1986-04-20</td><td>38</td><td>38</td></tr>",
                            "<tr><td>katalin4</td><td>Kertész Katalin</td><td>katalin4@gmail.com</td><td>2800 Tatabánya Búvár utca 4.</td><td>1986-04-13</td><td>38</td><td>38</td></tr>",
                            "<tr><td>valentin</td><td>Feró Valentin</td><td>valentin.feró@mail.hu</td><td>3895 Gönc Búvár utca 4.</td><td>1986-01-09</td><td>38</td><td>38</td></tr>",
                            "<tr><td>roland1</td><td>Ferencz Roland</td><td>roland.ferencz@mail.hu</td><td>2424 Előszállás Fő út 169.</td><td>1985-12-31</td><td>39</td><td>38</td></tr>",
                            "<tr><td>ZOLTANT</td><td>Tóth Zoltán</td><td>zoltán.tóth@mail.hu</td><td>4244 Újfehértó Posta köz 2.</td><td>1985-12-14</td><td>39</td><td>38</td></tr>",
                            "<tr><td>jozsef</td><td>Gergely József</td><td>jozsef@gmail.com</td><td>6050 Lajosmizse Fő út 18.</td><td>1985-11-01</td><td>39</td><td>39</td></tr>",
                            "<tr><td>peter4</td><td>Bíró Péter</td><td>péter.bíró@mail.hu</td><td>5137 Jászkisér Rákóczi utca 67.</td><td>1985-09-01</td><td>39</td><td>39</td></tr>",
                            "<tr><td>julia4</td><td>Nagy Júlia</td><td>julia4@gmail.com</td><td>7000 Sárbogárd Jászai tér 21.</td><td>1985-08-11</td><td>39</td><td>39</td></tr>",
                            "<tr><td>tibor2</td><td>Dániel Tibor</td><td>tibor2@gmail.com</td><td>6646 Tömörkény Árpád utca 23.</td><td>1985-02-02</td><td>39</td><td>39</td></tr>",
                            "<tr><td>balazs2</td><td>Szűcs Balázs</td><td>balázs.szűcs@mail.hu</td><td>3170 Szécsény Szabadság utca 95.</td><td>1984-10-31</td><td>40</td><td>39</td></tr>",
                            "<tr><td>bernadett1</td><td>Simon Bernadett</td><td>bernadett1@gmail.com</td><td>2300 Ráckeve Fő utca 108.</td><td>1984-10-13</td><td>40</td><td>39</td></tr>",
                            "<tr><td>JANOSP</td><td>Pálinkás János</td><td>JANOSP@gmail.com</td><td>5920 Csorvás Padragi út 158.</td><td>1984-10-12</td><td>40</td><td>40</td></tr>",
                            "<tr><td>tamas</td><td>Antal Tamás</td><td>tamás.antal@mail.hu</td><td>4440 Tiszavasvári Posta köz 2.</td><td>1984-09-05</td><td>40</td><td>40</td></tr>",
                            "<tr><td>edit</td><td>Bittmann Edit</td><td>edit.bittmann@mail.hu</td><td>6077 Orgovány Fő utca 60.</td><td>1984-04-20</td><td>40</td><td>40</td></tr>",
                            "<tr><td>andras4</td><td>Back András</td><td>andras4@gmail.com</td><td>3783 Edelény Fő út 169.</td><td>1984-04-07</td><td>40</td><td>40</td></tr>",
                            "<tr><td>csongor3</td><td>Nagymihály Csongor</td><td>csongor.nagymihály@mail.hu</td><td>9181 Kimle Deák Ferenc út 5.</td><td>1984-03-05</td><td>40</td><td>40</td></tr>",
                            "<tr><td>kristof4</td><td>Poprádi Kristóf</td><td>kristof4@gmail.com</td><td>8220 Balatonalmádi Mészáros utca 7.</td><td>1984-01-15</td><td>40</td><td>40</td></tr>",
                            "<tr><td>IBOLYAA</td><td>Andor Ibolya</td><td>ibolya.andor@mail.hu</td><td>9023 Győr Posta köz 2.</td><td>1983-11-27</td><td>41</td><td>40</td></tr>",
                            "<tr><td>zsofi1</td><td>Molnár Zsófi</td><td>zsofi1@gmail.com</td><td>2730 Albertirsa Árpád utca 23.</td><td>1983-11-17</td><td>41</td><td>40</td></tr>",
                            "<tr><td>ferenc1</td><td>Orosz Ferenc</td><td>ferenc.orosz@mail.hu</td><td>5061 Tiszasüly Arany János utca 3.</td><td>1983-10-08</td><td>41</td><td>41</td></tr>",
                            "<tr><td>ZSOLTJ</td><td>Józsa Zsolt</td><td>ZSOLTJ@gmail.com</td><td>8315 Gyenesdiás Bajcsy-Zsilinszky utca 4.</td><td>1983-09-29</td><td>41</td><td>41</td></tr>",
                            "<tr><td>veronika4</td><td>Tankó Veronika</td><td>veronika4@gmail.com</td><td>6412 Balotaszállás Rendeki utca 21.</td><td>1983-08-28</td><td>41</td><td>41</td></tr>",
                            "<tr><td>peter3</td><td>Szalai Péter</td><td>peter3@gmail.com</td><td>1155 Budapest Arany János utca 3.</td><td>1983-07-18</td><td>41</td><td>41</td></tr>",
                            "<tr><td>norbert4</td><td>Mile Norbert</td><td>norbert4@gmail.com</td><td>3973 Cigánd Bajcsy-Zsilinszky utca 4.</td><td>1983-06-15</td><td>41</td><td>41</td></tr>",
                            "<tr><td>georgij</td><td>Nyíri Georgij</td><td>georgij.nyíri@mail.hu</td><td>8391 Sármellék Grassalkovich út 10.</td><td>1983-02-23</td><td>41</td><td>41</td></tr>",
                            "<tr><td>gabriella1</td><td>Nagy Gabriella</td><td>gabriella1@gmail.com</td><td>1077 Budapest Dob utca 1</td><td>1982-11-01</td><td>42</td><td>41</td></tr>",
                            "<tr><td>attila1</td><td>Gulyás Attila</td><td>attila.gulyás@mail.hu</td><td>3881 Abaújszántó Szolnoki út 8.</td><td>1982-08-16</td><td>42</td><td>41</td></tr>",
                            "<tr><td>akos</td><td>Bíró Ákos</td><td>ákos.bíró@mail.hu</td><td>9023 Győr Kossuth Lajos utca 47/b.</td><td>1982-04-24</td><td>42</td><td>42</td></tr>",
                            "<tr><td>klaudia2</td><td>Bakó Klaudia</td><td>klaudia.bakó@mail.hu</td><td>8254 Kővágóörs Kossuth Lajos utca 6.</td><td>1982-04-16</td><td>42</td><td>42</td></tr>",
                            "<tr><td>AGNESH</td><td>Horváth Ágnes</td><td>AGNESH@gmail.com</td><td>8200 Veszprém Rákóczi utca 21.</td><td>1981-12-24</td><td>43</td><td>42</td></tr>",
                            "<tr><td>nikolett3</td><td>Horváth Nikolett</td><td>nikolett3@gmail.com</td><td>1072 Budapest Arany János utca 1.</td><td>1981-09-29</td><td>43</td><td>42</td></tr>",
                            "<tr><td>andrea4</td><td>Neizer Andrea</td><td>andrea4@gmail.com</td><td>1124 Budapest Kiss u. 8.</td><td>1981-05-17</td><td>43</td><td>43</td></tr>",
                            "<tr><td>BEATRIXS</td><td>Szekendi Beatrix</td><td>beatrix.szekendi@mail.hu</td><td>4060 Balmazújváros Jászai tér 21.</td><td>1981-04-06</td><td>43</td><td>43</td></tr>",
                            "<tr><td>EVAV</td><td>Viktor Éva</td><td>EVAV@gmail.com</td><td>6913 Csanádpalota Arany János utca 3.</td><td>1980-12-26</td><td>44</td><td>43</td></tr>",
                            "<tr><td>aladar</td><td>Dunai Aladár</td><td>aladár.dunai@mail.hu</td><td>5931 Nagyszénás Árpád utca 23.</td><td>1980-11-01</td><td>44</td><td>43</td></tr>",
                            "<tr><td>zsuzsa</td><td>Pusztai Zsuzsanna</td><td>zsuzsanna@gmail.com</td><td>6783 Ásotthalom Badacsonyi utca 12.</td><td>1980-09-17</td><td>44</td><td>44</td></tr>",
                            "<tr><td>ANDRASN</td><td>Nagy András</td><td>andrás.nagy@mail.hu</td><td>6500 Baja Fő út 169.</td><td>1980-09-05</td><td>44</td><td>44</td></tr>",
                            "<tr><td>tamara2</td><td>Miklós Tamara</td><td>tamara.miklós@mail.hu</td><td>3910 Tokaj Kossuth út 39.</td><td>1980-08-11</td><td>44</td><td>44</td></tr>",
                            "<tr><td>SZABOLCSM</td><td>Miklós Szabolcs</td><td>szabolcs.miklós@mail.hu</td><td>1102 Budapest Fő út 169.</td><td>1980-08-11</td><td>44</td><td>44</td></tr>",
                            "<tr><td>GYORGYO</td><td>Oroszi György</td><td>GYORGYO@gmail.com</td><td>7220 Sarkad Dózsa György u. 1.</td><td>1980-03-23</td><td>44</td><td>44</td></tr>",
                            "<tr><td>attila</td><td>Csóti Attila</td><td>attila@gmail.com</td><td>3000 Hatvan Bajcsy-Zsilinszky utca 4.</td><td>1979-12-25</td><td>45</td><td>44</td></tr>",
                            "<tr><td>agnes</td><td>Lengyel Ágnes</td><td>agnes@gmail.com</td><td>5200 Törökszentmiklós Deák Ferenc út 5.</td><td>1979-12-10</td><td>45</td><td>44</td></tr>",
                            "<tr><td>zoltan</td><td>Fodor Zoltán</td><td>zoltán.fodor@mail.hu</td><td>3441 Mezőkeresztes Fő utca 23.</td><td>1979-11-25</td><td>45</td><td>45</td></tr>",
                            "<tr><td>MIHALYJ</td><td>Juhász Mihály</td><td>mihály.juhász@mail.hu</td><td>6786 Ruzsa Rákóczi utca 1.</td><td>1979-10-12</td><td>45</td><td>45</td></tr>",
                            "<tr><td>krisztina</td><td>Szedlár Krisztina</td><td>krisztina@gmail.com</td><td>6646 Tömörkény Arany János utca 1.</td><td>1979-05-10</td><td>45</td><td>45</td></tr>",
                            "<tr><td>zsuzsa3</td><td>Varsányi Zsuzsa</td><td>zsuzsa.varsányi@mail.hu</td><td>8600 Siófok Árpád utca 4.</td><td>1979-03-06</td><td>45</td><td>45</td></tr>",
                            "<tr><td>MIKLOSB</td><td>Balla Miklós</td><td>miklós.balla@mail.hu</td><td>4060 Balmazújváros Szent István utca 2.</td><td>1979-02-16</td><td>45</td><td>45</td></tr>",
                            "<tr><td>daniel</td><td>Rácz Dániel</td><td>dániel.rácz@mail.hu</td><td>9181 Kimle Szabadság tér 9.</td><td>1978-11-28</td><td>46</td><td>45</td></tr>",
                            "<tr><td>lajos</td><td>Kiss Lajos</td><td>lajos.kiss@mail.hu</td><td>1077 Budapest Dob utca 1</td><td>1978-10-31</td><td>46</td><td>45</td></tr>",
                            "<tr><td>brigitta</td><td>Székely Brigitta</td><td>brigitta.székely@mail.hu</td><td>2462 Martonvásár Fő utca 47.</td><td>1978-09-13</td><td>46</td><td>46</td></tr>",
                            "<tr><td>jozsef2</td><td>Vajda József</td><td>józsef.vajda@mail.hu</td><td>6700 Szeged Baracsi László utca 14.</td><td>1978-09-04</td><td>46</td><td>46</td></tr>",
                            "<tr><td>ESZTERE</td><td>Érsek Eszter</td><td>eszter.érsek@mail.hu</td><td>6785 Pusztamérges Kossuth Lajos utca 6.</td><td>1978-08-28</td><td>46</td><td>46</td></tr>",
                            "<tr><td>kriszti</td><td>Horváth Krisztina</td><td>kriszti@gmail.com</td><td>6060 Tiszakécske Árpád utca 4.</td><td>1978-06-12</td><td>46</td><td>46</td></tr>",
                            "<tr><td>aniko4</td><td>Böröcz Anikó</td><td>aniko4@gmail.com</td><td>2484 Agárd Petőfi Sándor tér 1.</td><td>1978-03-26</td><td>46</td><td>46</td></tr>",
                            "<tr><td>andras21</td><td>Molnár András</td><td>andrás.molnár@mail.hu</td><td>7900 Szigetvár Rákóczi utca 67.</td><td>1977-11-16</td><td>47</td><td>46</td></tr>",
                            "<tr><td>bertalan</td><td>Csiger Bertalan</td><td>bertalan@gmail.com</td><td>1192 Budapest Fő út 169.</td><td>1977-10-15</td><td>47</td><td>46</td></tr>",
                            "<tr><td>ANNAMARIAR</td><td>Regős Annamária</td><td>ANNAMARIAR@gmail.com</td><td>8283 Káptalantóti Petőfi Sándor tér 1.</td><td>1977-09-26</td><td>47</td><td>47</td></tr>",
                            "<tr><td>ZOLTANP</td><td>Pintér Zoltán</td><td>zoltán.pintér@mail.hu</td><td>6050 Lajosmizse Fő út 18.</td><td>1977-06-07</td><td>47</td><td>47</td></tr>",
                            "<tr><td>robert2</td><td>Patay Róbert</td><td>robert2@gmail.com</td><td>2370 Dabas Rákóczi utca 21.</td><td>1977-01-08</td><td>47</td><td>47</td></tr>",
                            "<tr><td>ZSUZSAV</td><td>Vajda Zsuzsa</td><td>zsuzsa.vajda@mail.hu</td><td>6786 Ruzsa Kossuth utca 77.</td><td>1976-12-11</td><td>48</td><td>47</td></tr>",
                            "<tr><td>debora</td><td>Barna Debóra</td><td>debóra.barna@mail.hu</td><td>1155 Budapest Fő út 169.</td><td>1976-10-14</td><td>48</td><td>47</td></tr>",
                            "<tr><td>balu</td><td>Endresz Bálint</td><td>bálint.endresz@mail.hu</td><td>3973 Cigánd Fő út 169.</td><td>1976-08-01</td><td>48</td><td>48</td></tr>",
                            "<tr><td>adam4</td><td>Bieniek Ádám</td><td>ádám.bieniek@mail.hu</td><td>8630 Balatonboglár Juhászföldi út 1.</td><td>1976-08-01</td><td>48</td><td>48</td></tr>",
                            "<tr><td>imre1</td><td>Papp Imre</td><td>imre.papp@mail.hu</td><td>1077 Budapest Szolnoki út 8.</td><td>1976-06-25</td><td>48</td><td>48</td></tr>",
                            "<tr><td>peter1</td><td>Kozma Péter</td><td>peter1@gmail.com</td><td>6913 Csanádpalota Központi telep 3.</td><td>1976-03-18</td><td>48</td><td>48</td></tr>",
                            "<tr><td>peter2</td><td>Bozsó Péter</td><td>peter2@gmail.com</td><td>4800 Vásárosnamény Zombori út 2/A</td><td>1976-01-26</td><td>48</td><td>48</td></tr>",
                            "<tr><td>attila4</td><td>Baróti Attila</td><td>attila.baróti@mail.hu</td><td>7149 Báta Arany János utca 3.</td><td>1975-11-06</td><td>49</td><td>48</td></tr>",
                            "<tr><td>kornel4</td><td>Lukács Kornél</td><td>kornél.lukács@mail.hu</td><td>2053 Herceghalom Bécsi utca 82.</td><td>1975-09-30</td><td>49</td><td>48</td></tr>",
                            "<tr><td>timea2</td><td>Dusha Tímea</td><td>tímea.dusha@mail.hu</td><td>5920 Csorvás Kossuth utca 8.</td><td>1975-08-22</td><td>49</td><td>49</td></tr>",
                            "<tr><td>norbert5</td><td>Béres Norbert</td><td>norbert5@gmail.com</td><td>8640 Fonyód Bajcsy-Zsilinszky utca 4.</td><td>1975-07-27</td><td>49</td><td>49</td></tr>",
                            "<tr><td>JOZSEFG</td><td>Gyuris József</td><td>józsef.gyuris@mail.hu</td><td>2660 Balassagyarmat Petőfi utca 1/2.</td><td>1975-05-26</td><td>49</td><td>49</td></tr>",
                            "<tr><td>katka</td><td>Kovács Katalin</td><td>katalin.kovács@mail.hu</td><td>8254 Kővágóörs Petőfi utca 22.</td><td>1975-03-31</td><td>49</td><td>49</td></tr>",
                            "<tr><td>MATYASS</td><td>Szilágyi Mátyás</td><td>mátyás.szilágyi@mail.hu</td><td>9023 Győr Kossuth Lajos utca 6.</td><td>1975-03-22</td><td>49</td><td>49</td></tr>",
                            "<tr><td>denes</td><td>Tömböly Dénes</td><td>denes@gmail.com</td><td>2400 Dunaújváros Kossuth út 39.</td><td>1975-03-14</td><td>49</td><td>49</td></tr>",
                            "<tr><td>laszlo2</td><td>Móra László</td><td>lászló.móra@mail.hu</td><td>9970 Szentgotthárd Petőfi utca 1/2.</td><td>1975-02-19</td><td>49</td><td>49</td></tr>",
                            "<tr><td>JANOSG</td><td>Giliga János</td><td>JANOSG@gmail.com</td><td>3300 Eger Deák Ferenc út 5.</td><td>1975-01-03</td><td>49</td><td>49</td></tr>",
                            "<tr><td>MONIKAM</td><td>Mohos Mónika</td><td>mónika.mohos@mail.hu</td><td>2241 Sülysáp Baracsi László utca 14.</td><td>1974-10-01</td><td>50</td><td>49</td></tr>",
                            "<tr><td>GYONGYIK</td><td>Kornseé Gyöngyi</td><td>gyöngyi.kornseé@mail.hu</td><td>8800 Nagykanizsa Fő út 60.</td><td>1974-06-07</td><td>50</td><td>49</td></tr>",
                            "<tr><td>tunde</td><td>Turcsik Tünde</td><td>tunde@gmail.com</td><td>7130 Tolna Fő út 122.</td><td>1974-02-12</td><td>50</td><td>50</td></tr>",
                            "<tr><td>david</td><td>Ambrus Dávid</td><td>david@gmail.com</td><td>1149 Budapest Fő út 18.</td><td>1974-02-11</td><td>50</td><td>50</td></tr>",
                            "<tr><td>gabor1</td><td>Köves Gábor</td><td>gabor1@gmail.com</td><td>6762 Sándorfalva Árpád utca 23.</td><td>1973-07-15</td><td>51</td><td>50</td></tr>",
                            "<tr><td>BENCEB</td><td>Bajusz Bence</td><td>bence.bajusz@mail.hu</td><td>8391 Sármellék Fő utca 56.</td><td>1973-06-21</td><td>51</td><td>50</td></tr>",
                            "<tr><td>aniko</td><td>Tóth Anikó</td><td>aniko@gmail.com</td><td>2085 Pilisvörösvár Deák Ferenc út 5.</td><td>1973-06-03</td><td>51</td><td>51</td></tr>",
                            "<tr><td>sara</td><td>Farkas Sára</td><td>sára.farkas@mail.hu</td><td>5940 Tótkomlós Felszabadulás utca 32.</td><td>1973-04-05</td><td>51</td><td>51</td></tr>",
                            "<tr><td>matyas2</td><td>Botka Mátyás</td><td>matyas2@gmail.com</td><td>2700 Cegléd Kossuth Lajos utca 6.</td><td>1972-07-07</td><td>52</td><td>51</td></tr>",
                            "<tr><td>ROBERTP</td><td>Pásztor Róbert</td><td>ROBERTP@gmail.com</td><td>5137 Jászkisér Ady Endre út 27.</td><td>1972-05-16</td><td>52</td><td>51</td></tr>",
                            "<tr><td>BEATRIXK</td><td>Kerényi Beatrix</td><td>beatrix.kerényi@mail.hu</td><td>7396 Magyarszék Kossuth Lajos utca 47/b.</td><td>1972-04-06</td><td>52</td><td>52</td></tr>",
                            "<tr><td>nikoletta4</td><td>Kő Nikoletta</td><td>nikoletta4@gmail.com</td><td>5537 Zsadány Fő út 18.</td><td>1972-01-10</td><td>52</td><td>52</td></tr>",
                            "<tr><td>eva2</td><td>Perlinger Éva</td><td>eva2@gmail.com</td><td>9653 Répcelak Bécsi utca 82.</td><td>1971-08-19</td><td>53</td><td>52</td></tr>",
                            "<tr><td>aron2</td><td>Jakab Áron</td><td>aron2@gmail.com</td><td>7133 Fadd Bajcsy-Zsilinszky utca 4.</td><td>1971-04-26</td><td>53</td><td>52</td></tr>",
                            "<tr><td>andras3</td><td>Vígh András</td><td>andrás.vígh@mail.hu</td><td>1118 Budapest Arany János utca 1.</td><td>1971-04-02</td><td>53</td><td>53</td></tr>",
                            "<tr><td>anita</td><td>Hamvay-Kovács Anita</td><td>anita.hamvay-kovács@mail.hu</td><td>7220 Sarkad Táncsics utca 19.</td><td>1971-03-20</td><td>53</td><td>53</td></tr>",
                            "<tr><td>szilvia1</td><td>Tari Szilvia</td><td>szilvia.tari@mail.hu</td><td>6080 Szabadszállás Bécsi utca 82.</td><td>1971-03-09</td><td>53</td><td>53</td></tr>",
                            "<tr><td>david1</td><td>Sobják Dávid</td><td>david1@gmail.com</td><td>5083 Kengyel Arany János utca 3.</td><td>1970-08-16</td><td>54</td><td>53</td></tr>",
                            "<tr><td>krisztian4</td><td>Czérna Krisztián</td><td>krisztián.czérna@mail.hu</td><td>1107 Budapest Dózsa György utca 37.</td><td>1970-08-01</td><td>54</td><td>53</td></tr>",
                            "<tr><td>adam3</td><td>Barkóci Ádám</td><td>adam3@gmail.com</td><td>3910 Tokaj Dózsa György utca 37.</td><td>1970-06-07</td><td>54</td><td>54</td></tr>",
                            "<tr><td>sandor</td><td>Karasz Sándor</td><td>sandor@gmail.com</td><td>8283 Káptalantóti Kossuth Lajos utca 1/a.</td><td>1970-01-27</td><td>54</td><td>54</td></tr>",
                            "<tr><td>reka4</td><td>Szikszai Réka</td><td>réka.szikszai@mail.hu</td><td>8254 Kővágóörs Templom utca 73.</td><td>1969-11-27</td><td>55</td><td>54</td></tr>",
                            "<tr><td>krisztina1</td><td>Bori Krisztina</td><td>krisztina.bori@mail.hu</td><td>2115 Vácszentlászló Fő utca 47.</td><td>1969-10-13</td><td>55</td><td>54</td></tr>",
                            "<tr><td>norbert</td><td>Szűcs Norbert</td><td>norbert@gmail.com</td><td>5071 Besenyszög Győri utca 12.</td><td>1969-07-17</td><td>55</td><td>55</td></tr>",
                            "<tr><td>daniel1</td><td>Keszler Dániel</td><td>dániel.keszler@mail.hu</td><td>3580 Tiszaújváros Kossuth Lajos utca 6.</td><td>1969-07-16</td><td>55</td><td>55</td></tr>",
                            "<tr><td>LASZLOA</td><td>Antal László</td><td>lászló.antal@mail.hu</td><td>2484 Agárd Bécsi utca 82.</td><td>1969-06-29</td><td>55</td><td>55</td></tr>",
                            "<tr><td>gabriella10</td><td>Vida Gabriella</td><td>gabriella10@gmail.com</td><td>2484 Agárd Arany János utca 3.</td><td>1969-06-18</td><td>55</td><td>55</td></tr>",
                            "<tr><td>LASZLON</td><td>Nagy László</td><td>lászló.nagy@mail.hu</td><td>1173 Budapest Jászai tér 21.</td><td>1969-04-12</td><td>55</td><td>55</td></tr>",
                            "<tr><td>PETERB</td><td>Berendi Péter</td><td>péter.berendi@mail.hu</td><td>3980 Sátoraljaújhely Vasút utca 4/10.</td><td>1969-01-01</td><td>55</td><td>55</td></tr>",
                            "<tr><td>NANDORF</td><td>Fő Nándor</td><td>nándor.fő@mail.hu</td><td>5920 Csorvás Bécsi utca 82.</td><td>1968-11-12</td><td>56</td><td>55</td></tr>",
                            "<tr><td>kata</td><td>Gondos Katalin</td><td>katalin.gondos@mail.hu</td><td>8237 Tihany Kossuth Lajos utca 6.</td><td>1968-06-22</td><td>56</td><td>55</td></tr>",
                            "<tr><td>KRISZTIANM</td><td>Mogyródi Krisztián</td><td>KRISZTIANM@gmail.com</td><td>9155 Lébény Jászai tér 21.</td><td>1968-05-27</td><td>56</td><td>56</td></tr>",
                            "<tr><td>andi</td><td>Maródi Andrea</td><td>andrea.maródi@mail.hu</td><td>5465 Cserkeszőlő Árpád utca 4.</td><td>1968-05-07</td><td>56</td><td>56</td></tr>",
                            "<tr><td>roland</td><td>Tóth Roland</td><td>roland@gmail.com</td><td>2000 Szentendre Fő út 169.</td><td>1968-03-21</td><td>56</td><td>56</td></tr>",
                            "<tr><td>pal</td><td>Barabás Pál</td><td>pál.barabás@mail.hu</td><td>1183 Budapest Szolnoki út 8.</td><td>1968-02-06</td><td>56</td><td>56</td></tr>",
                            "<tr><td>katalin</td><td>Horváth Katalin</td><td>katalin.horváth@mail.hu</td><td>2424 Előszállás Rákóczi út 200.</td><td>1968-01-01</td><td>56</td><td>56</td></tr>",
                            "<tr><td>janos3</td><td>Harangozó János</td><td>janos3@gmail.com</td><td>8700 Marcali Petőfi Sándor tér 1.</td><td>1967-11-02</td><td>57</td><td>56</td></tr>",
                            "<tr><td>laszlo1</td><td>Farkas László</td><td>lászló.farkas@mail.hu</td><td>5200 Törökszentmiklós Rendeki utca 21.</td><td>1967-10-30</td><td>57</td><td>56</td></tr>",
                            "<tr><td>SZILARDS</td><td>Szalai Szilárd</td><td>szilárd.szalai@mail.hu</td><td>1077 Budapest Fő út 18.</td><td>1967-09-28</td><td>57</td><td>57</td></tr>",
                            "<tr><td>ROBERTI</td><td>Iván Róbert</td><td>róbert.iván@mail.hu</td><td>2377 Örkény Petőfi Sándor utca 3.</td><td>1967-07-02</td><td>57</td><td>57</td></tr>",
                            "<tr><td>eva</td><td>Enyedi Éva</td><td>eva@gmail.com</td><td>4231 Bököny Petőfi utca 8.</td><td>1967-06-30</td><td>57</td><td>57</td></tr>",
                            "<tr><td>agnes3</td><td>Hartyánszky Ágnes</td><td>agnes3@gmail.com</td><td>6430 Bácsalmás Posta köz 2.</td><td>1967-04-11</td><td>57</td><td>57</td></tr>",
                            "<tr><td>gusztav</td><td>Bárci Gusztáv</td><td>gusztav@gmail.com</td><td>3643 Dédestapolcsány Endrődi Sándor utca 47.</td><td>1967-02-25</td><td>57</td><td>57</td></tr>",
                            "<tr><td>anett3</td><td>Pivarcsi Anett</td><td>anett.pivarcsi@mail.hu</td><td>1149 Budapest Fő út 60.</td><td>1967-01-03</td><td>57</td><td>57</td></tr>",
                            "</table>"
                        ]
                    }
                }
            ],
            "execution_count": 25
        },
        {
            "cell_type": "markdown",
            "source": [
                "3\\. feladat\n",
                "\n",
                "![](data:image/png;base64,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)"
            ],
            "metadata": {
                "azdata_cell_guid": "9ad7f456-3db7-47c4-bcac-f4a34e043763"
            },
            "attachments": {}
        },
        {
            "cell_type": "code",
            "source": [
                ""
            ],
            "metadata": {
                "azdata_cell_guid": "dff2bb3a-4401-4533-b3c0-f2dd135c70c7",
                "language": "sql"
            },
            "outputs": [],
            "execution_count": null
        }
    ]
}