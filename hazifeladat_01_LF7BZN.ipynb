{
    "metadata": {
        "kernelspec": {
            "name": "SQL",
            "display_name": "SQL",
            "language": "sql"
        },
        "language_info": {
            "name": "sql",
            "version": ""
        }
    },
    "nbformat_minor": 2,
    "nbformat": 4,
    "cells": [
        {
            "cell_type": "markdown",
            "source": [
                "Adatprofilozás"
            ],
            "metadata": {
                "azdata_cell_guid": "fab2cd27-8720-41f4-aa39-db1fe2f8d092"
            },
            "attachments": {}
        },
        {
            "cell_type": "markdown",
            "source": [
                "\"nettoar\" oszlop három szűrése:"
            ],
            "metadata": {
                "azdata_cell_guid": "595e2dc9-16a7-4009-83a9-eaa4d0946501"
            },
            "attachments": {}
        },
        {
            "cell_type": "code",
            "source": [
                "SELECT MIN(nettoar) AS 'Legalacsonyabb ár', \r\n",
                "       MAX(nettoar) AS 'Legmagasabb ár', \r\n",
                "       ROUND(AVG(nettoar), 0) AS 'Átlagár', \r\n",
                "       ROUND(STDEV(nettoar), 0) AS 'Szórás'\r\n",
                "FROM dvd\r\n",
                "WHERE nettoar IS NOT NULL"
            ],
            "metadata": {
                "azdata_cell_guid": "a7ace443-a4f5-4f19-9748-94074196d0ad",
                "language": "sql"
            },
            "outputs": [
                {
                    "output_type": "display_data",
                    "data": {
                        "text/html": "(1 row affected)"
                    },
                    "metadata": {}
                },
                {
                    "output_type": "display_data",
                    "data": {
                        "text/html": "Total execution time: 00:00:00.037"
                    },
                    "metadata": {}
                },
                {
                    "output_type": "execute_result",
                    "metadata": {},
                    "execution_count": 44,
                    "data": {
                        "application/vnd.dataresource+json": {
                            "schema": {
                                "fields": [
                                    {
                                        "name": "Legalacsonyabb ár"
                                    },
                                    {
                                        "name": "Legmagasabb ár"
                                    },
                                    {
                                        "name": "Átlagár"
                                    },
                                    {
                                        "name": "Szórás"
                                    }
                                ]
                            },
                            "data": [
                                {
                                    "Legalacsonyabb ár": "3102",
                                    "Legmagasabb ár": "6098",
                                    "Átlagár": "4682",
                                    "Szórás": "872"
                                }
                            ]
                        },
                        "text/html": [
                            "<table>",
                            "<tr><th>Legalacsonyabb ár</th><th>Legmagasabb ár</th><th>Átlagár</th><th>Szórás</th></tr>",
                            "<tr><td>3102</td><td>6098</td><td>4682</td><td>872</td></tr>",
                            "</table>"
                        ]
                    }
                }
            ],
            "execution_count": 44
        },
        {
            "cell_type": "markdown",
            "source": [
                "Ide tartozó chart Chart01.png néven külön csatolva."
            ],
            "metadata": {
                "azdata_cell_guid": "4b2480b0-5f91-419f-b156-be8ca111def7"
            },
            "attachments": {}
        },
        {
            "cell_type": "code",
            "source": [
                "SELECT cim AS 'Cím', nettoar AS 'Nettó ár - alsó és felső 5%'\r\n",
                "FROM (\r\n",
                "    SELECT cim, nettoar,\r\n",
                "           PERCENTILE_CONT(0.05) WITHIN GROUP (ORDER BY nettoar) OVER() AS p05,\r\n",
                "           PERCENTILE_CONT(0.95) WITHIN GROUP (ORDER BY nettoar) OVER() AS p95\r\n",
                "    FROM dvd\r\n",
                ") subquery\r\n",
                "WHERE nettoar NOT BETWEEN p05 AND p95"
            ],
            "metadata": {
                "azdata_cell_guid": "0af7fff9-75cc-4a2a-9d8e-002fd525ae8e",
                "language": "sql"
            },
            "outputs": [
                {
                    "output_type": "display_data",
                    "data": {
                        "text/html": "(32 rows affected)"
                    },
                    "metadata": {}
                },
                {
                    "output_type": "display_data",
                    "data": {
                        "text/html": "Total execution time: 00:00:00.038"
                    },
                    "metadata": {}
                },
                {
                    "output_type": "execute_result",
                    "metadata": {},
                    "execution_count": 45,
                    "data": {
                        "application/vnd.dataresource+json": {
                            "schema": {
                                "fields": [
                                    {
                                        "name": "Cím"
                                    },
                                    {
                                        "name": "Nettó ár - alsó és felső 5%"
                                    }
                                ]
                            },
                            "data": [
                                {
                                    "Cím": "Felvételi példatár : Német",
                                    "Nettó ár - alsó és felső 5%": "3102"
                                },
                                {
                                    "Cím": "Matematika (1998)",
                                    "Nettó ár - alsó és felső 5%": "3105"
                                },
                                {
                                    "Cím": "Rally Championship",
                                    "Nettó ár - alsó és felső 5%": "3106"
                                },
                                {
                                    "Cím": "Kártyaváros",
                                    "Nettó ár - alsó és felső 5%": "3107"
                                },
                                {
                                    "Cím": "Hupikék törpikék: teletransportörp (1999)",
                                    "Nettó ár - alsó és felső 5%": "3110"
                                },
                                {
                                    "Cím": "Interaktív angol nyelvész kurzus középhaladó szint",
                                    "Nettó ár - alsó és felső 5%": "3115"
                                },
                                {
                                    "Cím": "Ókori lexikon",
                                    "Nettó ár - alsó és felső 5%": "3122"
                                },
                                {
                                    "Cím": "Ázsia (2000)",
                                    "Nettó ár - alsó és felső 5%": "3123"
                                },
                                {
                                    "Cím": "Játékfilmek 1963-tól napjainkig",
                                    "Nettó ár - alsó és felső 5%": "3138"
                                },
                                {
                                    "Cím": "Quake III. (2001)",
                                    "Nettó ár - alsó és felső 5%": "3144"
                                },
                                {
                                    "Cím": "A hét világcsoda (2001)",
                                    "Nettó ár - alsó és felső 5%": "3162"
                                },
                                {
                                    "Cím": "Földrajz: érettségi előkészítő (2002)",
                                    "Nettó ár - alsó és felső 5%": "3173"
                                },
                                {
                                    "Cím": "Felvételi példatár : Biológia, földrajz",
                                    "Nettó ár - alsó és felső 5%": "3215"
                                },
                                {
                                    "Cím": "Királyi könyvek 1-9. kötet",
                                    "Nettó ár - alsó és felső 5%": "3256"
                                },
                                {
                                    "Cím": "Éléstár (1998)",
                                    "Nettó ár - alsó és felső 5%": "3258"
                                },
                                {
                                    "Cím": "Byte Magyarország (2002)",
                                    "Nettó ár - alsó és felső 5%": "3277"
                                },
                                {
                                    "Cím": "Manó Matek 1.",
                                    "Nettó ár - alsó és felső 5%": "5995"
                                },
                                {
                                    "Cím": "Orosz (1998)",
                                    "Nettó ár - alsó és felső 5%": "6009"
                                },
                                {
                                    "Cím": "Új Könyvek 1994-2000 (2002)",
                                    "Nettó ár - alsó és felső 5%": "6024"
                                },
                                {
                                    "Cím": "Manó Angol 1. (2002)",
                                    "Nettó ár - alsó és felső 5%": "6051"
                                },
                                {
                                    "Cím": "Multimédiás Menedzsment Könyvtár 1. - Változásmenedzsment",
                                    "Nettó ár - alsó és felső 5%": "6057"
                                },
                                {
                                    "Cím": "Panzer General III: Scorched Earth (2000)",
                                    "Nettó ár - alsó és felső 5%": "6058"
                                },
                                {
                                    "Cím": "Szabadságharc 1848-49 (1988)",
                                    "Nettó ár - alsó és felső 5%": "6060"
                                },
                                {
                                    "Cím": "Target English (1998)",
                                    "Nettó ár - alsó és felső 5%": "6061"
                                },
                                {
                                    "Cím": "Capitalism II. (2001)",
                                    "Nettó ár - alsó és felső 5%": "6062"
                                },
                                {
                                    "Cím": "Zöld Ödön a földgömbön",
                                    "Nettó ár - alsó és felső 5%": "6065"
                                },
                                {
                                    "Cím": "Manó Angol 2. (2000)",
                                    "Nettó ár - alsó és felső 5%": "6068"
                                },
                                {
                                    "Cím": "A jövő titkai - Interaktív horoszkóp (1998)",
                                    "Nettó ár - alsó és felső 5%": "6072"
                                },
                                {
                                    "Cím": "Manó Puzzle (2002)",
                                    "Nettó ár - alsó és felső 5%": "6078"
                                },
                                {
                                    "Cím": "Italiano 1-2. (1998) + Installation",
                                    "Nettó ár - alsó és felső 5%": "6082"
                                },
                                {
                                    "Cím": "Tankok, tüzérség (2002)",
                                    "Nettó ár - alsó és felső 5%": "6084"
                                },
                                {
                                    "Cím": "Művészet és mesterség",
                                    "Nettó ár - alsó és felső 5%": "6098"
                                }
                            ]
                        },
                        "text/html": [
                            "<table>",
                            "<tr><th>Cím</th><th>Nettó ár - alsó és felső 5%</th></tr>",
                            "<tr><td>Felvételi példatár : Német</td><td>3102</td></tr>",
                            "<tr><td>Matematika (1998)</td><td>3105</td></tr>",
                            "<tr><td>Rally Championship</td><td>3106</td></tr>",
                            "<tr><td>Kártyaváros</td><td>3107</td></tr>",
                            "<tr><td>Hupikék törpikék: teletransportörp (1999)</td><td>3110</td></tr>",
                            "<tr><td>Interaktív angol nyelvész kurzus középhaladó szint</td><td>3115</td></tr>",
                            "<tr><td>Ókori lexikon</td><td>3122</td></tr>",
                            "<tr><td>Ázsia (2000)</td><td>3123</td></tr>",
                            "<tr><td>Játékfilmek 1963-tól napjainkig</td><td>3138</td></tr>",
                            "<tr><td>Quake III. (2001)</td><td>3144</td></tr>",
                            "<tr><td>A hét világcsoda (2001)</td><td>3162</td></tr>",
                            "<tr><td>Földrajz: érettségi előkészítő (2002)</td><td>3173</td></tr>",
                            "<tr><td>Felvételi példatár : Biológia, földrajz</td><td>3215</td></tr>",
                            "<tr><td>Királyi könyvek 1-9. kötet</td><td>3256</td></tr>",
                            "<tr><td>Éléstár (1998)</td><td>3258</td></tr>",
                            "<tr><td>Byte Magyarország (2002)</td><td>3277</td></tr>",
                            "<tr><td>Manó Matek 1.</td><td>5995</td></tr>",
                            "<tr><td>Orosz (1998)</td><td>6009</td></tr>",
                            "<tr><td>Új Könyvek 1994-2000 (2002)</td><td>6024</td></tr>",
                            "<tr><td>Manó Angol 1. (2002)</td><td>6051</td></tr>",
                            "<tr><td>Multimédiás Menedzsment Könyvtár 1. - Változásmenedzsment</td><td>6057</td></tr>",
                            "<tr><td>Panzer General III: Scorched Earth (2000)</td><td>6058</td></tr>",
                            "<tr><td>Szabadságharc 1848-49 (1988)</td><td>6060</td></tr>",
                            "<tr><td>Target English (1998)</td><td>6061</td></tr>",
                            "<tr><td>Capitalism II. (2001)</td><td>6062</td></tr>",
                            "<tr><td>Zöld Ödön a földgömbön</td><td>6065</td></tr>",
                            "<tr><td>Manó Angol 2. (2000)</td><td>6068</td></tr>",
                            "<tr><td>A jövő titkai - Interaktív horoszkóp (1998)</td><td>6072</td></tr>",
                            "<tr><td>Manó Puzzle (2002)</td><td>6078</td></tr>",
                            "<tr><td>Italiano 1-2. (1998) + Installation</td><td>6082</td></tr>",
                            "<tr><td>Tankok, tüzérség (2002)</td><td>6084</td></tr>",
                            "<tr><td>Művészet és mesterség</td><td>6098</td></tr>",
                            "</table>"
                        ]
                    }
                }
            ],
            "execution_count": 45
        },
        {
            "cell_type": "code",
            "source": [
                "SELECT nettoar AS 'Nettó ár oszlop', \r\n",
                "    SUM(row_count) AS 'Sorok száma'\r\n",
                "FROM\r\n",
                "    (SELECT \r\n",
                "        CASE WHEN [value] IS NULL then 'NULL érték'\r\n",
                "            WHEN row_count = 1 then 'Egyedi érték'\r\n",
                "            ELSE 'Nem egyedi érték' \r\n",
                "            END AS nettoar,\r\n",
                "        row_count\r\n",
                "    FROM (\r\n",
                "        SELECT nettoar [value], \r\n",
                "            COUNT(*) row_count\r\n",
                "        FROM dvd\r\n",
                "        GROUP BY nettoar) X) Y\r\n",
                "GROUP BY nettoar"
            ],
            "metadata": {
                "azdata_cell_guid": "74534747-2bc7-44db-a6d0-c49fb111991a",
                "language": "sql"
            },
            "outputs": [
                {
                    "output_type": "display_data",
                    "data": {
                        "text/html": "(2 rows affected)"
                    },
                    "metadata": {}
                },
                {
                    "output_type": "display_data",
                    "data": {
                        "text/html": "Total execution time: 00:00:00.022"
                    },
                    "metadata": {}
                },
                {
                    "output_type": "execute_result",
                    "metadata": {},
                    "execution_count": 46,
                    "data": {
                        "application/vnd.dataresource+json": {
                            "schema": {
                                "fields": [
                                    {
                                        "name": "Nattó ár oszlop"
                                    },
                                    {
                                        "name": "Sorok száma"
                                    }
                                ]
                            },
                            "data": [
                                {
                                    "Nattó ár oszlop": "Egyedi érték",
                                    "Sorok száma": "295"
                                },
                                {
                                    "Nattó ár oszlop": "Nem egyedi érték",
                                    "Sorok száma": "23"
                                }
                            ]
                        },
                        "text/html": [
                            "<table>",
                            "<tr><th>Nattó ár oszlop</th><th>Sorok száma</th></tr>",
                            "<tr><td>Egyedi érték</td><td>295</td></tr>",
                            "<tr><td>Nem egyedi érték</td><td>23</td></tr>",
                            "</table>"
                        ]
                    }
                }
            ],
            "execution_count": 46
        },
        {
            "cell_type": "markdown",
            "source": [
                "\"cim\" oszlop négy szűrése:"
            ],
            "metadata": {
                "azdata_cell_guid": "e30ff183-87ed-42e5-ac7a-e043ab8b0a42"
            },
            "attachments": {}
        },
        {
            "cell_type": "code",
            "source": [
                "SELECT TOP 10 cim AS 'Cím', \r\n",
                "        LEN(cim) AS 'Cím hossza'\r\n",
                "FROM dvd    \r\n",
                "GROUP BY cim\r\n",
                "ORDER BY 2 DESC"
            ],
            "metadata": {
                "azdata_cell_guid": "ceb78de7-b529-434d-9177-3b69a182ce4a",
                "language": "sql"
            },
            "outputs": [
                {
                    "output_type": "display_data",
                    "data": {
                        "text/html": "(10 rows affected)"
                    },
                    "metadata": {}
                },
                {
                    "output_type": "display_data",
                    "data": {
                        "text/html": "Total execution time: 00:00:00.041"
                    },
                    "metadata": {}
                },
                {
                    "output_type": "execute_result",
                    "metadata": {},
                    "execution_count": 47,
                    "data": {
                        "application/vnd.dataresource+json": {
                            "schema": {
                                "fields": [
                                    {
                                        "name": "Cím"
                                    },
                                    {
                                        "name": "Cím hossza"
                                    }
                                ]
                            },
                            "data": [
                                {
                                    "Cím": "Dicső napok és hétköznapok 1848 - Digitális forrásgyűjtemény 1.",
                                    "Cím hossza": "63"
                                },
                                {
                                    "Cím": "Kétfejű sas: A Habsburg-uralom Magyarországon (1699-1790)",
                                    "Cím hossza": "57"
                                },
                                {
                                    "Cím": "Multimédiás Menedzsment Könyvtár 1. - Változásmenedzsment",
                                    "Cím hossza": "57"
                                },
                                {
                                    "Cím": "Madárdalos kirándulások - Madártani oktató CD-ROM (1999)",
                                    "Cím hossza": "56"
                                },
                                {
                                    "Cím": "Matematika felkészítő az érettségi és felvételi vizsgára",
                                    "Cím hossza": "56"
                                },
                                {
                                    "Cím": "Irodalom  felkészítő az érettségi és felvételi vizsgára",
                                    "Cím hossza": "55"
                                },
                                {
                                    "Cím": "Kettős kötődés: Az Osztrák-Magyar Monarchia (1867-1918)",
                                    "Cím hossza": "55"
                                },
                                {
                                    "Cím": "Az Osztrák-Magyar Monarchia írásban és képekben (2001)",
                                    "Cím hossza": "54"
                                },
                                {
                                    "Cím": "Half-Life Generation: Game of the Year Edition (2002)",
                                    "Cím hossza": "53"
                                },
                                {
                                    "Cím": "Az Országos Széchényi Könyvtár corvinái, 2002 (2002)",
                                    "Cím hossza": "52"
                                }
                            ]
                        },
                        "text/html": [
                            "<table>",
                            "<tr><th>Cím</th><th>Cím hossza</th></tr>",
                            "<tr><td>Dicső napok és hétköznapok 1848 - Digitális forrásgyűjtemény 1.</td><td>63</td></tr>",
                            "<tr><td>Kétfejű sas: A Habsburg-uralom Magyarországon (1699-1790)</td><td>57</td></tr>",
                            "<tr><td>Multimédiás Menedzsment Könyvtár 1. - Változásmenedzsment</td><td>57</td></tr>",
                            "<tr><td>Madárdalos kirándulások - Madártani oktató CD-ROM (1999)</td><td>56</td></tr>",
                            "<tr><td>Matematika felkészítő az érettségi és felvételi vizsgára</td><td>56</td></tr>",
                            "<tr><td>Irodalom  felkészítő az érettségi és felvételi vizsgára</td><td>55</td></tr>",
                            "<tr><td>Kettős kötődés: Az Osztrák-Magyar Monarchia (1867-1918)</td><td>55</td></tr>",
                            "<tr><td>Az Osztrák-Magyar Monarchia írásban és képekben (2001)</td><td>54</td></tr>",
                            "<tr><td>Half-Life Generation: Game of the Year Edition (2002)</td><td>53</td></tr>",
                            "<tr><td>Az Országos Széchényi Könyvtár corvinái, 2002 (2002)</td><td>52</td></tr>",
                            "</table>"
                        ]
                    }
                }
            ],
            "execution_count": 47
        },
        {
            "cell_type": "code",
            "source": [
                "SELECT TOP 10 cim AS 'Cím', \r\n",
                "        LEN(cim) AS 'Cím hossza'\r\n",
                "FROM dvd\r\n",
                "WHERE cim IS NOT NULL\r\n",
                "GROUP BY cim\r\n",
                "ORDER BY 2 ASC\r\n",
                ""
            ],
            "metadata": {
                "azdata_cell_guid": "b5097a4c-8a57-4ae5-b849-41e21849983b",
                "language": "sql"
            },
            "outputs": [
                {
                    "output_type": "display_data",
                    "data": {
                        "text/html": "(10 rows affected)"
                    },
                    "metadata": {}
                },
                {
                    "output_type": "display_data",
                    "data": {
                        "text/html": "Total execution time: 00:00:00.033"
                    },
                    "metadata": {}
                },
                {
                    "output_type": "execute_result",
                    "metadata": {},
                    "execution_count": 48,
                    "data": {
                        "application/vnd.dataresource+json": {
                            "schema": {
                                "fields": [
                                    {
                                        "name": "Cím"
                                    },
                                    {
                                        "name": "Cím hossza"
                                    }
                                ]
                            },
                            "data": [
                                {
                                    "Cím": "Buggy",
                                    "Cím hossza": "5"
                                },
                                {
                                    "Cím": "GTA 2",
                                    "Cím hossza": "5"
                                },
                                {
                                    "Cím": "Afrika",
                                    "Cím hossza": "6"
                                },
                                {
                                    "Cím": "Diablo",
                                    "Cím hossza": "6"
                                },
                                {
                                    "Cím": "Európa",
                                    "Cím hossza": "6"
                                },
                                {
                                    "Cím": "Jancsó",
                                    "Cím hossza": "6"
                                },
                                {
                                    "Cím": "Tarzan",
                                    "Cím hossza": "6"
                                },
                                {
                                    "Cím": "NASA 1.",
                                    "Cím hossza": "7"
                                },
                                {
                                    "Cím": "NASA 2.",
                                    "Cím hossza": "7"
                                },
                                {
                                    "Cím": "Kutyatár",
                                    "Cím hossza": "8"
                                }
                            ]
                        },
                        "text/html": [
                            "<table>",
                            "<tr><th>Cím</th><th>Cím hossza</th></tr>",
                            "<tr><td>Buggy</td><td>5</td></tr>",
                            "<tr><td>GTA 2</td><td>5</td></tr>",
                            "<tr><td>Afrika</td><td>6</td></tr>",
                            "<tr><td>Diablo</td><td>6</td></tr>",
                            "<tr><td>Európa</td><td>6</td></tr>",
                            "<tr><td>Jancsó</td><td>6</td></tr>",
                            "<tr><td>Tarzan</td><td>6</td></tr>",
                            "<tr><td>NASA 1.</td><td>7</td></tr>",
                            "<tr><td>NASA 2.</td><td>7</td></tr>",
                            "<tr><td>Kutyatár</td><td>8</td></tr>",
                            "</table>"
                        ]
                    }
                }
            ],
            "execution_count": 48
        },
        {
            "cell_type": "code",
            "source": [
                "SELECT MIN(LEN(cim)) AS 'Legrövidebb cím', \r\n",
                "       MAX(LEN(cim)) AS 'Leghosszabb cím', \r\n",
                "       AVG(LEN(cim)) AS 'Átlag', \r\n",
                "       ROUND(STDEV(LEN(cim)), 0) AS 'Szórás'\r\n",
                "FROM dvd\r\n",
                "WHERE cim IS NOT NULL\r\n",
                "AND LEN(cim) > 0"
            ],
            "metadata": {
                "azdata_cell_guid": "bc6c8a2f-fd4e-4a08-9f0f-c03f43be5efc",
                "language": "sql"
            },
            "outputs": [
                {
                    "output_type": "display_data",
                    "data": {
                        "text/html": "(1 row affected)"
                    },
                    "metadata": {}
                },
                {
                    "output_type": "display_data",
                    "data": {
                        "text/html": "Total execution time: 00:00:00.035"
                    },
                    "metadata": {}
                },
                {
                    "output_type": "execute_result",
                    "metadata": {},
                    "execution_count": 49,
                    "data": {
                        "application/vnd.dataresource+json": {
                            "schema": {
                                "fields": [
                                    {
                                        "name": "Legrövidebb cím"
                                    },
                                    {
                                        "name": "Leghosszabb cím"
                                    },
                                    {
                                        "name": "Átlag"
                                    },
                                    {
                                        "name": "Szórás"
                                    }
                                ]
                            },
                            "data": [
                                {
                                    "Legrövidebb cím": "5",
                                    "Leghosszabb cím": "63",
                                    "Átlag": "26",
                                    "Szórás": "11"
                                }
                            ]
                        },
                        "text/html": [
                            "<table>",
                            "<tr><th>Legrövidebb cím</th><th>Leghosszabb cím</th><th>Átlag</th><th>Szórás</th></tr>",
                            "<tr><td>5</td><td>63</td><td>26</td><td>11</td></tr>",
                            "</table>"
                        ]
                    }
                }
            ],
            "execution_count": 49
        },
        {
            "cell_type": "markdown",
            "source": [
                "Ide tartozó chart Chart02.png néven külön csatolva."
            ],
            "metadata": {
                "azdata_cell_guid": "6b7d2331-7c6a-45b6-a402-eb0a273bc531"
            },
            "attachments": {}
        },
        {
            "cell_type": "code",
            "source": [
                "SELECT cim AS 'Cím oszlop',\r\n",
                "    COUNT(*) AS 'Sorok száma'\r\n",
                "FROM \r\n",
                "    (SELECT \r\n",
                "        CASE WHEN cim IS NULL THEN 'NULL érték'\r\n",
                "            WHEN LEN(cim) = 0 THEN 'Üres'\r\n",
                "            ELSE 'Kitöltve' \r\n",
                "            END AS cim\r\n",
                "        FROM dvd) rows\r\n",
                "GROUP BY cim"
            ],
            "metadata": {
                "azdata_cell_guid": "aad5793b-19b0-4422-b9ac-47fc76977508",
                "language": "sql"
            },
            "outputs": [
                {
                    "output_type": "display_data",
                    "data": {
                        "text/html": "(2 rows affected)"
                    },
                    "metadata": {}
                },
                {
                    "output_type": "display_data",
                    "data": {
                        "text/html": "Total execution time: 00:00:00.029"
                    },
                    "metadata": {}
                },
                {
                    "output_type": "execute_result",
                    "metadata": {},
                    "execution_count": 50,
                    "data": {
                        "application/vnd.dataresource+json": {
                            "schema": {
                                "fields": [
                                    {
                                        "name": "Cím oszlop"
                                    },
                                    {
                                        "name": "Sorok száma"
                                    }
                                ]
                            },
                            "data": [
                                {
                                    "Cím oszlop": "Kitöltve",
                                    "Sorok száma": "317"
                                },
                                {
                                    "Cím oszlop": "NULL érték",
                                    "Sorok száma": "1"
                                }
                            ]
                        },
                        "text/html": [
                            "<table>",
                            "<tr><th>Cím oszlop</th><th>Sorok száma</th></tr>",
                            "<tr><td>Kitöltve</td><td>317</td></tr>",
                            "<tr><td>NULL érték</td><td>1</td></tr>",
                            "</table>"
                        ]
                    }
                }
            ],
            "execution_count": 50
        },
        {
            "cell_type": "markdown",
            "source": [
                "Ide tartozó chart Chart03.png néven külön csatolva."
            ],
            "metadata": {
                "azdata_cell_guid": "7a9d0b11-9173-47f8-8246-b81964113019"
            },
            "attachments": {}
        },
        {
            "cell_type": "markdown",
            "source": [
                "Egy extra szűrés a \"stilus\" oszlopra."
            ],
            "metadata": {
                "azdata_cell_guid": "84450aa3-76d8-4bf3-98b5-9be5d95e5330"
            },
            "attachments": {}
        },
        {
            "cell_type": "code",
            "source": [
                "SELECT TOP 10\r\n",
                "    stilus AS 'Stílus', \r\n",
                "    COUNT(*) 'Stílus darabszáma'\r\n",
                "FROM dvd\r\n",
                "WHERE stilus IS NOT null\r\n",
                "GROUP BY stilus\r\n",
                "ORDER BY COUNT(*) desc"
            ],
            "metadata": {
                "azdata_cell_guid": "b95cc568-e1f5-4869-b1de-f3240441f664",
                "language": "sql"
            },
            "outputs": [
                {
                    "output_type": "display_data",
                    "data": {
                        "text/html": "(10 rows affected)"
                    },
                    "metadata": {}
                },
                {
                    "output_type": "display_data",
                    "data": {
                        "text/html": "Total execution time: 00:00:00.040"
                    },
                    "metadata": {}
                },
                {
                    "output_type": "execute_result",
                    "metadata": {},
                    "execution_count": 51,
                    "data": {
                        "application/vnd.dataresource+json": {
                            "schema": {
                                "fields": [
                                    {
                                        "name": "Stílus"
                                    },
                                    {
                                        "name": "Stílus darabszáma"
                                    }
                                ]
                            },
                            "data": [
                                {
                                    "Stílus": "játék",
                                    "Stílus darabszáma": "60"
                                },
                                {
                                    "Stílus": "ismeretterjesztő",
                                    "Stílus darabszáma": "46"
                                },
                                {
                                    "Stílus": "nyelvtanító",
                                    "Stílus darabszáma": "42"
                                },
                                {
                                    "Stílus": "történelem",
                                    "Stílus darabszáma": "41"
                                },
                                {
                                    "Stílus": "földrajz",
                                    "Stílus darabszáma": "16"
                                },
                                {
                                    "Stílus": "irodalom",
                                    "Stílus darabszáma": "16"
                                },
                                {
                                    "Stílus": "matematika",
                                    "Stílus darabszáma": "9"
                                },
                                {
                                    "Stílus": "csillagászat",
                                    "Stílus darabszáma": "7"
                                },
                                {
                                    "Stílus": "szótár",
                                    "Stílus darabszáma": "7"
                                },
                                {
                                    "Stílus": "felvételi",
                                    "Stílus darabszáma": "6"
                                }
                            ]
                        },
                        "text/html": [
                            "<table>",
                            "<tr><th>Stílus</th><th>Stílus darabszáma</th></tr>",
                            "<tr><td>játék</td><td>60</td></tr>",
                            "<tr><td>ismeretterjesztő</td><td>46</td></tr>",
                            "<tr><td>nyelvtanító</td><td>42</td></tr>",
                            "<tr><td>történelem</td><td>41</td></tr>",
                            "<tr><td>földrajz</td><td>16</td></tr>",
                            "<tr><td>irodalom</td><td>16</td></tr>",
                            "<tr><td>matematika</td><td>9</td></tr>",
                            "<tr><td>csillagászat</td><td>7</td></tr>",
                            "<tr><td>szótár</td><td>7</td></tr>",
                            "<tr><td>felvételi</td><td>6</td></tr>",
                            "</table>"
                        ]
                    }
                }
            ],
            "execution_count": 51
        }
    ]
}