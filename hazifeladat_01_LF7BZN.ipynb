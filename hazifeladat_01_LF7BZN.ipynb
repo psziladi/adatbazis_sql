{
    "metadata": {
        "kernelspec": {
            "name": "SQL",
            "display_name": "SQL",
            "language": "sql"
        },
        "language_info": {
            "name": "sql",
            "version": ""
        }
    },
    "nbformat_minor": 2,
    "nbformat": 4,
    "cells": [
        {
            "cell_type": "markdown",
            "source": [
                "Adatprofilozás"
            ],
            "metadata": {
                "azdata_cell_guid": "fab2cd27-8720-41f4-aa39-db1fe2f8d092"
            },
            "attachments": {}
        }
    ]
}