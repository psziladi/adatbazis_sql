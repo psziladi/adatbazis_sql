{
    "metadata": {
        "kernelspec": {
            "name": "SQL",
            "display_name": "SQL",
            "language": "sql"
        },
        "language_info": {
            "name": "sql",
            "version": ""
        }
    },
    "nbformat_minor": 2,
    "nbformat": 4,
    "cells": [
        {
            "cell_type": "markdown",
            "source": [
                "1\\. feladat:\n",
                "\n",
                "Listázzuk a foglalások számát szobánként, azon belül a foglalás éve szerint csoportosítva!\n",
                "\n",
                "- Az évnél a Mettől oszlopot használjuk\n",
                "- Jelenítsük meg a részösszegeket és a végösszeget is úgy, hogy ne jelenjen meg minden Oszlop/NULL kombináció!\n",
                "- A részösszegeket jelöljük megfelelően, pl. Részösszeg vagy Szoba összesen"
            ],
            "metadata": {
                "azdata_cell_guid": "23fed0b6-c8d2-4694-8860-1f5ca3ea1691"
            },
            "attachments": {}
        },
        {
            "cell_type": "code",
            "source": [
                "SELECT\r\n",
                "CASE \r\n",
                "WHEN GROUPING_ID(SZOBA_FK) = 1 THEN 'Részösszeg'\r\n",
                "WHEN GROUPING_ID(SZOBA_FK) = 3 THEN 'Szoba összesen'\r\n",
                "ELSE SZOBA_FK\r\n",
                "END AS 'Szoba száma',\r\n",
                "IIF (GROUPING(YEAR(METTOL))=1, 'Összesen', CAST(YEAR(METTOL) AS nvarchar(4))) AS 'Foglalás éve',\r\n",
                "COUNT(*) AS 'Foglalások száma'\r\n",
                "FROM Foglalas\r\n",
                "GROUP BY ROLLUP(SZOBA_FK, YEAR(METTOL))"
            ],
            "metadata": {
                "azdata_cell_guid": "1f0cbd8a-39c3-4e35-832b-5d81427c1bdf",
                "language": "sql"
            },
            "outputs": [
                {
                    "output_type": "display_data",
                    "data": {
                        "text/html": "Total execution time: 00:00:00.014"
                    },
                    "metadata": {}
                },
                {
                    "output_type": "execute_result",
                    "metadata": {},
                    "execution_count": 25,
                    "data": {
                        "application/vnd.dataresource+json": {
                            "schema": {
                                "fields": [
                                    {
                                        "name": "Szoba száma"
                                    },
                                    {
                                        "name": "Foglalás éve"
                                    },
                                    {
                                        "name": "Foglalások száma"
                                    }
                                ]
                            },
                            "data": [
                                {
                                    "Szoba száma": "1",
                                    "Foglalás éve": "2016",
                                    "Foglalások száma": "8"
                                },
                                {
                                    "Szoba száma": "1",
                                    "Foglalás éve": "Összesen",
                                    "Foglalások száma": "8"
                                },
                                {
                                    "Szoba száma": "2",
                                    "Foglalás éve": "2016",
                                    "Foglalások száma": "4"
                                },
                                {
                                    "Szoba száma": "2",
                                    "Foglalás éve": "Összesen",
                                    "Foglalások száma": "4"
                                },
                                {
                                    "Szoba száma": "3",
                                    "Foglalás éve": "2016",
                                    "Foglalások száma": "6"
                                },
                                {
                                    "Szoba száma": "3",
                                    "Foglalás éve": "2017",
                                    "Foglalások száma": "2"
                                },
                                {
                                    "Szoba száma": "3",
                                    "Foglalás éve": "Összesen",
                                    "Foglalások száma": "8"
                                },
                                {
                                    "Szoba száma": "4",
                                    "Foglalás éve": "2016",
                                    "Foglalások száma": "5"
                                },
                                {
                                    "Szoba száma": "4",
                                    "Foglalás éve": "2017",
                                    "Foglalások száma": "1"
                                },
                                {
                                    "Szoba száma": "4",
                                    "Foglalás éve": "Összesen",
                                    "Foglalások száma": "6"
                                },
                                {
                                    "Szoba száma": "5",
                                    "Foglalás éve": "2016",
                                    "Foglalások száma": "4"
                                },
                                {
                                    "Szoba száma": "5",
                                    "Foglalás éve": "Összesen",
                                    "Foglalások száma": "4"
                                },
                                {
                                    "Szoba száma": "6",
                                    "Foglalás éve": "2016",
                                    "Foglalások száma": "6"
                                },
                                {
                                    "Szoba száma": "6",
                                    "Foglalás éve": "Összesen",
                                    "Foglalások száma": "6"
                                },
                                {
                                    "Szoba száma": "7",
                                    "Foglalás éve": "2016",
                                    "Foglalások száma": "6"
                                },
                                {
                                    "Szoba száma": "7",
                                    "Foglalás éve": "Összesen",
                                    "Foglalások száma": "6"
                                },
                                {
                                    "Szoba száma": "8",
                                    "Foglalás éve": "2016",
                                    "Foglalások száma": "5"
                                },
                                {
                                    "Szoba száma": "8",
                                    "Foglalás éve": "Összesen",
                                    "Foglalások száma": "5"
                                },
                                {
                                    "Szoba száma": "9",
                                    "Foglalás éve": "2016",
                                    "Foglalások száma": "4"
                                },
                                {
                                    "Szoba száma": "9",
                                    "Foglalás éve": "2017",
                                    "Foglalások száma": "2"
                                },
                                {
                                    "Szoba száma": "9",
                                    "Foglalás éve": "Összesen",
                                    "Foglalások száma": "6"
                                },
                                {
                                    "Szoba száma": "10",
                                    "Foglalás éve": "2016",
                                    "Foglalások száma": "4"
                                },
                                {
                                    "Szoba száma": "10",
                                    "Foglalás éve": "Összesen",
                                    "Foglalások száma": "4"
                                },
                                {
                                    "Szoba száma": "11",
                                    "Foglalás éve": "2016",
                                    "Foglalások száma": "3"
                                },
                                {
                                    "Szoba száma": "11",
                                    "Foglalás éve": "2017",
                                    "Foglalások száma": "1"
                                },
                                {
                                    "Szoba száma": "11",
                                    "Foglalás éve": "Összesen",
                                    "Foglalások száma": "4"
                                },
                                {
                                    "Szoba száma": "12",
                                    "Foglalás éve": "2016",
                                    "Foglalások száma": "8"
                                },
                                {
                                    "Szoba száma": "12",
                                    "Foglalás éve": "2017",
                                    "Foglalások száma": "1"
                                },
                                {
                                    "Szoba száma": "12",
                                    "Foglalás éve": "Összesen",
                                    "Foglalások száma": "9"
                                },
                                {
                                    "Szoba száma": "13",
                                    "Foglalás éve": "2016",
                                    "Foglalások száma": "3"
                                },
                                {
                                    "Szoba száma": "13",
                                    "Foglalás éve": "2017",
                                    "Foglalások száma": "1"
                                },
                                {
                                    "Szoba száma": "13",
                                    "Foglalás éve": "Összesen",
                                    "Foglalások száma": "4"
                                },
                                {
                                    "Szoba száma": "14",
                                    "Foglalás éve": "2016",
                                    "Foglalások száma": "2"
                                },
                                {
                                    "Szoba száma": "14",
                                    "Foglalás éve": "2017",
                                    "Foglalások száma": "1"
                                },
                                {
                                    "Szoba száma": "14",
                                    "Foglalás éve": "Összesen",
                                    "Foglalások száma": "3"
                                },
                                {
                                    "Szoba száma": "15",
                                    "Foglalás éve": "2016",
                                    "Foglalások száma": "4"
                                },
                                {
                                    "Szoba száma": "15",
                                    "Foglalás éve": "2017",
                                    "Foglalások száma": "2"
                                },
                                {
                                    "Szoba száma": "15",
                                    "Foglalás éve": "Összesen",
                                    "Foglalások száma": "6"
                                },
                                {
                                    "Szoba száma": "16",
                                    "Foglalás éve": "2016",
                                    "Foglalások száma": "4"
                                },
                                {
                                    "Szoba száma": "16",
                                    "Foglalás éve": "2017",
                                    "Foglalások száma": "1"
                                },
                                {
                                    "Szoba száma": "16",
                                    "Foglalás éve": "Összesen",
                                    "Foglalások száma": "5"
                                },
                                {
                                    "Szoba száma": "17",
                                    "Foglalás éve": "2016",
                                    "Foglalások száma": "5"
                                },
                                {
                                    "Szoba száma": "17",
                                    "Foglalás éve": "2017",
                                    "Foglalások száma": "1"
                                },
                                {
                                    "Szoba száma": "17",
                                    "Foglalás éve": "Összesen",
                                    "Foglalások száma": "6"
                                },
                                {
                                    "Szoba száma": "18",
                                    "Foglalás éve": "2016",
                                    "Foglalások száma": "5"
                                },
                                {
                                    "Szoba száma": "18",
                                    "Foglalás éve": "2017",
                                    "Foglalások száma": "1"
                                },
                                {
                                    "Szoba száma": "18",
                                    "Foglalás éve": "Összesen",
                                    "Foglalások száma": "6"
                                },
                                {
                                    "Szoba száma": "19",
                                    "Foglalás éve": "2016",
                                    "Foglalások száma": "5"
                                },
                                {
                                    "Szoba száma": "19",
                                    "Foglalás éve": "2017",
                                    "Foglalások száma": "1"
                                },
                                {
                                    "Szoba száma": "19",
                                    "Foglalás éve": "Összesen",
                                    "Foglalások száma": "6"
                                },
                                {
                                    "Szoba száma": "20",
                                    "Foglalás éve": "2016",
                                    "Foglalások száma": "5"
                                },
                                {
                                    "Szoba száma": "20",
                                    "Foglalás éve": "Összesen",
                                    "Foglalások száma": "5"
                                },
                                {
                                    "Szoba száma": "21",
                                    "Foglalás éve": "2016",
                                    "Foglalások száma": "4"
                                },
                                {
                                    "Szoba száma": "21",
                                    "Foglalás éve": "Összesen",
                                    "Foglalások száma": "4"
                                },
                                {
                                    "Szoba száma": "22",
                                    "Foglalás éve": "2016",
                                    "Foglalások száma": "6"
                                },
                                {
                                    "Szoba száma": "22",
                                    "Foglalás éve": "Összesen",
                                    "Foglalások száma": "6"
                                },
                                {
                                    "Szoba száma": "23",
                                    "Foglalás éve": "2016",
                                    "Foglalások száma": "3"
                                },
                                {
                                    "Szoba száma": "23",
                                    "Foglalás éve": "Összesen",
                                    "Foglalások száma": "3"
                                },
                                {
                                    "Szoba száma": "24",
                                    "Foglalás éve": "2016",
                                    "Foglalások száma": "2"
                                },
                                {
                                    "Szoba száma": "24",
                                    "Foglalás éve": "2017",
                                    "Foglalások száma": "1"
                                },
                                {
                                    "Szoba száma": "24",
                                    "Foglalás éve": "Összesen",
                                    "Foglalások száma": "3"
                                },
                                {
                                    "Szoba száma": "25",
                                    "Foglalás éve": "2016",
                                    "Foglalások száma": "2"
                                },
                                {
                                    "Szoba száma": "25",
                                    "Foglalás éve": "Összesen",
                                    "Foglalások száma": "2"
                                },
                                {
                                    "Szoba száma": "26",
                                    "Foglalás éve": "2016",
                                    "Foglalások száma": "2"
                                },
                                {
                                    "Szoba száma": "26",
                                    "Foglalás éve": "Összesen",
                                    "Foglalások száma": "2"
                                },
                                {
                                    "Szoba száma": "27",
                                    "Foglalás éve": "2016",
                                    "Foglalások száma": "6"
                                },
                                {
                                    "Szoba száma": "27",
                                    "Foglalás éve": "2017",
                                    "Foglalások száma": "1"
                                },
                                {
                                    "Szoba száma": "27",
                                    "Foglalás éve": "Összesen",
                                    "Foglalások száma": "7"
                                },
                                {
                                    "Szoba száma": "28",
                                    "Foglalás éve": "2016",
                                    "Foglalások száma": "5"
                                },
                                {
                                    "Szoba száma": "28",
                                    "Foglalás éve": "2017",
                                    "Foglalások száma": "1"
                                },
                                {
                                    "Szoba száma": "28",
                                    "Foglalás éve": "Összesen",
                                    "Foglalások száma": "6"
                                },
                                {
                                    "Szoba száma": "29",
                                    "Foglalás éve": "2016",
                                    "Foglalások száma": "5"
                                },
                                {
                                    "Szoba száma": "29",
                                    "Foglalás éve": "2017",
                                    "Foglalások száma": "1"
                                },
                                {
                                    "Szoba száma": "29",
                                    "Foglalás éve": "Összesen",
                                    "Foglalások száma": "6"
                                },
                                {
                                    "Szoba száma": "30",
                                    "Foglalás éve": "2016",
                                    "Foglalások száma": "3"
                                },
                                {
                                    "Szoba száma": "30",
                                    "Foglalás éve": "Összesen",
                                    "Foglalások száma": "3"
                                },
                                {
                                    "Szoba száma": "31",
                                    "Foglalás éve": "2016",
                                    "Foglalások száma": "3"
                                },
                                {
                                    "Szoba száma": "31",
                                    "Foglalás éve": "Összesen",
                                    "Foglalások száma": "3"
                                },
                                {
                                    "Szoba száma": "32",
                                    "Foglalás éve": "2016",
                                    "Foglalások száma": "1"
                                },
                                {
                                    "Szoba száma": "32",
                                    "Foglalás éve": "Összesen",
                                    "Foglalások száma": "1"
                                },
                                {
                                    "Szoba száma": "33",
                                    "Foglalás éve": "2016",
                                    "Foglalások száma": "6"
                                },
                                {
                                    "Szoba száma": "33",
                                    "Foglalás éve": "Összesen",
                                    "Foglalások száma": "6"
                                },
                                {
                                    "Szoba száma": "34",
                                    "Foglalás éve": "2016",
                                    "Foglalások száma": "4"
                                },
                                {
                                    "Szoba száma": "34",
                                    "Foglalás éve": "Összesen",
                                    "Foglalások száma": "4"
                                },
                                {
                                    "Szoba száma": "35",
                                    "Foglalás éve": "2016",
                                    "Foglalások száma": "6"
                                },
                                {
                                    "Szoba száma": "35",
                                    "Foglalás éve": "2017",
                                    "Foglalások száma": "3"
                                },
                                {
                                    "Szoba száma": "35",
                                    "Foglalás éve": "Összesen",
                                    "Foglalások száma": "9"
                                },
                                {
                                    "Szoba száma": "36",
                                    "Foglalás éve": "2016",
                                    "Foglalások száma": "6"
                                },
                                {
                                    "Szoba száma": "36",
                                    "Foglalás éve": "Összesen",
                                    "Foglalások száma": "6"
                                },
                                {
                                    "Szoba száma": "37",
                                    "Foglalás éve": "2016",
                                    "Foglalások száma": "3"
                                },
                                {
                                    "Szoba száma": "37",
                                    "Foglalás éve": "Összesen",
                                    "Foglalások száma": "3"
                                },
                                {
                                    "Szoba száma": "38",
                                    "Foglalás éve": "2016",
                                    "Foglalások száma": "5"
                                },
                                {
                                    "Szoba száma": "38",
                                    "Foglalás éve": "2017",
                                    "Foglalások száma": "3"
                                },
                                {
                                    "Szoba száma": "38",
                                    "Foglalás éve": "Összesen",
                                    "Foglalások száma": "8"
                                },
                                {
                                    "Szoba száma": "39",
                                    "Foglalás éve": "2016",
                                    "Foglalások száma": "4"
                                },
                                {
                                    "Szoba száma": "39",
                                    "Foglalás éve": "2017",
                                    "Foglalások száma": "3"
                                },
                                {
                                    "Szoba száma": "39",
                                    "Foglalás éve": "Összesen",
                                    "Foglalások száma": "7"
                                },
                                {
                                    "Szoba száma": "40",
                                    "Foglalás éve": "2016",
                                    "Foglalások száma": "4"
                                },
                                {
                                    "Szoba száma": "40",
                                    "Foglalás éve": "Összesen",
                                    "Foglalások száma": "4"
                                },
                                {
                                    "Szoba száma": "41",
                                    "Foglalás éve": "2016",
                                    "Foglalások száma": "2"
                                },
                                {
                                    "Szoba száma": "41",
                                    "Foglalás éve": "Összesen",
                                    "Foglalások száma": "2"
                                },
                                {
                                    "Szoba száma": "42",
                                    "Foglalás éve": "2016",
                                    "Foglalások száma": "5"
                                },
                                {
                                    "Szoba száma": "42",
                                    "Foglalás éve": "2017",
                                    "Foglalások száma": "1"
                                },
                                {
                                    "Szoba száma": "42",
                                    "Foglalás éve": "Összesen",
                                    "Foglalások száma": "6"
                                },
                                {
                                    "Szoba száma": "43",
                                    "Foglalás éve": "2016",
                                    "Foglalások száma": "6"
                                },
                                {
                                    "Szoba száma": "43",
                                    "Foglalás éve": "2017",
                                    "Foglalások száma": "2"
                                },
                                {
                                    "Szoba száma": "43",
                                    "Foglalás éve": "Összesen",
                                    "Foglalások száma": "8"
                                },
                                {
                                    "Szoba száma": "44",
                                    "Foglalás éve": "2016",
                                    "Foglalások száma": "4"
                                },
                                {
                                    "Szoba száma": "44",
                                    "Foglalás éve": "2017",
                                    "Foglalások száma": "2"
                                },
                                {
                                    "Szoba száma": "44",
                                    "Foglalás éve": "Összesen",
                                    "Foglalások száma": "6"
                                },
                                {
                                    "Szoba száma": "45",
                                    "Foglalás éve": "2016",
                                    "Foglalások száma": "5"
                                },
                                {
                                    "Szoba száma": "45",
                                    "Foglalás éve": "Összesen",
                                    "Foglalások száma": "5"
                                },
                                {
                                    "Szoba száma": "46",
                                    "Foglalás éve": "2016",
                                    "Foglalások száma": "3"
                                },
                                {
                                    "Szoba száma": "46",
                                    "Foglalás éve": "2017",
                                    "Foglalások száma": "1"
                                },
                                {
                                    "Szoba száma": "46",
                                    "Foglalás éve": "Összesen",
                                    "Foglalások száma": "4"
                                },
                                {
                                    "Szoba száma": "47",
                                    "Foglalás éve": "2016",
                                    "Foglalások száma": "2"
                                },
                                {
                                    "Szoba száma": "47",
                                    "Foglalás éve": "Összesen",
                                    "Foglalások száma": "2"
                                },
                                {
                                    "Szoba száma": "48",
                                    "Foglalás éve": "2016",
                                    "Foglalások száma": "6"
                                },
                                {
                                    "Szoba száma": "48",
                                    "Foglalás éve": "2017",
                                    "Foglalások száma": "3"
                                },
                                {
                                    "Szoba száma": "48",
                                    "Foglalás éve": "Összesen",
                                    "Foglalások száma": "9"
                                },
                                {
                                    "Szoba száma": "49",
                                    "Foglalás éve": "2016",
                                    "Foglalások száma": "6"
                                },
                                {
                                    "Szoba száma": "49",
                                    "Foglalás éve": "2017",
                                    "Foglalások száma": "1"
                                },
                                {
                                    "Szoba száma": "49",
                                    "Foglalás éve": "Összesen",
                                    "Foglalások száma": "7"
                                },
                                {
                                    "Szoba száma": "50",
                                    "Foglalás éve": "2016",
                                    "Foglalások száma": "4"
                                },
                                {
                                    "Szoba száma": "50",
                                    "Foglalás éve": "Összesen",
                                    "Foglalások száma": "4"
                                },
                                {
                                    "Szoba száma": "51",
                                    "Foglalás éve": "2016",
                                    "Foglalások száma": "3"
                                },
                                {
                                    "Szoba száma": "51",
                                    "Foglalás éve": "2017",
                                    "Foglalások száma": "2"
                                },
                                {
                                    "Szoba száma": "51",
                                    "Foglalás éve": "Összesen",
                                    "Foglalások száma": "5"
                                },
                                {
                                    "Szoba száma": "52",
                                    "Foglalás éve": "2016",
                                    "Foglalások száma": "3"
                                },
                                {
                                    "Szoba száma": "52",
                                    "Foglalás éve": "2017",
                                    "Foglalások száma": "2"
                                },
                                {
                                    "Szoba száma": "52",
                                    "Foglalás éve": "Összesen",
                                    "Foglalások száma": "5"
                                },
                                {
                                    "Szoba száma": "53",
                                    "Foglalás éve": "2016",
                                    "Foglalások száma": "2"
                                },
                                {
                                    "Szoba száma": "53",
                                    "Foglalás éve": "Összesen",
                                    "Foglalások száma": "2"
                                },
                                {
                                    "Szoba száma": "54",
                                    "Foglalás éve": "2016",
                                    "Foglalások száma": "6"
                                },
                                {
                                    "Szoba száma": "54",
                                    "Foglalás éve": "Összesen",
                                    "Foglalások száma": "6"
                                },
                                {
                                    "Szoba száma": "55",
                                    "Foglalás éve": "2016",
                                    "Foglalások száma": "6"
                                },
                                {
                                    "Szoba száma": "55",
                                    "Foglalás éve": "2017",
                                    "Foglalások száma": "2"
                                },
                                {
                                    "Szoba száma": "55",
                                    "Foglalás éve": "Összesen",
                                    "Foglalások száma": "8"
                                },
                                {
                                    "Szoba száma": "56",
                                    "Foglalás éve": "2016",
                                    "Foglalások száma": "2"
                                },
                                {
                                    "Szoba száma": "56",
                                    "Foglalás éve": "Összesen",
                                    "Foglalások száma": "2"
                                },
                                {
                                    "Szoba száma": "57",
                                    "Foglalás éve": "2016",
                                    "Foglalások száma": "2"
                                },
                                {
                                    "Szoba száma": "57",
                                    "Foglalás éve": "2017",
                                    "Foglalások száma": "2"
                                },
                                {
                                    "Szoba száma": "57",
                                    "Foglalás éve": "Összesen",
                                    "Foglalások száma": "4"
                                },
                                {
                                    "Szoba száma": "58",
                                    "Foglalás éve": "2016",
                                    "Foglalások száma": "12"
                                },
                                {
                                    "Szoba száma": "58",
                                    "Foglalás éve": "2017",
                                    "Foglalások száma": "1"
                                },
                                {
                                    "Szoba száma": "58",
                                    "Foglalás éve": "Összesen",
                                    "Foglalások száma": "13"
                                },
                                {
                                    "Szoba száma": "59",
                                    "Foglalás éve": "2016",
                                    "Foglalások száma": "6"
                                },
                                {
                                    "Szoba száma": "59",
                                    "Foglalás éve": "2017",
                                    "Foglalások száma": "1"
                                },
                                {
                                    "Szoba száma": "59",
                                    "Foglalás éve": "Összesen",
                                    "Foglalások száma": "7"
                                },
                                {
                                    "Szoba száma": "60",
                                    "Foglalás éve": "2016",
                                    "Foglalások száma": "1"
                                },
                                {
                                    "Szoba száma": "60",
                                    "Foglalás éve": "Összesen",
                                    "Foglalások száma": "1"
                                },
                                {
                                    "Szoba száma": "61",
                                    "Foglalás éve": "2016",
                                    "Foglalások száma": "4"
                                },
                                {
                                    "Szoba száma": "61",
                                    "Foglalás éve": "2017",
                                    "Foglalások száma": "1"
                                },
                                {
                                    "Szoba száma": "61",
                                    "Foglalás éve": "Összesen",
                                    "Foglalások száma": "5"
                                },
                                {
                                    "Szoba száma": "62",
                                    "Foglalás éve": "2016",
                                    "Foglalások száma": "4"
                                },
                                {
                                    "Szoba száma": "62",
                                    "Foglalás éve": "2017",
                                    "Foglalások száma": "1"
                                },
                                {
                                    "Szoba száma": "62",
                                    "Foglalás éve": "Összesen",
                                    "Foglalások száma": "5"
                                },
                                {
                                    "Szoba száma": "63",
                                    "Foglalás éve": "2016",
                                    "Foglalások száma": "4"
                                },
                                {
                                    "Szoba száma": "63",
                                    "Foglalás éve": "Összesen",
                                    "Foglalások száma": "4"
                                },
                                {
                                    "Szoba száma": "64",
                                    "Foglalás éve": "2016",
                                    "Foglalások száma": "3"
                                },
                                {
                                    "Szoba száma": "64",
                                    "Foglalás éve": "2017",
                                    "Foglalások száma": "3"
                                },
                                {
                                    "Szoba száma": "64",
                                    "Foglalás éve": "Összesen",
                                    "Foglalások száma": "6"
                                },
                                {
                                    "Szoba száma": "65",
                                    "Foglalás éve": "2016",
                                    "Foglalások száma": "1"
                                },
                                {
                                    "Szoba száma": "65",
                                    "Foglalás éve": "Összesen",
                                    "Foglalások száma": "1"
                                },
                                {
                                    "Szoba száma": "66",
                                    "Foglalás éve": "2016",
                                    "Foglalások száma": "4"
                                },
                                {
                                    "Szoba száma": "66",
                                    "Foglalás éve": "Összesen",
                                    "Foglalások száma": "4"
                                },
                                {
                                    "Szoba száma": "67",
                                    "Foglalás éve": "2016",
                                    "Foglalások száma": "4"
                                },
                                {
                                    "Szoba száma": "67",
                                    "Foglalás éve": "2017",
                                    "Foglalások száma": "2"
                                },
                                {
                                    "Szoba száma": "67",
                                    "Foglalás éve": "Összesen",
                                    "Foglalások száma": "6"
                                },
                                {
                                    "Szoba száma": "68",
                                    "Foglalás éve": "2016",
                                    "Foglalások száma": "3"
                                },
                                {
                                    "Szoba száma": "68",
                                    "Foglalás éve": "Összesen",
                                    "Foglalások száma": "3"
                                },
                                {
                                    "Szoba száma": "69",
                                    "Foglalás éve": "2016",
                                    "Foglalások száma": "4"
                                },
                                {
                                    "Szoba száma": "69",
                                    "Foglalás éve": "Összesen",
                                    "Foglalások száma": "4"
                                },
                                {
                                    "Szoba száma": "70",
                                    "Foglalás éve": "2016",
                                    "Foglalások száma": "10"
                                },
                                {
                                    "Szoba száma": "70",
                                    "Foglalás éve": "2017",
                                    "Foglalások száma": "1"
                                },
                                {
                                    "Szoba száma": "70",
                                    "Foglalás éve": "Összesen",
                                    "Foglalások száma": "11"
                                },
                                {
                                    "Szoba száma": "71",
                                    "Foglalás éve": "2016",
                                    "Foglalások száma": "3"
                                },
                                {
                                    "Szoba száma": "71",
                                    "Foglalás éve": "Összesen",
                                    "Foglalások száma": "3"
                                },
                                {
                                    "Szoba száma": "72",
                                    "Foglalás éve": "2016",
                                    "Foglalások száma": "4"
                                },
                                {
                                    "Szoba száma": "72",
                                    "Foglalás éve": "Összesen",
                                    "Foglalások száma": "4"
                                },
                                {
                                    "Szoba száma": "73",
                                    "Foglalás éve": "2016",
                                    "Foglalások száma": "4"
                                },
                                {
                                    "Szoba száma": "73",
                                    "Foglalás éve": "Összesen",
                                    "Foglalások száma": "4"
                                },
                                {
                                    "Szoba száma": "74",
                                    "Foglalás éve": "2016",
                                    "Foglalások száma": "9"
                                },
                                {
                                    "Szoba száma": "74",
                                    "Foglalás éve": "Összesen",
                                    "Foglalások száma": "9"
                                },
                                {
                                    "Szoba száma": "75",
                                    "Foglalás éve": "2016",
                                    "Foglalások száma": "1"
                                },
                                {
                                    "Szoba száma": "75",
                                    "Foglalás éve": "2017",
                                    "Foglalások száma": "2"
                                },
                                {
                                    "Szoba száma": "75",
                                    "Foglalás éve": "Összesen",
                                    "Foglalások száma": "3"
                                },
                                {
                                    "Szoba száma": "76",
                                    "Foglalás éve": "2016",
                                    "Foglalások száma": "2"
                                },
                                {
                                    "Szoba száma": "76",
                                    "Foglalás éve": "2017",
                                    "Foglalások száma": "1"
                                },
                                {
                                    "Szoba száma": "76",
                                    "Foglalás éve": "Összesen",
                                    "Foglalások száma": "3"
                                },
                                {
                                    "Szoba száma": "77",
                                    "Foglalás éve": "2016",
                                    "Foglalások száma": "4"
                                },
                                {
                                    "Szoba száma": "77",
                                    "Foglalás éve": "2017",
                                    "Foglalások száma": "2"
                                },
                                {
                                    "Szoba száma": "77",
                                    "Foglalás éve": "Összesen",
                                    "Foglalások száma": "6"
                                },
                                {
                                    "Szoba száma": "78",
                                    "Foglalás éve": "2016",
                                    "Foglalások száma": "5"
                                },
                                {
                                    "Szoba száma": "78",
                                    "Foglalás éve": "2017",
                                    "Foglalások száma": "1"
                                },
                                {
                                    "Szoba száma": "78",
                                    "Foglalás éve": "Összesen",
                                    "Foglalások száma": "6"
                                },
                                {
                                    "Szoba száma": "79",
                                    "Foglalás éve": "2016",
                                    "Foglalások száma": "4"
                                },
                                {
                                    "Szoba száma": "79",
                                    "Foglalás éve": "2017",
                                    "Foglalások száma": "1"
                                },
                                {
                                    "Szoba száma": "79",
                                    "Foglalás éve": "Összesen",
                                    "Foglalások száma": "5"
                                },
                                {
                                    "Szoba száma": "80",
                                    "Foglalás éve": "2016",
                                    "Foglalások száma": "7"
                                },
                                {
                                    "Szoba száma": "80",
                                    "Foglalás éve": "Összesen",
                                    "Foglalások száma": "7"
                                },
                                {
                                    "Szoba száma": "81",
                                    "Foglalás éve": "2016",
                                    "Foglalások száma": "1"
                                },
                                {
                                    "Szoba száma": "81",
                                    "Foglalás éve": "2017",
                                    "Foglalások száma": "4"
                                },
                                {
                                    "Szoba száma": "81",
                                    "Foglalás éve": "Összesen",
                                    "Foglalások száma": "5"
                                },
                                {
                                    "Szoba száma": "82",
                                    "Foglalás éve": "2016",
                                    "Foglalások száma": "6"
                                },
                                {
                                    "Szoba száma": "82",
                                    "Foglalás éve": "Összesen",
                                    "Foglalások száma": "6"
                                },
                                {
                                    "Szoba száma": "83",
                                    "Foglalás éve": "2016",
                                    "Foglalások száma": "8"
                                },
                                {
                                    "Szoba száma": "83",
                                    "Foglalás éve": "Összesen",
                                    "Foglalások száma": "8"
                                },
                                {
                                    "Szoba száma": "84",
                                    "Foglalás éve": "2016",
                                    "Foglalások száma": "4"
                                },
                                {
                                    "Szoba száma": "84",
                                    "Foglalás éve": "Összesen",
                                    "Foglalások száma": "4"
                                },
                                {
                                    "Szoba száma": "85",
                                    "Foglalás éve": "2016",
                                    "Foglalások száma": "3"
                                },
                                {
                                    "Szoba száma": "85",
                                    "Foglalás éve": "2017",
                                    "Foglalások száma": "1"
                                },
                                {
                                    "Szoba száma": "85",
                                    "Foglalás éve": "Összesen",
                                    "Foglalások száma": "4"
                                },
                                {
                                    "Szoba száma": "86",
                                    "Foglalás éve": "2016",
                                    "Foglalások száma": "4"
                                },
                                {
                                    "Szoba száma": "86",
                                    "Foglalás éve": "2017",
                                    "Foglalások száma": "1"
                                },
                                {
                                    "Szoba száma": "86",
                                    "Foglalás éve": "Összesen",
                                    "Foglalások száma": "5"
                                },
                                {
                                    "Szoba száma": "87",
                                    "Foglalás éve": "2016",
                                    "Foglalások száma": "4"
                                },
                                {
                                    "Szoba száma": "87",
                                    "Foglalás éve": "2017",
                                    "Foglalások száma": "1"
                                },
                                {
                                    "Szoba száma": "87",
                                    "Foglalás éve": "Összesen",
                                    "Foglalások száma": "5"
                                },
                                {
                                    "Szoba száma": "88",
                                    "Foglalás éve": "2016",
                                    "Foglalások száma": "6"
                                },
                                {
                                    "Szoba száma": "88",
                                    "Foglalás éve": "2017",
                                    "Foglalások száma": "2"
                                },
                                {
                                    "Szoba száma": "88",
                                    "Foglalás éve": "Összesen",
                                    "Foglalások száma": "8"
                                },
                                {
                                    "Szoba száma": "89",
                                    "Foglalás éve": "2016",
                                    "Foglalások száma": "7"
                                },
                                {
                                    "Szoba száma": "89",
                                    "Foglalás éve": "2017",
                                    "Foglalások száma": "1"
                                },
                                {
                                    "Szoba száma": "89",
                                    "Foglalás éve": "Összesen",
                                    "Foglalások száma": "8"
                                },
                                {
                                    "Szoba száma": "90",
                                    "Foglalás éve": "2016",
                                    "Foglalások száma": "4"
                                },
                                {
                                    "Szoba száma": "90",
                                    "Foglalás éve": "Összesen",
                                    "Foglalások száma": "4"
                                },
                                {
                                    "Szoba száma": "91",
                                    "Foglalás éve": "2016",
                                    "Foglalások száma": "4"
                                },
                                {
                                    "Szoba száma": "91",
                                    "Foglalás éve": "Összesen",
                                    "Foglalások száma": "4"
                                },
                                {
                                    "Szoba száma": "92",
                                    "Foglalás éve": "2016",
                                    "Foglalások száma": "4"
                                },
                                {
                                    "Szoba száma": "92",
                                    "Foglalás éve": "2017",
                                    "Foglalások száma": "2"
                                },
                                {
                                    "Szoba száma": "92",
                                    "Foglalás éve": "Összesen",
                                    "Foglalások száma": "6"
                                },
                                {
                                    "Szoba száma": "93",
                                    "Foglalás éve": "2016",
                                    "Foglalások száma": "5"
                                },
                                {
                                    "Szoba száma": "93",
                                    "Foglalás éve": "Összesen",
                                    "Foglalások száma": "5"
                                },
                                {
                                    "Szoba száma": "94",
                                    "Foglalás éve": "2016",
                                    "Foglalások száma": "8"
                                },
                                {
                                    "Szoba száma": "94",
                                    "Foglalás éve": "2017",
                                    "Foglalások száma": "2"
                                },
                                {
                                    "Szoba száma": "94",
                                    "Foglalás éve": "Összesen",
                                    "Foglalások száma": "10"
                                },
                                {
                                    "Szoba száma": "95",
                                    "Foglalás éve": "2016",
                                    "Foglalások száma": "3"
                                },
                                {
                                    "Szoba száma": "95",
                                    "Foglalás éve": "2017",
                                    "Foglalások száma": "1"
                                },
                                {
                                    "Szoba száma": "95",
                                    "Foglalás éve": "Összesen",
                                    "Foglalások száma": "4"
                                },
                                {
                                    "Szoba száma": "96",
                                    "Foglalás éve": "2016",
                                    "Foglalások száma": "5"
                                },
                                {
                                    "Szoba száma": "96",
                                    "Foglalás éve": "2017",
                                    "Foglalások száma": "2"
                                },
                                {
                                    "Szoba száma": "96",
                                    "Foglalás éve": "Összesen",
                                    "Foglalások száma": "7"
                                },
                                {
                                    "Szoba száma": "97",
                                    "Foglalás éve": "2016",
                                    "Foglalások száma": "5"
                                },
                                {
                                    "Szoba száma": "97",
                                    "Foglalás éve": "2017",
                                    "Foglalások száma": "2"
                                },
                                {
                                    "Szoba száma": "97",
                                    "Foglalás éve": "Összesen",
                                    "Foglalások száma": "7"
                                },
                                {
                                    "Szoba száma": "98",
                                    "Foglalás éve": "2016",
                                    "Foglalások száma": "4"
                                },
                                {
                                    "Szoba száma": "98",
                                    "Foglalás éve": "Összesen",
                                    "Foglalások száma": "4"
                                },
                                {
                                    "Szoba száma": "99",
                                    "Foglalás éve": "2016",
                                    "Foglalások száma": "4"
                                },
                                {
                                    "Szoba száma": "99",
                                    "Foglalás éve": "2017",
                                    "Foglalások száma": "1"
                                },
                                {
                                    "Szoba száma": "99",
                                    "Foglalás éve": "Összesen",
                                    "Foglalások száma": "5"
                                },
                                {
                                    "Szoba száma": "100",
                                    "Foglalás éve": "2016",
                                    "Foglalások száma": "3"
                                },
                                {
                                    "Szoba száma": "100",
                                    "Foglalás éve": "2017",
                                    "Foglalások száma": "1"
                                },
                                {
                                    "Szoba száma": "100",
                                    "Foglalás éve": "Összesen",
                                    "Foglalások száma": "4"
                                },
                                {
                                    "Szoba száma": "101",
                                    "Foglalás éve": "2016",
                                    "Foglalások száma": "2"
                                },
                                {
                                    "Szoba száma": "101",
                                    "Foglalás éve": "2017",
                                    "Foglalások száma": "1"
                                },
                                {
                                    "Szoba száma": "101",
                                    "Foglalás éve": "Összesen",
                                    "Foglalások száma": "3"
                                },
                                {
                                    "Szoba száma": "102",
                                    "Foglalás éve": "2016",
                                    "Foglalások száma": "2"
                                },
                                {
                                    "Szoba száma": "102",
                                    "Foglalás éve": "Összesen",
                                    "Foglalások száma": "2"
                                },
                                {
                                    "Szoba száma": "103",
                                    "Foglalás éve": "2016",
                                    "Foglalások száma": "3"
                                },
                                {
                                    "Szoba száma": "103",
                                    "Foglalás éve": "2017",
                                    "Foglalások száma": "1"
                                },
                                {
                                    "Szoba száma": "103",
                                    "Foglalás éve": "Összesen",
                                    "Foglalások száma": "4"
                                },
                                {
                                    "Szoba száma": "104",
                                    "Foglalás éve": "2016",
                                    "Foglalások száma": "2"
                                },
                                {
                                    "Szoba száma": "104",
                                    "Foglalás éve": "2017",
                                    "Foglalások száma": "2"
                                },
                                {
                                    "Szoba száma": "104",
                                    "Foglalás éve": "Összesen",
                                    "Foglalások száma": "4"
                                },
                                {
                                    "Szoba száma": "105",
                                    "Foglalás éve": "2016",
                                    "Foglalások száma": "1"
                                },
                                {
                                    "Szoba száma": "105",
                                    "Foglalás éve": "2017",
                                    "Foglalások száma": "1"
                                },
                                {
                                    "Szoba száma": "105",
                                    "Foglalás éve": "Összesen",
                                    "Foglalások száma": "2"
                                },
                                {
                                    "Szoba száma": "106",
                                    "Foglalás éve": "2016",
                                    "Foglalások száma": "5"
                                },
                                {
                                    "Szoba száma": "106",
                                    "Foglalás éve": "2017",
                                    "Foglalások száma": "1"
                                },
                                {
                                    "Szoba száma": "106",
                                    "Foglalás éve": "Összesen",
                                    "Foglalások száma": "6"
                                },
                                {
                                    "Szoba száma": "107",
                                    "Foglalás éve": "2016",
                                    "Foglalások száma": "3"
                                },
                                {
                                    "Szoba száma": "107",
                                    "Foglalás éve": "2017",
                                    "Foglalások száma": "2"
                                },
                                {
                                    "Szoba száma": "107",
                                    "Foglalás éve": "Összesen",
                                    "Foglalások száma": "5"
                                },
                                {
                                    "Szoba száma": "108",
                                    "Foglalás éve": "2016",
                                    "Foglalások száma": "2"
                                },
                                {
                                    "Szoba száma": "108",
                                    "Foglalás éve": "Összesen",
                                    "Foglalások száma": "2"
                                },
                                {
                                    "Szoba száma": "109",
                                    "Foglalás éve": "2016",
                                    "Foglalások száma": "6"
                                },
                                {
                                    "Szoba száma": "109",
                                    "Foglalás éve": "2017",
                                    "Foglalások száma": "1"
                                },
                                {
                                    "Szoba száma": "109",
                                    "Foglalás éve": "Összesen",
                                    "Foglalások száma": "7"
                                },
                                {
                                    "Szoba száma": "110",
                                    "Foglalás éve": "2016",
                                    "Foglalások száma": "6"
                                },
                                {
                                    "Szoba száma": "110",
                                    "Foglalás éve": "2017",
                                    "Foglalások száma": "2"
                                },
                                {
                                    "Szoba száma": "110",
                                    "Foglalás éve": "Összesen",
                                    "Foglalások száma": "8"
                                },
                                {
                                    "Szoba száma": "111",
                                    "Foglalás éve": "2016",
                                    "Foglalások száma": "5"
                                },
                                {
                                    "Szoba száma": "111",
                                    "Foglalás éve": "Összesen",
                                    "Foglalások száma": "5"
                                },
                                {
                                    "Szoba száma": "112",
                                    "Foglalás éve": "2016",
                                    "Foglalások száma": "4"
                                },
                                {
                                    "Szoba száma": "112",
                                    "Foglalás éve": "2017",
                                    "Foglalások száma": "1"
                                },
                                {
                                    "Szoba száma": "112",
                                    "Foglalás éve": "Összesen",
                                    "Foglalások száma": "5"
                                },
                                {
                                    "Szoba száma": "113",
                                    "Foglalás éve": "2016",
                                    "Foglalások száma": "3"
                                },
                                {
                                    "Szoba száma": "113",
                                    "Foglalás éve": "2017",
                                    "Foglalások száma": "2"
                                },
                                {
                                    "Szoba száma": "113",
                                    "Foglalás éve": "Összesen",
                                    "Foglalások száma": "5"
                                },
                                {
                                    "Szoba száma": "114",
                                    "Foglalás éve": "2016",
                                    "Foglalások száma": "3"
                                },
                                {
                                    "Szoba száma": "114",
                                    "Foglalás éve": "2017",
                                    "Foglalások száma": "1"
                                },
                                {
                                    "Szoba száma": "114",
                                    "Foglalás éve": "Összesen",
                                    "Foglalások száma": "4"
                                },
                                {
                                    "Szoba száma": "115",
                                    "Foglalás éve": "2016",
                                    "Foglalások száma": "5"
                                },
                                {
                                    "Szoba száma": "115",
                                    "Foglalás éve": "2017",
                                    "Foglalások száma": "2"
                                },
                                {
                                    "Szoba száma": "115",
                                    "Foglalás éve": "Összesen",
                                    "Foglalások száma": "7"
                                },
                                {
                                    "Szoba száma": "116",
                                    "Foglalás éve": "2017",
                                    "Foglalások száma": "2"
                                },
                                {
                                    "Szoba száma": "116",
                                    "Foglalás éve": "Összesen",
                                    "Foglalások száma": "2"
                                },
                                {
                                    "Szoba száma": "117",
                                    "Foglalás éve": "2016",
                                    "Foglalások száma": "7"
                                },
                                {
                                    "Szoba száma": "117",
                                    "Foglalás éve": "2017",
                                    "Foglalások száma": "1"
                                },
                                {
                                    "Szoba száma": "117",
                                    "Foglalás éve": "Összesen",
                                    "Foglalások száma": "8"
                                },
                                {
                                    "Szoba száma": "118",
                                    "Foglalás éve": "2016",
                                    "Foglalások száma": "5"
                                },
                                {
                                    "Szoba száma": "118",
                                    "Foglalás éve": "2017",
                                    "Foglalások száma": "2"
                                },
                                {
                                    "Szoba száma": "118",
                                    "Foglalás éve": "Összesen",
                                    "Foglalások száma": "7"
                                },
                                {
                                    "Szoba száma": "119",
                                    "Foglalás éve": "2016",
                                    "Foglalások száma": "3"
                                },
                                {
                                    "Szoba száma": "119",
                                    "Foglalás éve": "2017",
                                    "Foglalások száma": "2"
                                },
                                {
                                    "Szoba száma": "119",
                                    "Foglalás éve": "Összesen",
                                    "Foglalások száma": "5"
                                },
                                {
                                    "Szoba száma": "120",
                                    "Foglalás éve": "2016",
                                    "Foglalások száma": "4"
                                },
                                {
                                    "Szoba száma": "120",
                                    "Foglalás éve": "2017",
                                    "Foglalások száma": "2"
                                },
                                {
                                    "Szoba száma": "120",
                                    "Foglalás éve": "Összesen",
                                    "Foglalások száma": "6"
                                },
                                {
                                    "Szoba száma": "121",
                                    "Foglalás éve": "2016",
                                    "Foglalások száma": "8"
                                },
                                {
                                    "Szoba száma": "121",
                                    "Foglalás éve": "Összesen",
                                    "Foglalások száma": "8"
                                },
                                {
                                    "Szoba száma": "122",
                                    "Foglalás éve": "2016",
                                    "Foglalások száma": "8"
                                },
                                {
                                    "Szoba száma": "122",
                                    "Foglalás éve": "2017",
                                    "Foglalások száma": "1"
                                },
                                {
                                    "Szoba száma": "122",
                                    "Foglalás éve": "Összesen",
                                    "Foglalások száma": "9"
                                },
                                {
                                    "Szoba száma": "123",
                                    "Foglalás éve": "2016",
                                    "Foglalások száma": "5"
                                },
                                {
                                    "Szoba száma": "123",
                                    "Foglalás éve": "Összesen",
                                    "Foglalások száma": "5"
                                },
                                {
                                    "Szoba száma": "124",
                                    "Foglalás éve": "2016",
                                    "Foglalások száma": "4"
                                },
                                {
                                    "Szoba száma": "124",
                                    "Foglalás éve": "2017",
                                    "Foglalások száma": "2"
                                },
                                {
                                    "Szoba száma": "124",
                                    "Foglalás éve": "Összesen",
                                    "Foglalások száma": "6"
                                },
                                {
                                    "Szoba száma": "125",
                                    "Foglalás éve": "2016",
                                    "Foglalások száma": "1"
                                },
                                {
                                    "Szoba száma": "125",
                                    "Foglalás éve": "Összesen",
                                    "Foglalások száma": "1"
                                },
                                {
                                    "Szoba száma": "126",
                                    "Foglalás éve": "2016",
                                    "Foglalások száma": "4"
                                },
                                {
                                    "Szoba száma": "126",
                                    "Foglalás éve": "2017",
                                    "Foglalások száma": "2"
                                },
                                {
                                    "Szoba száma": "126",
                                    "Foglalás éve": "Összesen",
                                    "Foglalások száma": "6"
                                },
                                {
                                    "Szoba száma": "127",
                                    "Foglalás éve": "2016",
                                    "Foglalások száma": "6"
                                },
                                {
                                    "Szoba száma": "127",
                                    "Foglalás éve": "2017",
                                    "Foglalások száma": "1"
                                },
                                {
                                    "Szoba száma": "127",
                                    "Foglalás éve": "Összesen",
                                    "Foglalások száma": "7"
                                },
                                {
                                    "Szoba száma": "128",
                                    "Foglalás éve": "2016",
                                    "Foglalások száma": "3"
                                },
                                {
                                    "Szoba száma": "128",
                                    "Foglalás éve": "2017",
                                    "Foglalások száma": "2"
                                },
                                {
                                    "Szoba száma": "128",
                                    "Foglalás éve": "Összesen",
                                    "Foglalások száma": "5"
                                },
                                {
                                    "Szoba száma": "129",
                                    "Foglalás éve": "2016",
                                    "Foglalások száma": "2"
                                },
                                {
                                    "Szoba száma": "129",
                                    "Foglalás éve": "2017",
                                    "Foglalások száma": "2"
                                },
                                {
                                    "Szoba száma": "129",
                                    "Foglalás éve": "Összesen",
                                    "Foglalások száma": "4"
                                },
                                {
                                    "Szoba száma": "130",
                                    "Foglalás éve": "2016",
                                    "Foglalások száma": "5"
                                },
                                {
                                    "Szoba száma": "130",
                                    "Foglalás éve": "2017",
                                    "Foglalások száma": "1"
                                },
                                {
                                    "Szoba száma": "130",
                                    "Foglalás éve": "Összesen",
                                    "Foglalások száma": "6"
                                },
                                {
                                    "Szoba száma": "131",
                                    "Foglalás éve": "2016",
                                    "Foglalások száma": "4"
                                },
                                {
                                    "Szoba száma": "131",
                                    "Foglalás éve": "2017",
                                    "Foglalások száma": "1"
                                },
                                {
                                    "Szoba száma": "131",
                                    "Foglalás éve": "Összesen",
                                    "Foglalások száma": "5"
                                },
                                {
                                    "Szoba száma": "132",
                                    "Foglalás éve": "2016",
                                    "Foglalások száma": "5"
                                },
                                {
                                    "Szoba száma": "132",
                                    "Foglalás éve": "2017",
                                    "Foglalások száma": "1"
                                },
                                {
                                    "Szoba száma": "132",
                                    "Foglalás éve": "Összesen",
                                    "Foglalások száma": "6"
                                },
                                {
                                    "Szoba száma": "133",
                                    "Foglalás éve": "2016",
                                    "Foglalások száma": "5"
                                },
                                {
                                    "Szoba száma": "133",
                                    "Foglalás éve": "2017",
                                    "Foglalások száma": "1"
                                },
                                {
                                    "Szoba száma": "133",
                                    "Foglalás éve": "Összesen",
                                    "Foglalások száma": "6"
                                },
                                {
                                    "Szoba száma": "134",
                                    "Foglalás éve": "2016",
                                    "Foglalások száma": "5"
                                },
                                {
                                    "Szoba száma": "134",
                                    "Foglalás éve": "2017",
                                    "Foglalások száma": "1"
                                },
                                {
                                    "Szoba száma": "134",
                                    "Foglalás éve": "Összesen",
                                    "Foglalások száma": "6"
                                },
                                {
                                    "Szoba száma": "135",
                                    "Foglalás éve": "2016",
                                    "Foglalások száma": "3"
                                },
                                {
                                    "Szoba száma": "135",
                                    "Foglalás éve": "Összesen",
                                    "Foglalások száma": "3"
                                },
                                {
                                    "Szoba száma": "136",
                                    "Foglalás éve": "2016",
                                    "Foglalások száma": "3"
                                },
                                {
                                    "Szoba száma": "136",
                                    "Foglalás éve": "Összesen",
                                    "Foglalások száma": "3"
                                },
                                {
                                    "Szoba száma": "137",
                                    "Foglalás éve": "2016",
                                    "Foglalások száma": "6"
                                },
                                {
                                    "Szoba száma": "137",
                                    "Foglalás éve": "Összesen",
                                    "Foglalások száma": "6"
                                },
                                {
                                    "Szoba száma": "138",
                                    "Foglalás éve": "2016",
                                    "Foglalások száma": "7"
                                },
                                {
                                    "Szoba száma": "138",
                                    "Foglalás éve": "Összesen",
                                    "Foglalások száma": "7"
                                },
                                {
                                    "Szoba száma": "139",
                                    "Foglalás éve": "2016",
                                    "Foglalások száma": "5"
                                },
                                {
                                    "Szoba száma": "139",
                                    "Foglalás éve": "2017",
                                    "Foglalások száma": "2"
                                },
                                {
                                    "Szoba száma": "139",
                                    "Foglalás éve": "Összesen",
                                    "Foglalások száma": "7"
                                },
                                {
                                    "Szoba száma": "140",
                                    "Foglalás éve": "2016",
                                    "Foglalások száma": "8"
                                },
                                {
                                    "Szoba száma": "140",
                                    "Foglalás éve": "Összesen",
                                    "Foglalások száma": "8"
                                },
                                {
                                    "Szoba száma": "141",
                                    "Foglalás éve": "2016",
                                    "Foglalások száma": "6"
                                },
                                {
                                    "Szoba száma": "141",
                                    "Foglalás éve": "Összesen",
                                    "Foglalások száma": "6"
                                },
                                {
                                    "Szoba száma": "142",
                                    "Foglalás éve": "2016",
                                    "Foglalások száma": "1"
                                },
                                {
                                    "Szoba száma": "142",
                                    "Foglalás éve": "2017",
                                    "Foglalások száma": "1"
                                },
                                {
                                    "Szoba száma": "142",
                                    "Foglalás éve": "Összesen",
                                    "Foglalások száma": "2"
                                },
                                {
                                    "Szoba száma": "143",
                                    "Foglalás éve": "2016",
                                    "Foglalások száma": "6"
                                },
                                {
                                    "Szoba száma": "143",
                                    "Foglalás éve": "2017",
                                    "Foglalások száma": "1"
                                },
                                {
                                    "Szoba száma": "143",
                                    "Foglalás éve": "Összesen",
                                    "Foglalások száma": "7"
                                },
                                {
                                    "Szoba száma": "144",
                                    "Foglalás éve": "2016",
                                    "Foglalások száma": "4"
                                },
                                {
                                    "Szoba száma": "144",
                                    "Foglalás éve": "2017",
                                    "Foglalások száma": "1"
                                },
                                {
                                    "Szoba száma": "144",
                                    "Foglalás éve": "Összesen",
                                    "Foglalások száma": "5"
                                },
                                {
                                    "Szoba száma": "145",
                                    "Foglalás éve": "2016",
                                    "Foglalások száma": "5"
                                },
                                {
                                    "Szoba száma": "145",
                                    "Foglalás éve": "2017",
                                    "Foglalások száma": "1"
                                },
                                {
                                    "Szoba száma": "145",
                                    "Foglalás éve": "Összesen",
                                    "Foglalások száma": "6"
                                },
                                {
                                    "Szoba száma": "146",
                                    "Foglalás éve": "2016",
                                    "Foglalások száma": "5"
                                },
                                {
                                    "Szoba száma": "146",
                                    "Foglalás éve": "2017",
                                    "Foglalások száma": "1"
                                },
                                {
                                    "Szoba száma": "146",
                                    "Foglalás éve": "Összesen",
                                    "Foglalások száma": "6"
                                },
                                {
                                    "Szoba száma": "147",
                                    "Foglalás éve": "2016",
                                    "Foglalások száma": "1"
                                },
                                {
                                    "Szoba száma": "147",
                                    "Foglalás éve": "Összesen",
                                    "Foglalások száma": "1"
                                },
                                {
                                    "Szoba száma": "148",
                                    "Foglalás éve": "2016",
                                    "Foglalások száma": "5"
                                },
                                {
                                    "Szoba száma": "148",
                                    "Foglalás éve": "2017",
                                    "Foglalások száma": "1"
                                },
                                {
                                    "Szoba száma": "148",
                                    "Foglalás éve": "Összesen",
                                    "Foglalások száma": "6"
                                },
                                {
                                    "Szoba száma": "149",
                                    "Foglalás éve": "2016",
                                    "Foglalások száma": "6"
                                },
                                {
                                    "Szoba száma": "149",
                                    "Foglalás éve": "2017",
                                    "Foglalások száma": "1"
                                },
                                {
                                    "Szoba száma": "149",
                                    "Foglalás éve": "Összesen",
                                    "Foglalások száma": "7"
                                },
                                {
                                    "Szoba száma": "150",
                                    "Foglalás éve": "2016",
                                    "Foglalások száma": "5"
                                },
                                {
                                    "Szoba száma": "150",
                                    "Foglalás éve": "2017",
                                    "Foglalások száma": "1"
                                },
                                {
                                    "Szoba száma": "150",
                                    "Foglalás éve": "Összesen",
                                    "Foglalások száma": "6"
                                },
                                {
                                    "Szoba száma": "151",
                                    "Foglalás éve": "2016",
                                    "Foglalások száma": "3"
                                },
                                {
                                    "Szoba száma": "151",
                                    "Foglalás éve": "Összesen",
                                    "Foglalások száma": "3"
                                },
                                {
                                    "Szoba száma": "152",
                                    "Foglalás éve": "2016",
                                    "Foglalások száma": "3"
                                },
                                {
                                    "Szoba száma": "152",
                                    "Foglalás éve": "2017",
                                    "Foglalások száma": "1"
                                },
                                {
                                    "Szoba száma": "152",
                                    "Foglalás éve": "Összesen",
                                    "Foglalások száma": "4"
                                },
                                {
                                    "Szoba száma": "153",
                                    "Foglalás éve": "2016",
                                    "Foglalások száma": "2"
                                },
                                {
                                    "Szoba száma": "153",
                                    "Foglalás éve": "2017",
                                    "Foglalások száma": "3"
                                },
                                {
                                    "Szoba száma": "153",
                                    "Foglalás éve": "Összesen",
                                    "Foglalások száma": "5"
                                },
                                {
                                    "Szoba száma": "154",
                                    "Foglalás éve": "2016",
                                    "Foglalások száma": "4"
                                },
                                {
                                    "Szoba száma": "154",
                                    "Foglalás éve": "2017",
                                    "Foglalások száma": "1"
                                },
                                {
                                    "Szoba száma": "154",
                                    "Foglalás éve": "Összesen",
                                    "Foglalások száma": "5"
                                },
                                {
                                    "Szoba száma": "155",
                                    "Foglalás éve": "2016",
                                    "Foglalások száma": "4"
                                },
                                {
                                    "Szoba száma": "155",
                                    "Foglalás éve": "2017",
                                    "Foglalások száma": "1"
                                },
                                {
                                    "Szoba száma": "155",
                                    "Foglalás éve": "Összesen",
                                    "Foglalások száma": "5"
                                },
                                {
                                    "Szoba száma": "156",
                                    "Foglalás éve": "2016",
                                    "Foglalások száma": "4"
                                },
                                {
                                    "Szoba száma": "156",
                                    "Foglalás éve": "2017",
                                    "Foglalások száma": "3"
                                },
                                {
                                    "Szoba száma": "156",
                                    "Foglalás éve": "Összesen",
                                    "Foglalások száma": "7"
                                },
                                {
                                    "Szoba száma": "157",
                                    "Foglalás éve": "2016",
                                    "Foglalások száma": "4"
                                },
                                {
                                    "Szoba száma": "157",
                                    "Foglalás éve": "2017",
                                    "Foglalások száma": "1"
                                },
                                {
                                    "Szoba száma": "157",
                                    "Foglalás éve": "Összesen",
                                    "Foglalások száma": "5"
                                },
                                {
                                    "Szoba száma": "158",
                                    "Foglalás éve": "2016",
                                    "Foglalások száma": "3"
                                },
                                {
                                    "Szoba száma": "158",
                                    "Foglalás éve": "Összesen",
                                    "Foglalások száma": "3"
                                },
                                {
                                    "Szoba száma": "160",
                                    "Foglalás éve": "2016",
                                    "Foglalások száma": "4"
                                },
                                {
                                    "Szoba száma": "160",
                                    "Foglalás éve": "2017",
                                    "Foglalások száma": "1"
                                },
                                {
                                    "Szoba száma": "160",
                                    "Foglalás éve": "Összesen",
                                    "Foglalások száma": "5"
                                },
                                {
                                    "Szoba száma": "161",
                                    "Foglalás éve": "2016",
                                    "Foglalások száma": "5"
                                },
                                {
                                    "Szoba száma": "161",
                                    "Foglalás éve": "2017",
                                    "Foglalások száma": "1"
                                },
                                {
                                    "Szoba száma": "161",
                                    "Foglalás éve": "Összesen",
                                    "Foglalások száma": "6"
                                },
                                {
                                    "Szoba száma": "162",
                                    "Foglalás éve": "2016",
                                    "Foglalások száma": "3"
                                },
                                {
                                    "Szoba száma": "162",
                                    "Foglalás éve": "Összesen",
                                    "Foglalások száma": "3"
                                },
                                {
                                    "Szoba száma": "163",
                                    "Foglalás éve": "2016",
                                    "Foglalások száma": "6"
                                },
                                {
                                    "Szoba száma": "163",
                                    "Foglalás éve": "2017",
                                    "Foglalások száma": "1"
                                },
                                {
                                    "Szoba száma": "163",
                                    "Foglalás éve": "Összesen",
                                    "Foglalások száma": "7"
                                },
                                {
                                    "Szoba száma": "164",
                                    "Foglalás éve": "2016",
                                    "Foglalások száma": "5"
                                },
                                {
                                    "Szoba száma": "164",
                                    "Foglalás éve": "Összesen",
                                    "Foglalások száma": "5"
                                },
                                {
                                    "Szoba száma": "165",
                                    "Foglalás éve": "2016",
                                    "Foglalások száma": "7"
                                },
                                {
                                    "Szoba száma": "165",
                                    "Foglalás éve": "Összesen",
                                    "Foglalások száma": "7"
                                },
                                {
                                    "Szoba száma": "166",
                                    "Foglalás éve": "2016",
                                    "Foglalások száma": "2"
                                },
                                {
                                    "Szoba száma": "166",
                                    "Foglalás éve": "2017",
                                    "Foglalások száma": "1"
                                },
                                {
                                    "Szoba száma": "166",
                                    "Foglalás éve": "Összesen",
                                    "Foglalások száma": "3"
                                },
                                {
                                    "Szoba száma": "167",
                                    "Foglalás éve": "2016",
                                    "Foglalások száma": "1"
                                },
                                {
                                    "Szoba száma": "167",
                                    "Foglalás éve": "2017",
                                    "Foglalások száma": "1"
                                },
                                {
                                    "Szoba száma": "167",
                                    "Foglalás éve": "Összesen",
                                    "Foglalások száma": "2"
                                },
                                {
                                    "Szoba száma": "168",
                                    "Foglalás éve": "2016",
                                    "Foglalások száma": "5"
                                },
                                {
                                    "Szoba száma": "168",
                                    "Foglalás éve": "Összesen",
                                    "Foglalások száma": "5"
                                },
                                {
                                    "Szoba száma": "169",
                                    "Foglalás éve": "2016",
                                    "Foglalások száma": "5"
                                },
                                {
                                    "Szoba száma": "169",
                                    "Foglalás éve": "2017",
                                    "Foglalások száma": "1"
                                },
                                {
                                    "Szoba száma": "169",
                                    "Foglalás éve": "Összesen",
                                    "Foglalások száma": "6"
                                },
                                {
                                    "Szoba száma": "170",
                                    "Foglalás éve": "2016",
                                    "Foglalások száma": "5"
                                },
                                {
                                    "Szoba száma": "170",
                                    "Foglalás éve": "Összesen",
                                    "Foglalások száma": "5"
                                },
                                {
                                    "Szoba száma": "171",
                                    "Foglalás éve": "2016",
                                    "Foglalások száma": "4"
                                },
                                {
                                    "Szoba száma": "171",
                                    "Foglalás éve": "2017",
                                    "Foglalások száma": "1"
                                },
                                {
                                    "Szoba száma": "171",
                                    "Foglalás éve": "Összesen",
                                    "Foglalások száma": "5"
                                },
                                {
                                    "Szoba száma": "172",
                                    "Foglalás éve": "2016",
                                    "Foglalások száma": "7"
                                },
                                {
                                    "Szoba száma": "172",
                                    "Foglalás éve": "2017",
                                    "Foglalások száma": "2"
                                },
                                {
                                    "Szoba száma": "172",
                                    "Foglalás éve": "Összesen",
                                    "Foglalások száma": "9"
                                },
                                {
                                    "Szoba száma": "173",
                                    "Foglalás éve": "2016",
                                    "Foglalások száma": "3"
                                },
                                {
                                    "Szoba száma": "173",
                                    "Foglalás éve": "2017",
                                    "Foglalások száma": "1"
                                },
                                {
                                    "Szoba száma": "173",
                                    "Foglalás éve": "Összesen",
                                    "Foglalások száma": "4"
                                },
                                {
                                    "Szoba száma": "174",
                                    "Foglalás éve": "2016",
                                    "Foglalások száma": "4"
                                },
                                {
                                    "Szoba száma": "174",
                                    "Foglalás éve": "Összesen",
                                    "Foglalások száma": "4"
                                },
                                {
                                    "Szoba száma": "175",
                                    "Foglalás éve": "2016",
                                    "Foglalások száma": "5"
                                },
                                {
                                    "Szoba száma": "175",
                                    "Foglalás éve": "Összesen",
                                    "Foglalások száma": "5"
                                },
                                {
                                    "Szoba száma": "176",
                                    "Foglalás éve": "2016",
                                    "Foglalások száma": "4"
                                },
                                {
                                    "Szoba száma": "176",
                                    "Foglalás éve": "2017",
                                    "Foglalások száma": "2"
                                },
                                {
                                    "Szoba száma": "176",
                                    "Foglalás éve": "Összesen",
                                    "Foglalások száma": "6"
                                },
                                {
                                    "Szoba száma": "177",
                                    "Foglalás éve": "2016",
                                    "Foglalások száma": "3"
                                },
                                {
                                    "Szoba száma": "177",
                                    "Foglalás éve": "2017",
                                    "Foglalások száma": "1"
                                },
                                {
                                    "Szoba száma": "177",
                                    "Foglalás éve": "Összesen",
                                    "Foglalások száma": "4"
                                },
                                {
                                    "Szoba száma": "178",
                                    "Foglalás éve": "2016",
                                    "Foglalások száma": "4"
                                },
                                {
                                    "Szoba száma": "178",
                                    "Foglalás éve": "Összesen",
                                    "Foglalások száma": "4"
                                },
                                {
                                    "Szoba száma": "179",
                                    "Foglalás éve": "2016",
                                    "Foglalások száma": "2"
                                },
                                {
                                    "Szoba száma": "179",
                                    "Foglalás éve": "2017",
                                    "Foglalások száma": "1"
                                },
                                {
                                    "Szoba száma": "179",
                                    "Foglalás éve": "Összesen",
                                    "Foglalások száma": "3"
                                },
                                {
                                    "Szoba száma": "180",
                                    "Foglalás éve": "2016",
                                    "Foglalások száma": "1"
                                },
                                {
                                    "Szoba száma": "180",
                                    "Foglalás éve": "2017",
                                    "Foglalások száma": "2"
                                },
                                {
                                    "Szoba száma": "180",
                                    "Foglalás éve": "Összesen",
                                    "Foglalások száma": "3"
                                },
                                {
                                    "Szoba száma": "181",
                                    "Foglalás éve": "2016",
                                    "Foglalások száma": "6"
                                },
                                {
                                    "Szoba száma": "181",
                                    "Foglalás éve": "Összesen",
                                    "Foglalások száma": "6"
                                },
                                {
                                    "Szoba száma": "182",
                                    "Foglalás éve": "2016",
                                    "Foglalások száma": "10"
                                },
                                {
                                    "Szoba száma": "182",
                                    "Foglalás éve": "2017",
                                    "Foglalások száma": "2"
                                },
                                {
                                    "Szoba száma": "182",
                                    "Foglalás éve": "Összesen",
                                    "Foglalások száma": "12"
                                },
                                {
                                    "Szoba száma": "183",
                                    "Foglalás éve": "2016",
                                    "Foglalások száma": "3"
                                },
                                {
                                    "Szoba száma": "183",
                                    "Foglalás éve": "2017",
                                    "Foglalások száma": "1"
                                },
                                {
                                    "Szoba száma": "183",
                                    "Foglalás éve": "Összesen",
                                    "Foglalások száma": "4"
                                },
                                {
                                    "Szoba száma": "184",
                                    "Foglalás éve": "2016",
                                    "Foglalások száma": "4"
                                },
                                {
                                    "Szoba száma": "184",
                                    "Foglalás éve": "Összesen",
                                    "Foglalások száma": "4"
                                },
                                {
                                    "Szoba száma": "185",
                                    "Foglalás éve": "2016",
                                    "Foglalások száma": "10"
                                },
                                {
                                    "Szoba száma": "185",
                                    "Foglalás éve": "2017",
                                    "Foglalások száma": "2"
                                },
                                {
                                    "Szoba száma": "185",
                                    "Foglalás éve": "Összesen",
                                    "Foglalások száma": "12"
                                },
                                {
                                    "Szoba száma": "186",
                                    "Foglalás éve": "2016",
                                    "Foglalások száma": "3"
                                },
                                {
                                    "Szoba száma": "186",
                                    "Foglalás éve": "2017",
                                    "Foglalások száma": "1"
                                },
                                {
                                    "Szoba száma": "186",
                                    "Foglalás éve": "Összesen",
                                    "Foglalások száma": "4"
                                },
                                {
                                    "Szoba száma": "187",
                                    "Foglalás éve": "2016",
                                    "Foglalások száma": "7"
                                },
                                {
                                    "Szoba száma": "187",
                                    "Foglalás éve": "Összesen",
                                    "Foglalások száma": "7"
                                },
                                {
                                    "Szoba száma": "188",
                                    "Foglalás éve": "2016",
                                    "Foglalások száma": "6"
                                },
                                {
                                    "Szoba száma": "188",
                                    "Foglalás éve": "Összesen",
                                    "Foglalások száma": "6"
                                },
                                {
                                    "Szoba száma": "189",
                                    "Foglalás éve": "2016",
                                    "Foglalások száma": "3"
                                },
                                {
                                    "Szoba száma": "189",
                                    "Foglalás éve": "2017",
                                    "Foglalások száma": "2"
                                },
                                {
                                    "Szoba száma": "189",
                                    "Foglalás éve": "Összesen",
                                    "Foglalások száma": "5"
                                },
                                {
                                    "Szoba száma": "190",
                                    "Foglalás éve": "2016",
                                    "Foglalások száma": "4"
                                },
                                {
                                    "Szoba száma": "190",
                                    "Foglalás éve": "2017",
                                    "Foglalások száma": "1"
                                },
                                {
                                    "Szoba száma": "190",
                                    "Foglalás éve": "Összesen",
                                    "Foglalások száma": "5"
                                },
                                {
                                    "Szoba száma": "191",
                                    "Foglalás éve": "2016",
                                    "Foglalások száma": "3"
                                },
                                {
                                    "Szoba száma": "191",
                                    "Foglalás éve": "2017",
                                    "Foglalások száma": "2"
                                },
                                {
                                    "Szoba száma": "191",
                                    "Foglalás éve": "Összesen",
                                    "Foglalások száma": "5"
                                },
                                {
                                    "Szoba száma": "192",
                                    "Foglalás éve": "2016",
                                    "Foglalások száma": "2"
                                },
                                {
                                    "Szoba száma": "192",
                                    "Foglalás éve": "Összesen",
                                    "Foglalások száma": "2"
                                },
                                {
                                    "Szoba száma": "193",
                                    "Foglalás éve": "2016",
                                    "Foglalások száma": "7"
                                },
                                {
                                    "Szoba száma": "193",
                                    "Foglalás éve": "Összesen",
                                    "Foglalások száma": "7"
                                },
                                {
                                    "Szoba száma": "194",
                                    "Foglalás éve": "2016",
                                    "Foglalások száma": "1"
                                },
                                {
                                    "Szoba száma": "194",
                                    "Foglalás éve": "Összesen",
                                    "Foglalások száma": "1"
                                },
                                {
                                    "Szoba száma": "195",
                                    "Foglalás éve": "2016",
                                    "Foglalások száma": "4"
                                },
                                {
                                    "Szoba száma": "195",
                                    "Foglalás éve": "2017",
                                    "Foglalások száma": "2"
                                },
                                {
                                    "Szoba száma": "195",
                                    "Foglalás éve": "Összesen",
                                    "Foglalások száma": "6"
                                },
                                {
                                    "Szoba száma": "196",
                                    "Foglalás éve": "2016",
                                    "Foglalások száma": "4"
                                },
                                {
                                    "Szoba száma": "196",
                                    "Foglalás éve": "Összesen",
                                    "Foglalások száma": "4"
                                },
                                {
                                    "Szoba száma": "197",
                                    "Foglalás éve": "2016",
                                    "Foglalások száma": "6"
                                },
                                {
                                    "Szoba száma": "197",
                                    "Foglalás éve": "Összesen",
                                    "Foglalások száma": "6"
                                },
                                {
                                    "Szoba száma": "198",
                                    "Foglalás éve": "2016",
                                    "Foglalások száma": "7"
                                },
                                {
                                    "Szoba száma": "198",
                                    "Foglalás éve": "2017",
                                    "Foglalások száma": "1"
                                },
                                {
                                    "Szoba száma": "198",
                                    "Foglalás éve": "Összesen",
                                    "Foglalások száma": "8"
                                }
                            ]
                        },
                        "text/html": [
                            "<table>",
                            "<tr><th>Szoba száma</th><th>Foglalás éve</th><th>Foglalások száma</th></tr>",
                            "<tr><td>1</td><td>2016</td><td>8</td></tr>",
                            "<tr><td>1</td><td>Összesen</td><td>8</td></tr>",
                            "<tr><td>2</td><td>2016</td><td>4</td></tr>",
                            "<tr><td>2</td><td>Összesen</td><td>4</td></tr>",
                            "<tr><td>3</td><td>2016</td><td>6</td></tr>",
                            "<tr><td>3</td><td>2017</td><td>2</td></tr>",
                            "<tr><td>3</td><td>Összesen</td><td>8</td></tr>",
                            "<tr><td>4</td><td>2016</td><td>5</td></tr>",
                            "<tr><td>4</td><td>2017</td><td>1</td></tr>",
                            "<tr><td>4</td><td>Összesen</td><td>6</td></tr>",
                            "<tr><td>5</td><td>2016</td><td>4</td></tr>",
                            "<tr><td>5</td><td>Összesen</td><td>4</td></tr>",
                            "<tr><td>6</td><td>2016</td><td>6</td></tr>",
                            "<tr><td>6</td><td>Összesen</td><td>6</td></tr>",
                            "<tr><td>7</td><td>2016</td><td>6</td></tr>",
                            "<tr><td>7</td><td>Összesen</td><td>6</td></tr>",
                            "<tr><td>8</td><td>2016</td><td>5</td></tr>",
                            "<tr><td>8</td><td>Összesen</td><td>5</td></tr>",
                            "<tr><td>9</td><td>2016</td><td>4</td></tr>",
                            "<tr><td>9</td><td>2017</td><td>2</td></tr>",
                            "<tr><td>9</td><td>Összesen</td><td>6</td></tr>",
                            "<tr><td>10</td><td>2016</td><td>4</td></tr>",
                            "<tr><td>10</td><td>Összesen</td><td>4</td></tr>",
                            "<tr><td>11</td><td>2016</td><td>3</td></tr>",
                            "<tr><td>11</td><td>2017</td><td>1</td></tr>",
                            "<tr><td>11</td><td>Összesen</td><td>4</td></tr>",
                            "<tr><td>12</td><td>2016</td><td>8</td></tr>",
                            "<tr><td>12</td><td>2017</td><td>1</td></tr>",
                            "<tr><td>12</td><td>Összesen</td><td>9</td></tr>",
                            "<tr><td>13</td><td>2016</td><td>3</td></tr>",
                            "<tr><td>13</td><td>2017</td><td>1</td></tr>",
                            "<tr><td>13</td><td>Összesen</td><td>4</td></tr>",
                            "<tr><td>14</td><td>2016</td><td>2</td></tr>",
                            "<tr><td>14</td><td>2017</td><td>1</td></tr>",
                            "<tr><td>14</td><td>Összesen</td><td>3</td></tr>",
                            "<tr><td>15</td><td>2016</td><td>4</td></tr>",
                            "<tr><td>15</td><td>2017</td><td>2</td></tr>",
                            "<tr><td>15</td><td>Összesen</td><td>6</td></tr>",
                            "<tr><td>16</td><td>2016</td><td>4</td></tr>",
                            "<tr><td>16</td><td>2017</td><td>1</td></tr>",
                            "<tr><td>16</td><td>Összesen</td><td>5</td></tr>",
                            "<tr><td>17</td><td>2016</td><td>5</td></tr>",
                            "<tr><td>17</td><td>2017</td><td>1</td></tr>",
                            "<tr><td>17</td><td>Összesen</td><td>6</td></tr>",
                            "<tr><td>18</td><td>2016</td><td>5</td></tr>",
                            "<tr><td>18</td><td>2017</td><td>1</td></tr>",
                            "<tr><td>18</td><td>Összesen</td><td>6</td></tr>",
                            "<tr><td>19</td><td>2016</td><td>5</td></tr>",
                            "<tr><td>19</td><td>2017</td><td>1</td></tr>",
                            "<tr><td>19</td><td>Összesen</td><td>6</td></tr>",
                            "<tr><td>20</td><td>2016</td><td>5</td></tr>",
                            "<tr><td>20</td><td>Összesen</td><td>5</td></tr>",
                            "<tr><td>21</td><td>2016</td><td>4</td></tr>",
                            "<tr><td>21</td><td>Összesen</td><td>4</td></tr>",
                            "<tr><td>22</td><td>2016</td><td>6</td></tr>",
                            "<tr><td>22</td><td>Összesen</td><td>6</td></tr>",
                            "<tr><td>23</td><td>2016</td><td>3</td></tr>",
                            "<tr><td>23</td><td>Összesen</td><td>3</td></tr>",
                            "<tr><td>24</td><td>2016</td><td>2</td></tr>",
                            "<tr><td>24</td><td>2017</td><td>1</td></tr>",
                            "<tr><td>24</td><td>Összesen</td><td>3</td></tr>",
                            "<tr><td>25</td><td>2016</td><td>2</td></tr>",
                            "<tr><td>25</td><td>Összesen</td><td>2</td></tr>",
                            "<tr><td>26</td><td>2016</td><td>2</td></tr>",
                            "<tr><td>26</td><td>Összesen</td><td>2</td></tr>",
                            "<tr><td>27</td><td>2016</td><td>6</td></tr>",
                            "<tr><td>27</td><td>2017</td><td>1</td></tr>",
                            "<tr><td>27</td><td>Összesen</td><td>7</td></tr>",
                            "<tr><td>28</td><td>2016</td><td>5</td></tr>",
                            "<tr><td>28</td><td>2017</td><td>1</td></tr>",
                            "<tr><td>28</td><td>Összesen</td><td>6</td></tr>",
                            "<tr><td>29</td><td>2016</td><td>5</td></tr>",
                            "<tr><td>29</td><td>2017</td><td>1</td></tr>",
                            "<tr><td>29</td><td>Összesen</td><td>6</td></tr>",
                            "<tr><td>30</td><td>2016</td><td>3</td></tr>",
                            "<tr><td>30</td><td>Összesen</td><td>3</td></tr>",
                            "<tr><td>31</td><td>2016</td><td>3</td></tr>",
                            "<tr><td>31</td><td>Összesen</td><td>3</td></tr>",
                            "<tr><td>32</td><td>2016</td><td>1</td></tr>",
                            "<tr><td>32</td><td>Összesen</td><td>1</td></tr>",
                            "<tr><td>33</td><td>2016</td><td>6</td></tr>",
                            "<tr><td>33</td><td>Összesen</td><td>6</td></tr>",
                            "<tr><td>34</td><td>2016</td><td>4</td></tr>",
                            "<tr><td>34</td><td>Összesen</td><td>4</td></tr>",
                            "<tr><td>35</td><td>2016</td><td>6</td></tr>",
                            "<tr><td>35</td><td>2017</td><td>3</td></tr>",
                            "<tr><td>35</td><td>Összesen</td><td>9</td></tr>",
                            "<tr><td>36</td><td>2016</td><td>6</td></tr>",
                            "<tr><td>36</td><td>Összesen</td><td>6</td></tr>",
                            "<tr><td>37</td><td>2016</td><td>3</td></tr>",
                            "<tr><td>37</td><td>Összesen</td><td>3</td></tr>",
                            "<tr><td>38</td><td>2016</td><td>5</td></tr>",
                            "<tr><td>38</td><td>2017</td><td>3</td></tr>",
                            "<tr><td>38</td><td>Összesen</td><td>8</td></tr>",
                            "<tr><td>39</td><td>2016</td><td>4</td></tr>",
                            "<tr><td>39</td><td>2017</td><td>3</td></tr>",
                            "<tr><td>39</td><td>Összesen</td><td>7</td></tr>",
                            "<tr><td>40</td><td>2016</td><td>4</td></tr>",
                            "<tr><td>40</td><td>Összesen</td><td>4</td></tr>",
                            "<tr><td>41</td><td>2016</td><td>2</td></tr>",
                            "<tr><td>41</td><td>Összesen</td><td>2</td></tr>",
                            "<tr><td>42</td><td>2016</td><td>5</td></tr>",
                            "<tr><td>42</td><td>2017</td><td>1</td></tr>",
                            "<tr><td>42</td><td>Összesen</td><td>6</td></tr>",
                            "<tr><td>43</td><td>2016</td><td>6</td></tr>",
                            "<tr><td>43</td><td>2017</td><td>2</td></tr>",
                            "<tr><td>43</td><td>Összesen</td><td>8</td></tr>",
                            "<tr><td>44</td><td>2016</td><td>4</td></tr>",
                            "<tr><td>44</td><td>2017</td><td>2</td></tr>",
                            "<tr><td>44</td><td>Összesen</td><td>6</td></tr>",
                            "<tr><td>45</td><td>2016</td><td>5</td></tr>",
                            "<tr><td>45</td><td>Összesen</td><td>5</td></tr>",
                            "<tr><td>46</td><td>2016</td><td>3</td></tr>",
                            "<tr><td>46</td><td>2017</td><td>1</td></tr>",
                            "<tr><td>46</td><td>Összesen</td><td>4</td></tr>",
                            "<tr><td>47</td><td>2016</td><td>2</td></tr>",
                            "<tr><td>47</td><td>Összesen</td><td>2</td></tr>",
                            "<tr><td>48</td><td>2016</td><td>6</td></tr>",
                            "<tr><td>48</td><td>2017</td><td>3</td></tr>",
                            "<tr><td>48</td><td>Összesen</td><td>9</td></tr>",
                            "<tr><td>49</td><td>2016</td><td>6</td></tr>",
                            "<tr><td>49</td><td>2017</td><td>1</td></tr>",
                            "<tr><td>49</td><td>Összesen</td><td>7</td></tr>",
                            "<tr><td>50</td><td>2016</td><td>4</td></tr>",
                            "<tr><td>50</td><td>Összesen</td><td>4</td></tr>",
                            "<tr><td>51</td><td>2016</td><td>3</td></tr>",
                            "<tr><td>51</td><td>2017</td><td>2</td></tr>",
                            "<tr><td>51</td><td>Összesen</td><td>5</td></tr>",
                            "<tr><td>52</td><td>2016</td><td>3</td></tr>",
                            "<tr><td>52</td><td>2017</td><td>2</td></tr>",
                            "<tr><td>52</td><td>Összesen</td><td>5</td></tr>",
                            "<tr><td>53</td><td>2016</td><td>2</td></tr>",
                            "<tr><td>53</td><td>Összesen</td><td>2</td></tr>",
                            "<tr><td>54</td><td>2016</td><td>6</td></tr>",
                            "<tr><td>54</td><td>Összesen</td><td>6</td></tr>",
                            "<tr><td>55</td><td>2016</td><td>6</td></tr>",
                            "<tr><td>55</td><td>2017</td><td>2</td></tr>",
                            "<tr><td>55</td><td>Összesen</td><td>8</td></tr>",
                            "<tr><td>56</td><td>2016</td><td>2</td></tr>",
                            "<tr><td>56</td><td>Összesen</td><td>2</td></tr>",
                            "<tr><td>57</td><td>2016</td><td>2</td></tr>",
                            "<tr><td>57</td><td>2017</td><td>2</td></tr>",
                            "<tr><td>57</td><td>Összesen</td><td>4</td></tr>",
                            "<tr><td>58</td><td>2016</td><td>12</td></tr>",
                            "<tr><td>58</td><td>2017</td><td>1</td></tr>",
                            "<tr><td>58</td><td>Összesen</td><td>13</td></tr>",
                            "<tr><td>59</td><td>2016</td><td>6</td></tr>",
                            "<tr><td>59</td><td>2017</td><td>1</td></tr>",
                            "<tr><td>59</td><td>Összesen</td><td>7</td></tr>",
                            "<tr><td>60</td><td>2016</td><td>1</td></tr>",
                            "<tr><td>60</td><td>Összesen</td><td>1</td></tr>",
                            "<tr><td>61</td><td>2016</td><td>4</td></tr>",
                            "<tr><td>61</td><td>2017</td><td>1</td></tr>",
                            "<tr><td>61</td><td>Összesen</td><td>5</td></tr>",
                            "<tr><td>62</td><td>2016</td><td>4</td></tr>",
                            "<tr><td>62</td><td>2017</td><td>1</td></tr>",
                            "<tr><td>62</td><td>Összesen</td><td>5</td></tr>",
                            "<tr><td>63</td><td>2016</td><td>4</td></tr>",
                            "<tr><td>63</td><td>Összesen</td><td>4</td></tr>",
                            "<tr><td>64</td><td>2016</td><td>3</td></tr>",
                            "<tr><td>64</td><td>2017</td><td>3</td></tr>",
                            "<tr><td>64</td><td>Összesen</td><td>6</td></tr>",
                            "<tr><td>65</td><td>2016</td><td>1</td></tr>",
                            "<tr><td>65</td><td>Összesen</td><td>1</td></tr>",
                            "<tr><td>66</td><td>2016</td><td>4</td></tr>",
                            "<tr><td>66</td><td>Összesen</td><td>4</td></tr>",
                            "<tr><td>67</td><td>2016</td><td>4</td></tr>",
                            "<tr><td>67</td><td>2017</td><td>2</td></tr>",
                            "<tr><td>67</td><td>Összesen</td><td>6</td></tr>",
                            "<tr><td>68</td><td>2016</td><td>3</td></tr>",
                            "<tr><td>68</td><td>Összesen</td><td>3</td></tr>",
                            "<tr><td>69</td><td>2016</td><td>4</td></tr>",
                            "<tr><td>69</td><td>Összesen</td><td>4</td></tr>",
                            "<tr><td>70</td><td>2016</td><td>10</td></tr>",
                            "<tr><td>70</td><td>2017</td><td>1</td></tr>",
                            "<tr><td>70</td><td>Összesen</td><td>11</td></tr>",
                            "<tr><td>71</td><td>2016</td><td>3</td></tr>",
                            "<tr><td>71</td><td>Összesen</td><td>3</td></tr>",
                            "<tr><td>72</td><td>2016</td><td>4</td></tr>",
                            "<tr><td>72</td><td>Összesen</td><td>4</td></tr>",
                            "<tr><td>73</td><td>2016</td><td>4</td></tr>",
                            "<tr><td>73</td><td>Összesen</td><td>4</td></tr>",
                            "<tr><td>74</td><td>2016</td><td>9</td></tr>",
                            "<tr><td>74</td><td>Összesen</td><td>9</td></tr>",
                            "<tr><td>75</td><td>2016</td><td>1</td></tr>",
                            "<tr><td>75</td><td>2017</td><td>2</td></tr>",
                            "<tr><td>75</td><td>Összesen</td><td>3</td></tr>",
                            "<tr><td>76</td><td>2016</td><td>2</td></tr>",
                            "<tr><td>76</td><td>2017</td><td>1</td></tr>",
                            "<tr><td>76</td><td>Összesen</td><td>3</td></tr>",
                            "<tr><td>77</td><td>2016</td><td>4</td></tr>",
                            "<tr><td>77</td><td>2017</td><td>2</td></tr>",
                            "<tr><td>77</td><td>Összesen</td><td>6</td></tr>",
                            "<tr><td>78</td><td>2016</td><td>5</td></tr>",
                            "<tr><td>78</td><td>2017</td><td>1</td></tr>",
                            "<tr><td>78</td><td>Összesen</td><td>6</td></tr>",
                            "<tr><td>79</td><td>2016</td><td>4</td></tr>",
                            "<tr><td>79</td><td>2017</td><td>1</td></tr>",
                            "<tr><td>79</td><td>Összesen</td><td>5</td></tr>",
                            "<tr><td>80</td><td>2016</td><td>7</td></tr>",
                            "<tr><td>80</td><td>Összesen</td><td>7</td></tr>",
                            "<tr><td>81</td><td>2016</td><td>1</td></tr>",
                            "<tr><td>81</td><td>2017</td><td>4</td></tr>",
                            "<tr><td>81</td><td>Összesen</td><td>5</td></tr>",
                            "<tr><td>82</td><td>2016</td><td>6</td></tr>",
                            "<tr><td>82</td><td>Összesen</td><td>6</td></tr>",
                            "<tr><td>83</td><td>2016</td><td>8</td></tr>",
                            "<tr><td>83</td><td>Összesen</td><td>8</td></tr>",
                            "<tr><td>84</td><td>2016</td><td>4</td></tr>",
                            "<tr><td>84</td><td>Összesen</td><td>4</td></tr>",
                            "<tr><td>85</td><td>2016</td><td>3</td></tr>",
                            "<tr><td>85</td><td>2017</td><td>1</td></tr>",
                            "<tr><td>85</td><td>Összesen</td><td>4</td></tr>",
                            "<tr><td>86</td><td>2016</td><td>4</td></tr>",
                            "<tr><td>86</td><td>2017</td><td>1</td></tr>",
                            "<tr><td>86</td><td>Összesen</td><td>5</td></tr>",
                            "<tr><td>87</td><td>2016</td><td>4</td></tr>",
                            "<tr><td>87</td><td>2017</td><td>1</td></tr>",
                            "<tr><td>87</td><td>Összesen</td><td>5</td></tr>",
                            "<tr><td>88</td><td>2016</td><td>6</td></tr>",
                            "<tr><td>88</td><td>2017</td><td>2</td></tr>",
                            "<tr><td>88</td><td>Összesen</td><td>8</td></tr>",
                            "<tr><td>89</td><td>2016</td><td>7</td></tr>",
                            "<tr><td>89</td><td>2017</td><td>1</td></tr>",
                            "<tr><td>89</td><td>Összesen</td><td>8</td></tr>",
                            "<tr><td>90</td><td>2016</td><td>4</td></tr>",
                            "<tr><td>90</td><td>Összesen</td><td>4</td></tr>",
                            "<tr><td>91</td><td>2016</td><td>4</td></tr>",
                            "<tr><td>91</td><td>Összesen</td><td>4</td></tr>",
                            "<tr><td>92</td><td>2016</td><td>4</td></tr>",
                            "<tr><td>92</td><td>2017</td><td>2</td></tr>",
                            "<tr><td>92</td><td>Összesen</td><td>6</td></tr>",
                            "<tr><td>93</td><td>2016</td><td>5</td></tr>",
                            "<tr><td>93</td><td>Összesen</td><td>5</td></tr>",
                            "<tr><td>94</td><td>2016</td><td>8</td></tr>",
                            "<tr><td>94</td><td>2017</td><td>2</td></tr>",
                            "<tr><td>94</td><td>Összesen</td><td>10</td></tr>",
                            "<tr><td>95</td><td>2016</td><td>3</td></tr>",
                            "<tr><td>95</td><td>2017</td><td>1</td></tr>",
                            "<tr><td>95</td><td>Összesen</td><td>4</td></tr>",
                            "<tr><td>96</td><td>2016</td><td>5</td></tr>",
                            "<tr><td>96</td><td>2017</td><td>2</td></tr>",
                            "<tr><td>96</td><td>Összesen</td><td>7</td></tr>",
                            "<tr><td>97</td><td>2016</td><td>5</td></tr>",
                            "<tr><td>97</td><td>2017</td><td>2</td></tr>",
                            "<tr><td>97</td><td>Összesen</td><td>7</td></tr>",
                            "<tr><td>98</td><td>2016</td><td>4</td></tr>",
                            "<tr><td>98</td><td>Összesen</td><td>4</td></tr>",
                            "<tr><td>99</td><td>2016</td><td>4</td></tr>",
                            "<tr><td>99</td><td>2017</td><td>1</td></tr>",
                            "<tr><td>99</td><td>Összesen</td><td>5</td></tr>",
                            "<tr><td>100</td><td>2016</td><td>3</td></tr>",
                            "<tr><td>100</td><td>2017</td><td>1</td></tr>",
                            "<tr><td>100</td><td>Összesen</td><td>4</td></tr>",
                            "<tr><td>101</td><td>2016</td><td>2</td></tr>",
                            "<tr><td>101</td><td>2017</td><td>1</td></tr>",
                            "<tr><td>101</td><td>Összesen</td><td>3</td></tr>",
                            "<tr><td>102</td><td>2016</td><td>2</td></tr>",
                            "<tr><td>102</td><td>Összesen</td><td>2</td></tr>",
                            "<tr><td>103</td><td>2016</td><td>3</td></tr>",
                            "<tr><td>103</td><td>2017</td><td>1</td></tr>",
                            "<tr><td>103</td><td>Összesen</td><td>4</td></tr>",
                            "<tr><td>104</td><td>2016</td><td>2</td></tr>",
                            "<tr><td>104</td><td>2017</td><td>2</td></tr>",
                            "<tr><td>104</td><td>Összesen</td><td>4</td></tr>",
                            "<tr><td>105</td><td>2016</td><td>1</td></tr>",
                            "<tr><td>105</td><td>2017</td><td>1</td></tr>",
                            "<tr><td>105</td><td>Összesen</td><td>2</td></tr>",
                            "<tr><td>106</td><td>2016</td><td>5</td></tr>",
                            "<tr><td>106</td><td>2017</td><td>1</td></tr>",
                            "<tr><td>106</td><td>Összesen</td><td>6</td></tr>",
                            "<tr><td>107</td><td>2016</td><td>3</td></tr>",
                            "<tr><td>107</td><td>2017</td><td>2</td></tr>",
                            "<tr><td>107</td><td>Összesen</td><td>5</td></tr>",
                            "<tr><td>108</td><td>2016</td><td>2</td></tr>",
                            "<tr><td>108</td><td>Összesen</td><td>2</td></tr>",
                            "<tr><td>109</td><td>2016</td><td>6</td></tr>",
                            "<tr><td>109</td><td>2017</td><td>1</td></tr>",
                            "<tr><td>109</td><td>Összesen</td><td>7</td></tr>",
                            "<tr><td>110</td><td>2016</td><td>6</td></tr>",
                            "<tr><td>110</td><td>2017</td><td>2</td></tr>",
                            "<tr><td>110</td><td>Összesen</td><td>8</td></tr>",
                            "<tr><td>111</td><td>2016</td><td>5</td></tr>",
                            "<tr><td>111</td><td>Összesen</td><td>5</td></tr>",
                            "<tr><td>112</td><td>2016</td><td>4</td></tr>",
                            "<tr><td>112</td><td>2017</td><td>1</td></tr>",
                            "<tr><td>112</td><td>Összesen</td><td>5</td></tr>",
                            "<tr><td>113</td><td>2016</td><td>3</td></tr>",
                            "<tr><td>113</td><td>2017</td><td>2</td></tr>",
                            "<tr><td>113</td><td>Összesen</td><td>5</td></tr>",
                            "<tr><td>114</td><td>2016</td><td>3</td></tr>",
                            "<tr><td>114</td><td>2017</td><td>1</td></tr>",
                            "<tr><td>114</td><td>Összesen</td><td>4</td></tr>",
                            "<tr><td>115</td><td>2016</td><td>5</td></tr>",
                            "<tr><td>115</td><td>2017</td><td>2</td></tr>",
                            "<tr><td>115</td><td>Összesen</td><td>7</td></tr>",
                            "<tr><td>116</td><td>2017</td><td>2</td></tr>",
                            "<tr><td>116</td><td>Összesen</td><td>2</td></tr>",
                            "<tr><td>117</td><td>2016</td><td>7</td></tr>",
                            "<tr><td>117</td><td>2017</td><td>1</td></tr>",
                            "<tr><td>117</td><td>Összesen</td><td>8</td></tr>",
                            "<tr><td>118</td><td>2016</td><td>5</td></tr>",
                            "<tr><td>118</td><td>2017</td><td>2</td></tr>",
                            "<tr><td>118</td><td>Összesen</td><td>7</td></tr>",
                            "<tr><td>119</td><td>2016</td><td>3</td></tr>",
                            "<tr><td>119</td><td>2017</td><td>2</td></tr>",
                            "<tr><td>119</td><td>Összesen</td><td>5</td></tr>",
                            "<tr><td>120</td><td>2016</td><td>4</td></tr>",
                            "<tr><td>120</td><td>2017</td><td>2</td></tr>",
                            "<tr><td>120</td><td>Összesen</td><td>6</td></tr>",
                            "<tr><td>121</td><td>2016</td><td>8</td></tr>",
                            "<tr><td>121</td><td>Összesen</td><td>8</td></tr>",
                            "<tr><td>122</td><td>2016</td><td>8</td></tr>",
                            "<tr><td>122</td><td>2017</td><td>1</td></tr>",
                            "<tr><td>122</td><td>Összesen</td><td>9</td></tr>",
                            "<tr><td>123</td><td>2016</td><td>5</td></tr>",
                            "<tr><td>123</td><td>Összesen</td><td>5</td></tr>",
                            "<tr><td>124</td><td>2016</td><td>4</td></tr>",
                            "<tr><td>124</td><td>2017</td><td>2</td></tr>",
                            "<tr><td>124</td><td>Összesen</td><td>6</td></tr>",
                            "<tr><td>125</td><td>2016</td><td>1</td></tr>",
                            "<tr><td>125</td><td>Összesen</td><td>1</td></tr>",
                            "<tr><td>126</td><td>2016</td><td>4</td></tr>",
                            "<tr><td>126</td><td>2017</td><td>2</td></tr>",
                            "<tr><td>126</td><td>Összesen</td><td>6</td></tr>",
                            "<tr><td>127</td><td>2016</td><td>6</td></tr>",
                            "<tr><td>127</td><td>2017</td><td>1</td></tr>",
                            "<tr><td>127</td><td>Összesen</td><td>7</td></tr>",
                            "<tr><td>128</td><td>2016</td><td>3</td></tr>",
                            "<tr><td>128</td><td>2017</td><td>2</td></tr>",
                            "<tr><td>128</td><td>Összesen</td><td>5</td></tr>",
                            "<tr><td>129</td><td>2016</td><td>2</td></tr>",
                            "<tr><td>129</td><td>2017</td><td>2</td></tr>",
                            "<tr><td>129</td><td>Összesen</td><td>4</td></tr>",
                            "<tr><td>130</td><td>2016</td><td>5</td></tr>",
                            "<tr><td>130</td><td>2017</td><td>1</td></tr>",
                            "<tr><td>130</td><td>Összesen</td><td>6</td></tr>",
                            "<tr><td>131</td><td>2016</td><td>4</td></tr>",
                            "<tr><td>131</td><td>2017</td><td>1</td></tr>",
                            "<tr><td>131</td><td>Összesen</td><td>5</td></tr>",
                            "<tr><td>132</td><td>2016</td><td>5</td></tr>",
                            "<tr><td>132</td><td>2017</td><td>1</td></tr>",
                            "<tr><td>132</td><td>Összesen</td><td>6</td></tr>",
                            "<tr><td>133</td><td>2016</td><td>5</td></tr>",
                            "<tr><td>133</td><td>2017</td><td>1</td></tr>",
                            "<tr><td>133</td><td>Összesen</td><td>6</td></tr>",
                            "<tr><td>134</td><td>2016</td><td>5</td></tr>",
                            "<tr><td>134</td><td>2017</td><td>1</td></tr>",
                            "<tr><td>134</td><td>Összesen</td><td>6</td></tr>",
                            "<tr><td>135</td><td>2016</td><td>3</td></tr>",
                            "<tr><td>135</td><td>Összesen</td><td>3</td></tr>",
                            "<tr><td>136</td><td>2016</td><td>3</td></tr>",
                            "<tr><td>136</td><td>Összesen</td><td>3</td></tr>",
                            "<tr><td>137</td><td>2016</td><td>6</td></tr>",
                            "<tr><td>137</td><td>Összesen</td><td>6</td></tr>",
                            "<tr><td>138</td><td>2016</td><td>7</td></tr>",
                            "<tr><td>138</td><td>Összesen</td><td>7</td></tr>",
                            "<tr><td>139</td><td>2016</td><td>5</td></tr>",
                            "<tr><td>139</td><td>2017</td><td>2</td></tr>",
                            "<tr><td>139</td><td>Összesen</td><td>7</td></tr>",
                            "<tr><td>140</td><td>2016</td><td>8</td></tr>",
                            "<tr><td>140</td><td>Összesen</td><td>8</td></tr>",
                            "<tr><td>141</td><td>2016</td><td>6</td></tr>",
                            "<tr><td>141</td><td>Összesen</td><td>6</td></tr>",
                            "<tr><td>142</td><td>2016</td><td>1</td></tr>",
                            "<tr><td>142</td><td>2017</td><td>1</td></tr>",
                            "<tr><td>142</td><td>Összesen</td><td>2</td></tr>",
                            "<tr><td>143</td><td>2016</td><td>6</td></tr>",
                            "<tr><td>143</td><td>2017</td><td>1</td></tr>",
                            "<tr><td>143</td><td>Összesen</td><td>7</td></tr>",
                            "<tr><td>144</td><td>2016</td><td>4</td></tr>",
                            "<tr><td>144</td><td>2017</td><td>1</td></tr>",
                            "<tr><td>144</td><td>Összesen</td><td>5</td></tr>",
                            "<tr><td>145</td><td>2016</td><td>5</td></tr>",
                            "<tr><td>145</td><td>2017</td><td>1</td></tr>",
                            "<tr><td>145</td><td>Összesen</td><td>6</td></tr>",
                            "<tr><td>146</td><td>2016</td><td>5</td></tr>",
                            "<tr><td>146</td><td>2017</td><td>1</td></tr>",
                            "<tr><td>146</td><td>Összesen</td><td>6</td></tr>",
                            "<tr><td>147</td><td>2016</td><td>1</td></tr>",
                            "<tr><td>147</td><td>Összesen</td><td>1</td></tr>",
                            "<tr><td>148</td><td>2016</td><td>5</td></tr>",
                            "<tr><td>148</td><td>2017</td><td>1</td></tr>",
                            "<tr><td>148</td><td>Összesen</td><td>6</td></tr>",
                            "<tr><td>149</td><td>2016</td><td>6</td></tr>",
                            "<tr><td>149</td><td>2017</td><td>1</td></tr>",
                            "<tr><td>149</td><td>Összesen</td><td>7</td></tr>",
                            "<tr><td>150</td><td>2016</td><td>5</td></tr>",
                            "<tr><td>150</td><td>2017</td><td>1</td></tr>",
                            "<tr><td>150</td><td>Összesen</td><td>6</td></tr>",
                            "<tr><td>151</td><td>2016</td><td>3</td></tr>",
                            "<tr><td>151</td><td>Összesen</td><td>3</td></tr>",
                            "<tr><td>152</td><td>2016</td><td>3</td></tr>",
                            "<tr><td>152</td><td>2017</td><td>1</td></tr>",
                            "<tr><td>152</td><td>Összesen</td><td>4</td></tr>",
                            "<tr><td>153</td><td>2016</td><td>2</td></tr>",
                            "<tr><td>153</td><td>2017</td><td>3</td></tr>",
                            "<tr><td>153</td><td>Összesen</td><td>5</td></tr>",
                            "<tr><td>154</td><td>2016</td><td>4</td></tr>",
                            "<tr><td>154</td><td>2017</td><td>1</td></tr>",
                            "<tr><td>154</td><td>Összesen</td><td>5</td></tr>",
                            "<tr><td>155</td><td>2016</td><td>4</td></tr>",
                            "<tr><td>155</td><td>2017</td><td>1</td></tr>",
                            "<tr><td>155</td><td>Összesen</td><td>5</td></tr>",
                            "<tr><td>156</td><td>2016</td><td>4</td></tr>",
                            "<tr><td>156</td><td>2017</td><td>3</td></tr>",
                            "<tr><td>156</td><td>Összesen</td><td>7</td></tr>",
                            "<tr><td>157</td><td>2016</td><td>4</td></tr>",
                            "<tr><td>157</td><td>2017</td><td>1</td></tr>",
                            "<tr><td>157</td><td>Összesen</td><td>5</td></tr>",
                            "<tr><td>158</td><td>2016</td><td>3</td></tr>",
                            "<tr><td>158</td><td>Összesen</td><td>3</td></tr>",
                            "<tr><td>160</td><td>2016</td><td>4</td></tr>",
                            "<tr><td>160</td><td>2017</td><td>1</td></tr>",
                            "<tr><td>160</td><td>Összesen</td><td>5</td></tr>",
                            "<tr><td>161</td><td>2016</td><td>5</td></tr>",
                            "<tr><td>161</td><td>2017</td><td>1</td></tr>",
                            "<tr><td>161</td><td>Összesen</td><td>6</td></tr>",
                            "<tr><td>162</td><td>2016</td><td>3</td></tr>",
                            "<tr><td>162</td><td>Összesen</td><td>3</td></tr>",
                            "<tr><td>163</td><td>2016</td><td>6</td></tr>",
                            "<tr><td>163</td><td>2017</td><td>1</td></tr>",
                            "<tr><td>163</td><td>Összesen</td><td>7</td></tr>",
                            "<tr><td>164</td><td>2016</td><td>5</td></tr>",
                            "<tr><td>164</td><td>Összesen</td><td>5</td></tr>",
                            "<tr><td>165</td><td>2016</td><td>7</td></tr>",
                            "<tr><td>165</td><td>Összesen</td><td>7</td></tr>",
                            "<tr><td>166</td><td>2016</td><td>2</td></tr>",
                            "<tr><td>166</td><td>2017</td><td>1</td></tr>",
                            "<tr><td>166</td><td>Összesen</td><td>3</td></tr>",
                            "<tr><td>167</td><td>2016</td><td>1</td></tr>",
                            "<tr><td>167</td><td>2017</td><td>1</td></tr>",
                            "<tr><td>167</td><td>Összesen</td><td>2</td></tr>",
                            "<tr><td>168</td><td>2016</td><td>5</td></tr>",
                            "<tr><td>168</td><td>Összesen</td><td>5</td></tr>",
                            "<tr><td>169</td><td>2016</td><td>5</td></tr>",
                            "<tr><td>169</td><td>2017</td><td>1</td></tr>",
                            "<tr><td>169</td><td>Összesen</td><td>6</td></tr>",
                            "<tr><td>170</td><td>2016</td><td>5</td></tr>",
                            "<tr><td>170</td><td>Összesen</td><td>5</td></tr>",
                            "<tr><td>171</td><td>2016</td><td>4</td></tr>",
                            "<tr><td>171</td><td>2017</td><td>1</td></tr>",
                            "<tr><td>171</td><td>Összesen</td><td>5</td></tr>",
                            "<tr><td>172</td><td>2016</td><td>7</td></tr>",
                            "<tr><td>172</td><td>2017</td><td>2</td></tr>",
                            "<tr><td>172</td><td>Összesen</td><td>9</td></tr>",
                            "<tr><td>173</td><td>2016</td><td>3</td></tr>",
                            "<tr><td>173</td><td>2017</td><td>1</td></tr>",
                            "<tr><td>173</td><td>Összesen</td><td>4</td></tr>",
                            "<tr><td>174</td><td>2016</td><td>4</td></tr>",
                            "<tr><td>174</td><td>Összesen</td><td>4</td></tr>",
                            "<tr><td>175</td><td>2016</td><td>5</td></tr>",
                            "<tr><td>175</td><td>Összesen</td><td>5</td></tr>",
                            "<tr><td>176</td><td>2016</td><td>4</td></tr>",
                            "<tr><td>176</td><td>2017</td><td>2</td></tr>",
                            "<tr><td>176</td><td>Összesen</td><td>6</td></tr>",
                            "<tr><td>177</td><td>2016</td><td>3</td></tr>",
                            "<tr><td>177</td><td>2017</td><td>1</td></tr>",
                            "<tr><td>177</td><td>Összesen</td><td>4</td></tr>",
                            "<tr><td>178</td><td>2016</td><td>4</td></tr>",
                            "<tr><td>178</td><td>Összesen</td><td>4</td></tr>",
                            "<tr><td>179</td><td>2016</td><td>2</td></tr>",
                            "<tr><td>179</td><td>2017</td><td>1</td></tr>",
                            "<tr><td>179</td><td>Összesen</td><td>3</td></tr>",
                            "<tr><td>180</td><td>2016</td><td>1</td></tr>",
                            "<tr><td>180</td><td>2017</td><td>2</td></tr>",
                            "<tr><td>180</td><td>Összesen</td><td>3</td></tr>",
                            "<tr><td>181</td><td>2016</td><td>6</td></tr>",
                            "<tr><td>181</td><td>Összesen</td><td>6</td></tr>",
                            "<tr><td>182</td><td>2016</td><td>10</td></tr>",
                            "<tr><td>182</td><td>2017</td><td>2</td></tr>",
                            "<tr><td>182</td><td>Összesen</td><td>12</td></tr>",
                            "<tr><td>183</td><td>2016</td><td>3</td></tr>",
                            "<tr><td>183</td><td>2017</td><td>1</td></tr>",
                            "<tr><td>183</td><td>Összesen</td><td>4</td></tr>",
                            "<tr><td>184</td><td>2016</td><td>4</td></tr>",
                            "<tr><td>184</td><td>Összesen</td><td>4</td></tr>",
                            "<tr><td>185</td><td>2016</td><td>10</td></tr>",
                            "<tr><td>185</td><td>2017</td><td>2</td></tr>",
                            "<tr><td>185</td><td>Összesen</td><td>12</td></tr>",
                            "<tr><td>186</td><td>2016</td><td>3</td></tr>",
                            "<tr><td>186</td><td>2017</td><td>1</td></tr>",
                            "<tr><td>186</td><td>Összesen</td><td>4</td></tr>",
                            "<tr><td>187</td><td>2016</td><td>7</td></tr>",
                            "<tr><td>187</td><td>Összesen</td><td>7</td></tr>",
                            "<tr><td>188</td><td>2016</td><td>6</td></tr>",
                            "<tr><td>188</td><td>Összesen</td><td>6</td></tr>",
                            "<tr><td>189</td><td>2016</td><td>3</td></tr>",
                            "<tr><td>189</td><td>2017</td><td>2</td></tr>",
                            "<tr><td>189</td><td>Összesen</td><td>5</td></tr>",
                            "<tr><td>190</td><td>2016</td><td>4</td></tr>",
                            "<tr><td>190</td><td>2017</td><td>1</td></tr>",
                            "<tr><td>190</td><td>Összesen</td><td>5</td></tr>",
                            "<tr><td>191</td><td>2016</td><td>3</td></tr>",
                            "<tr><td>191</td><td>2017</td><td>2</td></tr>",
                            "<tr><td>191</td><td>Összesen</td><td>5</td></tr>",
                            "<tr><td>192</td><td>2016</td><td>2</td></tr>",
                            "<tr><td>192</td><td>Összesen</td><td>2</td></tr>",
                            "<tr><td>193</td><td>2016</td><td>7</td></tr>",
                            "<tr><td>193</td><td>Összesen</td><td>7</td></tr>",
                            "<tr><td>194</td><td>2016</td><td>1</td></tr>",
                            "<tr><td>194</td><td>Összesen</td><td>1</td></tr>",
                            "<tr><td>195</td><td>2016</td><td>4</td></tr>",
                            "<tr><td>195</td><td>2017</td><td>2</td></tr>",
                            "<tr><td>195</td><td>Összesen</td><td>6</td></tr>",
                            "<tr><td>196</td><td>2016</td><td>4</td></tr>",
                            "<tr><td>196</td><td>Összesen</td><td>4</td></tr>",
                            "<tr><td>197</td><td>2016</td><td>6</td></tr>",
                            "<tr><td>197</td><td>Összesen</td><td>6</td></tr>",
                            "<tr><td>198</td><td>2016</td><td>7</td></tr>",
                            "<tr><td>198</td><td>2017</td><td>1</td></tr>",
                            "<tr><td>198</td><td>Összesen</td><td>8</td></tr>",
                            "</table>"
                        ]
                    }
                },
                {
                    "output_type": "error",
                    "evalue": "Msg 245, Level 16, State 1, Line 1\r\nConversion failed when converting the varchar value 'Részösszeg' to data type int.",
                    "ename": "",
                    "traceback": []
                }
            ],
            "execution_count": 25
        },
        {
            "cell_type": "markdown",
            "source": [
                "2\\. feladat:\n",
                "\n",
                "Készítsük listát, amely a szobák azonosítóit és a hozzájuk tartozó foglalások azonosítóját és időtartalmát (napokban) jeleníti meg!\n",
                "\n",
                "- Egy új oszlopban jelenítsük meg az adott szoba időben előző foglalásának időtartamát is!\n",
                "- Ha nincs előző, akkor 0 jelenjen meg"
            ],
            "metadata": {
                "azdata_cell_guid": "a083a4d9-4b2b-48b7-848a-dbce3293c779"
            },
            "attachments": {}
        },
        {
            "cell_type": "code",
            "source": [
                "SELECT SZOBA_FK,\r\n",
                "foglalas_pk,\r\n",
                "DATEDIFF(DAY, METTOL, MEDDIG) AS 'Napok száma',\r\n",
                "LAG(DATEDIFF(DAY, METTOL, MEDDIG), 1, '0') OVER(ORDER BY SZOBA_FK)\r\n",
                "AS 'Előző'\r\n",
                "FROM Foglalas"
            ],
            "metadata": {
                "azdata_cell_guid": "88e27220-0624-4d49-a835-ee5f61d6f9fa",
                "language": "sql",
                "tags": []
            },
            "outputs": [
                {
                    "output_type": "display_data",
                    "data": {
                        "text/html": "(1027 rows affected)"
                    },
                    "metadata": {}
                },
                {
                    "output_type": "display_data",
                    "data": {
                        "text/html": "Total execution time: 00:00:00.015"
                    },
                    "metadata": {}
                },
                {
                    "output_type": "execute_result",
                    "metadata": {},
                    "execution_count": 23,
                    "data": {
                        "application/vnd.dataresource+json": {
                            "schema": {
                                "fields": [
                                    {
                                        "name": "SZOBA_FK"
                                    },
                                    {
                                        "name": "foglalas_pk"
                                    },
                                    {
                                        "name": "Napok száma"
                                    },
                                    {
                                        "name": "Előző"
                                    }
                                ]
                            },
                            "data": [
                                {
                                    "SZOBA_FK": "1",
                                    "foglalas_pk": "620",
                                    "Napok száma": "5",
                                    "Előző": "0"
                                },
                                {
                                    "SZOBA_FK": "1",
                                    "foglalas_pk": "738",
                                    "Napok száma": "7",
                                    "Előző": "5"
                                },
                                {
                                    "SZOBA_FK": "1",
                                    "foglalas_pk": "803",
                                    "Napok száma": "4",
                                    "Előző": "7"
                                },
                                {
                                    "SZOBA_FK": "1",
                                    "foglalas_pk": "949",
                                    "Napok száma": "1",
                                    "Előző": "4"
                                },
                                {
                                    "SZOBA_FK": "1",
                                    "foglalas_pk": "1137",
                                    "Napok száma": "2",
                                    "Előző": "1"
                                },
                                {
                                    "SZOBA_FK": "1",
                                    "foglalas_pk": "1152",
                                    "Napok száma": "1",
                                    "Előző": "2"
                                },
                                {
                                    "SZOBA_FK": "1",
                                    "foglalas_pk": "1274",
                                    "Napok száma": "1",
                                    "Előző": "1"
                                },
                                {
                                    "SZOBA_FK": "1",
                                    "foglalas_pk": "1334",
                                    "Napok száma": "4",
                                    "Előző": "1"
                                },
                                {
                                    "SZOBA_FK": "2",
                                    "foglalas_pk": "1311",
                                    "Napok száma": "7",
                                    "Előző": "4"
                                },
                                {
                                    "SZOBA_FK": "2",
                                    "foglalas_pk": "1051",
                                    "Napok száma": "1",
                                    "Előző": "7"
                                },
                                {
                                    "SZOBA_FK": "2",
                                    "foglalas_pk": "1069",
                                    "Napok száma": "7",
                                    "Előző": "1"
                                },
                                {
                                    "SZOBA_FK": "2",
                                    "foglalas_pk": "828",
                                    "Napok száma": "3",
                                    "Előző": "7"
                                },
                                {
                                    "SZOBA_FK": "3",
                                    "foglalas_pk": "788",
                                    "Napok száma": "6",
                                    "Előző": "3"
                                },
                                {
                                    "SZOBA_FK": "3",
                                    "foglalas_pk": "629",
                                    "Napok száma": "4",
                                    "Előző": "6"
                                },
                                {
                                    "SZOBA_FK": "3",
                                    "foglalas_pk": "666",
                                    "Napok száma": "6",
                                    "Előző": "4"
                                },
                                {
                                    "SZOBA_FK": "3",
                                    "foglalas_pk": "1110",
                                    "Napok száma": "7",
                                    "Előző": "6"
                                },
                                {
                                    "SZOBA_FK": "3",
                                    "foglalas_pk": "1038",
                                    "Napok száma": "3",
                                    "Előző": "7"
                                },
                                {
                                    "SZOBA_FK": "3",
                                    "foglalas_pk": "1151",
                                    "Napok száma": "1",
                                    "Előző": "3"
                                },
                                {
                                    "SZOBA_FK": "3",
                                    "foglalas_pk": "1434",
                                    "Napok száma": "5",
                                    "Előző": "1"
                                },
                                {
                                    "SZOBA_FK": "3",
                                    "foglalas_pk": "1544",
                                    "Napok száma": "5",
                                    "Előző": "5"
                                },
                                {
                                    "SZOBA_FK": "4",
                                    "foglalas_pk": "1492",
                                    "Napok száma": "6",
                                    "Előző": "5"
                                },
                                {
                                    "SZOBA_FK": "4",
                                    "foglalas_pk": "1132",
                                    "Napok száma": "6",
                                    "Előző": "6"
                                },
                                {
                                    "SZOBA_FK": "4",
                                    "foglalas_pk": "1001",
                                    "Napok száma": "7",
                                    "Előző": "6"
                                },
                                {
                                    "SZOBA_FK": "4",
                                    "foglalas_pk": "1127",
                                    "Napok száma": "3",
                                    "Előző": "7"
                                },
                                {
                                    "SZOBA_FK": "4",
                                    "foglalas_pk": "946",
                                    "Napok száma": "5",
                                    "Előző": "3"
                                },
                                {
                                    "SZOBA_FK": "4",
                                    "foglalas_pk": "651",
                                    "Napok száma": "7",
                                    "Előző": "5"
                                },
                                {
                                    "SZOBA_FK": "5",
                                    "foglalas_pk": "564",
                                    "Napok száma": "2",
                                    "Előző": "7"
                                },
                                {
                                    "SZOBA_FK": "5",
                                    "foglalas_pk": "965",
                                    "Napok száma": "7",
                                    "Előző": "2"
                                },
                                {
                                    "SZOBA_FK": "5",
                                    "foglalas_pk": "1073",
                                    "Napok száma": "5",
                                    "Előző": "7"
                                },
                                {
                                    "SZOBA_FK": "5",
                                    "foglalas_pk": "1257",
                                    "Napok száma": "3",
                                    "Előző": "5"
                                },
                                {
                                    "SZOBA_FK": "6",
                                    "foglalas_pk": "1099",
                                    "Napok száma": "4",
                                    "Előző": "3"
                                },
                                {
                                    "SZOBA_FK": "6",
                                    "foglalas_pk": "990",
                                    "Napok száma": "4",
                                    "Előző": "4"
                                },
                                {
                                    "SZOBA_FK": "6",
                                    "foglalas_pk": "850",
                                    "Napok száma": "2",
                                    "Előző": "4"
                                },
                                {
                                    "SZOBA_FK": "6",
                                    "foglalas_pk": "873",
                                    "Napok száma": "3",
                                    "Előző": "2"
                                },
                                {
                                    "SZOBA_FK": "6",
                                    "foglalas_pk": "560",
                                    "Napok száma": "6",
                                    "Előző": "3"
                                },
                                {
                                    "SZOBA_FK": "6",
                                    "foglalas_pk": "772",
                                    "Napok száma": "6",
                                    "Előző": "6"
                                },
                                {
                                    "SZOBA_FK": "7",
                                    "foglalas_pk": "759",
                                    "Napok száma": "7",
                                    "Előző": "6"
                                },
                                {
                                    "SZOBA_FK": "7",
                                    "foglalas_pk": "562",
                                    "Napok száma": "4",
                                    "Előző": "7"
                                },
                                {
                                    "SZOBA_FK": "7",
                                    "foglalas_pk": "1252",
                                    "Napok száma": "2",
                                    "Előző": "4"
                                },
                                {
                                    "SZOBA_FK": "7",
                                    "foglalas_pk": "1131",
                                    "Napok száma": "1",
                                    "Előző": "2"
                                },
                                {
                                    "SZOBA_FK": "7",
                                    "foglalas_pk": "1175",
                                    "Napok száma": "4",
                                    "Előző": "1"
                                },
                                {
                                    "SZOBA_FK": "7",
                                    "foglalas_pk": "1182",
                                    "Napok száma": "4",
                                    "Előző": "4"
                                },
                                {
                                    "SZOBA_FK": "8",
                                    "foglalas_pk": "694",
                                    "Napok száma": "4",
                                    "Előző": "4"
                                },
                                {
                                    "SZOBA_FK": "8",
                                    "foglalas_pk": "832",
                                    "Napok száma": "4",
                                    "Előző": "4"
                                },
                                {
                                    "SZOBA_FK": "8",
                                    "foglalas_pk": "818",
                                    "Napok száma": "4",
                                    "Előző": "4"
                                },
                                {
                                    "SZOBA_FK": "8",
                                    "foglalas_pk": "882",
                                    "Napok száma": "1",
                                    "Előző": "4"
                                },
                                {
                                    "SZOBA_FK": "8",
                                    "foglalas_pk": "947",
                                    "Napok száma": "3",
                                    "Előző": "1"
                                },
                                {
                                    "SZOBA_FK": "9",
                                    "foglalas_pk": "609",
                                    "Napok száma": "2",
                                    "Előző": "3"
                                },
                                {
                                    "SZOBA_FK": "9",
                                    "foglalas_pk": "1157",
                                    "Napok száma": "6",
                                    "Előző": "2"
                                },
                                {
                                    "SZOBA_FK": "9",
                                    "foglalas_pk": "1260",
                                    "Napok száma": "6",
                                    "Előző": "6"
                                },
                                {
                                    "SZOBA_FK": "9",
                                    "foglalas_pk": "1220",
                                    "Napok száma": "3",
                                    "Előző": "6"
                                },
                                {
                                    "SZOBA_FK": "9",
                                    "foglalas_pk": "1537",
                                    "Napok száma": "3",
                                    "Előző": "3"
                                },
                                {
                                    "SZOBA_FK": "9",
                                    "foglalas_pk": "1423",
                                    "Napok száma": "3",
                                    "Előző": "3"
                                },
                                {
                                    "SZOBA_FK": "10",
                                    "foglalas_pk": "1319",
                                    "Napok száma": "6",
                                    "Előző": "3"
                                },
                                {
                                    "SZOBA_FK": "10",
                                    "foglalas_pk": "569",
                                    "Napok száma": "3",
                                    "Előző": "6"
                                },
                                {
                                    "SZOBA_FK": "10",
                                    "foglalas_pk": "790",
                                    "Napok száma": "5",
                                    "Előző": "3"
                                },
                                {
                                    "SZOBA_FK": "10",
                                    "foglalas_pk": "795",
                                    "Napok száma": "4",
                                    "Előző": "5"
                                },
                                {
                                    "SZOBA_FK": "11",
                                    "foglalas_pk": "918",
                                    "Napok száma": "6",
                                    "Előző": "4"
                                },
                                {
                                    "SZOBA_FK": "11",
                                    "foglalas_pk": "1123",
                                    "Napok száma": "5",
                                    "Előző": "6"
                                },
                                {
                                    "SZOBA_FK": "11",
                                    "foglalas_pk": "1236",
                                    "Napok száma": "1",
                                    "Előző": "5"
                                },
                                {
                                    "SZOBA_FK": "11",
                                    "foglalas_pk": "1523",
                                    "Napok száma": "1",
                                    "Előző": "1"
                                },
                                {
                                    "SZOBA_FK": "12",
                                    "foglalas_pk": "1430",
                                    "Napok száma": "2",
                                    "Előző": "1"
                                },
                                {
                                    "SZOBA_FK": "12",
                                    "foglalas_pk": "1140",
                                    "Napok száma": "3",
                                    "Előző": "2"
                                },
                                {
                                    "SZOBA_FK": "12",
                                    "foglalas_pk": "1164",
                                    "Napok száma": "5",
                                    "Előző": "3"
                                },
                                {
                                    "SZOBA_FK": "12",
                                    "foglalas_pk": "1020",
                                    "Napok száma": "5",
                                    "Előző": "5"
                                },
                                {
                                    "SZOBA_FK": "12",
                                    "foglalas_pk": "951",
                                    "Napok száma": "3",
                                    "Előző": "5"
                                },
                                {
                                    "SZOBA_FK": "12",
                                    "foglalas_pk": "970",
                                    "Napok száma": "2",
                                    "Előző": "3"
                                },
                                {
                                    "SZOBA_FK": "12",
                                    "foglalas_pk": "876",
                                    "Napok száma": "7",
                                    "Előző": "2"
                                },
                                {
                                    "SZOBA_FK": "12",
                                    "foglalas_pk": "775",
                                    "Napok száma": "4",
                                    "Előző": "7"
                                },
                                {
                                    "SZOBA_FK": "12",
                                    "foglalas_pk": "697",
                                    "Napok száma": "2",
                                    "Előző": "4"
                                },
                                {
                                    "SZOBA_FK": "13",
                                    "foglalas_pk": "763",
                                    "Napok száma": "4",
                                    "Előző": "2"
                                },
                                {
                                    "SZOBA_FK": "13",
                                    "foglalas_pk": "1044",
                                    "Napok száma": "6",
                                    "Előző": "4"
                                },
                                {
                                    "SZOBA_FK": "13",
                                    "foglalas_pk": "1347",
                                    "Napok száma": "3",
                                    "Előző": "6"
                                },
                                {
                                    "SZOBA_FK": "13",
                                    "foglalas_pk": "1469",
                                    "Napok száma": "2",
                                    "Előző": "3"
                                },
                                {
                                    "SZOBA_FK": "14",
                                    "foglalas_pk": "1542",
                                    "Napok száma": "4",
                                    "Előző": "2"
                                },
                                {
                                    "SZOBA_FK": "14",
                                    "foglalas_pk": "813",
                                    "Napok száma": "3",
                                    "Előző": "4"
                                },
                                {
                                    "SZOBA_FK": "14",
                                    "foglalas_pk": "663",
                                    "Napok száma": "1",
                                    "Előző": "3"
                                },
                                {
                                    "SZOBA_FK": "15",
                                    "foglalas_pk": "791",
                                    "Napok száma": "5",
                                    "Előző": "1"
                                },
                                {
                                    "SZOBA_FK": "15",
                                    "foglalas_pk": "1028",
                                    "Napok száma": "2",
                                    "Előző": "5"
                                },
                                {
                                    "SZOBA_FK": "15",
                                    "foglalas_pk": "1442",
                                    "Napok száma": "3",
                                    "Előző": "2"
                                },
                                {
                                    "SZOBA_FK": "15",
                                    "foglalas_pk": "1418",
                                    "Napok száma": "4",
                                    "Előző": "3"
                                },
                                {
                                    "SZOBA_FK": "15",
                                    "foglalas_pk": "1129",
                                    "Napok száma": "4",
                                    "Előző": "4"
                                },
                                {
                                    "SZOBA_FK": "15",
                                    "foglalas_pk": "1244",
                                    "Napok száma": "1",
                                    "Előző": "4"
                                },
                                {
                                    "SZOBA_FK": "16",
                                    "foglalas_pk": "1498",
                                    "Napok száma": "7",
                                    "Előző": "1"
                                },
                                {
                                    "SZOBA_FK": "16",
                                    "foglalas_pk": "896",
                                    "Napok száma": "1",
                                    "Előző": "7"
                                },
                                {
                                    "SZOBA_FK": "16",
                                    "foglalas_pk": "856",
                                    "Napok száma": "6",
                                    "Előző": "1"
                                },
                                {
                                    "SZOBA_FK": "16",
                                    "foglalas_pk": "973",
                                    "Napok száma": "1",
                                    "Előző": "6"
                                },
                                {
                                    "SZOBA_FK": "16",
                                    "foglalas_pk": "687",
                                    "Napok száma": "3",
                                    "Előző": "1"
                                },
                                {
                                    "SZOBA_FK": "17",
                                    "foglalas_pk": "602",
                                    "Napok száma": "6",
                                    "Előző": "3"
                                },
                                {
                                    "SZOBA_FK": "17",
                                    "foglalas_pk": "744",
                                    "Napok száma": "1",
                                    "Előző": "6"
                                },
                                {
                                    "SZOBA_FK": "17",
                                    "foglalas_pk": "713",
                                    "Napok száma": "6",
                                    "Előző": "1"
                                },
                                {
                                    "SZOBA_FK": "17",
                                    "foglalas_pk": "916",
                                    "Napok száma": "2",
                                    "Előző": "6"
                                },
                                {
                                    "SZOBA_FK": "17",
                                    "foglalas_pk": "1549",
                                    "Napok száma": "3",
                                    "Előző": "2"
                                },
                                {
                                    "SZOBA_FK": "17",
                                    "foglalas_pk": "1316",
                                    "Napok száma": "5",
                                    "Előző": "3"
                                },
                                {
                                    "SZOBA_FK": "18",
                                    "foglalas_pk": "1173",
                                    "Napok száma": "6",
                                    "Előző": "5"
                                },
                                {
                                    "SZOBA_FK": "18",
                                    "foglalas_pk": "1198",
                                    "Napok száma": "4",
                                    "Előző": "6"
                                },
                                {
                                    "SZOBA_FK": "18",
                                    "foglalas_pk": "1505",
                                    "Napok száma": "6",
                                    "Előző": "4"
                                },
                                {
                                    "SZOBA_FK": "18",
                                    "foglalas_pk": "1035",
                                    "Napok száma": "6",
                                    "Előző": "6"
                                },
                                {
                                    "SZOBA_FK": "18",
                                    "foglalas_pk": "767",
                                    "Napok száma": "3",
                                    "Előző": "6"
                                },
                                {
                                    "SZOBA_FK": "18",
                                    "foglalas_pk": "626",
                                    "Napok száma": "3",
                                    "Előző": "3"
                                },
                                {
                                    "SZOBA_FK": "19",
                                    "foglalas_pk": "696",
                                    "Napok száma": "1",
                                    "Előző": "3"
                                },
                                {
                                    "SZOBA_FK": "19",
                                    "foglalas_pk": "778",
                                    "Napok száma": "1",
                                    "Előző": "1"
                                },
                                {
                                    "SZOBA_FK": "19",
                                    "foglalas_pk": "948",
                                    "Napok száma": "2",
                                    "Előző": "1"
                                },
                                {
                                    "SZOBA_FK": "19",
                                    "foglalas_pk": "1533",
                                    "Napok száma": "1",
                                    "Előző": "2"
                                },
                                {
                                    "SZOBA_FK": "19",
                                    "foglalas_pk": "1139",
                                    "Napok száma": "7",
                                    "Előző": "1"
                                },
                                {
                                    "SZOBA_FK": "19",
                                    "foglalas_pk": "1237",
                                    "Napok száma": "1",
                                    "Előző": "7"
                                },
                                {
                                    "SZOBA_FK": "20",
                                    "foglalas_pk": "1114",
                                    "Napok száma": "5",
                                    "Előző": "1"
                                },
                                {
                                    "SZOBA_FK": "20",
                                    "foglalas_pk": "1106",
                                    "Napok száma": "2",
                                    "Előző": "5"
                                },
                                {
                                    "SZOBA_FK": "20",
                                    "foglalas_pk": "1070",
                                    "Napok száma": "1",
                                    "Előző": "2"
                                },
                                {
                                    "SZOBA_FK": "20",
                                    "foglalas_pk": "820",
                                    "Napok száma": "1",
                                    "Előző": "1"
                                },
                                {
                                    "SZOBA_FK": "20",
                                    "foglalas_pk": "755",
                                    "Napok száma": "6",
                                    "Előző": "1"
                                },
                                {
                                    "SZOBA_FK": "21",
                                    "foglalas_pk": "805",
                                    "Napok száma": "1",
                                    "Előző": "6"
                                },
                                {
                                    "SZOBA_FK": "21",
                                    "foglalas_pk": "660",
                                    "Napok száma": "5",
                                    "Előző": "1"
                                },
                                {
                                    "SZOBA_FK": "21",
                                    "foglalas_pk": "566",
                                    "Napok száma": "6",
                                    "Előző": "5"
                                },
                                {
                                    "SZOBA_FK": "21",
                                    "foglalas_pk": "1212",
                                    "Napok száma": "6",
                                    "Előző": "6"
                                },
                                {
                                    "SZOBA_FK": "22",
                                    "foglalas_pk": "1206",
                                    "Napok száma": "7",
                                    "Előző": "6"
                                },
                                {
                                    "SZOBA_FK": "22",
                                    "foglalas_pk": "1130",
                                    "Napok száma": "1",
                                    "Előző": "7"
                                },
                                {
                                    "SZOBA_FK": "22",
                                    "foglalas_pk": "1195",
                                    "Napok száma": "6",
                                    "Előző": "1"
                                },
                                {
                                    "SZOBA_FK": "22",
                                    "foglalas_pk": "1287",
                                    "Napok száma": "3",
                                    "Előző": "6"
                                },
                                {
                                    "SZOBA_FK": "22",
                                    "foglalas_pk": "1005",
                                    "Napok száma": "3",
                                    "Előző": "3"
                                },
                                {
                                    "SZOBA_FK": "22",
                                    "foglalas_pk": "906",
                                    "Napok száma": "1",
                                    "Előző": "3"
                                },
                                {
                                    "SZOBA_FK": "23",
                                    "foglalas_pk": "848",
                                    "Napok száma": "1",
                                    "Előző": "1"
                                },
                                {
                                    "SZOBA_FK": "23",
                                    "foglalas_pk": "945",
                                    "Napok száma": "7",
                                    "Előző": "1"
                                },
                                {
                                    "SZOBA_FK": "23",
                                    "foglalas_pk": "934",
                                    "Napok száma": "1",
                                    "Előző": "7"
                                },
                                {
                                    "SZOBA_FK": "24",
                                    "foglalas_pk": "852",
                                    "Napok száma": "2",
                                    "Előző": "1"
                                },
                                {
                                    "SZOBA_FK": "24",
                                    "foglalas_pk": "1415",
                                    "Napok száma": "3",
                                    "Előző": "2"
                                },
                                {
                                    "SZOBA_FK": "24",
                                    "foglalas_pk": "1167",
                                    "Napok száma": "1",
                                    "Előző": "3"
                                },
                                {
                                    "SZOBA_FK": "25",
                                    "foglalas_pk": "1362",
                                    "Napok száma": "2",
                                    "Előző": "1"
                                },
                                {
                                    "SZOBA_FK": "25",
                                    "foglalas_pk": "1052",
                                    "Napok száma": "3",
                                    "Előző": "2"
                                },
                                {
                                    "SZOBA_FK": "26",
                                    "foglalas_pk": "1388",
                                    "Napok száma": "3",
                                    "Előző": "3"
                                },
                                {
                                    "SZOBA_FK": "26",
                                    "foglalas_pk": "1158",
                                    "Napok száma": "2",
                                    "Előző": "3"
                                },
                                {
                                    "SZOBA_FK": "27",
                                    "foglalas_pk": "1275",
                                    "Napok száma": "6",
                                    "Előző": "2"
                                },
                                {
                                    "SZOBA_FK": "27",
                                    "foglalas_pk": "1377",
                                    "Napok száma": "1",
                                    "Előző": "6"
                                },
                                {
                                    "SZOBA_FK": "27",
                                    "foglalas_pk": "1476",
                                    "Napok száma": "1",
                                    "Előző": "1"
                                },
                                {
                                    "SZOBA_FK": "27",
                                    "foglalas_pk": "1031",
                                    "Napok száma": "2",
                                    "Előző": "1"
                                },
                                {
                                    "SZOBA_FK": "27",
                                    "foglalas_pk": "1082",
                                    "Napok száma": "5",
                                    "Előző": "2"
                                },
                                {
                                    "SZOBA_FK": "27",
                                    "foglalas_pk": "807",
                                    "Napok száma": "2",
                                    "Előző": "5"
                                },
                                {
                                    "SZOBA_FK": "27",
                                    "foglalas_pk": "758",
                                    "Napok száma": "3",
                                    "Előző": "2"
                                },
                                {
                                    "SZOBA_FK": "28",
                                    "foglalas_pk": "725",
                                    "Napok száma": "5",
                                    "Előző": "3"
                                },
                                {
                                    "SZOBA_FK": "28",
                                    "foglalas_pk": "872",
                                    "Napok száma": "5",
                                    "Előző": "5"
                                },
                                {
                                    "SZOBA_FK": "28",
                                    "foglalas_pk": "901",
                                    "Napok száma": "4",
                                    "Előző": "5"
                                },
                                {
                                    "SZOBA_FK": "28",
                                    "foglalas_pk": "886",
                                    "Napok száma": "4",
                                    "Előző": "4"
                                },
                                {
                                    "SZOBA_FK": "28",
                                    "foglalas_pk": "1459",
                                    "Napok száma": "2",
                                    "Előző": "4"
                                },
                                {
                                    "SZOBA_FK": "28",
                                    "foglalas_pk": "1150",
                                    "Napok száma": "6",
                                    "Előző": "2"
                                },
                                {
                                    "SZOBA_FK": "29",
                                    "foglalas_pk": "1185",
                                    "Napok száma": "5",
                                    "Előző": "6"
                                },
                                {
                                    "SZOBA_FK": "29",
                                    "foglalas_pk": "1235",
                                    "Napok száma": "7",
                                    "Előző": "5"
                                },
                                {
                                    "SZOBA_FK": "29",
                                    "foglalas_pk": "1568",
                                    "Napok száma": "7",
                                    "Előző": "7"
                                },
                                {
                                    "SZOBA_FK": "29",
                                    "foglalas_pk": "894",
                                    "Napok száma": "1",
                                    "Előző": "7"
                                },
                                {
                                    "SZOBA_FK": "29",
                                    "foglalas_pk": "1076",
                                    "Napok száma": "7",
                                    "Előző": "1"
                                },
                                {
                                    "SZOBA_FK": "29",
                                    "foglalas_pk": "611",
                                    "Napok száma": "5",
                                    "Előző": "7"
                                },
                                {
                                    "SZOBA_FK": "30",
                                    "foglalas_pk": "604",
                                    "Napok száma": "2",
                                    "Előző": "5"
                                },
                                {
                                    "SZOBA_FK": "30",
                                    "foglalas_pk": "1023",
                                    "Napok száma": "7",
                                    "Előző": "2"
                                },
                                {
                                    "SZOBA_FK": "30",
                                    "foglalas_pk": "1136",
                                    "Napok száma": "5",
                                    "Előző": "7"
                                },
                                {
                                    "SZOBA_FK": "31",
                                    "foglalas_pk": "606",
                                    "Napok száma": "1",
                                    "Előző": "5"
                                },
                                {
                                    "SZOBA_FK": "31",
                                    "foglalas_pk": "598",
                                    "Napok száma": "2",
                                    "Előző": "1"
                                },
                                {
                                    "SZOBA_FK": "31",
                                    "foglalas_pk": "728",
                                    "Napok száma": "4",
                                    "Előző": "2"
                                },
                                {
                                    "SZOBA_FK": "32",
                                    "foglalas_pk": "920",
                                    "Napok száma": "4",
                                    "Előző": "4"
                                },
                                {
                                    "SZOBA_FK": "33",
                                    "foglalas_pk": "1053",
                                    "Napok száma": "1",
                                    "Előző": "4"
                                },
                                {
                                    "SZOBA_FK": "33",
                                    "foglalas_pk": "1012",
                                    "Napok száma": "7",
                                    "Előző": "1"
                                },
                                {
                                    "SZOBA_FK": "33",
                                    "foglalas_pk": "624",
                                    "Napok száma": "6",
                                    "Előző": "7"
                                },
                                {
                                    "SZOBA_FK": "33",
                                    "foglalas_pk": "1381",
                                    "Napok száma": "6",
                                    "Előző": "6"
                                },
                                {
                                    "SZOBA_FK": "33",
                                    "foglalas_pk": "1344",
                                    "Napok száma": "5",
                                    "Előző": "6"
                                },
                                {
                                    "SZOBA_FK": "33",
                                    "foglalas_pk": "1321",
                                    "Napok száma": "4",
                                    "Előző": "5"
                                },
                                {
                                    "SZOBA_FK": "34",
                                    "foglalas_pk": "777",
                                    "Napok száma": "3",
                                    "Előző": "4"
                                },
                                {
                                    "SZOBA_FK": "34",
                                    "foglalas_pk": "821",
                                    "Napok száma": "1",
                                    "Előző": "3"
                                },
                                {
                                    "SZOBA_FK": "34",
                                    "foglalas_pk": "904",
                                    "Napok száma": "2",
                                    "Előző": "1"
                                },
                                {
                                    "SZOBA_FK": "34",
                                    "foglalas_pk": "870",
                                    "Napok száma": "6",
                                    "Előző": "2"
                                },
                                {
                                    "SZOBA_FK": "35",
                                    "foglalas_pk": "971",
                                    "Napok száma": "3",
                                    "Előző": "6"
                                },
                                {
                                    "SZOBA_FK": "35",
                                    "foglalas_pk": "979",
                                    "Napok száma": "7",
                                    "Előző": "3"
                                },
                                {
                                    "SZOBA_FK": "35",
                                    "foglalas_pk": "829",
                                    "Napok száma": "2",
                                    "Előző": "7"
                                },
                                {
                                    "SZOBA_FK": "35",
                                    "foglalas_pk": "707",
                                    "Napok száma": "2",
                                    "Előző": "2"
                                },
                                {
                                    "SZOBA_FK": "35",
                                    "foglalas_pk": "686",
                                    "Napok száma": "6",
                                    "Előző": "2"
                                },
                                {
                                    "SZOBA_FK": "35",
                                    "foglalas_pk": "1411",
                                    "Napok száma": "1",
                                    "Előző": "6"
                                },
                                {
                                    "SZOBA_FK": "35",
                                    "foglalas_pk": "1480",
                                    "Napok száma": "37",
                                    "Előző": "1"
                                },
                                {
                                    "SZOBA_FK": "35",
                                    "foglalas_pk": "1436",
                                    "Napok száma": "1",
                                    "Előző": "37"
                                },
                                {
                                    "SZOBA_FK": "35",
                                    "foglalas_pk": "1529",
                                    "Napok száma": "4",
                                    "Előző": "1"
                                },
                                {
                                    "SZOBA_FK": "36",
                                    "foglalas_pk": "748",
                                    "Napok száma": "2",
                                    "Előző": "4"
                                },
                                {
                                    "SZOBA_FK": "36",
                                    "foglalas_pk": "750",
                                    "Napok száma": "6",
                                    "Előző": "2"
                                },
                                {
                                    "SZOBA_FK": "36",
                                    "foglalas_pk": "985",
                                    "Napok száma": "6",
                                    "Előző": "6"
                                },
                                {
                                    "SZOBA_FK": "36",
                                    "foglalas_pk": "919",
                                    "Napok száma": "1",
                                    "Előző": "6"
                                },
                                {
                                    "SZOBA_FK": "36",
                                    "foglalas_pk": "895",
                                    "Napok száma": "5",
                                    "Előző": "1"
                                },
                                {
                                    "SZOBA_FK": "36",
                                    "foglalas_pk": "1003",
                                    "Napok száma": "4",
                                    "Előző": "5"
                                },
                                {
                                    "SZOBA_FK": "37",
                                    "foglalas_pk": "705",
                                    "Napok száma": "4",
                                    "Előző": "4"
                                },
                                {
                                    "SZOBA_FK": "37",
                                    "foglalas_pk": "688",
                                    "Napok száma": "2",
                                    "Előző": "4"
                                },
                                {
                                    "SZOBA_FK": "37",
                                    "foglalas_pk": "1335",
                                    "Napok száma": "7",
                                    "Előző": "2"
                                },
                                {
                                    "SZOBA_FK": "38",
                                    "foglalas_pk": "1416",
                                    "Napok száma": "5",
                                    "Előző": "7"
                                },
                                {
                                    "SZOBA_FK": "38",
                                    "foglalas_pk": "1351",
                                    "Napok száma": "4",
                                    "Előző": "5"
                                },
                                {
                                    "SZOBA_FK": "38",
                                    "foglalas_pk": "1556",
                                    "Napok száma": "6",
                                    "Előző": "4"
                                },
                                {
                                    "SZOBA_FK": "38",
                                    "foglalas_pk": "1478",
                                    "Napok száma": "4",
                                    "Előző": "6"
                                },
                                {
                                    "SZOBA_FK": "38",
                                    "foglalas_pk": "627",
                                    "Napok száma": "6",
                                    "Előző": "4"
                                },
                                {
                                    "SZOBA_FK": "38",
                                    "foglalas_pk": "1033",
                                    "Napok száma": "2",
                                    "Előző": "6"
                                },
                                {
                                    "SZOBA_FK": "38",
                                    "foglalas_pk": "1078",
                                    "Napok száma": "7",
                                    "Előző": "2"
                                },
                                {
                                    "SZOBA_FK": "38",
                                    "foglalas_pk": "1060",
                                    "Napok száma": "2",
                                    "Előző": "7"
                                },
                                {
                                    "SZOBA_FK": "39",
                                    "foglalas_pk": "899",
                                    "Napok száma": "6",
                                    "Előző": "2"
                                },
                                {
                                    "SZOBA_FK": "39",
                                    "foglalas_pk": "601",
                                    "Napok száma": "6",
                                    "Előző": "6"
                                },
                                {
                                    "SZOBA_FK": "39",
                                    "foglalas_pk": "1435",
                                    "Napok száma": "7",
                                    "Előző": "6"
                                },
                                {
                                    "SZOBA_FK": "39",
                                    "foglalas_pk": "1454",
                                    "Napok száma": "1",
                                    "Előző": "7"
                                },
                                {
                                    "SZOBA_FK": "39",
                                    "foglalas_pk": "1538",
                                    "Napok száma": "2",
                                    "Előző": "1"
                                },
                                {
                                    "SZOBA_FK": "39",
                                    "foglalas_pk": "1380",
                                    "Napok száma": "5",
                                    "Előző": "2"
                                },
                                {
                                    "SZOBA_FK": "39",
                                    "foglalas_pk": "1214",
                                    "Napok száma": "5",
                                    "Előző": "5"
                                },
                                {
                                    "SZOBA_FK": "40",
                                    "foglalas_pk": "924",
                                    "Napok száma": "5",
                                    "Előző": "5"
                                },
                                {
                                    "SZOBA_FK": "40",
                                    "foglalas_pk": "932",
                                    "Napok száma": "6",
                                    "Előző": "5"
                                },
                                {
                                    "SZOBA_FK": "40",
                                    "foglalas_pk": "1118",
                                    "Napok száma": "5",
                                    "Előző": "6"
                                },
                                {
                                    "SZOBA_FK": "40",
                                    "foglalas_pk": "1018",
                                    "Napok száma": "5",
                                    "Előző": "5"
                                },
                                {
                                    "SZOBA_FK": "41",
                                    "foglalas_pk": "960",
                                    "Napok száma": "6",
                                    "Előző": "5"
                                },
                                {
                                    "SZOBA_FK": "41",
                                    "foglalas_pk": "1144",
                                    "Napok száma": "1",
                                    "Előző": "6"
                                },
                                {
                                    "SZOBA_FK": "42",
                                    "foglalas_pk": "1309",
                                    "Napok száma": "2",
                                    "Előző": "1"
                                },
                                {
                                    "SZOBA_FK": "42",
                                    "foglalas_pk": "1444",
                                    "Napok száma": "6",
                                    "Előző": "2"
                                },
                                {
                                    "SZOBA_FK": "42",
                                    "foglalas_pk": "851",
                                    "Napok száma": "7",
                                    "Előző": "6"
                                },
                                {
                                    "SZOBA_FK": "42",
                                    "foglalas_pk": "561",
                                    "Napok száma": "4",
                                    "Előző": "7"
                                },
                                {
                                    "SZOBA_FK": "42",
                                    "foglalas_pk": "590",
                                    "Napok száma": "5",
                                    "Előző": "4"
                                },
                                {
                                    "SZOBA_FK": "42",
                                    "foglalas_pk": "770",
                                    "Napok száma": "3",
                                    "Előző": "5"
                                },
                                {
                                    "SZOBA_FK": "43",
                                    "foglalas_pk": "670",
                                    "Napok száma": "4",
                                    "Előző": "3"
                                },
                                {
                                    "SZOBA_FK": "43",
                                    "foglalas_pk": "1019",
                                    "Napok száma": "4",
                                    "Előző": "4"
                                },
                                {
                                    "SZOBA_FK": "43",
                                    "foglalas_pk": "1088",
                                    "Napok száma": "2",
                                    "Előző": "4"
                                },
                                {
                                    "SZOBA_FK": "43",
                                    "foglalas_pk": "1553",
                                    "Napok száma": "5",
                                    "Előző": "2"
                                },
                                {
                                    "SZOBA_FK": "43",
                                    "foglalas_pk": "1524",
                                    "Napok száma": "1",
                                    "Előző": "5"
                                },
                                {
                                    "SZOBA_FK": "43",
                                    "foglalas_pk": "1207",
                                    "Napok száma": "1",
                                    "Előző": "1"
                                },
                                {
                                    "SZOBA_FK": "43",
                                    "foglalas_pk": "1227",
                                    "Napok száma": "5",
                                    "Előző": "1"
                                },
                                {
                                    "SZOBA_FK": "43",
                                    "foglalas_pk": "1270",
                                    "Napok száma": "4",
                                    "Előző": "5"
                                },
                                {
                                    "SZOBA_FK": "44",
                                    "foglalas_pk": "1295",
                                    "Napok száma": "2",
                                    "Előző": "4"
                                },
                                {
                                    "SZOBA_FK": "44",
                                    "foglalas_pk": "1552",
                                    "Napok száma": "2",
                                    "Előző": "2"
                                },
                                {
                                    "SZOBA_FK": "44",
                                    "foglalas_pk": "1425",
                                    "Napok száma": "2",
                                    "Előző": "2"
                                },
                                {
                                    "SZOBA_FK": "44",
                                    "foglalas_pk": "658",
                                    "Napok száma": "6",
                                    "Előző": "2"
                                },
                                {
                                    "SZOBA_FK": "44",
                                    "foglalas_pk": "589",
                                    "Napok száma": "2",
                                    "Előző": "6"
                                },
                                {
                                    "SZOBA_FK": "44",
                                    "foglalas_pk": "823",
                                    "Napok száma": "2",
                                    "Előző": "2"
                                },
                                {
                                    "SZOBA_FK": "45",
                                    "foglalas_pk": "802",
                                    "Napok száma": "7",
                                    "Előző": "2"
                                },
                                {
                                    "SZOBA_FK": "45",
                                    "foglalas_pk": "800",
                                    "Napok száma": "5",
                                    "Előző": "7"
                                },
                                {
                                    "SZOBA_FK": "45",
                                    "foglalas_pk": "846",
                                    "Napok száma": "3",
                                    "Előző": "5"
                                },
                                {
                                    "SZOBA_FK": "45",
                                    "foglalas_pk": "1303",
                                    "Napok száma": "2",
                                    "Előző": "3"
                                },
                                {
                                    "SZOBA_FK": "45",
                                    "foglalas_pk": "1135",
                                    "Napok száma": "3",
                                    "Előző": "2"
                                },
                                {
                                    "SZOBA_FK": "46",
                                    "foglalas_pk": "1187",
                                    "Napok száma": "7",
                                    "Előző": "3"
                                },
                                {
                                    "SZOBA_FK": "46",
                                    "foglalas_pk": "1291",
                                    "Napok száma": "3",
                                    "Előző": "7"
                                },
                                {
                                    "SZOBA_FK": "46",
                                    "foglalas_pk": "1515",
                                    "Napok száma": "4",
                                    "Előző": "3"
                                },
                                {
                                    "SZOBA_FK": "46",
                                    "foglalas_pk": "752",
                                    "Napok száma": "5",
                                    "Előző": "4"
                                },
                                {
                                    "SZOBA_FK": "47",
                                    "foglalas_pk": "955",
                                    "Napok száma": "1",
                                    "Előző": "5"
                                },
                                {
                                    "SZOBA_FK": "47",
                                    "foglalas_pk": "1056",
                                    "Napok száma": "7",
                                    "Előző": "1"
                                },
                                {
                                    "SZOBA_FK": "48",
                                    "foglalas_pk": "986",
                                    "Napok száma": "5",
                                    "Előző": "7"
                                },
                                {
                                    "SZOBA_FK": "48",
                                    "foglalas_pk": "914",
                                    "Napok száma": "5",
                                    "Előző": "5"
                                },
                                {
                                    "SZOBA_FK": "48",
                                    "foglalas_pk": "824",
                                    "Napok száma": "2",
                                    "Előző": "5"
                                },
                                {
                                    "SZOBA_FK": "48",
                                    "foglalas_pk": "603",
                                    "Napok száma": "3",
                                    "Előző": "2"
                                },
                                {
                                    "SZOBA_FK": "48",
                                    "foglalas_pk": "628",
                                    "Napok száma": "2",
                                    "Előző": "3"
                                },
                                {
                                    "SZOBA_FK": "48",
                                    "foglalas_pk": "1546",
                                    "Napok száma": "3",
                                    "Előző": "2"
                                },
                                {
                                    "SZOBA_FK": "48",
                                    "foglalas_pk": "1547",
                                    "Napok száma": "1",
                                    "Előző": "3"
                                },
                                {
                                    "SZOBA_FK": "48",
                                    "foglalas_pk": "1581",
                                    "Napok száma": "5",
                                    "Előző": "1"
                                },
                                {
                                    "SZOBA_FK": "48",
                                    "foglalas_pk": "1243",
                                    "Napok száma": "6",
                                    "Előző": "5"
                                },
                                {
                                    "SZOBA_FK": "49",
                                    "foglalas_pk": "1221",
                                    "Napok száma": "2",
                                    "Előző": "6"
                                },
                                {
                                    "SZOBA_FK": "49",
                                    "foglalas_pk": "1200",
                                    "Napok száma": "7",
                                    "Előző": "2"
                                },
                                {
                                    "SZOBA_FK": "49",
                                    "foglalas_pk": "1536",
                                    "Napok száma": "6",
                                    "Előző": "7"
                                },
                                {
                                    "SZOBA_FK": "49",
                                    "foglalas_pk": "826",
                                    "Napok száma": "4",
                                    "Előző": "6"
                                },
                                {
                                    "SZOBA_FK": "49",
                                    "foglalas_pk": "793",
                                    "Napok száma": "6",
                                    "Előző": "4"
                                },
                                {
                                    "SZOBA_FK": "49",
                                    "foglalas_pk": "888",
                                    "Napok száma": "7",
                                    "Előző": "6"
                                },
                                {
                                    "SZOBA_FK": "49",
                                    "foglalas_pk": "1066",
                                    "Napok száma": "7",
                                    "Előző": "7"
                                },
                                {
                                    "SZOBA_FK": "50",
                                    "foglalas_pk": "1063",
                                    "Napok száma": "2",
                                    "Előző": "7"
                                },
                                {
                                    "SZOBA_FK": "50",
                                    "foglalas_pk": "787",
                                    "Napok száma": "3",
                                    "Előző": "2"
                                },
                                {
                                    "SZOBA_FK": "50",
                                    "foglalas_pk": "1224",
                                    "Napok száma": "1",
                                    "Előző": "3"
                                },
                                {
                                    "SZOBA_FK": "50",
                                    "foglalas_pk": "1272",
                                    "Napok száma": "1",
                                    "Előző": "1"
                                },
                                {
                                    "SZOBA_FK": "51",
                                    "foglalas_pk": "1165",
                                    "Napok száma": "5",
                                    "Előző": "1"
                                },
                                {
                                    "SZOBA_FK": "51",
                                    "foglalas_pk": "1550",
                                    "Napok száma": "1",
                                    "Előző": "5"
                                },
                                {
                                    "SZOBA_FK": "51",
                                    "foglalas_pk": "1477",
                                    "Napok száma": "6",
                                    "Előző": "1"
                                },
                                {
                                    "SZOBA_FK": "51",
                                    "foglalas_pk": "811",
                                    "Napok száma": "2",
                                    "Előző": "6"
                                },
                                {
                                    "SZOBA_FK": "51",
                                    "foglalas_pk": "865",
                                    "Napok száma": "7",
                                    "Előző": "2"
                                },
                                {
                                    "SZOBA_FK": "52",
                                    "foglalas_pk": "822",
                                    "Napok száma": "7",
                                    "Előző": "7"
                                },
                                {
                                    "SZOBA_FK": "52",
                                    "foglalas_pk": "1431",
                                    "Napok száma": "5",
                                    "Előző": "7"
                                },
                                {
                                    "SZOBA_FK": "52",
                                    "foglalas_pk": "1534",
                                    "Napok száma": "5",
                                    "Előző": "5"
                                },
                                {
                                    "SZOBA_FK": "52",
                                    "foglalas_pk": "1258",
                                    "Napok száma": "5",
                                    "Előző": "5"
                                },
                                {
                                    "SZOBA_FK": "52",
                                    "foglalas_pk": "1202",
                                    "Napok száma": "2",
                                    "Előző": "5"
                                },
                                {
                                    "SZOBA_FK": "53",
                                    "foglalas_pk": "855",
                                    "Napok száma": "1",
                                    "Előző": "2"
                                },
                                {
                                    "SZOBA_FK": "53",
                                    "foglalas_pk": "987",
                                    "Napok száma": "4",
                                    "Előző": "1"
                                },
                                {
                                    "SZOBA_FK": "54",
                                    "foglalas_pk": "889",
                                    "Napok száma": "2",
                                    "Előző": "4"
                                },
                                {
                                    "SZOBA_FK": "54",
                                    "foglalas_pk": "1096",
                                    "Napok száma": "4",
                                    "Előző": "2"
                                },
                                {
                                    "SZOBA_FK": "54",
                                    "foglalas_pk": "622",
                                    "Napok száma": "7",
                                    "Előző": "4"
                                },
                                {
                                    "SZOBA_FK": "54",
                                    "foglalas_pk": "642",
                                    "Napok száma": "5",
                                    "Előző": "7"
                                },
                                {
                                    "SZOBA_FK": "54",
                                    "foglalas_pk": "668",
                                    "Napok száma": "1",
                                    "Előző": "5"
                                },
                                {
                                    "SZOBA_FK": "54",
                                    "foglalas_pk": "1328",
                                    "Napok száma": "4",
                                    "Előző": "1"
                                },
                                {
                                    "SZOBA_FK": "55",
                                    "foglalas_pk": "1327",
                                    "Napok száma": "6",
                                    "Előző": "4"
                                },
                                {
                                    "SZOBA_FK": "55",
                                    "foglalas_pk": "1386",
                                    "Napok száma": "2",
                                    "Előző": "6"
                                },
                                {
                                    "SZOBA_FK": "55",
                                    "foglalas_pk": "1232",
                                    "Napok száma": "7",
                                    "Előző": "2"
                                },
                                {
                                    "SZOBA_FK": "55",
                                    "foglalas_pk": "1163",
                                    "Napok száma": "2",
                                    "Előző": "7"
                                },
                                {
                                    "SZOBA_FK": "55",
                                    "foglalas_pk": "1512",
                                    "Napok száma": "1",
                                    "Előző": "2"
                                },
                                {
                                    "SZOBA_FK": "55",
                                    "foglalas_pk": "1520",
                                    "Napok száma": "1",
                                    "Előző": "1"
                                },
                                {
                                    "SZOBA_FK": "55",
                                    "foglalas_pk": "734",
                                    "Napok száma": "6",
                                    "Előző": "1"
                                },
                                {
                                    "SZOBA_FK": "55",
                                    "foglalas_pk": "1086",
                                    "Napok száma": "5",
                                    "Előző": "6"
                                },
                                {
                                    "SZOBA_FK": "56",
                                    "foglalas_pk": "935",
                                    "Napok száma": "4",
                                    "Előző": "5"
                                },
                                {
                                    "SZOBA_FK": "56",
                                    "foglalas_pk": "838",
                                    "Napok száma": "2",
                                    "Előző": "4"
                                },
                                {
                                    "SZOBA_FK": "57",
                                    "foglalas_pk": "1504",
                                    "Napok száma": "4",
                                    "Előző": "2"
                                },
                                {
                                    "SZOBA_FK": "57",
                                    "foglalas_pk": "1466",
                                    "Napok száma": "7",
                                    "Előző": "4"
                                },
                                {
                                    "SZOBA_FK": "57",
                                    "foglalas_pk": "1389",
                                    "Napok száma": "1",
                                    "Előző": "7"
                                },
                                {
                                    "SZOBA_FK": "57",
                                    "foglalas_pk": "1348",
                                    "Napok száma": "1",
                                    "Előző": "1"
                                },
                                {
                                    "SZOBA_FK": "58",
                                    "foglalas_pk": "1322",
                                    "Napok száma": "3",
                                    "Előző": "1"
                                },
                                {
                                    "SZOBA_FK": "58",
                                    "foglalas_pk": "1293",
                                    "Napok száma": "3",
                                    "Előző": "3"
                                },
                                {
                                    "SZOBA_FK": "58",
                                    "foglalas_pk": "1285",
                                    "Napok száma": "7",
                                    "Előző": "3"
                                },
                                {
                                    "SZOBA_FK": "58",
                                    "foglalas_pk": "1307",
                                    "Napok száma": "6",
                                    "Előző": "7"
                                },
                                {
                                    "SZOBA_FK": "58",
                                    "foglalas_pk": "1186",
                                    "Napok száma": "6",
                                    "Előző": "6"
                                },
                                {
                                    "SZOBA_FK": "58",
                                    "foglalas_pk": "1208",
                                    "Napok száma": "6",
                                    "Előző": "6"
                                },
                                {
                                    "SZOBA_FK": "58",
                                    "foglalas_pk": "1255",
                                    "Napok száma": "7",
                                    "Előző": "6"
                                },
                                {
                                    "SZOBA_FK": "58",
                                    "foglalas_pk": "1261",
                                    "Napok száma": "6",
                                    "Előző": "7"
                                },
                                {
                                    "SZOBA_FK": "58",
                                    "foglalas_pk": "1451",
                                    "Napok száma": "6",
                                    "Előző": "6"
                                },
                                {
                                    "SZOBA_FK": "58",
                                    "foglalas_pk": "719",
                                    "Napok száma": "3",
                                    "Előző": "6"
                                },
                                {
                                    "SZOBA_FK": "58",
                                    "foglalas_pk": "773",
                                    "Napok száma": "2",
                                    "Előző": "3"
                                },
                                {
                                    "SZOBA_FK": "58",
                                    "foglalas_pk": "883",
                                    "Napok száma": "5",
                                    "Előző": "2"
                                },
                                {
                                    "SZOBA_FK": "58",
                                    "foglalas_pk": "1113",
                                    "Napok száma": "3",
                                    "Előző": "5"
                                },
                                {
                                    "SZOBA_FK": "59",
                                    "foglalas_pk": "1084",
                                    "Napok száma": "2",
                                    "Előző": "3"
                                },
                                {
                                    "SZOBA_FK": "59",
                                    "foglalas_pk": "1080",
                                    "Napok száma": "1",
                                    "Előző": "2"
                                },
                                {
                                    "SZOBA_FK": "59",
                                    "foglalas_pk": "1573",
                                    "Napok száma": "1",
                                    "Előző": "1"
                                },
                                {
                                    "SZOBA_FK": "59",
                                    "foglalas_pk": "1239",
                                    "Napok száma": "2",
                                    "Előző": "1"
                                },
                                {
                                    "SZOBA_FK": "59",
                                    "foglalas_pk": "1191",
                                    "Napok száma": "6",
                                    "Előző": "2"
                                },
                                {
                                    "SZOBA_FK": "59",
                                    "foglalas_pk": "1170",
                                    "Napok száma": "5",
                                    "Előző": "6"
                                },
                                {
                                    "SZOBA_FK": "59",
                                    "foglalas_pk": "1288",
                                    "Napok száma": "3",
                                    "Előző": "5"
                                },
                                {
                                    "SZOBA_FK": "60",
                                    "foglalas_pk": "676",
                                    "Napok száma": "2",
                                    "Előző": "3"
                                },
                                {
                                    "SZOBA_FK": "61",
                                    "foglalas_pk": "756",
                                    "Napok száma": "6",
                                    "Előző": "2"
                                },
                                {
                                    "SZOBA_FK": "61",
                                    "foglalas_pk": "701",
                                    "Napok száma": "2",
                                    "Előző": "6"
                                },
                                {
                                    "SZOBA_FK": "61",
                                    "foglalas_pk": "1148",
                                    "Napok száma": "3",
                                    "Előző": "2"
                                },
                                {
                                    "SZOBA_FK": "61",
                                    "foglalas_pk": "1218",
                                    "Napok száma": "2",
                                    "Előző": "3"
                                },
                                {
                                    "SZOBA_FK": "61",
                                    "foglalas_pk": "1496",
                                    "Napok száma": "7",
                                    "Előző": "2"
                                },
                                {
                                    "SZOBA_FK": "62",
                                    "foglalas_pk": "1426",
                                    "Napok száma": "4",
                                    "Előző": "7"
                                },
                                {
                                    "SZOBA_FK": "62",
                                    "foglalas_pk": "702",
                                    "Napok száma": "5",
                                    "Előző": "4"
                                },
                                {
                                    "SZOBA_FK": "62",
                                    "foglalas_pk": "1081",
                                    "Napok száma": "7",
                                    "Előző": "5"
                                },
                                {
                                    "SZOBA_FK": "62",
                                    "foglalas_pk": "936",
                                    "Napok száma": "3",
                                    "Előző": "7"
                                },
                                {
                                    "SZOBA_FK": "62",
                                    "foglalas_pk": "938",
                                    "Napok száma": "1",
                                    "Előző": "3"
                                },
                                {
                                    "SZOBA_FK": "63",
                                    "foglalas_pk": "891",
                                    "Napok száma": "6",
                                    "Előző": "1"
                                },
                                {
                                    "SZOBA_FK": "63",
                                    "foglalas_pk": "845",
                                    "Napok száma": "1",
                                    "Előző": "6"
                                },
                                {
                                    "SZOBA_FK": "63",
                                    "foglalas_pk": "769",
                                    "Napok száma": "5",
                                    "Előző": "1"
                                },
                                {
                                    "SZOBA_FK": "63",
                                    "foglalas_pk": "625",
                                    "Napok száma": "3",
                                    "Előző": "5"
                                },
                                {
                                    "SZOBA_FK": "64",
                                    "foglalas_pk": "875",
                                    "Napok száma": "2",
                                    "Előző": "3"
                                },
                                {
                                    "SZOBA_FK": "64",
                                    "foglalas_pk": "1122",
                                    "Napok száma": "4",
                                    "Előző": "2"
                                },
                                {
                                    "SZOBA_FK": "64",
                                    "foglalas_pk": "1446",
                                    "Napok száma": "6",
                                    "Előző": "4"
                                },
                                {
                                    "SZOBA_FK": "64",
                                    "foglalas_pk": "1465",
                                    "Napok száma": "4",
                                    "Előző": "6"
                                },
                                {
                                    "SZOBA_FK": "64",
                                    "foglalas_pk": "1582",
                                    "Napok száma": "1",
                                    "Előző": "4"
                                },
                                {
                                    "SZOBA_FK": "64",
                                    "foglalas_pk": "1233",
                                    "Napok száma": "7",
                                    "Előző": "1"
                                },
                                {
                                    "SZOBA_FK": "65",
                                    "foglalas_pk": "650",
                                    "Napok száma": "6",
                                    "Előző": "7"
                                },
                                {
                                    "SZOBA_FK": "66",
                                    "foglalas_pk": "736",
                                    "Napok száma": "3",
                                    "Előző": "6"
                                },
                                {
                                    "SZOBA_FK": "66",
                                    "foglalas_pk": "950",
                                    "Napok száma": "3",
                                    "Előző": "3"
                                },
                                {
                                    "SZOBA_FK": "66",
                                    "foglalas_pk": "1234",
                                    "Napok száma": "3",
                                    "Előző": "3"
                                },
                                {
                                    "SZOBA_FK": "66",
                                    "foglalas_pk": "1264",
                                    "Napok száma": "4",
                                    "Előző": "3"
                                },
                                {
                                    "SZOBA_FK": "67",
                                    "foglalas_pk": "1382",
                                    "Napok száma": "1",
                                    "Előző": "4"
                                },
                                {
                                    "SZOBA_FK": "67",
                                    "foglalas_pk": "1584",
                                    "Napok száma": "1",
                                    "Előző": "1"
                                },
                                {
                                    "SZOBA_FK": "67",
                                    "foglalas_pk": "1580",
                                    "Napok száma": "5",
                                    "Előző": "1"
                                },
                                {
                                    "SZOBA_FK": "67",
                                    "foglalas_pk": "874",
                                    "Napok száma": "6",
                                    "Előző": "5"
                                },
                                {
                                    "SZOBA_FK": "67",
                                    "foglalas_pk": "638",
                                    "Napok száma": "5",
                                    "Előző": "6"
                                },
                                {
                                    "SZOBA_FK": "67",
                                    "foglalas_pk": "645",
                                    "Napok száma": "6",
                                    "Előző": "5"
                                },
                                {
                                    "SZOBA_FK": "68",
                                    "foglalas_pk": "563",
                                    "Napok száma": "5",
                                    "Előző": "6"
                                },
                                {
                                    "SZOBA_FK": "68",
                                    "foglalas_pk": "1027",
                                    "Napok száma": "7",
                                    "Előző": "5"
                                },
                                {
                                    "SZOBA_FK": "68",
                                    "foglalas_pk": "1324",
                                    "Napok száma": "4",
                                    "Előző": "7"
                                },
                                {
                                    "SZOBA_FK": "69",
                                    "foglalas_pk": "1246",
                                    "Napok száma": "7",
                                    "Előző": "4"
                                },
                                {
                                    "SZOBA_FK": "69",
                                    "foglalas_pk": "1225",
                                    "Napok száma": "5",
                                    "Előző": "7"
                                },
                                {
                                    "SZOBA_FK": "69",
                                    "foglalas_pk": "1055",
                                    "Napok száma": "5",
                                    "Előző": "5"
                                },
                                {
                                    "SZOBA_FK": "69",
                                    "foglalas_pk": "885",
                                    "Napok száma": "1",
                                    "Előző": "5"
                                },
                                {
                                    "SZOBA_FK": "70",
                                    "foglalas_pk": "860",
                                    "Napok száma": "2",
                                    "Előző": "1"
                                },
                                {
                                    "SZOBA_FK": "70",
                                    "foglalas_pk": "1006",
                                    "Napok száma": "3",
                                    "Előző": "2"
                                },
                                {
                                    "SZOBA_FK": "70",
                                    "foglalas_pk": "1126",
                                    "Napok száma": "3",
                                    "Előző": "3"
                                },
                                {
                                    "SZOBA_FK": "70",
                                    "foglalas_pk": "1092",
                                    "Napok száma": "3",
                                    "Előző": "3"
                                },
                                {
                                    "SZOBA_FK": "70",
                                    "foglalas_pk": "585",
                                    "Napok száma": "5",
                                    "Előző": "3"
                                },
                                {
                                    "SZOBA_FK": "70",
                                    "foglalas_pk": "704",
                                    "Napok száma": "3",
                                    "Előző": "5"
                                },
                                {
                                    "SZOBA_FK": "70",
                                    "foglalas_pk": "814",
                                    "Napok száma": "3",
                                    "Előző": "3"
                                },
                                {
                                    "SZOBA_FK": "70",
                                    "foglalas_pk": "1325",
                                    "Napok száma": "7",
                                    "Előző": "3"
                                },
                                {
                                    "SZOBA_FK": "70",
                                    "foglalas_pk": "1333",
                                    "Napok száma": "6",
                                    "Előző": "7"
                                },
                                {
                                    "SZOBA_FK": "70",
                                    "foglalas_pk": "1365",
                                    "Napok száma": "3",
                                    "Előző": "6"
                                },
                                {
                                    "SZOBA_FK": "70",
                                    "foglalas_pk": "1457",
                                    "Napok száma": "7",
                                    "Előző": "3"
                                },
                                {
                                    "SZOBA_FK": "71",
                                    "foglalas_pk": "712",
                                    "Napok száma": "1",
                                    "Előző": "7"
                                },
                                {
                                    "SZOBA_FK": "71",
                                    "foglalas_pk": "681",
                                    "Napok száma": "3",
                                    "Előző": "1"
                                },
                                {
                                    "SZOBA_FK": "71",
                                    "foglalas_pk": "1009",
                                    "Napok száma": "1",
                                    "Előző": "3"
                                },
                                {
                                    "SZOBA_FK": "72",
                                    "foglalas_pk": "902",
                                    "Napok száma": "5",
                                    "Előző": "1"
                                },
                                {
                                    "SZOBA_FK": "72",
                                    "foglalas_pk": "961",
                                    "Napok száma": "6",
                                    "Előző": "5"
                                },
                                {
                                    "SZOBA_FK": "72",
                                    "foglalas_pk": "1396",
                                    "Napok száma": "3",
                                    "Előző": "6"
                                },
                                {
                                    "SZOBA_FK": "72",
                                    "foglalas_pk": "1318",
                                    "Napok száma": "2",
                                    "Előző": "3"
                                },
                                {
                                    "SZOBA_FK": "73",
                                    "foglalas_pk": "1331",
                                    "Napok száma": "4",
                                    "Előző": "2"
                                },
                                {
                                    "SZOBA_FK": "73",
                                    "foglalas_pk": "1159",
                                    "Napok száma": "5",
                                    "Előző": "4"
                                },
                                {
                                    "SZOBA_FK": "73",
                                    "foglalas_pk": "1000",
                                    "Napok száma": "4",
                                    "Előző": "5"
                                },
                                {
                                    "SZOBA_FK": "73",
                                    "foglalas_pk": "714",
                                    "Napok száma": "7",
                                    "Előző": "4"
                                },
                                {
                                    "SZOBA_FK": "74",
                                    "foglalas_pk": "830",
                                    "Napok száma": "1",
                                    "Előző": "7"
                                },
                                {
                                    "SZOBA_FK": "74",
                                    "foglalas_pk": "797",
                                    "Napok száma": "5",
                                    "Előző": "1"
                                },
                                {
                                    "SZOBA_FK": "74",
                                    "foglalas_pk": "595",
                                    "Napok száma": "7",
                                    "Előző": "5"
                                },
                                {
                                    "SZOBA_FK": "74",
                                    "foglalas_pk": "1093",
                                    "Napok száma": "6",
                                    "Előző": "7"
                                },
                                {
                                    "SZOBA_FK": "74",
                                    "foglalas_pk": "963",
                                    "Napok száma": "1",
                                    "Előző": "6"
                                },
                                {
                                    "SZOBA_FK": "74",
                                    "foglalas_pk": "940",
                                    "Napok száma": "5",
                                    "Előző": "1"
                                },
                                {
                                    "SZOBA_FK": "74",
                                    "foglalas_pk": "877",
                                    "Napok száma": "4",
                                    "Előző": "5"
                                },
                                {
                                    "SZOBA_FK": "74",
                                    "foglalas_pk": "847",
                                    "Napok száma": "3",
                                    "Előző": "4"
                                },
                                {
                                    "SZOBA_FK": "74",
                                    "foglalas_pk": "1179",
                                    "Napok száma": "7",
                                    "Előző": "3"
                                },
                                {
                                    "SZOBA_FK": "75",
                                    "foglalas_pk": "1412",
                                    "Napok száma": "2",
                                    "Előző": "7"
                                },
                                {
                                    "SZOBA_FK": "75",
                                    "foglalas_pk": "1458",
                                    "Napok száma": "1",
                                    "Előző": "2"
                                },
                                {
                                    "SZOBA_FK": "75",
                                    "foglalas_pk": "1013",
                                    "Napok száma": "5",
                                    "Előző": "1"
                                },
                                {
                                    "SZOBA_FK": "76",
                                    "foglalas_pk": "976",
                                    "Napok száma": "2",
                                    "Előző": "5"
                                },
                                {
                                    "SZOBA_FK": "76",
                                    "foglalas_pk": "683",
                                    "Napok száma": "7",
                                    "Előző": "2"
                                },
                                {
                                    "SZOBA_FK": "76",
                                    "foglalas_pk": "1557",
                                    "Napok száma": "3",
                                    "Előző": "7"
                                },
                                {
                                    "SZOBA_FK": "77",
                                    "foglalas_pk": "1461",
                                    "Napok száma": "4",
                                    "Előző": "3"
                                },
                                {
                                    "SZOBA_FK": "77",
                                    "foglalas_pk": "1439",
                                    "Napok száma": "6",
                                    "Előző": "4"
                                },
                                {
                                    "SZOBA_FK": "77",
                                    "foglalas_pk": "698",
                                    "Napok száma": "4",
                                    "Előző": "6"
                                },
                                {
                                    "SZOBA_FK": "77",
                                    "foglalas_pk": "593",
                                    "Napok száma": "3",
                                    "Előző": "4"
                                },
                                {
                                    "SZOBA_FK": "77",
                                    "foglalas_pk": "982",
                                    "Napok száma": "3",
                                    "Előző": "3"
                                },
                                {
                                    "SZOBA_FK": "77",
                                    "foglalas_pk": "1104",
                                    "Napok száma": "1",
                                    "Előző": "3"
                                },
                                {
                                    "SZOBA_FK": "78",
                                    "foglalas_pk": "568",
                                    "Napok száma": "1",
                                    "Előző": "1"
                                },
                                {
                                    "SZOBA_FK": "78",
                                    "foglalas_pk": "700",
                                    "Napok száma": "5",
                                    "Előző": "1"
                                },
                                {
                                    "SZOBA_FK": "78",
                                    "foglalas_pk": "646",
                                    "Napok száma": "3",
                                    "Előző": "5"
                                },
                                {
                                    "SZOBA_FK": "78",
                                    "foglalas_pk": "1577",
                                    "Napok száma": "7",
                                    "Előző": "3"
                                },
                                {
                                    "SZOBA_FK": "78",
                                    "foglalas_pk": "1281",
                                    "Napok száma": "3",
                                    "Előző": "7"
                                },
                                {
                                    "SZOBA_FK": "78",
                                    "foglalas_pk": "1268",
                                    "Napok száma": "2",
                                    "Előző": "3"
                                },
                                {
                                    "SZOBA_FK": "79",
                                    "foglalas_pk": "1229",
                                    "Napok száma": "7",
                                    "Előző": "2"
                                },
                                {
                                    "SZOBA_FK": "79",
                                    "foglalas_pk": "1345",
                                    "Napok száma": "3",
                                    "Előző": "7"
                                },
                                {
                                    "SZOBA_FK": "79",
                                    "foglalas_pk": "1447",
                                    "Napok száma": "4",
                                    "Előző": "3"
                                },
                                {
                                    "SZOBA_FK": "79",
                                    "foglalas_pk": "583",
                                    "Napok száma": "6",
                                    "Előző": "4"
                                },
                                {
                                    "SZOBA_FK": "79",
                                    "foglalas_pk": "1054",
                                    "Napok száma": "1",
                                    "Előző": "6"
                                },
                                {
                                    "SZOBA_FK": "80",
                                    "foglalas_pk": "983",
                                    "Napok száma": "6",
                                    "Előző": "1"
                                },
                                {
                                    "SZOBA_FK": "80",
                                    "foglalas_pk": "1071",
                                    "Napok száma": "4",
                                    "Előző": "6"
                                },
                                {
                                    "SZOBA_FK": "80",
                                    "foglalas_pk": "929",
                                    "Napok száma": "2",
                                    "Előző": "4"
                                },
                                {
                                    "SZOBA_FK": "80",
                                    "foglalas_pk": "887",
                                    "Napok száma": "6",
                                    "Előző": "2"
                                },
                                {
                                    "SZOBA_FK": "80",
                                    "foglalas_pk": "667",
                                    "Napok száma": "6",
                                    "Előző": "6"
                                },
                                {
                                    "SZOBA_FK": "80",
                                    "foglalas_pk": "1367",
                                    "Napok száma": "3",
                                    "Előző": "6"
                                },
                                {
                                    "SZOBA_FK": "80",
                                    "foglalas_pk": "1279",
                                    "Napok száma": "5",
                                    "Előző": "3"
                                },
                                {
                                    "SZOBA_FK": "81",
                                    "foglalas_pk": "1366",
                                    "Napok száma": "5",
                                    "Előző": "5"
                                },
                                {
                                    "SZOBA_FK": "81",
                                    "foglalas_pk": "1443",
                                    "Napok száma": "7",
                                    "Előző": "5"
                                },
                                {
                                    "SZOBA_FK": "81",
                                    "foglalas_pk": "1464",
                                    "Napok száma": "7",
                                    "Előző": "7"
                                },
                                {
                                    "SZOBA_FK": "81",
                                    "foglalas_pk": "1562",
                                    "Napok száma": "3",
                                    "Előző": "7"
                                },
                                {
                                    "SZOBA_FK": "81",
                                    "foglalas_pk": "1506",
                                    "Napok száma": "3",
                                    "Előző": "3"
                                },
                                {
                                    "SZOBA_FK": "82",
                                    "foglalas_pk": "1406",
                                    "Napok száma": "1",
                                    "Előző": "3"
                                },
                                {
                                    "SZOBA_FK": "82",
                                    "foglalas_pk": "1277",
                                    "Napok száma": "5",
                                    "Előző": "1"
                                },
                                {
                                    "SZOBA_FK": "82",
                                    "foglalas_pk": "1341",
                                    "Napok száma": "2",
                                    "Előző": "5"
                                },
                                {
                                    "SZOBA_FK": "82",
                                    "foglalas_pk": "862",
                                    "Napok száma": "4",
                                    "Előző": "2"
                                },
                                {
                                    "SZOBA_FK": "82",
                                    "foglalas_pk": "871",
                                    "Napok száma": "5",
                                    "Előző": "4"
                                },
                                {
                                    "SZOBA_FK": "82",
                                    "foglalas_pk": "997",
                                    "Napok száma": "6",
                                    "Előző": "5"
                                },
                                {
                                    "SZOBA_FK": "83",
                                    "foglalas_pk": "995",
                                    "Napok száma": "5",
                                    "Előző": "6"
                                },
                                {
                                    "SZOBA_FK": "83",
                                    "foglalas_pk": "1119",
                                    "Napok száma": "6",
                                    "Előző": "5"
                                },
                                {
                                    "SZOBA_FK": "83",
                                    "foglalas_pk": "869",
                                    "Napok száma": "6",
                                    "Előző": "6"
                                },
                                {
                                    "SZOBA_FK": "83",
                                    "foglalas_pk": "878",
                                    "Napok száma": "6",
                                    "Előző": "6"
                                },
                                {
                                    "SZOBA_FK": "83",
                                    "foglalas_pk": "674",
                                    "Napok száma": "4",
                                    "Előző": "6"
                                },
                                {
                                    "SZOBA_FK": "83",
                                    "foglalas_pk": "572",
                                    "Napok száma": "7",
                                    "Előző": "4"
                                },
                                {
                                    "SZOBA_FK": "83",
                                    "foglalas_pk": "798",
                                    "Napok száma": "4",
                                    "Előző": "7"
                                },
                                {
                                    "SZOBA_FK": "83",
                                    "foglalas_pk": "1379",
                                    "Napok száma": "7",
                                    "Előző": "4"
                                },
                                {
                                    "SZOBA_FK": "84",
                                    "foglalas_pk": "1376",
                                    "Napok száma": "5",
                                    "Előző": "7"
                                },
                                {
                                    "SZOBA_FK": "84",
                                    "foglalas_pk": "1384",
                                    "Napok száma": "7",
                                    "Előző": "5"
                                },
                                {
                                    "SZOBA_FK": "84",
                                    "foglalas_pk": "819",
                                    "Napok száma": "2",
                                    "Előző": "7"
                                },
                                {
                                    "SZOBA_FK": "84",
                                    "foglalas_pk": "954",
                                    "Napok száma": "5",
                                    "Előző": "2"
                                },
                                {
                                    "SZOBA_FK": "85",
                                    "foglalas_pk": "1059",
                                    "Napok száma": "3",
                                    "Előző": "5"
                                },
                                {
                                    "SZOBA_FK": "85",
                                    "foglalas_pk": "647",
                                    "Napok száma": "3",
                                    "Előző": "3"
                                },
                                {
                                    "SZOBA_FK": "85",
                                    "foglalas_pk": "1320",
                                    "Napok száma": "1",
                                    "Előző": "3"
                                },
                                {
                                    "SZOBA_FK": "85",
                                    "foglalas_pk": "1513",
                                    "Napok száma": "7",
                                    "Előző": "1"
                                },
                                {
                                    "SZOBA_FK": "86",
                                    "foglalas_pk": "1453",
                                    "Napok száma": "1",
                                    "Előző": "7"
                                },
                                {
                                    "SZOBA_FK": "86",
                                    "foglalas_pk": "1079",
                                    "Napok száma": "4",
                                    "Előző": "1"
                                },
                                {
                                    "SZOBA_FK": "86",
                                    "foglalas_pk": "1108",
                                    "Napok száma": "1",
                                    "Előző": "4"
                                },
                                {
                                    "SZOBA_FK": "86",
                                    "foglalas_pk": "1057",
                                    "Napok száma": "5",
                                    "Előző": "1"
                                },
                                {
                                    "SZOBA_FK": "86",
                                    "foglalas_pk": "859",
                                    "Napok száma": "1",
                                    "Előző": "5"
                                },
                                {
                                    "SZOBA_FK": "87",
                                    "foglalas_pk": "844",
                                    "Napok száma": "1",
                                    "Előző": "1"
                                },
                                {
                                    "SZOBA_FK": "87",
                                    "foglalas_pk": "1103",
                                    "Napok száma": "3",
                                    "Előző": "1"
                                },
                                {
                                    "SZOBA_FK": "87",
                                    "foglalas_pk": "558",
                                    "Napok száma": "4",
                                    "Előző": "3"
                                },
                                {
                                    "SZOBA_FK": "87",
                                    "foglalas_pk": "1456",
                                    "Napok száma": "5",
                                    "Előző": "4"
                                },
                                {
                                    "SZOBA_FK": "87",
                                    "foglalas_pk": "1349",
                                    "Napok száma": "5",
                                    "Előző": "5"
                                },
                                {
                                    "SZOBA_FK": "88",
                                    "foglalas_pk": "1300",
                                    "Napok száma": "3",
                                    "Előző": "5"
                                },
                                {
                                    "SZOBA_FK": "88",
                                    "foglalas_pk": "1359",
                                    "Napok száma": "2",
                                    "Előző": "3"
                                },
                                {
                                    "SZOBA_FK": "88",
                                    "foglalas_pk": "1273",
                                    "Napok száma": "7",
                                    "Előző": "2"
                                },
                                {
                                    "SZOBA_FK": "88",
                                    "foglalas_pk": "1196",
                                    "Napok száma": "3",
                                    "Előző": "7"
                                },
                                {
                                    "SZOBA_FK": "88",
                                    "foglalas_pk": "1548",
                                    "Napok száma": "7",
                                    "Előző": "3"
                                },
                                {
                                    "SZOBA_FK": "88",
                                    "foglalas_pk": "1575",
                                    "Napok száma": "6",
                                    "Előző": "7"
                                },
                                {
                                    "SZOBA_FK": "88",
                                    "foglalas_pk": "757",
                                    "Napok száma": "7",
                                    "Előző": "6"
                                },
                                {
                                    "SZOBA_FK": "88",
                                    "foglalas_pk": "866",
                                    "Napok száma": "2",
                                    "Előző": "7"
                                },
                                {
                                    "SZOBA_FK": "89",
                                    "foglalas_pk": "1101",
                                    "Napok száma": "5",
                                    "Előző": "2"
                                },
                                {
                                    "SZOBA_FK": "89",
                                    "foglalas_pk": "1037",
                                    "Napok száma": "7",
                                    "Előző": "5"
                                },
                                {
                                    "SZOBA_FK": "89",
                                    "foglalas_pk": "817",
                                    "Napok száma": "3",
                                    "Előző": "7"
                                },
                                {
                                    "SZOBA_FK": "89",
                                    "foglalas_pk": "1521",
                                    "Napok száma": "7",
                                    "Előző": "3"
                                },
                                {
                                    "SZOBA_FK": "89",
                                    "foglalas_pk": "1189",
                                    "Napok száma": "6",
                                    "Előző": "7"
                                },
                                {
                                    "SZOBA_FK": "89",
                                    "foglalas_pk": "1269",
                                    "Napok száma": "2",
                                    "Előző": "6"
                                },
                                {
                                    "SZOBA_FK": "89",
                                    "foglalas_pk": "1253",
                                    "Napok száma": "2",
                                    "Előző": "2"
                                },
                                {
                                    "SZOBA_FK": "89",
                                    "foglalas_pk": "1399",
                                    "Napok száma": "2",
                                    "Előző": "2"
                                },
                                {
                                    "SZOBA_FK": "90",
                                    "foglalas_pk": "1405",
                                    "Napok száma": "5",
                                    "Előző": "2"
                                },
                                {
                                    "SZOBA_FK": "90",
                                    "foglalas_pk": "1299",
                                    "Napok száma": "6",
                                    "Előző": "5"
                                },
                                {
                                    "SZOBA_FK": "90",
                                    "foglalas_pk": "1174",
                                    "Napok száma": "7",
                                    "Előző": "6"
                                },
                                {
                                    "SZOBA_FK": "90",
                                    "foglalas_pk": "729",
                                    "Napok száma": "2",
                                    "Előző": "7"
                                },
                                {
                                    "SZOBA_FK": "91",
                                    "foglalas_pk": "732",
                                    "Napok száma": "4",
                                    "Előző": "2"
                                },
                                {
                                    "SZOBA_FK": "91",
                                    "foglalas_pk": "636",
                                    "Napok száma": "6",
                                    "Előző": "4"
                                },
                                {
                                    "SZOBA_FK": "91",
                                    "foglalas_pk": "1213",
                                    "Napok száma": "3",
                                    "Előző": "6"
                                },
                                {
                                    "SZOBA_FK": "91",
                                    "foglalas_pk": "1397",
                                    "Napok száma": "4",
                                    "Előző": "3"
                                },
                                {
                                    "SZOBA_FK": "92",
                                    "foglalas_pk": "1555",
                                    "Napok száma": "4",
                                    "Előző": "4"
                                },
                                {
                                    "SZOBA_FK": "92",
                                    "foglalas_pk": "1527",
                                    "Napok száma": "2",
                                    "Előző": "4"
                                },
                                {
                                    "SZOBA_FK": "92",
                                    "foglalas_pk": "809",
                                    "Napok száma": "3",
                                    "Előző": "2"
                                },
                                {
                                    "SZOBA_FK": "92",
                                    "foglalas_pk": "841",
                                    "Napok száma": "6",
                                    "Előző": "3"
                                },
                                {
                                    "SZOBA_FK": "92",
                                    "foglalas_pk": "1016",
                                    "Napok száma": "2",
                                    "Előző": "6"
                                },
                                {
                                    "SZOBA_FK": "92",
                                    "foglalas_pk": "942",
                                    "Napok száma": "6",
                                    "Előző": "2"
                                },
                                {
                                    "SZOBA_FK": "93",
                                    "foglalas_pk": "741",
                                    "Napok száma": "7",
                                    "Előző": "6"
                                },
                                {
                                    "SZOBA_FK": "93",
                                    "foglalas_pk": "1391",
                                    "Napok száma": "4",
                                    "Előző": "7"
                                },
                                {
                                    "SZOBA_FK": "93",
                                    "foglalas_pk": "1355",
                                    "Napok száma": "2",
                                    "Előző": "4"
                                },
                                {
                                    "SZOBA_FK": "93",
                                    "foglalas_pk": "1217",
                                    "Napok száma": "1",
                                    "Előző": "2"
                                },
                                {
                                    "SZOBA_FK": "93",
                                    "foglalas_pk": "1169",
                                    "Napok száma": "4",
                                    "Előző": "1"
                                },
                                {
                                    "SZOBA_FK": "94",
                                    "foglalas_pk": "1241",
                                    "Napok száma": "7",
                                    "Előző": "4"
                                },
                                {
                                    "SZOBA_FK": "94",
                                    "foglalas_pk": "1368",
                                    "Napok száma": "1",
                                    "Előző": "7"
                                },
                                {
                                    "SZOBA_FK": "94",
                                    "foglalas_pk": "1305",
                                    "Napok száma": "2",
                                    "Előző": "1"
                                },
                                {
                                    "SZOBA_FK": "94",
                                    "foglalas_pk": "1312",
                                    "Napok száma": "3",
                                    "Előző": "2"
                                },
                                {
                                    "SZOBA_FK": "94",
                                    "foglalas_pk": "1518",
                                    "Napok száma": "2",
                                    "Előző": "3"
                                },
                                {
                                    "SZOBA_FK": "94",
                                    "foglalas_pk": "1564",
                                    "Napok száma": "7",
                                    "Előző": "2"
                                },
                                {
                                    "SZOBA_FK": "94",
                                    "foglalas_pk": "727",
                                    "Napok száma": "3",
                                    "Előző": "7"
                                },
                                {
                                    "SZOBA_FK": "94",
                                    "foglalas_pk": "665",
                                    "Napok száma": "7",
                                    "Előző": "3"
                                },
                                {
                                    "SZOBA_FK": "94",
                                    "foglalas_pk": "616",
                                    "Napok száma": "4",
                                    "Előző": "7"
                                },
                                {
                                    "SZOBA_FK": "94",
                                    "foglalas_pk": "975",
                                    "Napok száma": "5",
                                    "Előző": "4"
                                },
                                {
                                    "SZOBA_FK": "95",
                                    "foglalas_pk": "1048",
                                    "Napok száma": "3",
                                    "Előző": "5"
                                },
                                {
                                    "SZOBA_FK": "95",
                                    "foglalas_pk": "1097",
                                    "Napok száma": "4",
                                    "Előző": "3"
                                },
                                {
                                    "SZOBA_FK": "95",
                                    "foglalas_pk": "656",
                                    "Napok száma": "7",
                                    "Előző": "4"
                                },
                                {
                                    "SZOBA_FK": "95",
                                    "foglalas_pk": "1543",
                                    "Napok száma": "7",
                                    "Előző": "7"
                                },
                                {
                                    "SZOBA_FK": "96",
                                    "foglalas_pk": "1438",
                                    "Napok száma": "2",
                                    "Előző": "7"
                                },
                                {
                                    "SZOBA_FK": "96",
                                    "foglalas_pk": "1569",
                                    "Napok száma": "7",
                                    "Előző": "2"
                                },
                                {
                                    "SZOBA_FK": "96",
                                    "foglalas_pk": "1378",
                                    "Napok száma": "3",
                                    "Előző": "7"
                                },
                                {
                                    "SZOBA_FK": "96",
                                    "foglalas_pk": "671",
                                    "Napok száma": "4",
                                    "Előző": "3"
                                },
                                {
                                    "SZOBA_FK": "96",
                                    "foglalas_pk": "623",
                                    "Napok száma": "7",
                                    "Előző": "4"
                                },
                                {
                                    "SZOBA_FK": "96",
                                    "foglalas_pk": "607",
                                    "Napok száma": "4",
                                    "Előző": "7"
                                },
                                {
                                    "SZOBA_FK": "96",
                                    "foglalas_pk": "780",
                                    "Napok száma": "1",
                                    "Előző": "4"
                                },
                                {
                                    "SZOBA_FK": "97",
                                    "foglalas_pk": "836",
                                    "Napok száma": "2",
                                    "Előző": "1"
                                },
                                {
                                    "SZOBA_FK": "97",
                                    "foglalas_pk": "726",
                                    "Napok száma": "4",
                                    "Előző": "2"
                                },
                                {
                                    "SZOBA_FK": "97",
                                    "foglalas_pk": "718",
                                    "Napok száma": "7",
                                    "Előző": "4"
                                },
                                {
                                    "SZOBA_FK": "97",
                                    "foglalas_pk": "635",
                                    "Napok száma": "3",
                                    "Előző": "7"
                                },
                                {
                                    "SZOBA_FK": "97",
                                    "foglalas_pk": "1395",
                                    "Napok száma": "1",
                                    "Előző": "3"
                                },
                                {
                                    "SZOBA_FK": "97",
                                    "foglalas_pk": "1417",
                                    "Napok száma": "7",
                                    "Előző": "1"
                                },
                                {
                                    "SZOBA_FK": "97",
                                    "foglalas_pk": "1528",
                                    "Napok száma": "2",
                                    "Előző": "7"
                                },
                                {
                                    "SZOBA_FK": "98",
                                    "foglalas_pk": "1402",
                                    "Napok száma": "2",
                                    "Előző": "2"
                                },
                                {
                                    "SZOBA_FK": "98",
                                    "foglalas_pk": "631",
                                    "Napok száma": "6",
                                    "Előző": "2"
                                },
                                {
                                    "SZOBA_FK": "98",
                                    "foglalas_pk": "1050",
                                    "Napok száma": "6",
                                    "Előző": "6"
                                },
                                {
                                    "SZOBA_FK": "98",
                                    "foglalas_pk": "884",
                                    "Napok száma": "5",
                                    "Előző": "6"
                                },
                                {
                                    "SZOBA_FK": "99",
                                    "foglalas_pk": "1072",
                                    "Napok száma": "1",
                                    "Előző": "5"
                                },
                                {
                                    "SZOBA_FK": "99",
                                    "foglalas_pk": "632",
                                    "Napok száma": "1",
                                    "Előző": "1"
                                },
                                {
                                    "SZOBA_FK": "99",
                                    "foglalas_pk": "691",
                                    "Napok száma": "5",
                                    "Előző": "1"
                                },
                                {
                                    "SZOBA_FK": "99",
                                    "foglalas_pk": "1408",
                                    "Napok száma": "1",
                                    "Előző": "5"
                                },
                                {
                                    "SZOBA_FK": "99",
                                    "foglalas_pk": "1486",
                                    "Napok száma": "5",
                                    "Előző": "1"
                                },
                                {
                                    "SZOBA_FK": "100",
                                    "foglalas_pk": "1482",
                                    "Napok száma": "7",
                                    "Előző": "5"
                                },
                                {
                                    "SZOBA_FK": "100",
                                    "foglalas_pk": "1315",
                                    "Napok száma": "5",
                                    "Előző": "7"
                                },
                                {
                                    "SZOBA_FK": "100",
                                    "foglalas_pk": "637",
                                    "Napok száma": "5",
                                    "Előző": "5"
                                },
                                {
                                    "SZOBA_FK": "100",
                                    "foglalas_pk": "597",
                                    "Napok száma": "1",
                                    "Előző": "5"
                                },
                                {
                                    "SZOBA_FK": "101",
                                    "foglalas_pk": "715",
                                    "Napok száma": "3",
                                    "Előző": "1"
                                },
                                {
                                    "SZOBA_FK": "101",
                                    "foglalas_pk": "1332",
                                    "Napok száma": "6",
                                    "Előző": "3"
                                },
                                {
                                    "SZOBA_FK": "101",
                                    "foglalas_pk": "1516",
                                    "Napok száma": "4",
                                    "Előző": "6"
                                },
                                {
                                    "SZOBA_FK": "102",
                                    "foglalas_pk": "1343",
                                    "Napok száma": "2",
                                    "Előző": "4"
                                },
                                {
                                    "SZOBA_FK": "102",
                                    "foglalas_pk": "689",
                                    "Napok száma": "5",
                                    "Előző": "2"
                                },
                                {
                                    "SZOBA_FK": "103",
                                    "foglalas_pk": "992",
                                    "Napok száma": "7",
                                    "Előző": "5"
                                },
                                {
                                    "SZOBA_FK": "103",
                                    "foglalas_pk": "972",
                                    "Napok száma": "2",
                                    "Előző": "7"
                                },
                                {
                                    "SZOBA_FK": "103",
                                    "foglalas_pk": "1398",
                                    "Napok száma": "1",
                                    "Előző": "2"
                                },
                                {
                                    "SZOBA_FK": "103",
                                    "foglalas_pk": "1485",
                                    "Napok száma": "4",
                                    "Előző": "1"
                                },
                                {
                                    "SZOBA_FK": "104",
                                    "foglalas_pk": "1522",
                                    "Napok száma": "2",
                                    "Előző": "4"
                                },
                                {
                                    "SZOBA_FK": "104",
                                    "foglalas_pk": "1532",
                                    "Napok száma": "3",
                                    "Előző": "2"
                                },
                                {
                                    "SZOBA_FK": "104",
                                    "foglalas_pk": "1180",
                                    "Napok száma": "1",
                                    "Előző": "3"
                                },
                                {
                                    "SZOBA_FK": "104",
                                    "foglalas_pk": "837",
                                    "Napok száma": "4",
                                    "Előző": "1"
                                },
                                {
                                    "SZOBA_FK": "105",
                                    "foglalas_pk": "618",
                                    "Napok száma": "1",
                                    "Előző": "4"
                                },
                                {
                                    "SZOBA_FK": "105",
                                    "foglalas_pk": "1525",
                                    "Napok száma": "5",
                                    "Előző": "1"
                                },
                                {
                                    "SZOBA_FK": "106",
                                    "foglalas_pk": "1510",
                                    "Napok száma": "6",
                                    "Előző": "5"
                                },
                                {
                                    "SZOBA_FK": "106",
                                    "foglalas_pk": "1271",
                                    "Napok száma": "5",
                                    "Előző": "6"
                                },
                                {
                                    "SZOBA_FK": "106",
                                    "foglalas_pk": "1228",
                                    "Napok száma": "7",
                                    "Előző": "5"
                                },
                                {
                                    "SZOBA_FK": "106",
                                    "foglalas_pk": "1372",
                                    "Napok száma": "7",
                                    "Előző": "7"
                                },
                                {
                                    "SZOBA_FK": "106",
                                    "foglalas_pk": "610",
                                    "Napok száma": "3",
                                    "Előző": "7"
                                },
                                {
                                    "SZOBA_FK": "106",
                                    "foglalas_pk": "708",
                                    "Napok száma": "7",
                                    "Előző": "3"
                                },
                                {
                                    "SZOBA_FK": "107",
                                    "foglalas_pk": "586",
                                    "Napok száma": "6",
                                    "Előző": "7"
                                },
                                {
                                    "SZOBA_FK": "107",
                                    "foglalas_pk": "1354",
                                    "Napok száma": "1",
                                    "Előző": "6"
                                },
                                {
                                    "SZOBA_FK": "107",
                                    "foglalas_pk": "1250",
                                    "Napok száma": "4",
                                    "Előző": "1"
                                },
                                {
                                    "SZOBA_FK": "107",
                                    "foglalas_pk": "1494",
                                    "Napok száma": "2",
                                    "Előző": "4"
                                },
                                {
                                    "SZOBA_FK": "107",
                                    "foglalas_pk": "1452",
                                    "Napok száma": "6",
                                    "Előző": "2"
                                },
                                {
                                    "SZOBA_FK": "108",
                                    "foglalas_pk": "1392",
                                    "Napok száma": "6",
                                    "Előző": "6"
                                },
                                {
                                    "SZOBA_FK": "108",
                                    "foglalas_pk": "1102",
                                    "Napok száma": "1",
                                    "Előző": "6"
                                },
                                {
                                    "SZOBA_FK": "109",
                                    "foglalas_pk": "1083",
                                    "Napok száma": "1",
                                    "Előző": "1"
                                },
                                {
                                    "SZOBA_FK": "109",
                                    "foglalas_pk": "621",
                                    "Napok száma": "7",
                                    "Előző": "1"
                                },
                                {
                                    "SZOBA_FK": "109",
                                    "foglalas_pk": "614",
                                    "Napok száma": "4",
                                    "Előző": "7"
                                },
                                {
                                    "SZOBA_FK": "109",
                                    "foglalas_pk": "654",
                                    "Napok száma": "5",
                                    "Előző": "4"
                                },
                                {
                                    "SZOBA_FK": "109",
                                    "foglalas_pk": "810",
                                    "Napok száma": "2",
                                    "Előző": "5"
                                },
                                {
                                    "SZOBA_FK": "109",
                                    "foglalas_pk": "1298",
                                    "Napok száma": "4",
                                    "Előző": "2"
                                },
                                {
                                    "SZOBA_FK": "109",
                                    "foglalas_pk": "1560",
                                    "Napok száma": "1",
                                    "Előző": "4"
                                },
                                {
                                    "SZOBA_FK": "110",
                                    "foglalas_pk": "1424",
                                    "Napok száma": "1",
                                    "Előző": "1"
                                },
                                {
                                    "SZOBA_FK": "110",
                                    "foglalas_pk": "1489",
                                    "Napok száma": "6",
                                    "Előző": "1"
                                },
                                {
                                    "SZOBA_FK": "110",
                                    "foglalas_pk": "1162",
                                    "Napok száma": "2",
                                    "Előző": "6"
                                },
                                {
                                    "SZOBA_FK": "110",
                                    "foglalas_pk": "685",
                                    "Napok száma": "1",
                                    "Előző": "2"
                                },
                                {
                                    "SZOBA_FK": "110",
                                    "foglalas_pk": "1109",
                                    "Napok száma": "5",
                                    "Előző": "1"
                                },
                                {
                                    "SZOBA_FK": "110",
                                    "foglalas_pk": "1041",
                                    "Napok száma": "3",
                                    "Előző": "5"
                                },
                                {
                                    "SZOBA_FK": "110",
                                    "foglalas_pk": "964",
                                    "Napok száma": "6",
                                    "Előző": "3"
                                },
                                {
                                    "SZOBA_FK": "110",
                                    "foglalas_pk": "931",
                                    "Napok száma": "5",
                                    "Előző": "6"
                                },
                                {
                                    "SZOBA_FK": "111",
                                    "foglalas_pk": "959",
                                    "Napok száma": "7",
                                    "Előző": "5"
                                },
                                {
                                    "SZOBA_FK": "111",
                                    "foglalas_pk": "605",
                                    "Napok száma": "7",
                                    "Előző": "7"
                                },
                                {
                                    "SZOBA_FK": "111",
                                    "foglalas_pk": "786",
                                    "Napok száma": "4",
                                    "Előző": "7"
                                },
                                {
                                    "SZOBA_FK": "111",
                                    "foglalas_pk": "1296",
                                    "Napok száma": "3",
                                    "Előző": "4"
                                },
                                {
                                    "SZOBA_FK": "111",
                                    "foglalas_pk": "1353",
                                    "Napok száma": "5",
                                    "Előző": "3"
                                },
                                {
                                    "SZOBA_FK": "112",
                                    "foglalas_pk": "1530",
                                    "Napok száma": "6",
                                    "Előző": "5"
                                },
                                {
                                    "SZOBA_FK": "112",
                                    "foglalas_pk": "776",
                                    "Napok száma": "4",
                                    "Előző": "6"
                                },
                                {
                                    "SZOBA_FK": "112",
                                    "foglalas_pk": "801",
                                    "Napok száma": "5",
                                    "Előző": "4"
                                },
                                {
                                    "SZOBA_FK": "112",
                                    "foglalas_pk": "921",
                                    "Napok száma": "1",
                                    "Előző": "5"
                                },
                                {
                                    "SZOBA_FK": "112",
                                    "foglalas_pk": "1124",
                                    "Napok száma": "6",
                                    "Előző": "1"
                                },
                                {
                                    "SZOBA_FK": "113",
                                    "foglalas_pk": "1085",
                                    "Napok száma": "4",
                                    "Előző": "6"
                                },
                                {
                                    "SZOBA_FK": "113",
                                    "foglalas_pk": "1029",
                                    "Napok száma": "5",
                                    "Előző": "4"
                                },
                                {
                                    "SZOBA_FK": "113",
                                    "foglalas_pk": "1495",
                                    "Napok száma": "7",
                                    "Előző": "5"
                                },
                                {
                                    "SZOBA_FK": "113",
                                    "foglalas_pk": "1499",
                                    "Napok száma": "2",
                                    "Előző": "7"
                                },
                                {
                                    "SZOBA_FK": "113",
                                    "foglalas_pk": "1263",
                                    "Napok száma": "1",
                                    "Előző": "2"
                                },
                                {
                                    "SZOBA_FK": "114",
                                    "foglalas_pk": "1540",
                                    "Napok száma": "3",
                                    "Előző": "1"
                                },
                                {
                                    "SZOBA_FK": "114",
                                    "foglalas_pk": "966",
                                    "Napok száma": "6",
                                    "Előző": "3"
                                },
                                {
                                    "SZOBA_FK": "114",
                                    "foglalas_pk": "827",
                                    "Napok száma": "7",
                                    "Előző": "6"
                                },
                                {
                                    "SZOBA_FK": "114",
                                    "foglalas_pk": "737",
                                    "Napok száma": "2",
                                    "Előző": "7"
                                },
                                {
                                    "SZOBA_FK": "115",
                                    "foglalas_pk": "596",
                                    "Napok száma": "7",
                                    "Előző": "2"
                                },
                                {
                                    "SZOBA_FK": "115",
                                    "foglalas_pk": "943",
                                    "Napok száma": "7",
                                    "Előző": "7"
                                },
                                {
                                    "SZOBA_FK": "115",
                                    "foglalas_pk": "1121",
                                    "Napok száma": "7",
                                    "Előző": "7"
                                },
                                {
                                    "SZOBA_FK": "115",
                                    "foglalas_pk": "1554",
                                    "Napok száma": "3",
                                    "Előző": "7"
                                },
                                {
                                    "SZOBA_FK": "115",
                                    "foglalas_pk": "1566",
                                    "Napok száma": "1",
                                    "Előző": "3"
                                },
                                {
                                    "SZOBA_FK": "115",
                                    "foglalas_pk": "1154",
                                    "Napok száma": "4",
                                    "Előző": "1"
                                },
                                {
                                    "SZOBA_FK": "115",
                                    "foglalas_pk": "1352",
                                    "Napok száma": "3",
                                    "Előző": "4"
                                },
                                {
                                    "SZOBA_FK": "116",
                                    "foglalas_pk": "1501",
                                    "Napok száma": "4",
                                    "Előző": "3"
                                },
                                {
                                    "SZOBA_FK": "116",
                                    "foglalas_pk": "1455",
                                    "Napok száma": "2",
                                    "Előző": "4"
                                },
                                {
                                    "SZOBA_FK": "117",
                                    "foglalas_pk": "1468",
                                    "Napok száma": "7",
                                    "Előző": "2"
                                },
                                {
                                    "SZOBA_FK": "117",
                                    "foglalas_pk": "1192",
                                    "Napok száma": "2",
                                    "Előző": "7"
                                },
                                {
                                    "SZOBA_FK": "117",
                                    "foglalas_pk": "1247",
                                    "Napok száma": "3",
                                    "Előző": "2"
                                },
                                {
                                    "SZOBA_FK": "117",
                                    "foglalas_pk": "1002",
                                    "Napok száma": "1",
                                    "Előző": "3"
                                },
                                {
                                    "SZOBA_FK": "117",
                                    "foglalas_pk": "962",
                                    "Napok száma": "4",
                                    "Előző": "1"
                                },
                                {
                                    "SZOBA_FK": "117",
                                    "foglalas_pk": "953",
                                    "Napok száma": "5",
                                    "Előző": "4"
                                },
                                {
                                    "SZOBA_FK": "117",
                                    "foglalas_pk": "612",
                                    "Napok száma": "2",
                                    "Előző": "5"
                                },
                                {
                                    "SZOBA_FK": "117",
                                    "foglalas_pk": "617",
                                    "Napok száma": "3",
                                    "Előző": "2"
                                },
                                {
                                    "SZOBA_FK": "118",
                                    "foglalas_pk": "716",
                                    "Napok száma": "1",
                                    "Előző": "3"
                                },
                                {
                                    "SZOBA_FK": "118",
                                    "foglalas_pk": "864",
                                    "Napok száma": "6",
                                    "Előző": "1"
                                },
                                {
                                    "SZOBA_FK": "118",
                                    "foglalas_pk": "994",
                                    "Napok száma": "7",
                                    "Előző": "6"
                                },
                                {
                                    "SZOBA_FK": "118",
                                    "foglalas_pk": "996",
                                    "Napok száma": "3",
                                    "Előző": "7"
                                },
                                {
                                    "SZOBA_FK": "118",
                                    "foglalas_pk": "1374",
                                    "Napok száma": "5",
                                    "Előző": "3"
                                },
                                {
                                    "SZOBA_FK": "118",
                                    "foglalas_pk": "1472",
                                    "Napok száma": "6",
                                    "Előző": "5"
                                },
                                {
                                    "SZOBA_FK": "118",
                                    "foglalas_pk": "1481",
                                    "Napok száma": "3",
                                    "Előző": "6"
                                },
                                {
                                    "SZOBA_FK": "119",
                                    "foglalas_pk": "1488",
                                    "Napok száma": "3",
                                    "Előző": "3"
                                },
                                {
                                    "SZOBA_FK": "119",
                                    "foglalas_pk": "1413",
                                    "Napok száma": "3",
                                    "Előző": "3"
                                },
                                {
                                    "SZOBA_FK": "119",
                                    "foglalas_pk": "1026",
                                    "Napok száma": "3",
                                    "Előző": "3"
                                },
                                {
                                    "SZOBA_FK": "119",
                                    "foglalas_pk": "706",
                                    "Napok száma": "2",
                                    "Előző": "3"
                                },
                                {
                                    "SZOBA_FK": "119",
                                    "foglalas_pk": "722",
                                    "Napok száma": "1",
                                    "Előző": "2"
                                },
                                {
                                    "SZOBA_FK": "120",
                                    "foglalas_pk": "762",
                                    "Napok száma": "3",
                                    "Előző": "1"
                                },
                                {
                                    "SZOBA_FK": "120",
                                    "foglalas_pk": "998",
                                    "Napok száma": "3",
                                    "Előző": "3"
                                },
                                {
                                    "SZOBA_FK": "120",
                                    "foglalas_pk": "1089",
                                    "Napok száma": "6",
                                    "Előző": "3"
                                },
                                {
                                    "SZOBA_FK": "120",
                                    "foglalas_pk": "1339",
                                    "Napok száma": "6",
                                    "Előző": "6"
                                },
                                {
                                    "SZOBA_FK": "120",
                                    "foglalas_pk": "1493",
                                    "Napok száma": "7",
                                    "Előző": "6"
                                },
                                {
                                    "SZOBA_FK": "120",
                                    "foglalas_pk": "1483",
                                    "Napok száma": "1",
                                    "Előző": "7"
                                },
                                {
                                    "SZOBA_FK": "121",
                                    "foglalas_pk": "1393",
                                    "Napok száma": "6",
                                    "Előző": "1"
                                },
                                {
                                    "SZOBA_FK": "121",
                                    "foglalas_pk": "1373",
                                    "Napok száma": "5",
                                    "Előző": "6"
                                },
                                {
                                    "SZOBA_FK": "121",
                                    "foglalas_pk": "1215",
                                    "Napok száma": "4",
                                    "Előző": "5"
                                },
                                {
                                    "SZOBA_FK": "121",
                                    "foglalas_pk": "1128",
                                    "Napok száma": "4",
                                    "Előző": "4"
                                },
                                {
                                    "SZOBA_FK": "121",
                                    "foglalas_pk": "1049",
                                    "Napok száma": "3",
                                    "Előző": "4"
                                },
                                {
                                    "SZOBA_FK": "121",
                                    "foglalas_pk": "858",
                                    "Napok száma": "5",
                                    "Előző": "3"
                                },
                                {
                                    "SZOBA_FK": "121",
                                    "foglalas_pk": "739",
                                    "Napok száma": "6",
                                    "Előző": "5"
                                },
                                {
                                    "SZOBA_FK": "121",
                                    "foglalas_pk": "735",
                                    "Napok száma": "6",
                                    "Előző": "6"
                                },
                                {
                                    "SZOBA_FK": "122",
                                    "foglalas_pk": "1036",
                                    "Napok száma": "2",
                                    "Előző": "6"
                                },
                                {
                                    "SZOBA_FK": "122",
                                    "foglalas_pk": "1007",
                                    "Napok száma": "2",
                                    "Előző": "2"
                                },
                                {
                                    "SZOBA_FK": "122",
                                    "foglalas_pk": "1062",
                                    "Napok száma": "3",
                                    "Előző": "2"
                                },
                                {
                                    "SZOBA_FK": "122",
                                    "foglalas_pk": "1209",
                                    "Napok száma": "1",
                                    "Előző": "3"
                                },
                                {
                                    "SZOBA_FK": "122",
                                    "foglalas_pk": "1245",
                                    "Napok száma": "2",
                                    "Előző": "1"
                                },
                                {
                                    "SZOBA_FK": "122",
                                    "foglalas_pk": "1166",
                                    "Napok száma": "4",
                                    "Előző": "2"
                                },
                                {
                                    "SZOBA_FK": "122",
                                    "foglalas_pk": "1385",
                                    "Napok száma": "5",
                                    "Előző": "4"
                                },
                                {
                                    "SZOBA_FK": "122",
                                    "foglalas_pk": "1337",
                                    "Napok száma": "2",
                                    "Előző": "5"
                                },
                                {
                                    "SZOBA_FK": "122",
                                    "foglalas_pk": "1440",
                                    "Napok száma": "3",
                                    "Előző": "2"
                                },
                                {
                                    "SZOBA_FK": "123",
                                    "foglalas_pk": "1282",
                                    "Napok száma": "6",
                                    "Előző": "3"
                                },
                                {
                                    "SZOBA_FK": "123",
                                    "foglalas_pk": "1223",
                                    "Napok száma": "1",
                                    "Előző": "6"
                                },
                                {
                                    "SZOBA_FK": "123",
                                    "foglalas_pk": "967",
                                    "Napok száma": "5",
                                    "Előző": "1"
                                },
                                {
                                    "SZOBA_FK": "123",
                                    "foglalas_pk": "923",
                                    "Napok száma": "4",
                                    "Előző": "5"
                                },
                                {
                                    "SZOBA_FK": "123",
                                    "foglalas_pk": "587",
                                    "Napok száma": "7",
                                    "Előző": "4"
                                },
                                {
                                    "SZOBA_FK": "124",
                                    "foglalas_pk": "861",
                                    "Napok száma": "1",
                                    "Előző": "7"
                                },
                                {
                                    "SZOBA_FK": "124",
                                    "foglalas_pk": "1210",
                                    "Napok száma": "4",
                                    "Előző": "1"
                                },
                                {
                                    "SZOBA_FK": "124",
                                    "foglalas_pk": "1330",
                                    "Napok száma": "7",
                                    "Előző": "4"
                                },
                                {
                                    "SZOBA_FK": "124",
                                    "foglalas_pk": "1419",
                                    "Napok száma": "3",
                                    "Előző": "7"
                                },
                                {
                                    "SZOBA_FK": "124",
                                    "foglalas_pk": "1403",
                                    "Napok száma": "6",
                                    "Előző": "3"
                                },
                                {
                                    "SZOBA_FK": "124",
                                    "foglalas_pk": "1531",
                                    "Napok száma": "6",
                                    "Előző": "6"
                                },
                                {
                                    "SZOBA_FK": "125",
                                    "foglalas_pk": "576",
                                    "Napok száma": "1",
                                    "Előző": "6"
                                },
                                {
                                    "SZOBA_FK": "126",
                                    "foglalas_pk": "754",
                                    "Napok száma": "4",
                                    "Előző": "1"
                                },
                                {
                                    "SZOBA_FK": "126",
                                    "foglalas_pk": "806",
                                    "Napok száma": "6",
                                    "Előző": "4"
                                },
                                {
                                    "SZOBA_FK": "126",
                                    "foglalas_pk": "1500",
                                    "Napok száma": "4",
                                    "Előző": "6"
                                },
                                {
                                    "SZOBA_FK": "126",
                                    "foglalas_pk": "1428",
                                    "Napok száma": "7",
                                    "Előző": "4"
                                },
                                {
                                    "SZOBA_FK": "126",
                                    "foglalas_pk": "1364",
                                    "Napok száma": "6",
                                    "Előző": "7"
                                },
                                {
                                    "SZOBA_FK": "126",
                                    "foglalas_pk": "1134",
                                    "Napok száma": "1",
                                    "Előző": "6"
                                },
                                {
                                    "SZOBA_FK": "127",
                                    "foglalas_pk": "1226",
                                    "Napok száma": "5",
                                    "Előző": "1"
                                },
                                {
                                    "SZOBA_FK": "127",
                                    "foglalas_pk": "1286",
                                    "Napok száma": "1",
                                    "Előző": "5"
                                },
                                {
                                    "SZOBA_FK": "127",
                                    "foglalas_pk": "1579",
                                    "Napok száma": "5",
                                    "Előző": "1"
                                },
                                {
                                    "SZOBA_FK": "127",
                                    "foglalas_pk": "643",
                                    "Napok száma": "2",
                                    "Előző": "5"
                                },
                                {
                                    "SZOBA_FK": "127",
                                    "foglalas_pk": "853",
                                    "Napok száma": "5",
                                    "Előző": "2"
                                },
                                {
                                    "SZOBA_FK": "127",
                                    "foglalas_pk": "879",
                                    "Napok száma": "2",
                                    "Előző": "5"
                                },
                                {
                                    "SZOBA_FK": "127",
                                    "foglalas_pk": "1034",
                                    "Napok száma": "6",
                                    "Előző": "2"
                                },
                                {
                                    "SZOBA_FK": "128",
                                    "foglalas_pk": "815",
                                    "Napok száma": "1",
                                    "Előző": "6"
                                },
                                {
                                    "SZOBA_FK": "128",
                                    "foglalas_pk": "717",
                                    "Napok száma": "2",
                                    "Előző": "1"
                                },
                                {
                                    "SZOBA_FK": "128",
                                    "foglalas_pk": "1574",
                                    "Napok száma": "1",
                                    "Előző": "2"
                                },
                                {
                                    "SZOBA_FK": "128",
                                    "foglalas_pk": "1583",
                                    "Napok száma": "4",
                                    "Előző": "1"
                                },
                                {
                                    "SZOBA_FK": "128",
                                    "foglalas_pk": "1290",
                                    "Napok száma": "1",
                                    "Előző": "4"
                                },
                                {
                                    "SZOBA_FK": "129",
                                    "foglalas_pk": "1360",
                                    "Napok száma": "6",
                                    "Előző": "1"
                                },
                                {
                                    "SZOBA_FK": "129",
                                    "foglalas_pk": "1445",
                                    "Napok száma": "7",
                                    "Előző": "6"
                                },
                                {
                                    "SZOBA_FK": "129",
                                    "foglalas_pk": "1509",
                                    "Napok száma": "6",
                                    "Előző": "7"
                                },
                                {
                                    "SZOBA_FK": "129",
                                    "foglalas_pk": "723",
                                    "Napok száma": "7",
                                    "Előző": "6"
                                },
                                {
                                    "SZOBA_FK": "130",
                                    "foglalas_pk": "779",
                                    "Napok száma": "6",
                                    "Előző": "7"
                                },
                                {
                                    "SZOBA_FK": "130",
                                    "foglalas_pk": "580",
                                    "Napok száma": "3",
                                    "Előző": "6"
                                },
                                {
                                    "SZOBA_FK": "130",
                                    "foglalas_pk": "613",
                                    "Napok száma": "3",
                                    "Előző": "3"
                                },
                                {
                                    "SZOBA_FK": "130",
                                    "foglalas_pk": "1040",
                                    "Napok száma": "1",
                                    "Előző": "3"
                                },
                                {
                                    "SZOBA_FK": "130",
                                    "foglalas_pk": "910",
                                    "Napok száma": "2",
                                    "Előző": "1"
                                },
                                {
                                    "SZOBA_FK": "130",
                                    "foglalas_pk": "1475",
                                    "Napok száma": "7",
                                    "Előző": "2"
                                },
                                {
                                    "SZOBA_FK": "131",
                                    "foglalas_pk": "1474",
                                    "Napok száma": "5",
                                    "Előző": "7"
                                },
                                {
                                    "SZOBA_FK": "131",
                                    "foglalas_pk": "881",
                                    "Napok száma": "6",
                                    "Előző": "5"
                                },
                                {
                                    "SZOBA_FK": "131",
                                    "foglalas_pk": "559",
                                    "Napok száma": "2",
                                    "Előző": "6"
                                },
                                {
                                    "SZOBA_FK": "131",
                                    "foglalas_pk": "655",
                                    "Napok száma": "1",
                                    "Előző": "2"
                                },
                                {
                                    "SZOBA_FK": "131",
                                    "foglalas_pk": "760",
                                    "Napok száma": "4",
                                    "Előző": "1"
                                },
                                {
                                    "SZOBA_FK": "132",
                                    "foglalas_pk": "619",
                                    "Napok száma": "7",
                                    "Előző": "4"
                                },
                                {
                                    "SZOBA_FK": "132",
                                    "foglalas_pk": "999",
                                    "Napok száma": "6",
                                    "Előző": "7"
                                },
                                {
                                    "SZOBA_FK": "132",
                                    "foglalas_pk": "1090",
                                    "Napok száma": "7",
                                    "Előző": "6"
                                },
                                {
                                    "SZOBA_FK": "132",
                                    "foglalas_pk": "1111",
                                    "Napok száma": "3",
                                    "Előző": "7"
                                },
                                {
                                    "SZOBA_FK": "132",
                                    "foglalas_pk": "1519",
                                    "Napok száma": "2",
                                    "Előző": "3"
                                },
                                {
                                    "SZOBA_FK": "132",
                                    "foglalas_pk": "1301",
                                    "Napok száma": "2",
                                    "Előző": "2"
                                },
                                {
                                    "SZOBA_FK": "133",
                                    "foglalas_pk": "1306",
                                    "Napok száma": "3",
                                    "Előző": "2"
                                },
                                {
                                    "SZOBA_FK": "133",
                                    "foglalas_pk": "1363",
                                    "Napok száma": "5",
                                    "Előző": "3"
                                },
                                {
                                    "SZOBA_FK": "133",
                                    "foglalas_pk": "1409",
                                    "Napok száma": "1",
                                    "Előző": "5"
                                },
                                {
                                    "SZOBA_FK": "133",
                                    "foglalas_pk": "1149",
                                    "Napok száma": "7",
                                    "Előző": "1"
                                },
                                {
                                    "SZOBA_FK": "133",
                                    "foglalas_pk": "909",
                                    "Napok száma": "4",
                                    "Előző": "7"
                                },
                                {
                                    "SZOBA_FK": "133",
                                    "foglalas_pk": "988",
                                    "Napok száma": "3",
                                    "Előző": "4"
                                },
                                {
                                    "SZOBA_FK": "134",
                                    "foglalas_pk": "1004",
                                    "Napok száma": "5",
                                    "Előző": "3"
                                },
                                {
                                    "SZOBA_FK": "134",
                                    "foglalas_pk": "1024",
                                    "Napok száma": "1",
                                    "Előző": "5"
                                },
                                {
                                    "SZOBA_FK": "134",
                                    "foglalas_pk": "1045",
                                    "Napok száma": "2",
                                    "Előző": "1"
                                },
                                {
                                    "SZOBA_FK": "134",
                                    "foglalas_pk": "1219",
                                    "Napok száma": "6",
                                    "Előző": "2"
                                },
                                {
                                    "SZOBA_FK": "134",
                                    "foglalas_pk": "1178",
                                    "Napok száma": "7",
                                    "Előző": "6"
                                },
                                {
                                    "SZOBA_FK": "134",
                                    "foglalas_pk": "1535",
                                    "Napok száma": "7",
                                    "Előző": "7"
                                },
                                {
                                    "SZOBA_FK": "135",
                                    "foglalas_pk": "1289",
                                    "Napok száma": "3",
                                    "Előző": "7"
                                },
                                {
                                    "SZOBA_FK": "135",
                                    "foglalas_pk": "849",
                                    "Napok száma": "7",
                                    "Előző": "3"
                                },
                                {
                                    "SZOBA_FK": "135",
                                    "foglalas_pk": "724",
                                    "Napok száma": "6",
                                    "Előző": "7"
                                },
                                {
                                    "SZOBA_FK": "136",
                                    "foglalas_pk": "584",
                                    "Napok száma": "2",
                                    "Előző": "6"
                                },
                                {
                                    "SZOBA_FK": "136",
                                    "foglalas_pk": "661",
                                    "Napok száma": "5",
                                    "Előző": "2"
                                },
                                {
                                    "SZOBA_FK": "136",
                                    "foglalas_pk": "1046",
                                    "Napok száma": "4",
                                    "Előző": "5"
                                },
                                {
                                    "SZOBA_FK": "137",
                                    "foglalas_pk": "1014",
                                    "Napok száma": "1",
                                    "Előző": "4"
                                },
                                {
                                    "SZOBA_FK": "137",
                                    "foglalas_pk": "657",
                                    "Napok száma": "6",
                                    "Előző": "1"
                                },
                                {
                                    "SZOBA_FK": "137",
                                    "foglalas_pk": "649",
                                    "Napok száma": "5",
                                    "Előző": "6"
                                },
                                {
                                    "SZOBA_FK": "137",
                                    "foglalas_pk": "582",
                                    "Napok száma": "3",
                                    "Előző": "5"
                                },
                                {
                                    "SZOBA_FK": "137",
                                    "foglalas_pk": "1280",
                                    "Napok száma": "3",
                                    "Előző": "3"
                                },
                                {
                                    "SZOBA_FK": "137",
                                    "foglalas_pk": "1201",
                                    "Napok száma": "6",
                                    "Előző": "3"
                                },
                                {
                                    "SZOBA_FK": "138",
                                    "foglalas_pk": "1256",
                                    "Napok száma": "4",
                                    "Előző": "6"
                                },
                                {
                                    "SZOBA_FK": "138",
                                    "foglalas_pk": "1283",
                                    "Napok száma": "2",
                                    "Előző": "4"
                                },
                                {
                                    "SZOBA_FK": "138",
                                    "foglalas_pk": "1294",
                                    "Napok száma": "5",
                                    "Előző": "2"
                                },
                                {
                                    "SZOBA_FK": "138",
                                    "foglalas_pk": "1358",
                                    "Napok száma": "7",
                                    "Előző": "5"
                                },
                                {
                                    "SZOBA_FK": "138",
                                    "foglalas_pk": "1370",
                                    "Napok száma": "5",
                                    "Előző": "7"
                                },
                                {
                                    "SZOBA_FK": "138",
                                    "foglalas_pk": "768",
                                    "Napok száma": "6",
                                    "Előző": "5"
                                },
                                {
                                    "SZOBA_FK": "138",
                                    "foglalas_pk": "796",
                                    "Napok száma": "4",
                                    "Előző": "6"
                                },
                                {
                                    "SZOBA_FK": "139",
                                    "foglalas_pk": "751",
                                    "Napok száma": "4",
                                    "Előző": "4"
                                },
                                {
                                    "SZOBA_FK": "139",
                                    "foglalas_pk": "745",
                                    "Napok száma": "1",
                                    "Előző": "4"
                                },
                                {
                                    "SZOBA_FK": "139",
                                    "foglalas_pk": "579",
                                    "Napok száma": "2",
                                    "Előző": "1"
                                },
                                {
                                    "SZOBA_FK": "139",
                                    "foglalas_pk": "1042",
                                    "Napok száma": "2",
                                    "Előző": "2"
                                },
                                {
                                    "SZOBA_FK": "139",
                                    "foglalas_pk": "1064",
                                    "Napok száma": "6",
                                    "Előző": "2"
                                },
                                {
                                    "SZOBA_FK": "139",
                                    "foglalas_pk": "1450",
                                    "Napok száma": "7",
                                    "Előző": "6"
                                },
                                {
                                    "SZOBA_FK": "139",
                                    "foglalas_pk": "1433",
                                    "Napok száma": "6",
                                    "Előző": "7"
                                },
                                {
                                    "SZOBA_FK": "140",
                                    "foglalas_pk": "1371",
                                    "Napok száma": "1",
                                    "Előző": "6"
                                },
                                {
                                    "SZOBA_FK": "140",
                                    "foglalas_pk": "1361",
                                    "Napok száma": "3",
                                    "Előző": "1"
                                },
                                {
                                    "SZOBA_FK": "140",
                                    "foglalas_pk": "1357",
                                    "Napok száma": "4",
                                    "Előző": "3"
                                },
                                {
                                    "SZOBA_FK": "140",
                                    "foglalas_pk": "1259",
                                    "Napok száma": "7",
                                    "Előző": "4"
                                },
                                {
                                    "SZOBA_FK": "140",
                                    "foglalas_pk": "1156",
                                    "Napok száma": "3",
                                    "Előző": "7"
                                },
                                {
                                    "SZOBA_FK": "140",
                                    "foglalas_pk": "1098",
                                    "Napok száma": "2",
                                    "Előző": "3"
                                },
                                {
                                    "SZOBA_FK": "140",
                                    "foglalas_pk": "915",
                                    "Napok száma": "2",
                                    "Előző": "2"
                                },
                                {
                                    "SZOBA_FK": "140",
                                    "foglalas_pk": "733",
                                    "Napok száma": "1",
                                    "Előző": "2"
                                },
                                {
                                    "SZOBA_FK": "141",
                                    "foglalas_pk": "761",
                                    "Napok száma": "3",
                                    "Előző": "1"
                                },
                                {
                                    "SZOBA_FK": "141",
                                    "foglalas_pk": "784",
                                    "Napok száma": "7",
                                    "Előző": "3"
                                },
                                {
                                    "SZOBA_FK": "141",
                                    "foglalas_pk": "565",
                                    "Napok száma": "6",
                                    "Előző": "7"
                                },
                                {
                                    "SZOBA_FK": "141",
                                    "foglalas_pk": "908",
                                    "Napok száma": "2",
                                    "Előző": "6"
                                },
                                {
                                    "SZOBA_FK": "141",
                                    "foglalas_pk": "1254",
                                    "Napok száma": "4",
                                    "Előző": "2"
                                },
                                {
                                    "SZOBA_FK": "141",
                                    "foglalas_pk": "1401",
                                    "Napok száma": "6",
                                    "Előző": "4"
                                },
                                {
                                    "SZOBA_FK": "142",
                                    "foglalas_pk": "1369",
                                    "Napok száma": "6",
                                    "Előző": "6"
                                },
                                {
                                    "SZOBA_FK": "142",
                                    "foglalas_pk": "1545",
                                    "Napok száma": "3",
                                    "Előző": "6"
                                },
                                {
                                    "SZOBA_FK": "143",
                                    "foglalas_pk": "1448",
                                    "Napok száma": "6",
                                    "Előző": "3"
                                },
                                {
                                    "SZOBA_FK": "143",
                                    "foglalas_pk": "1394",
                                    "Napok száma": "3",
                                    "Előző": "6"
                                },
                                {
                                    "SZOBA_FK": "143",
                                    "foglalas_pk": "1313",
                                    "Napok száma": "4",
                                    "Előző": "3"
                                },
                                {
                                    "SZOBA_FK": "143",
                                    "foglalas_pk": "1222",
                                    "Napok száma": "2",
                                    "Előző": "4"
                                },
                                {
                                    "SZOBA_FK": "143",
                                    "foglalas_pk": "1155",
                                    "Napok száma": "7",
                                    "Előző": "2"
                                },
                                {
                                    "SZOBA_FK": "143",
                                    "foglalas_pk": "1193",
                                    "Napok száma": "6",
                                    "Előző": "7"
                                },
                                {
                                    "SZOBA_FK": "143",
                                    "foglalas_pk": "980",
                                    "Napok száma": "3",
                                    "Előző": "6"
                                },
                                {
                                    "SZOBA_FK": "144",
                                    "foglalas_pk": "1087",
                                    "Napok száma": "2",
                                    "Előző": "3"
                                },
                                {
                                    "SZOBA_FK": "144",
                                    "foglalas_pk": "581",
                                    "Napok száma": "4",
                                    "Előző": "2"
                                },
                                {
                                    "SZOBA_FK": "144",
                                    "foglalas_pk": "1199",
                                    "Napok száma": "7",
                                    "Előző": "4"
                                },
                                {
                                    "SZOBA_FK": "144",
                                    "foglalas_pk": "1297",
                                    "Napok száma": "1",
                                    "Előző": "7"
                                },
                                {
                                    "SZOBA_FK": "144",
                                    "foglalas_pk": "1572",
                                    "Napok száma": "2",
                                    "Előző": "1"
                                },
                                {
                                    "SZOBA_FK": "145",
                                    "foglalas_pk": "1471",
                                    "Napok száma": "1",
                                    "Előző": "2"
                                },
                                {
                                    "SZOBA_FK": "145",
                                    "foglalas_pk": "1338",
                                    "Napok száma": "2",
                                    "Előző": "1"
                                },
                                {
                                    "SZOBA_FK": "145",
                                    "foglalas_pk": "1145",
                                    "Napok száma": "4",
                                    "Előző": "2"
                                },
                                {
                                    "SZOBA_FK": "145",
                                    "foglalas_pk": "703",
                                    "Napok száma": "4",
                                    "Előző": "4"
                                },
                                {
                                    "SZOBA_FK": "145",
                                    "foglalas_pk": "1077",
                                    "Napok száma": "1",
                                    "Előző": "4"
                                },
                                {
                                    "SZOBA_FK": "145",
                                    "foglalas_pk": "1120",
                                    "Napok száma": "1",
                                    "Előző": "1"
                                },
                                {
                                    "SZOBA_FK": "146",
                                    "foglalas_pk": "1032",
                                    "Napok száma": "5",
                                    "Előző": "1"
                                },
                                {
                                    "SZOBA_FK": "146",
                                    "foglalas_pk": "890",
                                    "Napok száma": "3",
                                    "Előző": "5"
                                },
                                {
                                    "SZOBA_FK": "146",
                                    "foglalas_pk": "789",
                                    "Napok száma": "7",
                                    "Előző": "3"
                                },
                                {
                                    "SZOBA_FK": "146",
                                    "foglalas_pk": "804",
                                    "Napok száma": "7",
                                    "Előző": "7"
                                },
                                {
                                    "SZOBA_FK": "146",
                                    "foglalas_pk": "664",
                                    "Napok száma": "3",
                                    "Előző": "7"
                                },
                                {
                                    "SZOBA_FK": "146",
                                    "foglalas_pk": "1479",
                                    "Napok száma": "6",
                                    "Előző": "3"
                                },
                                {
                                    "SZOBA_FK": "147",
                                    "foglalas_pk": "771",
                                    "Napok száma": "4",
                                    "Előző": "6"
                                },
                                {
                                    "SZOBA_FK": "148",
                                    "foglalas_pk": "765",
                                    "Napok száma": "3",
                                    "Előző": "4"
                                },
                                {
                                    "SZOBA_FK": "148",
                                    "foglalas_pk": "808",
                                    "Napok száma": "2",
                                    "Előző": "3"
                                },
                                {
                                    "SZOBA_FK": "148",
                                    "foglalas_pk": "783",
                                    "Napok száma": "7",
                                    "Előző": "2"
                                },
                                {
                                    "SZOBA_FK": "148",
                                    "foglalas_pk": "812",
                                    "Napok száma": "6",
                                    "Előző": "7"
                                },
                                {
                                    "SZOBA_FK": "148",
                                    "foglalas_pk": "678",
                                    "Napok száma": "4",
                                    "Előző": "6"
                                },
                                {
                                    "SZOBA_FK": "148",
                                    "foglalas_pk": "1578",
                                    "Napok száma": "7",
                                    "Előző": "4"
                                },
                                {
                                    "SZOBA_FK": "149",
                                    "foglalas_pk": "1514",
                                    "Napok száma": "5",
                                    "Előző": "7"
                                },
                                {
                                    "SZOBA_FK": "149",
                                    "foglalas_pk": "1146",
                                    "Napok száma": "6",
                                    "Előző": "5"
                                },
                                {
                                    "SZOBA_FK": "149",
                                    "foglalas_pk": "652",
                                    "Napok száma": "1",
                                    "Előző": "6"
                                },
                                {
                                    "SZOBA_FK": "149",
                                    "foglalas_pk": "591",
                                    "Napok száma": "1",
                                    "Előző": "1"
                                },
                                {
                                    "SZOBA_FK": "149",
                                    "foglalas_pk": "833",
                                    "Napok száma": "2",
                                    "Előző": "1"
                                },
                                {
                                    "SZOBA_FK": "149",
                                    "foglalas_pk": "834",
                                    "Napok száma": "5",
                                    "Előző": "2"
                                },
                                {
                                    "SZOBA_FK": "149",
                                    "foglalas_pk": "843",
                                    "Napok száma": "4",
                                    "Előző": "5"
                                },
                                {
                                    "SZOBA_FK": "150",
                                    "foglalas_pk": "1100",
                                    "Napok száma": "5",
                                    "Előző": "4"
                                },
                                {
                                    "SZOBA_FK": "150",
                                    "foglalas_pk": "1105",
                                    "Napok száma": "1",
                                    "Előző": "5"
                                },
                                {
                                    "SZOBA_FK": "150",
                                    "foglalas_pk": "641",
                                    "Napok száma": "3",
                                    "Előző": "1"
                                },
                                {
                                    "SZOBA_FK": "150",
                                    "foglalas_pk": "1177",
                                    "Napok száma": "1",
                                    "Előző": "3"
                                },
                                {
                                    "SZOBA_FK": "150",
                                    "foglalas_pk": "1203",
                                    "Napok száma": "4",
                                    "Előző": "1"
                                },
                                {
                                    "SZOBA_FK": "150",
                                    "foglalas_pk": "1432",
                                    "Napok száma": "3",
                                    "Előző": "4"
                                },
                                {
                                    "SZOBA_FK": "151",
                                    "foglalas_pk": "1115",
                                    "Napok száma": "3",
                                    "Előző": "3"
                                },
                                {
                                    "SZOBA_FK": "151",
                                    "foglalas_pk": "1058",
                                    "Napok száma": "3",
                                    "Előző": "3"
                                },
                                {
                                    "SZOBA_FK": "151",
                                    "foglalas_pk": "893",
                                    "Napok száma": "3",
                                    "Előző": "3"
                                },
                                {
                                    "SZOBA_FK": "152",
                                    "foglalas_pk": "730",
                                    "Napok száma": "2",
                                    "Előző": "3"
                                },
                                {
                                    "SZOBA_FK": "152",
                                    "foglalas_pk": "1558",
                                    "Napok száma": "2",
                                    "Előző": "2"
                                },
                                {
                                    "SZOBA_FK": "152",
                                    "foglalas_pk": "1197",
                                    "Napok száma": "6",
                                    "Előző": "2"
                                },
                                {
                                    "SZOBA_FK": "152",
                                    "foglalas_pk": "1160",
                                    "Napok száma": "7",
                                    "Előző": "6"
                                },
                                {
                                    "SZOBA_FK": "153",
                                    "foglalas_pk": "1507",
                                    "Napok száma": "3",
                                    "Előző": "7"
                                },
                                {
                                    "SZOBA_FK": "153",
                                    "foglalas_pk": "1470",
                                    "Napok száma": "5",
                                    "Előző": "3"
                                },
                                {
                                    "SZOBA_FK": "153",
                                    "foglalas_pk": "1460",
                                    "Napok száma": "3",
                                    "Előző": "5"
                                },
                                {
                                    "SZOBA_FK": "153",
                                    "foglalas_pk": "594",
                                    "Napok száma": "3",
                                    "Előző": "3"
                                },
                                {
                                    "SZOBA_FK": "153",
                                    "foglalas_pk": "969",
                                    "Napok száma": "6",
                                    "Előző": "3"
                                },
                                {
                                    "SZOBA_FK": "154",
                                    "foglalas_pk": "968",
                                    "Napok száma": "1",
                                    "Előző": "6"
                                },
                                {
                                    "SZOBA_FK": "154",
                                    "foglalas_pk": "1061",
                                    "Napok száma": "7",
                                    "Előző": "1"
                                },
                                {
                                    "SZOBA_FK": "154",
                                    "foglalas_pk": "1539",
                                    "Napok száma": "2",
                                    "Előző": "7"
                                },
                                {
                                    "SZOBA_FK": "154",
                                    "foglalas_pk": "1168",
                                    "Napok száma": "6",
                                    "Előző": "2"
                                },
                                {
                                    "SZOBA_FK": "154",
                                    "foglalas_pk": "1262",
                                    "Napok száma": "1",
                                    "Előző": "6"
                                },
                                {
                                    "SZOBA_FK": "155",
                                    "foglalas_pk": "1310",
                                    "Napok száma": "1",
                                    "Előző": "1"
                                },
                                {
                                    "SZOBA_FK": "155",
                                    "foglalas_pk": "1541",
                                    "Napok száma": "1",
                                    "Előző": "1"
                                },
                                {
                                    "SZOBA_FK": "155",
                                    "foglalas_pk": "1112",
                                    "Napok száma": "4",
                                    "Előző": "1"
                                },
                                {
                                    "SZOBA_FK": "155",
                                    "foglalas_pk": "577",
                                    "Napok száma": "3",
                                    "Előző": "4"
                                },
                                {
                                    "SZOBA_FK": "155",
                                    "foglalas_pk": "575",
                                    "Napok száma": "1",
                                    "Előző": "3"
                                },
                                {
                                    "SZOBA_FK": "156",
                                    "foglalas_pk": "588",
                                    "Napok száma": "7",
                                    "Előző": "1"
                                },
                                {
                                    "SZOBA_FK": "156",
                                    "foglalas_pk": "692",
                                    "Napok száma": "6",
                                    "Előző": "7"
                                },
                                {
                                    "SZOBA_FK": "156",
                                    "foglalas_pk": "956",
                                    "Napok száma": "6",
                                    "Előző": "6"
                                },
                                {
                                    "SZOBA_FK": "156",
                                    "foglalas_pk": "907",
                                    "Napok száma": "3",
                                    "Előző": "6"
                                },
                                {
                                    "SZOBA_FK": "156",
                                    "foglalas_pk": "1561",
                                    "Napok száma": "4",
                                    "Előző": "3"
                                },
                                {
                                    "SZOBA_FK": "156",
                                    "foglalas_pk": "1462",
                                    "Napok száma": "7",
                                    "Előző": "4"
                                },
                                {
                                    "SZOBA_FK": "156",
                                    "foglalas_pk": "1490",
                                    "Napok száma": "1",
                                    "Előző": "7"
                                },
                                {
                                    "SZOBA_FK": "157",
                                    "foglalas_pk": "1551",
                                    "Napok száma": "3",
                                    "Előző": "1"
                                },
                                {
                                    "SZOBA_FK": "157",
                                    "foglalas_pk": "1240",
                                    "Napok száma": "7",
                                    "Előző": "3"
                                },
                                {
                                    "SZOBA_FK": "157",
                                    "foglalas_pk": "1047",
                                    "Napok száma": "4",
                                    "Előző": "7"
                                },
                                {
                                    "SZOBA_FK": "157",
                                    "foglalas_pk": "1025",
                                    "Napok száma": "3",
                                    "Előző": "4"
                                },
                                {
                                    "SZOBA_FK": "157",
                                    "foglalas_pk": "648",
                                    "Napok száma": "4",
                                    "Előző": "3"
                                },
                                {
                                    "SZOBA_FK": "158",
                                    "foglalas_pk": "825",
                                    "Napok száma": "4",
                                    "Előző": "4"
                                },
                                {
                                    "SZOBA_FK": "158",
                                    "foglalas_pk": "1117",
                                    "Napok száma": "3",
                                    "Előző": "4"
                                },
                                {
                                    "SZOBA_FK": "158",
                                    "foglalas_pk": "840",
                                    "Napok száma": "4",
                                    "Előző": "3"
                                },
                                {
                                    "SZOBA_FK": "160",
                                    "foglalas_pk": "922",
                                    "Napok száma": "2",
                                    "Előző": "4"
                                },
                                {
                                    "SZOBA_FK": "160",
                                    "foglalas_pk": "927",
                                    "Napok száma": "4",
                                    "Előző": "2"
                                },
                                {
                                    "SZOBA_FK": "160",
                                    "foglalas_pk": "933",
                                    "Napok száma": "4",
                                    "Előző": "4"
                                },
                                {
                                    "SZOBA_FK": "160",
                                    "foglalas_pk": "720",
                                    "Napok száma": "2",
                                    "Előző": "4"
                                },
                                {
                                    "SZOBA_FK": "160",
                                    "foglalas_pk": "1565",
                                    "Napok száma": "3",
                                    "Előző": "2"
                                },
                                {
                                    "SZOBA_FK": "161",
                                    "foglalas_pk": "1571",
                                    "Napok száma": "4",
                                    "Előző": "3"
                                },
                                {
                                    "SZOBA_FK": "161",
                                    "foglalas_pk": "1190",
                                    "Napok száma": "7",
                                    "Előző": "4"
                                },
                                {
                                    "SZOBA_FK": "161",
                                    "foglalas_pk": "639",
                                    "Napok száma": "4",
                                    "Előző": "7"
                                },
                                {
                                    "SZOBA_FK": "161",
                                    "foglalas_pk": "653",
                                    "Napok száma": "7",
                                    "Előző": "4"
                                },
                                {
                                    "SZOBA_FK": "161",
                                    "foglalas_pk": "911",
                                    "Napok száma": "4",
                                    "Előző": "7"
                                },
                                {
                                    "SZOBA_FK": "161",
                                    "foglalas_pk": "1068",
                                    "Napok száma": "6",
                                    "Előző": "4"
                                },
                                {
                                    "SZOBA_FK": "162",
                                    "foglalas_pk": "599",
                                    "Napok száma": "4",
                                    "Előző": "6"
                                },
                                {
                                    "SZOBA_FK": "162",
                                    "foglalas_pk": "1205",
                                    "Napok száma": "6",
                                    "Előző": "4"
                                },
                                {
                                    "SZOBA_FK": "162",
                                    "foglalas_pk": "1400",
                                    "Napok száma": "1",
                                    "Előző": "6"
                                },
                                {
                                    "SZOBA_FK": "163",
                                    "foglalas_pk": "1265",
                                    "Napok száma": "5",
                                    "Előző": "1"
                                },
                                {
                                    "SZOBA_FK": "163",
                                    "foglalas_pk": "1487",
                                    "Napok száma": "3",
                                    "Előző": "5"
                                },
                                {
                                    "SZOBA_FK": "163",
                                    "foglalas_pk": "630",
                                    "Napok száma": "2",
                                    "Előző": "3"
                                },
                                {
                                    "SZOBA_FK": "163",
                                    "foglalas_pk": "782",
                                    "Napok száma": "3",
                                    "Előző": "2"
                                },
                                {
                                    "SZOBA_FK": "163",
                                    "foglalas_pk": "1075",
                                    "Napok száma": "4",
                                    "Előző": "3"
                                },
                                {
                                    "SZOBA_FK": "163",
                                    "foglalas_pk": "1107",
                                    "Napok száma": "3",
                                    "Előző": "4"
                                },
                                {
                                    "SZOBA_FK": "163",
                                    "foglalas_pk": "941",
                                    "Napok száma": "1",
                                    "Előző": "3"
                                },
                                {
                                    "SZOBA_FK": "164",
                                    "foglalas_pk": "1010",
                                    "Napok száma": "2",
                                    "Előző": "1"
                                },
                                {
                                    "SZOBA_FK": "164",
                                    "foglalas_pk": "742",
                                    "Napok száma": "6",
                                    "Előző": "2"
                                },
                                {
                                    "SZOBA_FK": "164",
                                    "foglalas_pk": "570",
                                    "Napok száma": "7",
                                    "Előző": "6"
                                },
                                {
                                    "SZOBA_FK": "164",
                                    "foglalas_pk": "1292",
                                    "Napok száma": "2",
                                    "Előző": "7"
                                },
                                {
                                    "SZOBA_FK": "164",
                                    "foglalas_pk": "1284",
                                    "Napok száma": "4",
                                    "Előző": "2"
                                },
                                {
                                    "SZOBA_FK": "165",
                                    "foglalas_pk": "1375",
                                    "Napok száma": "4",
                                    "Előző": "4"
                                },
                                {
                                    "SZOBA_FK": "165",
                                    "foglalas_pk": "1141",
                                    "Napok száma": "1",
                                    "Előző": "4"
                                },
                                {
                                    "SZOBA_FK": "165",
                                    "foglalas_pk": "640",
                                    "Napok száma": "3",
                                    "Előző": "1"
                                },
                                {
                                    "SZOBA_FK": "165",
                                    "foglalas_pk": "900",
                                    "Napok száma": "6",
                                    "Előző": "3"
                                },
                                {
                                    "SZOBA_FK": "165",
                                    "foglalas_pk": "897",
                                    "Napok száma": "6",
                                    "Előző": "6"
                                },
                                {
                                    "SZOBA_FK": "165",
                                    "foglalas_pk": "892",
                                    "Napok száma": "3",
                                    "Előző": "6"
                                },
                                {
                                    "SZOBA_FK": "165",
                                    "foglalas_pk": "857",
                                    "Napok száma": "5",
                                    "Előző": "3"
                                },
                                {
                                    "SZOBA_FK": "166",
                                    "foglalas_pk": "644",
                                    "Napok száma": "7",
                                    "Előző": "5"
                                },
                                {
                                    "SZOBA_FK": "166",
                                    "foglalas_pk": "781",
                                    "Napok száma": "7",
                                    "Előző": "7"
                                },
                                {
                                    "SZOBA_FK": "166",
                                    "foglalas_pk": "1526",
                                    "Napok száma": "2",
                                    "Előző": "7"
                                },
                                {
                                    "SZOBA_FK": "167",
                                    "foglalas_pk": "1414",
                                    "Napok száma": "3",
                                    "Előző": "2"
                                },
                                {
                                    "SZOBA_FK": "167",
                                    "foglalas_pk": "854",
                                    "Napok száma": "7",
                                    "Előző": "3"
                                },
                                {
                                    "SZOBA_FK": "168",
                                    "foglalas_pk": "930",
                                    "Napok száma": "3",
                                    "Előző": "7"
                                },
                                {
                                    "SZOBA_FK": "168",
                                    "foglalas_pk": "794",
                                    "Napok száma": "4",
                                    "Előző": "3"
                                },
                                {
                                    "SZOBA_FK": "168",
                                    "foglalas_pk": "792",
                                    "Napok száma": "3",
                                    "Előző": "4"
                                },
                                {
                                    "SZOBA_FK": "168",
                                    "foglalas_pk": "1266",
                                    "Napok száma": "4",
                                    "Előző": "3"
                                },
                                {
                                    "SZOBA_FK": "168",
                                    "foglalas_pk": "1249",
                                    "Napok száma": "4",
                                    "Előző": "4"
                                },
                                {
                                    "SZOBA_FK": "169",
                                    "foglalas_pk": "1356",
                                    "Napok száma": "4",
                                    "Előző": "4"
                                },
                                {
                                    "SZOBA_FK": "169",
                                    "foglalas_pk": "1427",
                                    "Napok száma": "1",
                                    "Előző": "4"
                                },
                                {
                                    "SZOBA_FK": "169",
                                    "foglalas_pk": "746",
                                    "Napok száma": "7",
                                    "Előző": "1"
                                },
                                {
                                    "SZOBA_FK": "169",
                                    "foglalas_pk": "659",
                                    "Napok száma": "6",
                                    "Előző": "7"
                                },
                                {
                                    "SZOBA_FK": "169",
                                    "foglalas_pk": "573",
                                    "Napok száma": "5",
                                    "Előző": "6"
                                },
                                {
                                    "SZOBA_FK": "169",
                                    "foglalas_pk": "974",
                                    "Napok száma": "1",
                                    "Előző": "5"
                                },
                                {
                                    "SZOBA_FK": "170",
                                    "foglalas_pk": "944",
                                    "Napok száma": "4",
                                    "Előző": "1"
                                },
                                {
                                    "SZOBA_FK": "170",
                                    "foglalas_pk": "567",
                                    "Napok száma": "7",
                                    "Előző": "4"
                                },
                                {
                                    "SZOBA_FK": "170",
                                    "foglalas_pk": "1342",
                                    "Napok száma": "6",
                                    "Előző": "7"
                                },
                                {
                                    "SZOBA_FK": "170",
                                    "foglalas_pk": "1267",
                                    "Napok száma": "7",
                                    "Előző": "6"
                                },
                                {
                                    "SZOBA_FK": "170",
                                    "foglalas_pk": "1194",
                                    "Napok száma": "4",
                                    "Előző": "7"
                                },
                                {
                                    "SZOBA_FK": "171",
                                    "foglalas_pk": "1181",
                                    "Napok száma": "6",
                                    "Előző": "4"
                                },
                                {
                                    "SZOBA_FK": "171",
                                    "foglalas_pk": "1329",
                                    "Napok száma": "5",
                                    "Előző": "6"
                                },
                                {
                                    "SZOBA_FK": "171",
                                    "foglalas_pk": "1567",
                                    "Napok száma": "6",
                                    "Előző": "5"
                                },
                                {
                                    "SZOBA_FK": "171",
                                    "foglalas_pk": "574",
                                    "Napok száma": "2",
                                    "Előző": "6"
                                },
                                {
                                    "SZOBA_FK": "171",
                                    "foglalas_pk": "981",
                                    "Napok száma": "4",
                                    "Előző": "2"
                                },
                                {
                                    "SZOBA_FK": "172",
                                    "foglalas_pk": "984",
                                    "Napok száma": "4",
                                    "Előző": "4"
                                },
                                {
                                    "SZOBA_FK": "172",
                                    "foglalas_pk": "749",
                                    "Napok száma": "6",
                                    "Előző": "4"
                                },
                                {
                                    "SZOBA_FK": "172",
                                    "foglalas_pk": "709",
                                    "Napok száma": "5",
                                    "Előző": "6"
                                },
                                {
                                    "SZOBA_FK": "172",
                                    "foglalas_pk": "839",
                                    "Napok száma": "5",
                                    "Előző": "5"
                                },
                                {
                                    "SZOBA_FK": "172",
                                    "foglalas_pk": "1421",
                                    "Napok száma": "5",
                                    "Előző": "5"
                                },
                                {
                                    "SZOBA_FK": "172",
                                    "foglalas_pk": "1491",
                                    "Napok száma": "2",
                                    "Előző": "5"
                                },
                                {
                                    "SZOBA_FK": "172",
                                    "foglalas_pk": "1336",
                                    "Napok száma": "5",
                                    "Előző": "2"
                                },
                                {
                                    "SZOBA_FK": "172",
                                    "foglalas_pk": "1171",
                                    "Napok száma": "5",
                                    "Előző": "5"
                                },
                                {
                                    "SZOBA_FK": "172",
                                    "foglalas_pk": "1142",
                                    "Napok száma": "4",
                                    "Előző": "5"
                                },
                                {
                                    "SZOBA_FK": "173",
                                    "foglalas_pk": "1350",
                                    "Napok száma": "3",
                                    "Előző": "4"
                                },
                                {
                                    "SZOBA_FK": "173",
                                    "foglalas_pk": "1429",
                                    "Napok száma": "4",
                                    "Előző": "3"
                                },
                                {
                                    "SZOBA_FK": "173",
                                    "foglalas_pk": "669",
                                    "Napok száma": "7",
                                    "Előző": "4"
                                },
                                {
                                    "SZOBA_FK": "173",
                                    "foglalas_pk": "913",
                                    "Napok száma": "1",
                                    "Előző": "7"
                                },
                                {
                                    "SZOBA_FK": "174",
                                    "foglalas_pk": "917",
                                    "Napok száma": "2",
                                    "Előző": "1"
                                },
                                {
                                    "SZOBA_FK": "174",
                                    "foglalas_pk": "1015",
                                    "Napok száma": "5",
                                    "Előző": "2"
                                },
                                {
                                    "SZOBA_FK": "174",
                                    "foglalas_pk": "682",
                                    "Napok száma": "3",
                                    "Előző": "5"
                                },
                                {
                                    "SZOBA_FK": "174",
                                    "foglalas_pk": "1276",
                                    "Napok száma": "1",
                                    "Előző": "3"
                                },
                                {
                                    "SZOBA_FK": "175",
                                    "foglalas_pk": "1133",
                                    "Napok száma": "2",
                                    "Előző": "1"
                                },
                                {
                                    "SZOBA_FK": "175",
                                    "foglalas_pk": "1407",
                                    "Napok száma": "7",
                                    "Előző": "2"
                                },
                                {
                                    "SZOBA_FK": "175",
                                    "foglalas_pk": "799",
                                    "Napok száma": "4",
                                    "Előző": "7"
                                },
                                {
                                    "SZOBA_FK": "175",
                                    "foglalas_pk": "1094",
                                    "Napok száma": "5",
                                    "Előző": "4"
                                },
                                {
                                    "SZOBA_FK": "175",
                                    "foglalas_pk": "867",
                                    "Napok száma": "6",
                                    "Előző": "5"
                                },
                                {
                                    "SZOBA_FK": "176",
                                    "foglalas_pk": "592",
                                    "Napok száma": "5",
                                    "Előző": "6"
                                },
                                {
                                    "SZOBA_FK": "176",
                                    "foglalas_pk": "1383",
                                    "Napok száma": "4",
                                    "Előző": "5"
                                },
                                {
                                    "SZOBA_FK": "176",
                                    "foglalas_pk": "1278",
                                    "Napok száma": "6",
                                    "Előző": "4"
                                },
                                {
                                    "SZOBA_FK": "176",
                                    "foglalas_pk": "1143",
                                    "Napok száma": "6",
                                    "Előző": "6"
                                },
                                {
                                    "SZOBA_FK": "176",
                                    "foglalas_pk": "1511",
                                    "Napok száma": "2",
                                    "Előző": "6"
                                },
                                {
                                    "SZOBA_FK": "176",
                                    "foglalas_pk": "1570",
                                    "Napok száma": "3",
                                    "Előző": "2"
                                },
                                {
                                    "SZOBA_FK": "177",
                                    "foglalas_pk": "1503",
                                    "Napok száma": "3",
                                    "Előző": "3"
                                },
                                {
                                    "SZOBA_FK": "177",
                                    "foglalas_pk": "1176",
                                    "Napok száma": "3",
                                    "Előző": "3"
                                },
                                {
                                    "SZOBA_FK": "177",
                                    "foglalas_pk": "785",
                                    "Napok száma": "3",
                                    "Előző": "3"
                                },
                                {
                                    "SZOBA_FK": "177",
                                    "foglalas_pk": "831",
                                    "Napok száma": "7",
                                    "Előző": "3"
                                },
                                {
                                    "SZOBA_FK": "178",
                                    "foglalas_pk": "816",
                                    "Napok száma": "4",
                                    "Előző": "7"
                                },
                                {
                                    "SZOBA_FK": "178",
                                    "foglalas_pk": "991",
                                    "Napok száma": "7",
                                    "Előző": "4"
                                },
                                {
                                    "SZOBA_FK": "178",
                                    "foglalas_pk": "1242",
                                    "Napok száma": "1",
                                    "Előző": "7"
                                },
                                {
                                    "SZOBA_FK": "178",
                                    "foglalas_pk": "1211",
                                    "Napok száma": "3",
                                    "Előző": "1"
                                },
                                {
                                    "SZOBA_FK": "179",
                                    "foglalas_pk": "1497",
                                    "Napok száma": "1",
                                    "Előző": "3"
                                },
                                {
                                    "SZOBA_FK": "179",
                                    "foglalas_pk": "1021",
                                    "Napok száma": "1",
                                    "Előző": "1"
                                },
                                {
                                    "SZOBA_FK": "179",
                                    "foglalas_pk": "662",
                                    "Napok száma": "2",
                                    "Előző": "1"
                                },
                                {
                                    "SZOBA_FK": "180",
                                    "foglalas_pk": "905",
                                    "Napok száma": "5",
                                    "Előző": "2"
                                },
                                {
                                    "SZOBA_FK": "180",
                                    "foglalas_pk": "1563",
                                    "Napok száma": "6",
                                    "Előző": "5"
                                },
                                {
                                    "SZOBA_FK": "180",
                                    "foglalas_pk": "1559",
                                    "Napok száma": "3",
                                    "Előző": "6"
                                },
                                {
                                    "SZOBA_FK": "181",
                                    "foglalas_pk": "1346",
                                    "Napok száma": "6",
                                    "Előző": "3"
                                },
                                {
                                    "SZOBA_FK": "181",
                                    "foglalas_pk": "937",
                                    "Napok száma": "3",
                                    "Előző": "6"
                                },
                                {
                                    "SZOBA_FK": "181",
                                    "foglalas_pk": "958",
                                    "Napok száma": "5",
                                    "Előző": "3"
                                },
                                {
                                    "SZOBA_FK": "181",
                                    "foglalas_pk": "1022",
                                    "Napok száma": "1",
                                    "Előző": "5"
                                },
                                {
                                    "SZOBA_FK": "181",
                                    "foglalas_pk": "677",
                                    "Napok száma": "4",
                                    "Előző": "1"
                                },
                                {
                                    "SZOBA_FK": "181",
                                    "foglalas_pk": "731",
                                    "Napok száma": "6",
                                    "Előző": "4"
                                },
                                {
                                    "SZOBA_FK": "182",
                                    "foglalas_pk": "740",
                                    "Napok száma": "3",
                                    "Előző": "6"
                                },
                                {
                                    "SZOBA_FK": "182",
                                    "foglalas_pk": "571",
                                    "Napok száma": "2",
                                    "Előző": "3"
                                },
                                {
                                    "SZOBA_FK": "182",
                                    "foglalas_pk": "1008",
                                    "Napok száma": "6",
                                    "Előző": "2"
                                },
                                {
                                    "SZOBA_FK": "182",
                                    "foglalas_pk": "928",
                                    "Napok száma": "2",
                                    "Előző": "6"
                                },
                                {
                                    "SZOBA_FK": "182",
                                    "foglalas_pk": "1410",
                                    "Napok száma": "4",
                                    "Előző": "2"
                                },
                                {
                                    "SZOBA_FK": "182",
                                    "foglalas_pk": "1308",
                                    "Napok száma": "1",
                                    "Előző": "4"
                                },
                                {
                                    "SZOBA_FK": "182",
                                    "foglalas_pk": "1326",
                                    "Napok száma": "4",
                                    "Előző": "1"
                                },
                                {
                                    "SZOBA_FK": "182",
                                    "foglalas_pk": "1317",
                                    "Napok száma": "3",
                                    "Előző": "4"
                                },
                                {
                                    "SZOBA_FK": "182",
                                    "foglalas_pk": "1230",
                                    "Napok száma": "7",
                                    "Előző": "3"
                                },
                                {
                                    "SZOBA_FK": "182",
                                    "foglalas_pk": "1231",
                                    "Napok száma": "4",
                                    "Előző": "7"
                                },
                                {
                                    "SZOBA_FK": "182",
                                    "foglalas_pk": "1188",
                                    "Napok száma": "1",
                                    "Előző": "4"
                                },
                                {
                                    "SZOBA_FK": "182",
                                    "foglalas_pk": "1422",
                                    "Napok száma": "3",
                                    "Előző": "1"
                                },
                                {
                                    "SZOBA_FK": "183",
                                    "foglalas_pk": "1437",
                                    "Napok száma": "4",
                                    "Előző": "3"
                                },
                                {
                                    "SZOBA_FK": "183",
                                    "foglalas_pk": "1147",
                                    "Napok száma": "4",
                                    "Előző": "4"
                                },
                                {
                                    "SZOBA_FK": "183",
                                    "foglalas_pk": "939",
                                    "Napok száma": "4",
                                    "Előző": "4"
                                },
                                {
                                    "SZOBA_FK": "183",
                                    "foglalas_pk": "1067",
                                    "Napok száma": "7",
                                    "Előző": "4"
                                },
                                {
                                    "SZOBA_FK": "184",
                                    "foglalas_pk": "880",
                                    "Napok száma": "4",
                                    "Előző": "7"
                                },
                                {
                                    "SZOBA_FK": "184",
                                    "foglalas_pk": "608",
                                    "Napok száma": "2",
                                    "Előző": "4"
                                },
                                {
                                    "SZOBA_FK": "184",
                                    "foglalas_pk": "684",
                                    "Napok száma": "3",
                                    "Előző": "2"
                                },
                                {
                                    "SZOBA_FK": "184",
                                    "foglalas_pk": "1251",
                                    "Napok száma": "4",
                                    "Előző": "3"
                                },
                                {
                                    "SZOBA_FK": "185",
                                    "foglalas_pk": "1183",
                                    "Napok száma": "5",
                                    "Előző": "4"
                                },
                                {
                                    "SZOBA_FK": "185",
                                    "foglalas_pk": "1441",
                                    "Napok száma": "7",
                                    "Előző": "5"
                                },
                                {
                                    "SZOBA_FK": "185",
                                    "foglalas_pk": "1463",
                                    "Napok száma": "7",
                                    "Előző": "7"
                                },
                                {
                                    "SZOBA_FK": "185",
                                    "foglalas_pk": "693",
                                    "Napok száma": "2",
                                    "Előző": "7"
                                },
                                {
                                    "SZOBA_FK": "185",
                                    "foglalas_pk": "679",
                                    "Napok száma": "5",
                                    "Előző": "2"
                                },
                                {
                                    "SZOBA_FK": "185",
                                    "foglalas_pk": "672",
                                    "Napok száma": "3",
                                    "Előző": "5"
                                },
                                {
                                    "SZOBA_FK": "185",
                                    "foglalas_pk": "578",
                                    "Napok száma": "6",
                                    "Előző": "3"
                                },
                                {
                                    "SZOBA_FK": "185",
                                    "foglalas_pk": "711",
                                    "Napok száma": "3",
                                    "Előző": "6"
                                },
                                {
                                    "SZOBA_FK": "185",
                                    "foglalas_pk": "898",
                                    "Napok száma": "4",
                                    "Előző": "3"
                                },
                                {
                                    "SZOBA_FK": "185",
                                    "foglalas_pk": "863",
                                    "Napok száma": "4",
                                    "Előző": "4"
                                },
                                {
                                    "SZOBA_FK": "185",
                                    "foglalas_pk": "925",
                                    "Napok száma": "6",
                                    "Előző": "4"
                                },
                                {
                                    "SZOBA_FK": "185",
                                    "foglalas_pk": "1125",
                                    "Napok száma": "3",
                                    "Előző": "6"
                                },
                                {
                                    "SZOBA_FK": "186",
                                    "foglalas_pk": "615",
                                    "Napok száma": "3",
                                    "Előző": "3"
                                },
                                {
                                    "SZOBA_FK": "186",
                                    "foglalas_pk": "1467",
                                    "Napok száma": "3",
                                    "Előző": "3"
                                },
                                {
                                    "SZOBA_FK": "186",
                                    "foglalas_pk": "1153",
                                    "Napok száma": "3",
                                    "Előző": "3"
                                },
                                {
                                    "SZOBA_FK": "186",
                                    "foglalas_pk": "1248",
                                    "Napok száma": "2",
                                    "Előző": "3"
                                },
                                {
                                    "SZOBA_FK": "187",
                                    "foglalas_pk": "1404",
                                    "Napok száma": "2",
                                    "Előző": "2"
                                },
                                {
                                    "SZOBA_FK": "187",
                                    "foglalas_pk": "695",
                                    "Napok száma": "6",
                                    "Előző": "2"
                                },
                                {
                                    "SZOBA_FK": "187",
                                    "foglalas_pk": "633",
                                    "Napok száma": "6",
                                    "Előző": "6"
                                },
                                {
                                    "SZOBA_FK": "187",
                                    "foglalas_pk": "743",
                                    "Napok száma": "2",
                                    "Előző": "6"
                                },
                                {
                                    "SZOBA_FK": "187",
                                    "foglalas_pk": "766",
                                    "Napok száma": "1",
                                    "Előző": "2"
                                },
                                {
                                    "SZOBA_FK": "187",
                                    "foglalas_pk": "957",
                                    "Napok száma": "4",
                                    "Előző": "1"
                                },
                                {
                                    "SZOBA_FK": "187",
                                    "foglalas_pk": "868",
                                    "Napok száma": "4",
                                    "Előző": "4"
                                },
                                {
                                    "SZOBA_FK": "188",
                                    "foglalas_pk": "912",
                                    "Napok száma": "1",
                                    "Előző": "4"
                                },
                                {
                                    "SZOBA_FK": "188",
                                    "foglalas_pk": "1030",
                                    "Napok száma": "4",
                                    "Előző": "1"
                                },
                                {
                                    "SZOBA_FK": "188",
                                    "foglalas_pk": "747",
                                    "Napok száma": "3",
                                    "Előző": "4"
                                },
                                {
                                    "SZOBA_FK": "188",
                                    "foglalas_pk": "710",
                                    "Napok száma": "7",
                                    "Előző": "3"
                                },
                                {
                                    "SZOBA_FK": "188",
                                    "foglalas_pk": "690",
                                    "Napok száma": "4",
                                    "Előző": "7"
                                },
                                {
                                    "SZOBA_FK": "188",
                                    "foglalas_pk": "1390",
                                    "Napok száma": "5",
                                    "Előző": "4"
                                },
                                {
                                    "SZOBA_FK": "189",
                                    "foglalas_pk": "1204",
                                    "Napok száma": "2",
                                    "Előző": "5"
                                },
                                {
                                    "SZOBA_FK": "189",
                                    "foglalas_pk": "1449",
                                    "Napok száma": "2",
                                    "Előző": "2"
                                },
                                {
                                    "SZOBA_FK": "189",
                                    "foglalas_pk": "1576",
                                    "Napok száma": "3",
                                    "Előző": "2"
                                },
                                {
                                    "SZOBA_FK": "189",
                                    "foglalas_pk": "699",
                                    "Napok száma": "2",
                                    "Előző": "3"
                                },
                                {
                                    "SZOBA_FK": "189",
                                    "foglalas_pk": "753",
                                    "Napok száma": "1",
                                    "Előző": "2"
                                },
                                {
                                    "SZOBA_FK": "190",
                                    "foglalas_pk": "774",
                                    "Napok száma": "5",
                                    "Előző": "1"
                                },
                                {
                                    "SZOBA_FK": "190",
                                    "foglalas_pk": "600",
                                    "Napok száma": "7",
                                    "Előző": "5"
                                },
                                {
                                    "SZOBA_FK": "190",
                                    "foglalas_pk": "1017",
                                    "Napok száma": "1",
                                    "Előző": "7"
                                },
                                {
                                    "SZOBA_FK": "190",
                                    "foglalas_pk": "989",
                                    "Napok száma": "1",
                                    "Előző": "1"
                                },
                                {
                                    "SZOBA_FK": "190",
                                    "foglalas_pk": "1517",
                                    "Napok száma": "5",
                                    "Előző": "1"
                                },
                                {
                                    "SZOBA_FK": "191",
                                    "foglalas_pk": "1502",
                                    "Napok száma": "2",
                                    "Előző": "5"
                                },
                                {
                                    "SZOBA_FK": "191",
                                    "foglalas_pk": "1508",
                                    "Napok száma": "7",
                                    "Előző": "2"
                                },
                                {
                                    "SZOBA_FK": "191",
                                    "foglalas_pk": "1323",
                                    "Napok száma": "7",
                                    "Előző": "7"
                                },
                                {
                                    "SZOBA_FK": "191",
                                    "foglalas_pk": "1302",
                                    "Napok száma": "1",
                                    "Előző": "7"
                                },
                                {
                                    "SZOBA_FK": "191",
                                    "foglalas_pk": "1039",
                                    "Napok száma": "6",
                                    "Előző": "1"
                                },
                                {
                                    "SZOBA_FK": "192",
                                    "foglalas_pk": "903",
                                    "Napok száma": "7",
                                    "Előző": "6"
                                },
                                {
                                    "SZOBA_FK": "192",
                                    "foglalas_pk": "680",
                                    "Napok száma": "4",
                                    "Előző": "7"
                                },
                                {
                                    "SZOBA_FK": "193",
                                    "foglalas_pk": "675",
                                    "Napok száma": "2",
                                    "Előző": "4"
                                },
                                {
                                    "SZOBA_FK": "193",
                                    "foglalas_pk": "634",
                                    "Napok száma": "6",
                                    "Előző": "2"
                                },
                                {
                                    "SZOBA_FK": "193",
                                    "foglalas_pk": "835",
                                    "Napok száma": "2",
                                    "Előző": "6"
                                },
                                {
                                    "SZOBA_FK": "193",
                                    "foglalas_pk": "977",
                                    "Napok száma": "2",
                                    "Előző": "2"
                                },
                                {
                                    "SZOBA_FK": "193",
                                    "foglalas_pk": "926",
                                    "Napok száma": "1",
                                    "Előző": "2"
                                },
                                {
                                    "SZOBA_FK": "193",
                                    "foglalas_pk": "1043",
                                    "Napok száma": "6",
                                    "Előző": "1"
                                },
                                {
                                    "SZOBA_FK": "193",
                                    "foglalas_pk": "1238",
                                    "Napok száma": "6",
                                    "Előző": "6"
                                },
                                {
                                    "SZOBA_FK": "194",
                                    "foglalas_pk": "1095",
                                    "Napok száma": "5",
                                    "Előző": "6"
                                },
                                {
                                    "SZOBA_FK": "195",
                                    "foglalas_pk": "1074",
                                    "Napok száma": "7",
                                    "Előző": "5"
                                },
                                {
                                    "SZOBA_FK": "195",
                                    "foglalas_pk": "842",
                                    "Napok száma": "4",
                                    "Előző": "7"
                                },
                                {
                                    "SZOBA_FK": "195",
                                    "foglalas_pk": "721",
                                    "Napok száma": "4",
                                    "Előző": "4"
                                },
                                {
                                    "SZOBA_FK": "195",
                                    "foglalas_pk": "1184",
                                    "Napok száma": "5",
                                    "Előző": "4"
                                },
                                {
                                    "SZOBA_FK": "195",
                                    "foglalas_pk": "1473",
                                    "Napok száma": "7",
                                    "Előző": "5"
                                },
                                {
                                    "SZOBA_FK": "195",
                                    "foglalas_pk": "1484",
                                    "Napok száma": "1",
                                    "Előző": "7"
                                },
                                {
                                    "SZOBA_FK": "196",
                                    "foglalas_pk": "1314",
                                    "Napok száma": "5",
                                    "Előző": "1"
                                },
                                {
                                    "SZOBA_FK": "196",
                                    "foglalas_pk": "1340",
                                    "Napok száma": "5",
                                    "Előző": "5"
                                },
                                {
                                    "SZOBA_FK": "196",
                                    "foglalas_pk": "673",
                                    "Napok száma": "5",
                                    "Előző": "5"
                                },
                                {
                                    "SZOBA_FK": "196",
                                    "foglalas_pk": "952",
                                    "Napok száma": "3",
                                    "Előző": "5"
                                },
                                {
                                    "SZOBA_FK": "197",
                                    "foglalas_pk": "1091",
                                    "Napok száma": "7",
                                    "Előző": "3"
                                },
                                {
                                    "SZOBA_FK": "197",
                                    "foglalas_pk": "993",
                                    "Napok száma": "7",
                                    "Előző": "7"
                                },
                                {
                                    "SZOBA_FK": "197",
                                    "foglalas_pk": "764",
                                    "Napok száma": "7",
                                    "Előző": "7"
                                },
                                {
                                    "SZOBA_FK": "197",
                                    "foglalas_pk": "1304",
                                    "Napok száma": "7",
                                    "Előző": "7"
                                },
                                {
                                    "SZOBA_FK": "197",
                                    "foglalas_pk": "1387",
                                    "Napok száma": "3",
                                    "Előző": "7"
                                },
                                {
                                    "SZOBA_FK": "197",
                                    "foglalas_pk": "1172",
                                    "Napok száma": "7",
                                    "Előző": "3"
                                },
                                {
                                    "SZOBA_FK": "198",
                                    "foglalas_pk": "1138",
                                    "Napok száma": "5",
                                    "Előző": "7"
                                },
                                {
                                    "SZOBA_FK": "198",
                                    "foglalas_pk": "1161",
                                    "Napok száma": "5",
                                    "Előző": "5"
                                },
                                {
                                    "SZOBA_FK": "198",
                                    "foglalas_pk": "1216",
                                    "Napok száma": "7",
                                    "Előző": "5"
                                },
                                {
                                    "SZOBA_FK": "198",
                                    "foglalas_pk": "1420",
                                    "Napok száma": "5",
                                    "Előző": "7"
                                },
                                {
                                    "SZOBA_FK": "198",
                                    "foglalas_pk": "1011",
                                    "Napok száma": "7",
                                    "Előző": "5"
                                },
                                {
                                    "SZOBA_FK": "198",
                                    "foglalas_pk": "1065",
                                    "Napok száma": "3",
                                    "Előző": "7"
                                },
                                {
                                    "SZOBA_FK": "198",
                                    "foglalas_pk": "1116",
                                    "Napok száma": "1",
                                    "Előző": "3"
                                },
                                {
                                    "SZOBA_FK": "198",
                                    "foglalas_pk": "978",
                                    "Napok száma": "1",
                                    "Előző": "1"
                                }
                            ]
                        },
                        "text/html": [
                            "<table>",
                            "<tr><th>SZOBA_FK</th><th>foglalas_pk</th><th>Napok száma</th><th>Előző</th></tr>",
                            "<tr><td>1</td><td>620</td><td>5</td><td>0</td></tr>",
                            "<tr><td>1</td><td>738</td><td>7</td><td>5</td></tr>",
                            "<tr><td>1</td><td>803</td><td>4</td><td>7</td></tr>",
                            "<tr><td>1</td><td>949</td><td>1</td><td>4</td></tr>",
                            "<tr><td>1</td><td>1137</td><td>2</td><td>1</td></tr>",
                            "<tr><td>1</td><td>1152</td><td>1</td><td>2</td></tr>",
                            "<tr><td>1</td><td>1274</td><td>1</td><td>1</td></tr>",
                            "<tr><td>1</td><td>1334</td><td>4</td><td>1</td></tr>",
                            "<tr><td>2</td><td>1311</td><td>7</td><td>4</td></tr>",
                            "<tr><td>2</td><td>1051</td><td>1</td><td>7</td></tr>",
                            "<tr><td>2</td><td>1069</td><td>7</td><td>1</td></tr>",
                            "<tr><td>2</td><td>828</td><td>3</td><td>7</td></tr>",
                            "<tr><td>3</td><td>788</td><td>6</td><td>3</td></tr>",
                            "<tr><td>3</td><td>629</td><td>4</td><td>6</td></tr>",
                            "<tr><td>3</td><td>666</td><td>6</td><td>4</td></tr>",
                            "<tr><td>3</td><td>1110</td><td>7</td><td>6</td></tr>",
                            "<tr><td>3</td><td>1038</td><td>3</td><td>7</td></tr>",
                            "<tr><td>3</td><td>1151</td><td>1</td><td>3</td></tr>",
                            "<tr><td>3</td><td>1434</td><td>5</td><td>1</td></tr>",
                            "<tr><td>3</td><td>1544</td><td>5</td><td>5</td></tr>",
                            "<tr><td>4</td><td>1492</td><td>6</td><td>5</td></tr>",
                            "<tr><td>4</td><td>1132</td><td>6</td><td>6</td></tr>",
                            "<tr><td>4</td><td>1001</td><td>7</td><td>6</td></tr>",
                            "<tr><td>4</td><td>1127</td><td>3</td><td>7</td></tr>",
                            "<tr><td>4</td><td>946</td><td>5</td><td>3</td></tr>",
                            "<tr><td>4</td><td>651</td><td>7</td><td>5</td></tr>",
                            "<tr><td>5</td><td>564</td><td>2</td><td>7</td></tr>",
                            "<tr><td>5</td><td>965</td><td>7</td><td>2</td></tr>",
                            "<tr><td>5</td><td>1073</td><td>5</td><td>7</td></tr>",
                            "<tr><td>5</td><td>1257</td><td>3</td><td>5</td></tr>",
                            "<tr><td>6</td><td>1099</td><td>4</td><td>3</td></tr>",
                            "<tr><td>6</td><td>990</td><td>4</td><td>4</td></tr>",
                            "<tr><td>6</td><td>850</td><td>2</td><td>4</td></tr>",
                            "<tr><td>6</td><td>873</td><td>3</td><td>2</td></tr>",
                            "<tr><td>6</td><td>560</td><td>6</td><td>3</td></tr>",
                            "<tr><td>6</td><td>772</td><td>6</td><td>6</td></tr>",
                            "<tr><td>7</td><td>759</td><td>7</td><td>6</td></tr>",
                            "<tr><td>7</td><td>562</td><td>4</td><td>7</td></tr>",
                            "<tr><td>7</td><td>1252</td><td>2</td><td>4</td></tr>",
                            "<tr><td>7</td><td>1131</td><td>1</td><td>2</td></tr>",
                            "<tr><td>7</td><td>1175</td><td>4</td><td>1</td></tr>",
                            "<tr><td>7</td><td>1182</td><td>4</td><td>4</td></tr>",
                            "<tr><td>8</td><td>694</td><td>4</td><td>4</td></tr>",
                            "<tr><td>8</td><td>832</td><td>4</td><td>4</td></tr>",
                            "<tr><td>8</td><td>818</td><td>4</td><td>4</td></tr>",
                            "<tr><td>8</td><td>882</td><td>1</td><td>4</td></tr>",
                            "<tr><td>8</td><td>947</td><td>3</td><td>1</td></tr>",
                            "<tr><td>9</td><td>609</td><td>2</td><td>3</td></tr>",
                            "<tr><td>9</td><td>1157</td><td>6</td><td>2</td></tr>",
                            "<tr><td>9</td><td>1260</td><td>6</td><td>6</td></tr>",
                            "<tr><td>9</td><td>1220</td><td>3</td><td>6</td></tr>",
                            "<tr><td>9</td><td>1537</td><td>3</td><td>3</td></tr>",
                            "<tr><td>9</td><td>1423</td><td>3</td><td>3</td></tr>",
                            "<tr><td>10</td><td>1319</td><td>6</td><td>3</td></tr>",
                            "<tr><td>10</td><td>569</td><td>3</td><td>6</td></tr>",
                            "<tr><td>10</td><td>790</td><td>5</td><td>3</td></tr>",
                            "<tr><td>10</td><td>795</td><td>4</td><td>5</td></tr>",
                            "<tr><td>11</td><td>918</td><td>6</td><td>4</td></tr>",
                            "<tr><td>11</td><td>1123</td><td>5</td><td>6</td></tr>",
                            "<tr><td>11</td><td>1236</td><td>1</td><td>5</td></tr>",
                            "<tr><td>11</td><td>1523</td><td>1</td><td>1</td></tr>",
                            "<tr><td>12</td><td>1430</td><td>2</td><td>1</td></tr>",
                            "<tr><td>12</td><td>1140</td><td>3</td><td>2</td></tr>",
                            "<tr><td>12</td><td>1164</td><td>5</td><td>3</td></tr>",
                            "<tr><td>12</td><td>1020</td><td>5</td><td>5</td></tr>",
                            "<tr><td>12</td><td>951</td><td>3</td><td>5</td></tr>",
                            "<tr><td>12</td><td>970</td><td>2</td><td>3</td></tr>",
                            "<tr><td>12</td><td>876</td><td>7</td><td>2</td></tr>",
                            "<tr><td>12</td><td>775</td><td>4</td><td>7</td></tr>",
                            "<tr><td>12</td><td>697</td><td>2</td><td>4</td></tr>",
                            "<tr><td>13</td><td>763</td><td>4</td><td>2</td></tr>",
                            "<tr><td>13</td><td>1044</td><td>6</td><td>4</td></tr>",
                            "<tr><td>13</td><td>1347</td><td>3</td><td>6</td></tr>",
                            "<tr><td>13</td><td>1469</td><td>2</td><td>3</td></tr>",
                            "<tr><td>14</td><td>1542</td><td>4</td><td>2</td></tr>",
                            "<tr><td>14</td><td>813</td><td>3</td><td>4</td></tr>",
                            "<tr><td>14</td><td>663</td><td>1</td><td>3</td></tr>",
                            "<tr><td>15</td><td>791</td><td>5</td><td>1</td></tr>",
                            "<tr><td>15</td><td>1028</td><td>2</td><td>5</td></tr>",
                            "<tr><td>15</td><td>1442</td><td>3</td><td>2</td></tr>",
                            "<tr><td>15</td><td>1418</td><td>4</td><td>3</td></tr>",
                            "<tr><td>15</td><td>1129</td><td>4</td><td>4</td></tr>",
                            "<tr><td>15</td><td>1244</td><td>1</td><td>4</td></tr>",
                            "<tr><td>16</td><td>1498</td><td>7</td><td>1</td></tr>",
                            "<tr><td>16</td><td>896</td><td>1</td><td>7</td></tr>",
                            "<tr><td>16</td><td>856</td><td>6</td><td>1</td></tr>",
                            "<tr><td>16</td><td>973</td><td>1</td><td>6</td></tr>",
                            "<tr><td>16</td><td>687</td><td>3</td><td>1</td></tr>",
                            "<tr><td>17</td><td>602</td><td>6</td><td>3</td></tr>",
                            "<tr><td>17</td><td>744</td><td>1</td><td>6</td></tr>",
                            "<tr><td>17</td><td>713</td><td>6</td><td>1</td></tr>",
                            "<tr><td>17</td><td>916</td><td>2</td><td>6</td></tr>",
                            "<tr><td>17</td><td>1549</td><td>3</td><td>2</td></tr>",
                            "<tr><td>17</td><td>1316</td><td>5</td><td>3</td></tr>",
                            "<tr><td>18</td><td>1173</td><td>6</td><td>5</td></tr>",
                            "<tr><td>18</td><td>1198</td><td>4</td><td>6</td></tr>",
                            "<tr><td>18</td><td>1505</td><td>6</td><td>4</td></tr>",
                            "<tr><td>18</td><td>1035</td><td>6</td><td>6</td></tr>",
                            "<tr><td>18</td><td>767</td><td>3</td><td>6</td></tr>",
                            "<tr><td>18</td><td>626</td><td>3</td><td>3</td></tr>",
                            "<tr><td>19</td><td>696</td><td>1</td><td>3</td></tr>",
                            "<tr><td>19</td><td>778</td><td>1</td><td>1</td></tr>",
                            "<tr><td>19</td><td>948</td><td>2</td><td>1</td></tr>",
                            "<tr><td>19</td><td>1533</td><td>1</td><td>2</td></tr>",
                            "<tr><td>19</td><td>1139</td><td>7</td><td>1</td></tr>",
                            "<tr><td>19</td><td>1237</td><td>1</td><td>7</td></tr>",
                            "<tr><td>20</td><td>1114</td><td>5</td><td>1</td></tr>",
                            "<tr><td>20</td><td>1106</td><td>2</td><td>5</td></tr>",
                            "<tr><td>20</td><td>1070</td><td>1</td><td>2</td></tr>",
                            "<tr><td>20</td><td>820</td><td>1</td><td>1</td></tr>",
                            "<tr><td>20</td><td>755</td><td>6</td><td>1</td></tr>",
                            "<tr><td>21</td><td>805</td><td>1</td><td>6</td></tr>",
                            "<tr><td>21</td><td>660</td><td>5</td><td>1</td></tr>",
                            "<tr><td>21</td><td>566</td><td>6</td><td>5</td></tr>",
                            "<tr><td>21</td><td>1212</td><td>6</td><td>6</td></tr>",
                            "<tr><td>22</td><td>1206</td><td>7</td><td>6</td></tr>",
                            "<tr><td>22</td><td>1130</td><td>1</td><td>7</td></tr>",
                            "<tr><td>22</td><td>1195</td><td>6</td><td>1</td></tr>",
                            "<tr><td>22</td><td>1287</td><td>3</td><td>6</td></tr>",
                            "<tr><td>22</td><td>1005</td><td>3</td><td>3</td></tr>",
                            "<tr><td>22</td><td>906</td><td>1</td><td>3</td></tr>",
                            "<tr><td>23</td><td>848</td><td>1</td><td>1</td></tr>",
                            "<tr><td>23</td><td>945</td><td>7</td><td>1</td></tr>",
                            "<tr><td>23</td><td>934</td><td>1</td><td>7</td></tr>",
                            "<tr><td>24</td><td>852</td><td>2</td><td>1</td></tr>",
                            "<tr><td>24</td><td>1415</td><td>3</td><td>2</td></tr>",
                            "<tr><td>24</td><td>1167</td><td>1</td><td>3</td></tr>",
                            "<tr><td>25</td><td>1362</td><td>2</td><td>1</td></tr>",
                            "<tr><td>25</td><td>1052</td><td>3</td><td>2</td></tr>",
                            "<tr><td>26</td><td>1388</td><td>3</td><td>3</td></tr>",
                            "<tr><td>26</td><td>1158</td><td>2</td><td>3</td></tr>",
                            "<tr><td>27</td><td>1275</td><td>6</td><td>2</td></tr>",
                            "<tr><td>27</td><td>1377</td><td>1</td><td>6</td></tr>",
                            "<tr><td>27</td><td>1476</td><td>1</td><td>1</td></tr>",
                            "<tr><td>27</td><td>1031</td><td>2</td><td>1</td></tr>",
                            "<tr><td>27</td><td>1082</td><td>5</td><td>2</td></tr>",
                            "<tr><td>27</td><td>807</td><td>2</td><td>5</td></tr>",
                            "<tr><td>27</td><td>758</td><td>3</td><td>2</td></tr>",
                            "<tr><td>28</td><td>725</td><td>5</td><td>3</td></tr>",
                            "<tr><td>28</td><td>872</td><td>5</td><td>5</td></tr>",
                            "<tr><td>28</td><td>901</td><td>4</td><td>5</td></tr>",
                            "<tr><td>28</td><td>886</td><td>4</td><td>4</td></tr>",
                            "<tr><td>28</td><td>1459</td><td>2</td><td>4</td></tr>",
                            "<tr><td>28</td><td>1150</td><td>6</td><td>2</td></tr>",
                            "<tr><td>29</td><td>1185</td><td>5</td><td>6</td></tr>",
                            "<tr><td>29</td><td>1235</td><td>7</td><td>5</td></tr>",
                            "<tr><td>29</td><td>1568</td><td>7</td><td>7</td></tr>",
                            "<tr><td>29</td><td>894</td><td>1</td><td>7</td></tr>",
                            "<tr><td>29</td><td>1076</td><td>7</td><td>1</td></tr>",
                            "<tr><td>29</td><td>611</td><td>5</td><td>7</td></tr>",
                            "<tr><td>30</td><td>604</td><td>2</td><td>5</td></tr>",
                            "<tr><td>30</td><td>1023</td><td>7</td><td>2</td></tr>",
                            "<tr><td>30</td><td>1136</td><td>5</td><td>7</td></tr>",
                            "<tr><td>31</td><td>606</td><td>1</td><td>5</td></tr>",
                            "<tr><td>31</td><td>598</td><td>2</td><td>1</td></tr>",
                            "<tr><td>31</td><td>728</td><td>4</td><td>2</td></tr>",
                            "<tr><td>32</td><td>920</td><td>4</td><td>4</td></tr>",
                            "<tr><td>33</td><td>1053</td><td>1</td><td>4</td></tr>",
                            "<tr><td>33</td><td>1012</td><td>7</td><td>1</td></tr>",
                            "<tr><td>33</td><td>624</td><td>6</td><td>7</td></tr>",
                            "<tr><td>33</td><td>1381</td><td>6</td><td>6</td></tr>",
                            "<tr><td>33</td><td>1344</td><td>5</td><td>6</td></tr>",
                            "<tr><td>33</td><td>1321</td><td>4</td><td>5</td></tr>",
                            "<tr><td>34</td><td>777</td><td>3</td><td>4</td></tr>",
                            "<tr><td>34</td><td>821</td><td>1</td><td>3</td></tr>",
                            "<tr><td>34</td><td>904</td><td>2</td><td>1</td></tr>",
                            "<tr><td>34</td><td>870</td><td>6</td><td>2</td></tr>",
                            "<tr><td>35</td><td>971</td><td>3</td><td>6</td></tr>",
                            "<tr><td>35</td><td>979</td><td>7</td><td>3</td></tr>",
                            "<tr><td>35</td><td>829</td><td>2</td><td>7</td></tr>",
                            "<tr><td>35</td><td>707</td><td>2</td><td>2</td></tr>",
                            "<tr><td>35</td><td>686</td><td>6</td><td>2</td></tr>",
                            "<tr><td>35</td><td>1411</td><td>1</td><td>6</td></tr>",
                            "<tr><td>35</td><td>1480</td><td>37</td><td>1</td></tr>",
                            "<tr><td>35</td><td>1436</td><td>1</td><td>37</td></tr>",
                            "<tr><td>35</td><td>1529</td><td>4</td><td>1</td></tr>",
                            "<tr><td>36</td><td>748</td><td>2</td><td>4</td></tr>",
                            "<tr><td>36</td><td>750</td><td>6</td><td>2</td></tr>",
                            "<tr><td>36</td><td>985</td><td>6</td><td>6</td></tr>",
                            "<tr><td>36</td><td>919</td><td>1</td><td>6</td></tr>",
                            "<tr><td>36</td><td>895</td><td>5</td><td>1</td></tr>",
                            "<tr><td>36</td><td>1003</td><td>4</td><td>5</td></tr>",
                            "<tr><td>37</td><td>705</td><td>4</td><td>4</td></tr>",
                            "<tr><td>37</td><td>688</td><td>2</td><td>4</td></tr>",
                            "<tr><td>37</td><td>1335</td><td>7</td><td>2</td></tr>",
                            "<tr><td>38</td><td>1416</td><td>5</td><td>7</td></tr>",
                            "<tr><td>38</td><td>1351</td><td>4</td><td>5</td></tr>",
                            "<tr><td>38</td><td>1556</td><td>6</td><td>4</td></tr>",
                            "<tr><td>38</td><td>1478</td><td>4</td><td>6</td></tr>",
                            "<tr><td>38</td><td>627</td><td>6</td><td>4</td></tr>",
                            "<tr><td>38</td><td>1033</td><td>2</td><td>6</td></tr>",
                            "<tr><td>38</td><td>1078</td><td>7</td><td>2</td></tr>",
                            "<tr><td>38</td><td>1060</td><td>2</td><td>7</td></tr>",
                            "<tr><td>39</td><td>899</td><td>6</td><td>2</td></tr>",
                            "<tr><td>39</td><td>601</td><td>6</td><td>6</td></tr>",
                            "<tr><td>39</td><td>1435</td><td>7</td><td>6</td></tr>",
                            "<tr><td>39</td><td>1454</td><td>1</td><td>7</td></tr>",
                            "<tr><td>39</td><td>1538</td><td>2</td><td>1</td></tr>",
                            "<tr><td>39</td><td>1380</td><td>5</td><td>2</td></tr>",
                            "<tr><td>39</td><td>1214</td><td>5</td><td>5</td></tr>",
                            "<tr><td>40</td><td>924</td><td>5</td><td>5</td></tr>",
                            "<tr><td>40</td><td>932</td><td>6</td><td>5</td></tr>",
                            "<tr><td>40</td><td>1118</td><td>5</td><td>6</td></tr>",
                            "<tr><td>40</td><td>1018</td><td>5</td><td>5</td></tr>",
                            "<tr><td>41</td><td>960</td><td>6</td><td>5</td></tr>",
                            "<tr><td>41</td><td>1144</td><td>1</td><td>6</td></tr>",
                            "<tr><td>42</td><td>1309</td><td>2</td><td>1</td></tr>",
                            "<tr><td>42</td><td>1444</td><td>6</td><td>2</td></tr>",
                            "<tr><td>42</td><td>851</td><td>7</td><td>6</td></tr>",
                            "<tr><td>42</td><td>561</td><td>4</td><td>7</td></tr>",
                            "<tr><td>42</td><td>590</td><td>5</td><td>4</td></tr>",
                            "<tr><td>42</td><td>770</td><td>3</td><td>5</td></tr>",
                            "<tr><td>43</td><td>670</td><td>4</td><td>3</td></tr>",
                            "<tr><td>43</td><td>1019</td><td>4</td><td>4</td></tr>",
                            "<tr><td>43</td><td>1088</td><td>2</td><td>4</td></tr>",
                            "<tr><td>43</td><td>1553</td><td>5</td><td>2</td></tr>",
                            "<tr><td>43</td><td>1524</td><td>1</td><td>5</td></tr>",
                            "<tr><td>43</td><td>1207</td><td>1</td><td>1</td></tr>",
                            "<tr><td>43</td><td>1227</td><td>5</td><td>1</td></tr>",
                            "<tr><td>43</td><td>1270</td><td>4</td><td>5</td></tr>",
                            "<tr><td>44</td><td>1295</td><td>2</td><td>4</td></tr>",
                            "<tr><td>44</td><td>1552</td><td>2</td><td>2</td></tr>",
                            "<tr><td>44</td><td>1425</td><td>2</td><td>2</td></tr>",
                            "<tr><td>44</td><td>658</td><td>6</td><td>2</td></tr>",
                            "<tr><td>44</td><td>589</td><td>2</td><td>6</td></tr>",
                            "<tr><td>44</td><td>823</td><td>2</td><td>2</td></tr>",
                            "<tr><td>45</td><td>802</td><td>7</td><td>2</td></tr>",
                            "<tr><td>45</td><td>800</td><td>5</td><td>7</td></tr>",
                            "<tr><td>45</td><td>846</td><td>3</td><td>5</td></tr>",
                            "<tr><td>45</td><td>1303</td><td>2</td><td>3</td></tr>",
                            "<tr><td>45</td><td>1135</td><td>3</td><td>2</td></tr>",
                            "<tr><td>46</td><td>1187</td><td>7</td><td>3</td></tr>",
                            "<tr><td>46</td><td>1291</td><td>3</td><td>7</td></tr>",
                            "<tr><td>46</td><td>1515</td><td>4</td><td>3</td></tr>",
                            "<tr><td>46</td><td>752</td><td>5</td><td>4</td></tr>",
                            "<tr><td>47</td><td>955</td><td>1</td><td>5</td></tr>",
                            "<tr><td>47</td><td>1056</td><td>7</td><td>1</td></tr>",
                            "<tr><td>48</td><td>986</td><td>5</td><td>7</td></tr>",
                            "<tr><td>48</td><td>914</td><td>5</td><td>5</td></tr>",
                            "<tr><td>48</td><td>824</td><td>2</td><td>5</td></tr>",
                            "<tr><td>48</td><td>603</td><td>3</td><td>2</td></tr>",
                            "<tr><td>48</td><td>628</td><td>2</td><td>3</td></tr>",
                            "<tr><td>48</td><td>1546</td><td>3</td><td>2</td></tr>",
                            "<tr><td>48</td><td>1547</td><td>1</td><td>3</td></tr>",
                            "<tr><td>48</td><td>1581</td><td>5</td><td>1</td></tr>",
                            "<tr><td>48</td><td>1243</td><td>6</td><td>5</td></tr>",
                            "<tr><td>49</td><td>1221</td><td>2</td><td>6</td></tr>",
                            "<tr><td>49</td><td>1200</td><td>7</td><td>2</td></tr>",
                            "<tr><td>49</td><td>1536</td><td>6</td><td>7</td></tr>",
                            "<tr><td>49</td><td>826</td><td>4</td><td>6</td></tr>",
                            "<tr><td>49</td><td>793</td><td>6</td><td>4</td></tr>",
                            "<tr><td>49</td><td>888</td><td>7</td><td>6</td></tr>",
                            "<tr><td>49</td><td>1066</td><td>7</td><td>7</td></tr>",
                            "<tr><td>50</td><td>1063</td><td>2</td><td>7</td></tr>",
                            "<tr><td>50</td><td>787</td><td>3</td><td>2</td></tr>",
                            "<tr><td>50</td><td>1224</td><td>1</td><td>3</td></tr>",
                            "<tr><td>50</td><td>1272</td><td>1</td><td>1</td></tr>",
                            "<tr><td>51</td><td>1165</td><td>5</td><td>1</td></tr>",
                            "<tr><td>51</td><td>1550</td><td>1</td><td>5</td></tr>",
                            "<tr><td>51</td><td>1477</td><td>6</td><td>1</td></tr>",
                            "<tr><td>51</td><td>811</td><td>2</td><td>6</td></tr>",
                            "<tr><td>51</td><td>865</td><td>7</td><td>2</td></tr>",
                            "<tr><td>52</td><td>822</td><td>7</td><td>7</td></tr>",
                            "<tr><td>52</td><td>1431</td><td>5</td><td>7</td></tr>",
                            "<tr><td>52</td><td>1534</td><td>5</td><td>5</td></tr>",
                            "<tr><td>52</td><td>1258</td><td>5</td><td>5</td></tr>",
                            "<tr><td>52</td><td>1202</td><td>2</td><td>5</td></tr>",
                            "<tr><td>53</td><td>855</td><td>1</td><td>2</td></tr>",
                            "<tr><td>53</td><td>987</td><td>4</td><td>1</td></tr>",
                            "<tr><td>54</td><td>889</td><td>2</td><td>4</td></tr>",
                            "<tr><td>54</td><td>1096</td><td>4</td><td>2</td></tr>",
                            "<tr><td>54</td><td>622</td><td>7</td><td>4</td></tr>",
                            "<tr><td>54</td><td>642</td><td>5</td><td>7</td></tr>",
                            "<tr><td>54</td><td>668</td><td>1</td><td>5</td></tr>",
                            "<tr><td>54</td><td>1328</td><td>4</td><td>1</td></tr>",
                            "<tr><td>55</td><td>1327</td><td>6</td><td>4</td></tr>",
                            "<tr><td>55</td><td>1386</td><td>2</td><td>6</td></tr>",
                            "<tr><td>55</td><td>1232</td><td>7</td><td>2</td></tr>",
                            "<tr><td>55</td><td>1163</td><td>2</td><td>7</td></tr>",
                            "<tr><td>55</td><td>1512</td><td>1</td><td>2</td></tr>",
                            "<tr><td>55</td><td>1520</td><td>1</td><td>1</td></tr>",
                            "<tr><td>55</td><td>734</td><td>6</td><td>1</td></tr>",
                            "<tr><td>55</td><td>1086</td><td>5</td><td>6</td></tr>",
                            "<tr><td>56</td><td>935</td><td>4</td><td>5</td></tr>",
                            "<tr><td>56</td><td>838</td><td>2</td><td>4</td></tr>",
                            "<tr><td>57</td><td>1504</td><td>4</td><td>2</td></tr>",
                            "<tr><td>57</td><td>1466</td><td>7</td><td>4</td></tr>",
                            "<tr><td>57</td><td>1389</td><td>1</td><td>7</td></tr>",
                            "<tr><td>57</td><td>1348</td><td>1</td><td>1</td></tr>",
                            "<tr><td>58</td><td>1322</td><td>3</td><td>1</td></tr>",
                            "<tr><td>58</td><td>1293</td><td>3</td><td>3</td></tr>",
                            "<tr><td>58</td><td>1285</td><td>7</td><td>3</td></tr>",
                            "<tr><td>58</td><td>1307</td><td>6</td><td>7</td></tr>",
                            "<tr><td>58</td><td>1186</td><td>6</td><td>6</td></tr>",
                            "<tr><td>58</td><td>1208</td><td>6</td><td>6</td></tr>",
                            "<tr><td>58</td><td>1255</td><td>7</td><td>6</td></tr>",
                            "<tr><td>58</td><td>1261</td><td>6</td><td>7</td></tr>",
                            "<tr><td>58</td><td>1451</td><td>6</td><td>6</td></tr>",
                            "<tr><td>58</td><td>719</td><td>3</td><td>6</td></tr>",
                            "<tr><td>58</td><td>773</td><td>2</td><td>3</td></tr>",
                            "<tr><td>58</td><td>883</td><td>5</td><td>2</td></tr>",
                            "<tr><td>58</td><td>1113</td><td>3</td><td>5</td></tr>",
                            "<tr><td>59</td><td>1084</td><td>2</td><td>3</td></tr>",
                            "<tr><td>59</td><td>1080</td><td>1</td><td>2</td></tr>",
                            "<tr><td>59</td><td>1573</td><td>1</td><td>1</td></tr>",
                            "<tr><td>59</td><td>1239</td><td>2</td><td>1</td></tr>",
                            "<tr><td>59</td><td>1191</td><td>6</td><td>2</td></tr>",
                            "<tr><td>59</td><td>1170</td><td>5</td><td>6</td></tr>",
                            "<tr><td>59</td><td>1288</td><td>3</td><td>5</td></tr>",
                            "<tr><td>60</td><td>676</td><td>2</td><td>3</td></tr>",
                            "<tr><td>61</td><td>756</td><td>6</td><td>2</td></tr>",
                            "<tr><td>61</td><td>701</td><td>2</td><td>6</td></tr>",
                            "<tr><td>61</td><td>1148</td><td>3</td><td>2</td></tr>",
                            "<tr><td>61</td><td>1218</td><td>2</td><td>3</td></tr>",
                            "<tr><td>61</td><td>1496</td><td>7</td><td>2</td></tr>",
                            "<tr><td>62</td><td>1426</td><td>4</td><td>7</td></tr>",
                            "<tr><td>62</td><td>702</td><td>5</td><td>4</td></tr>",
                            "<tr><td>62</td><td>1081</td><td>7</td><td>5</td></tr>",
                            "<tr><td>62</td><td>936</td><td>3</td><td>7</td></tr>",
                            "<tr><td>62</td><td>938</td><td>1</td><td>3</td></tr>",
                            "<tr><td>63</td><td>891</td><td>6</td><td>1</td></tr>",
                            "<tr><td>63</td><td>845</td><td>1</td><td>6</td></tr>",
                            "<tr><td>63</td><td>769</td><td>5</td><td>1</td></tr>",
                            "<tr><td>63</td><td>625</td><td>3</td><td>5</td></tr>",
                            "<tr><td>64</td><td>875</td><td>2</td><td>3</td></tr>",
                            "<tr><td>64</td><td>1122</td><td>4</td><td>2</td></tr>",
                            "<tr><td>64</td><td>1446</td><td>6</td><td>4</td></tr>",
                            "<tr><td>64</td><td>1465</td><td>4</td><td>6</td></tr>",
                            "<tr><td>64</td><td>1582</td><td>1</td><td>4</td></tr>",
                            "<tr><td>64</td><td>1233</td><td>7</td><td>1</td></tr>",
                            "<tr><td>65</td><td>650</td><td>6</td><td>7</td></tr>",
                            "<tr><td>66</td><td>736</td><td>3</td><td>6</td></tr>",
                            "<tr><td>66</td><td>950</td><td>3</td><td>3</td></tr>",
                            "<tr><td>66</td><td>1234</td><td>3</td><td>3</td></tr>",
                            "<tr><td>66</td><td>1264</td><td>4</td><td>3</td></tr>",
                            "<tr><td>67</td><td>1382</td><td>1</td><td>4</td></tr>",
                            "<tr><td>67</td><td>1584</td><td>1</td><td>1</td></tr>",
                            "<tr><td>67</td><td>1580</td><td>5</td><td>1</td></tr>",
                            "<tr><td>67</td><td>874</td><td>6</td><td>5</td></tr>",
                            "<tr><td>67</td><td>638</td><td>5</td><td>6</td></tr>",
                            "<tr><td>67</td><td>645</td><td>6</td><td>5</td></tr>",
                            "<tr><td>68</td><td>563</td><td>5</td><td>6</td></tr>",
                            "<tr><td>68</td><td>1027</td><td>7</td><td>5</td></tr>",
                            "<tr><td>68</td><td>1324</td><td>4</td><td>7</td></tr>",
                            "<tr><td>69</td><td>1246</td><td>7</td><td>4</td></tr>",
                            "<tr><td>69</td><td>1225</td><td>5</td><td>7</td></tr>",
                            "<tr><td>69</td><td>1055</td><td>5</td><td>5</td></tr>",
                            "<tr><td>69</td><td>885</td><td>1</td><td>5</td></tr>",
                            "<tr><td>70</td><td>860</td><td>2</td><td>1</td></tr>",
                            "<tr><td>70</td><td>1006</td><td>3</td><td>2</td></tr>",
                            "<tr><td>70</td><td>1126</td><td>3</td><td>3</td></tr>",
                            "<tr><td>70</td><td>1092</td><td>3</td><td>3</td></tr>",
                            "<tr><td>70</td><td>585</td><td>5</td><td>3</td></tr>",
                            "<tr><td>70</td><td>704</td><td>3</td><td>5</td></tr>",
                            "<tr><td>70</td><td>814</td><td>3</td><td>3</td></tr>",
                            "<tr><td>70</td><td>1325</td><td>7</td><td>3</td></tr>",
                            "<tr><td>70</td><td>1333</td><td>6</td><td>7</td></tr>",
                            "<tr><td>70</td><td>1365</td><td>3</td><td>6</td></tr>",
                            "<tr><td>70</td><td>1457</td><td>7</td><td>3</td></tr>",
                            "<tr><td>71</td><td>712</td><td>1</td><td>7</td></tr>",
                            "<tr><td>71</td><td>681</td><td>3</td><td>1</td></tr>",
                            "<tr><td>71</td><td>1009</td><td>1</td><td>3</td></tr>",
                            "<tr><td>72</td><td>902</td><td>5</td><td>1</td></tr>",
                            "<tr><td>72</td><td>961</td><td>6</td><td>5</td></tr>",
                            "<tr><td>72</td><td>1396</td><td>3</td><td>6</td></tr>",
                            "<tr><td>72</td><td>1318</td><td>2</td><td>3</td></tr>",
                            "<tr><td>73</td><td>1331</td><td>4</td><td>2</td></tr>",
                            "<tr><td>73</td><td>1159</td><td>5</td><td>4</td></tr>",
                            "<tr><td>73</td><td>1000</td><td>4</td><td>5</td></tr>",
                            "<tr><td>73</td><td>714</td><td>7</td><td>4</td></tr>",
                            "<tr><td>74</td><td>830</td><td>1</td><td>7</td></tr>",
                            "<tr><td>74</td><td>797</td><td>5</td><td>1</td></tr>",
                            "<tr><td>74</td><td>595</td><td>7</td><td>5</td></tr>",
                            "<tr><td>74</td><td>1093</td><td>6</td><td>7</td></tr>",
                            "<tr><td>74</td><td>963</td><td>1</td><td>6</td></tr>",
                            "<tr><td>74</td><td>940</td><td>5</td><td>1</td></tr>",
                            "<tr><td>74</td><td>877</td><td>4</td><td>5</td></tr>",
                            "<tr><td>74</td><td>847</td><td>3</td><td>4</td></tr>",
                            "<tr><td>74</td><td>1179</td><td>7</td><td>3</td></tr>",
                            "<tr><td>75</td><td>1412</td><td>2</td><td>7</td></tr>",
                            "<tr><td>75</td><td>1458</td><td>1</td><td>2</td></tr>",
                            "<tr><td>75</td><td>1013</td><td>5</td><td>1</td></tr>",
                            "<tr><td>76</td><td>976</td><td>2</td><td>5</td></tr>",
                            "<tr><td>76</td><td>683</td><td>7</td><td>2</td></tr>",
                            "<tr><td>76</td><td>1557</td><td>3</td><td>7</td></tr>",
                            "<tr><td>77</td><td>1461</td><td>4</td><td>3</td></tr>",
                            "<tr><td>77</td><td>1439</td><td>6</td><td>4</td></tr>",
                            "<tr><td>77</td><td>698</td><td>4</td><td>6</td></tr>",
                            "<tr><td>77</td><td>593</td><td>3</td><td>4</td></tr>",
                            "<tr><td>77</td><td>982</td><td>3</td><td>3</td></tr>",
                            "<tr><td>77</td><td>1104</td><td>1</td><td>3</td></tr>",
                            "<tr><td>78</td><td>568</td><td>1</td><td>1</td></tr>",
                            "<tr><td>78</td><td>700</td><td>5</td><td>1</td></tr>",
                            "<tr><td>78</td><td>646</td><td>3</td><td>5</td></tr>",
                            "<tr><td>78</td><td>1577</td><td>7</td><td>3</td></tr>",
                            "<tr><td>78</td><td>1281</td><td>3</td><td>7</td></tr>",
                            "<tr><td>78</td><td>1268</td><td>2</td><td>3</td></tr>",
                            "<tr><td>79</td><td>1229</td><td>7</td><td>2</td></tr>",
                            "<tr><td>79</td><td>1345</td><td>3</td><td>7</td></tr>",
                            "<tr><td>79</td><td>1447</td><td>4</td><td>3</td></tr>",
                            "<tr><td>79</td><td>583</td><td>6</td><td>4</td></tr>",
                            "<tr><td>79</td><td>1054</td><td>1</td><td>6</td></tr>",
                            "<tr><td>80</td><td>983</td><td>6</td><td>1</td></tr>",
                            "<tr><td>80</td><td>1071</td><td>4</td><td>6</td></tr>",
                            "<tr><td>80</td><td>929</td><td>2</td><td>4</td></tr>",
                            "<tr><td>80</td><td>887</td><td>6</td><td>2</td></tr>",
                            "<tr><td>80</td><td>667</td><td>6</td><td>6</td></tr>",
                            "<tr><td>80</td><td>1367</td><td>3</td><td>6</td></tr>",
                            "<tr><td>80</td><td>1279</td><td>5</td><td>3</td></tr>",
                            "<tr><td>81</td><td>1366</td><td>5</td><td>5</td></tr>",
                            "<tr><td>81</td><td>1443</td><td>7</td><td>5</td></tr>",
                            "<tr><td>81</td><td>1464</td><td>7</td><td>7</td></tr>",
                            "<tr><td>81</td><td>1562</td><td>3</td><td>7</td></tr>",
                            "<tr><td>81</td><td>1506</td><td>3</td><td>3</td></tr>",
                            "<tr><td>82</td><td>1406</td><td>1</td><td>3</td></tr>",
                            "<tr><td>82</td><td>1277</td><td>5</td><td>1</td></tr>",
                            "<tr><td>82</td><td>1341</td><td>2</td><td>5</td></tr>",
                            "<tr><td>82</td><td>862</td><td>4</td><td>2</td></tr>",
                            "<tr><td>82</td><td>871</td><td>5</td><td>4</td></tr>",
                            "<tr><td>82</td><td>997</td><td>6</td><td>5</td></tr>",
                            "<tr><td>83</td><td>995</td><td>5</td><td>6</td></tr>",
                            "<tr><td>83</td><td>1119</td><td>6</td><td>5</td></tr>",
                            "<tr><td>83</td><td>869</td><td>6</td><td>6</td></tr>",
                            "<tr><td>83</td><td>878</td><td>6</td><td>6</td></tr>",
                            "<tr><td>83</td><td>674</td><td>4</td><td>6</td></tr>",
                            "<tr><td>83</td><td>572</td><td>7</td><td>4</td></tr>",
                            "<tr><td>83</td><td>798</td><td>4</td><td>7</td></tr>",
                            "<tr><td>83</td><td>1379</td><td>7</td><td>4</td></tr>",
                            "<tr><td>84</td><td>1376</td><td>5</td><td>7</td></tr>",
                            "<tr><td>84</td><td>1384</td><td>7</td><td>5</td></tr>",
                            "<tr><td>84</td><td>819</td><td>2</td><td>7</td></tr>",
                            "<tr><td>84</td><td>954</td><td>5</td><td>2</td></tr>",
                            "<tr><td>85</td><td>1059</td><td>3</td><td>5</td></tr>",
                            "<tr><td>85</td><td>647</td><td>3</td><td>3</td></tr>",
                            "<tr><td>85</td><td>1320</td><td>1</td><td>3</td></tr>",
                            "<tr><td>85</td><td>1513</td><td>7</td><td>1</td></tr>",
                            "<tr><td>86</td><td>1453</td><td>1</td><td>7</td></tr>",
                            "<tr><td>86</td><td>1079</td><td>4</td><td>1</td></tr>",
                            "<tr><td>86</td><td>1108</td><td>1</td><td>4</td></tr>",
                            "<tr><td>86</td><td>1057</td><td>5</td><td>1</td></tr>",
                            "<tr><td>86</td><td>859</td><td>1</td><td>5</td></tr>",
                            "<tr><td>87</td><td>844</td><td>1</td><td>1</td></tr>",
                            "<tr><td>87</td><td>1103</td><td>3</td><td>1</td></tr>",
                            "<tr><td>87</td><td>558</td><td>4</td><td>3</td></tr>",
                            "<tr><td>87</td><td>1456</td><td>5</td><td>4</td></tr>",
                            "<tr><td>87</td><td>1349</td><td>5</td><td>5</td></tr>",
                            "<tr><td>88</td><td>1300</td><td>3</td><td>5</td></tr>",
                            "<tr><td>88</td><td>1359</td><td>2</td><td>3</td></tr>",
                            "<tr><td>88</td><td>1273</td><td>7</td><td>2</td></tr>",
                            "<tr><td>88</td><td>1196</td><td>3</td><td>7</td></tr>",
                            "<tr><td>88</td><td>1548</td><td>7</td><td>3</td></tr>",
                            "<tr><td>88</td><td>1575</td><td>6</td><td>7</td></tr>",
                            "<tr><td>88</td><td>757</td><td>7</td><td>6</td></tr>",
                            "<tr><td>88</td><td>866</td><td>2</td><td>7</td></tr>",
                            "<tr><td>89</td><td>1101</td><td>5</td><td>2</td></tr>",
                            "<tr><td>89</td><td>1037</td><td>7</td><td>5</td></tr>",
                            "<tr><td>89</td><td>817</td><td>3</td><td>7</td></tr>",
                            "<tr><td>89</td><td>1521</td><td>7</td><td>3</td></tr>",
                            "<tr><td>89</td><td>1189</td><td>6</td><td>7</td></tr>",
                            "<tr><td>89</td><td>1269</td><td>2</td><td>6</td></tr>",
                            "<tr><td>89</td><td>1253</td><td>2</td><td>2</td></tr>",
                            "<tr><td>89</td><td>1399</td><td>2</td><td>2</td></tr>",
                            "<tr><td>90</td><td>1405</td><td>5</td><td>2</td></tr>",
                            "<tr><td>90</td><td>1299</td><td>6</td><td>5</td></tr>",
                            "<tr><td>90</td><td>1174</td><td>7</td><td>6</td></tr>",
                            "<tr><td>90</td><td>729</td><td>2</td><td>7</td></tr>",
                            "<tr><td>91</td><td>732</td><td>4</td><td>2</td></tr>",
                            "<tr><td>91</td><td>636</td><td>6</td><td>4</td></tr>",
                            "<tr><td>91</td><td>1213</td><td>3</td><td>6</td></tr>",
                            "<tr><td>91</td><td>1397</td><td>4</td><td>3</td></tr>",
                            "<tr><td>92</td><td>1555</td><td>4</td><td>4</td></tr>",
                            "<tr><td>92</td><td>1527</td><td>2</td><td>4</td></tr>",
                            "<tr><td>92</td><td>809</td><td>3</td><td>2</td></tr>",
                            "<tr><td>92</td><td>841</td><td>6</td><td>3</td></tr>",
                            "<tr><td>92</td><td>1016</td><td>2</td><td>6</td></tr>",
                            "<tr><td>92</td><td>942</td><td>6</td><td>2</td></tr>",
                            "<tr><td>93</td><td>741</td><td>7</td><td>6</td></tr>",
                            "<tr><td>93</td><td>1391</td><td>4</td><td>7</td></tr>",
                            "<tr><td>93</td><td>1355</td><td>2</td><td>4</td></tr>",
                            "<tr><td>93</td><td>1217</td><td>1</td><td>2</td></tr>",
                            "<tr><td>93</td><td>1169</td><td>4</td><td>1</td></tr>",
                            "<tr><td>94</td><td>1241</td><td>7</td><td>4</td></tr>",
                            "<tr><td>94</td><td>1368</td><td>1</td><td>7</td></tr>",
                            "<tr><td>94</td><td>1305</td><td>2</td><td>1</td></tr>",
                            "<tr><td>94</td><td>1312</td><td>3</td><td>2</td></tr>",
                            "<tr><td>94</td><td>1518</td><td>2</td><td>3</td></tr>",
                            "<tr><td>94</td><td>1564</td><td>7</td><td>2</td></tr>",
                            "<tr><td>94</td><td>727</td><td>3</td><td>7</td></tr>",
                            "<tr><td>94</td><td>665</td><td>7</td><td>3</td></tr>",
                            "<tr><td>94</td><td>616</td><td>4</td><td>7</td></tr>",
                            "<tr><td>94</td><td>975</td><td>5</td><td>4</td></tr>",
                            "<tr><td>95</td><td>1048</td><td>3</td><td>5</td></tr>",
                            "<tr><td>95</td><td>1097</td><td>4</td><td>3</td></tr>",
                            "<tr><td>95</td><td>656</td><td>7</td><td>4</td></tr>",
                            "<tr><td>95</td><td>1543</td><td>7</td><td>7</td></tr>",
                            "<tr><td>96</td><td>1438</td><td>2</td><td>7</td></tr>",
                            "<tr><td>96</td><td>1569</td><td>7</td><td>2</td></tr>",
                            "<tr><td>96</td><td>1378</td><td>3</td><td>7</td></tr>",
                            "<tr><td>96</td><td>671</td><td>4</td><td>3</td></tr>",
                            "<tr><td>96</td><td>623</td><td>7</td><td>4</td></tr>",
                            "<tr><td>96</td><td>607</td><td>4</td><td>7</td></tr>",
                            "<tr><td>96</td><td>780</td><td>1</td><td>4</td></tr>",
                            "<tr><td>97</td><td>836</td><td>2</td><td>1</td></tr>",
                            "<tr><td>97</td><td>726</td><td>4</td><td>2</td></tr>",
                            "<tr><td>97</td><td>718</td><td>7</td><td>4</td></tr>",
                            "<tr><td>97</td><td>635</td><td>3</td><td>7</td></tr>",
                            "<tr><td>97</td><td>1395</td><td>1</td><td>3</td></tr>",
                            "<tr><td>97</td><td>1417</td><td>7</td><td>1</td></tr>",
                            "<tr><td>97</td><td>1528</td><td>2</td><td>7</td></tr>",
                            "<tr><td>98</td><td>1402</td><td>2</td><td>2</td></tr>",
                            "<tr><td>98</td><td>631</td><td>6</td><td>2</td></tr>",
                            "<tr><td>98</td><td>1050</td><td>6</td><td>6</td></tr>",
                            "<tr><td>98</td><td>884</td><td>5</td><td>6</td></tr>",
                            "<tr><td>99</td><td>1072</td><td>1</td><td>5</td></tr>",
                            "<tr><td>99</td><td>632</td><td>1</td><td>1</td></tr>",
                            "<tr><td>99</td><td>691</td><td>5</td><td>1</td></tr>",
                            "<tr><td>99</td><td>1408</td><td>1</td><td>5</td></tr>",
                            "<tr><td>99</td><td>1486</td><td>5</td><td>1</td></tr>",
                            "<tr><td>100</td><td>1482</td><td>7</td><td>5</td></tr>",
                            "<tr><td>100</td><td>1315</td><td>5</td><td>7</td></tr>",
                            "<tr><td>100</td><td>637</td><td>5</td><td>5</td></tr>",
                            "<tr><td>100</td><td>597</td><td>1</td><td>5</td></tr>",
                            "<tr><td>101</td><td>715</td><td>3</td><td>1</td></tr>",
                            "<tr><td>101</td><td>1332</td><td>6</td><td>3</td></tr>",
                            "<tr><td>101</td><td>1516</td><td>4</td><td>6</td></tr>",
                            "<tr><td>102</td><td>1343</td><td>2</td><td>4</td></tr>",
                            "<tr><td>102</td><td>689</td><td>5</td><td>2</td></tr>",
                            "<tr><td>103</td><td>992</td><td>7</td><td>5</td></tr>",
                            "<tr><td>103</td><td>972</td><td>2</td><td>7</td></tr>",
                            "<tr><td>103</td><td>1398</td><td>1</td><td>2</td></tr>",
                            "<tr><td>103</td><td>1485</td><td>4</td><td>1</td></tr>",
                            "<tr><td>104</td><td>1522</td><td>2</td><td>4</td></tr>",
                            "<tr><td>104</td><td>1532</td><td>3</td><td>2</td></tr>",
                            "<tr><td>104</td><td>1180</td><td>1</td><td>3</td></tr>",
                            "<tr><td>104</td><td>837</td><td>4</td><td>1</td></tr>",
                            "<tr><td>105</td><td>618</td><td>1</td><td>4</td></tr>",
                            "<tr><td>105</td><td>1525</td><td>5</td><td>1</td></tr>",
                            "<tr><td>106</td><td>1510</td><td>6</td><td>5</td></tr>",
                            "<tr><td>106</td><td>1271</td><td>5</td><td>6</td></tr>",
                            "<tr><td>106</td><td>1228</td><td>7</td><td>5</td></tr>",
                            "<tr><td>106</td><td>1372</td><td>7</td><td>7</td></tr>",
                            "<tr><td>106</td><td>610</td><td>3</td><td>7</td></tr>",
                            "<tr><td>106</td><td>708</td><td>7</td><td>3</td></tr>",
                            "<tr><td>107</td><td>586</td><td>6</td><td>7</td></tr>",
                            "<tr><td>107</td><td>1354</td><td>1</td><td>6</td></tr>",
                            "<tr><td>107</td><td>1250</td><td>4</td><td>1</td></tr>",
                            "<tr><td>107</td><td>1494</td><td>2</td><td>4</td></tr>",
                            "<tr><td>107</td><td>1452</td><td>6</td><td>2</td></tr>",
                            "<tr><td>108</td><td>1392</td><td>6</td><td>6</td></tr>",
                            "<tr><td>108</td><td>1102</td><td>1</td><td>6</td></tr>",
                            "<tr><td>109</td><td>1083</td><td>1</td><td>1</td></tr>",
                            "<tr><td>109</td><td>621</td><td>7</td><td>1</td></tr>",
                            "<tr><td>109</td><td>614</td><td>4</td><td>7</td></tr>",
                            "<tr><td>109</td><td>654</td><td>5</td><td>4</td></tr>",
                            "<tr><td>109</td><td>810</td><td>2</td><td>5</td></tr>",
                            "<tr><td>109</td><td>1298</td><td>4</td><td>2</td></tr>",
                            "<tr><td>109</td><td>1560</td><td>1</td><td>4</td></tr>",
                            "<tr><td>110</td><td>1424</td><td>1</td><td>1</td></tr>",
                            "<tr><td>110</td><td>1489</td><td>6</td><td>1</td></tr>",
                            "<tr><td>110</td><td>1162</td><td>2</td><td>6</td></tr>",
                            "<tr><td>110</td><td>685</td><td>1</td><td>2</td></tr>",
                            "<tr><td>110</td><td>1109</td><td>5</td><td>1</td></tr>",
                            "<tr><td>110</td><td>1041</td><td>3</td><td>5</td></tr>",
                            "<tr><td>110</td><td>964</td><td>6</td><td>3</td></tr>",
                            "<tr><td>110</td><td>931</td><td>5</td><td>6</td></tr>",
                            "<tr><td>111</td><td>959</td><td>7</td><td>5</td></tr>",
                            "<tr><td>111</td><td>605</td><td>7</td><td>7</td></tr>",
                            "<tr><td>111</td><td>786</td><td>4</td><td>7</td></tr>",
                            "<tr><td>111</td><td>1296</td><td>3</td><td>4</td></tr>",
                            "<tr><td>111</td><td>1353</td><td>5</td><td>3</td></tr>",
                            "<tr><td>112</td><td>1530</td><td>6</td><td>5</td></tr>",
                            "<tr><td>112</td><td>776</td><td>4</td><td>6</td></tr>",
                            "<tr><td>112</td><td>801</td><td>5</td><td>4</td></tr>",
                            "<tr><td>112</td><td>921</td><td>1</td><td>5</td></tr>",
                            "<tr><td>112</td><td>1124</td><td>6</td><td>1</td></tr>",
                            "<tr><td>113</td><td>1085</td><td>4</td><td>6</td></tr>",
                            "<tr><td>113</td><td>1029</td><td>5</td><td>4</td></tr>",
                            "<tr><td>113</td><td>1495</td><td>7</td><td>5</td></tr>",
                            "<tr><td>113</td><td>1499</td><td>2</td><td>7</td></tr>",
                            "<tr><td>113</td><td>1263</td><td>1</td><td>2</td></tr>",
                            "<tr><td>114</td><td>1540</td><td>3</td><td>1</td></tr>",
                            "<tr><td>114</td><td>966</td><td>6</td><td>3</td></tr>",
                            "<tr><td>114</td><td>827</td><td>7</td><td>6</td></tr>",
                            "<tr><td>114</td><td>737</td><td>2</td><td>7</td></tr>",
                            "<tr><td>115</td><td>596</td><td>7</td><td>2</td></tr>",
                            "<tr><td>115</td><td>943</td><td>7</td><td>7</td></tr>",
                            "<tr><td>115</td><td>1121</td><td>7</td><td>7</td></tr>",
                            "<tr><td>115</td><td>1554</td><td>3</td><td>7</td></tr>",
                            "<tr><td>115</td><td>1566</td><td>1</td><td>3</td></tr>",
                            "<tr><td>115</td><td>1154</td><td>4</td><td>1</td></tr>",
                            "<tr><td>115</td><td>1352</td><td>3</td><td>4</td></tr>",
                            "<tr><td>116</td><td>1501</td><td>4</td><td>3</td></tr>",
                            "<tr><td>116</td><td>1455</td><td>2</td><td>4</td></tr>",
                            "<tr><td>117</td><td>1468</td><td>7</td><td>2</td></tr>",
                            "<tr><td>117</td><td>1192</td><td>2</td><td>7</td></tr>",
                            "<tr><td>117</td><td>1247</td><td>3</td><td>2</td></tr>",
                            "<tr><td>117</td><td>1002</td><td>1</td><td>3</td></tr>",
                            "<tr><td>117</td><td>962</td><td>4</td><td>1</td></tr>",
                            "<tr><td>117</td><td>953</td><td>5</td><td>4</td></tr>",
                            "<tr><td>117</td><td>612</td><td>2</td><td>5</td></tr>",
                            "<tr><td>117</td><td>617</td><td>3</td><td>2</td></tr>",
                            "<tr><td>118</td><td>716</td><td>1</td><td>3</td></tr>",
                            "<tr><td>118</td><td>864</td><td>6</td><td>1</td></tr>",
                            "<tr><td>118</td><td>994</td><td>7</td><td>6</td></tr>",
                            "<tr><td>118</td><td>996</td><td>3</td><td>7</td></tr>",
                            "<tr><td>118</td><td>1374</td><td>5</td><td>3</td></tr>",
                            "<tr><td>118</td><td>1472</td><td>6</td><td>5</td></tr>",
                            "<tr><td>118</td><td>1481</td><td>3</td><td>6</td></tr>",
                            "<tr><td>119</td><td>1488</td><td>3</td><td>3</td></tr>",
                            "<tr><td>119</td><td>1413</td><td>3</td><td>3</td></tr>",
                            "<tr><td>119</td><td>1026</td><td>3</td><td>3</td></tr>",
                            "<tr><td>119</td><td>706</td><td>2</td><td>3</td></tr>",
                            "<tr><td>119</td><td>722</td><td>1</td><td>2</td></tr>",
                            "<tr><td>120</td><td>762</td><td>3</td><td>1</td></tr>",
                            "<tr><td>120</td><td>998</td><td>3</td><td>3</td></tr>",
                            "<tr><td>120</td><td>1089</td><td>6</td><td>3</td></tr>",
                            "<tr><td>120</td><td>1339</td><td>6</td><td>6</td></tr>",
                            "<tr><td>120</td><td>1493</td><td>7</td><td>6</td></tr>",
                            "<tr><td>120</td><td>1483</td><td>1</td><td>7</td></tr>",
                            "<tr><td>121</td><td>1393</td><td>6</td><td>1</td></tr>",
                            "<tr><td>121</td><td>1373</td><td>5</td><td>6</td></tr>",
                            "<tr><td>121</td><td>1215</td><td>4</td><td>5</td></tr>",
                            "<tr><td>121</td><td>1128</td><td>4</td><td>4</td></tr>",
                            "<tr><td>121</td><td>1049</td><td>3</td><td>4</td></tr>",
                            "<tr><td>121</td><td>858</td><td>5</td><td>3</td></tr>",
                            "<tr><td>121</td><td>739</td><td>6</td><td>5</td></tr>",
                            "<tr><td>121</td><td>735</td><td>6</td><td>6</td></tr>",
                            "<tr><td>122</td><td>1036</td><td>2</td><td>6</td></tr>",
                            "<tr><td>122</td><td>1007</td><td>2</td><td>2</td></tr>",
                            "<tr><td>122</td><td>1062</td><td>3</td><td>2</td></tr>",
                            "<tr><td>122</td><td>1209</td><td>1</td><td>3</td></tr>",
                            "<tr><td>122</td><td>1245</td><td>2</td><td>1</td></tr>",
                            "<tr><td>122</td><td>1166</td><td>4</td><td>2</td></tr>",
                            "<tr><td>122</td><td>1385</td><td>5</td><td>4</td></tr>",
                            "<tr><td>122</td><td>1337</td><td>2</td><td>5</td></tr>",
                            "<tr><td>122</td><td>1440</td><td>3</td><td>2</td></tr>",
                            "<tr><td>123</td><td>1282</td><td>6</td><td>3</td></tr>",
                            "<tr><td>123</td><td>1223</td><td>1</td><td>6</td></tr>",
                            "<tr><td>123</td><td>967</td><td>5</td><td>1</td></tr>",
                            "<tr><td>123</td><td>923</td><td>4</td><td>5</td></tr>",
                            "<tr><td>123</td><td>587</td><td>7</td><td>4</td></tr>",
                            "<tr><td>124</td><td>861</td><td>1</td><td>7</td></tr>",
                            "<tr><td>124</td><td>1210</td><td>4</td><td>1</td></tr>",
                            "<tr><td>124</td><td>1330</td><td>7</td><td>4</td></tr>",
                            "<tr><td>124</td><td>1419</td><td>3</td><td>7</td></tr>",
                            "<tr><td>124</td><td>1403</td><td>6</td><td>3</td></tr>",
                            "<tr><td>124</td><td>1531</td><td>6</td><td>6</td></tr>",
                            "<tr><td>125</td><td>576</td><td>1</td><td>6</td></tr>",
                            "<tr><td>126</td><td>754</td><td>4</td><td>1</td></tr>",
                            "<tr><td>126</td><td>806</td><td>6</td><td>4</td></tr>",
                            "<tr><td>126</td><td>1500</td><td>4</td><td>6</td></tr>",
                            "<tr><td>126</td><td>1428</td><td>7</td><td>4</td></tr>",
                            "<tr><td>126</td><td>1364</td><td>6</td><td>7</td></tr>",
                            "<tr><td>126</td><td>1134</td><td>1</td><td>6</td></tr>",
                            "<tr><td>127</td><td>1226</td><td>5</td><td>1</td></tr>",
                            "<tr><td>127</td><td>1286</td><td>1</td><td>5</td></tr>",
                            "<tr><td>127</td><td>1579</td><td>5</td><td>1</td></tr>",
                            "<tr><td>127</td><td>643</td><td>2</td><td>5</td></tr>",
                            "<tr><td>127</td><td>853</td><td>5</td><td>2</td></tr>",
                            "<tr><td>127</td><td>879</td><td>2</td><td>5</td></tr>",
                            "<tr><td>127</td><td>1034</td><td>6</td><td>2</td></tr>",
                            "<tr><td>128</td><td>815</td><td>1</td><td>6</td></tr>",
                            "<tr><td>128</td><td>717</td><td>2</td><td>1</td></tr>",
                            "<tr><td>128</td><td>1574</td><td>1</td><td>2</td></tr>",
                            "<tr><td>128</td><td>1583</td><td>4</td><td>1</td></tr>",
                            "<tr><td>128</td><td>1290</td><td>1</td><td>4</td></tr>",
                            "<tr><td>129</td><td>1360</td><td>6</td><td>1</td></tr>",
                            "<tr><td>129</td><td>1445</td><td>7</td><td>6</td></tr>",
                            "<tr><td>129</td><td>1509</td><td>6</td><td>7</td></tr>",
                            "<tr><td>129</td><td>723</td><td>7</td><td>6</td></tr>",
                            "<tr><td>130</td><td>779</td><td>6</td><td>7</td></tr>",
                            "<tr><td>130</td><td>580</td><td>3</td><td>6</td></tr>",
                            "<tr><td>130</td><td>613</td><td>3</td><td>3</td></tr>",
                            "<tr><td>130</td><td>1040</td><td>1</td><td>3</td></tr>",
                            "<tr><td>130</td><td>910</td><td>2</td><td>1</td></tr>",
                            "<tr><td>130</td><td>1475</td><td>7</td><td>2</td></tr>",
                            "<tr><td>131</td><td>1474</td><td>5</td><td>7</td></tr>",
                            "<tr><td>131</td><td>881</td><td>6</td><td>5</td></tr>",
                            "<tr><td>131</td><td>559</td><td>2</td><td>6</td></tr>",
                            "<tr><td>131</td><td>655</td><td>1</td><td>2</td></tr>",
                            "<tr><td>131</td><td>760</td><td>4</td><td>1</td></tr>",
                            "<tr><td>132</td><td>619</td><td>7</td><td>4</td></tr>",
                            "<tr><td>132</td><td>999</td><td>6</td><td>7</td></tr>",
                            "<tr><td>132</td><td>1090</td><td>7</td><td>6</td></tr>",
                            "<tr><td>132</td><td>1111</td><td>3</td><td>7</td></tr>",
                            "<tr><td>132</td><td>1519</td><td>2</td><td>3</td></tr>",
                            "<tr><td>132</td><td>1301</td><td>2</td><td>2</td></tr>",
                            "<tr><td>133</td><td>1306</td><td>3</td><td>2</td></tr>",
                            "<tr><td>133</td><td>1363</td><td>5</td><td>3</td></tr>",
                            "<tr><td>133</td><td>1409</td><td>1</td><td>5</td></tr>",
                            "<tr><td>133</td><td>1149</td><td>7</td><td>1</td></tr>",
                            "<tr><td>133</td><td>909</td><td>4</td><td>7</td></tr>",
                            "<tr><td>133</td><td>988</td><td>3</td><td>4</td></tr>",
                            "<tr><td>134</td><td>1004</td><td>5</td><td>3</td></tr>",
                            "<tr><td>134</td><td>1024</td><td>1</td><td>5</td></tr>",
                            "<tr><td>134</td><td>1045</td><td>2</td><td>1</td></tr>",
                            "<tr><td>134</td><td>1219</td><td>6</td><td>2</td></tr>",
                            "<tr><td>134</td><td>1178</td><td>7</td><td>6</td></tr>",
                            "<tr><td>134</td><td>1535</td><td>7</td><td>7</td></tr>",
                            "<tr><td>135</td><td>1289</td><td>3</td><td>7</td></tr>",
                            "<tr><td>135</td><td>849</td><td>7</td><td>3</td></tr>",
                            "<tr><td>135</td><td>724</td><td>6</td><td>7</td></tr>",
                            "<tr><td>136</td><td>584</td><td>2</td><td>6</td></tr>",
                            "<tr><td>136</td><td>661</td><td>5</td><td>2</td></tr>",
                            "<tr><td>136</td><td>1046</td><td>4</td><td>5</td></tr>",
                            "<tr><td>137</td><td>1014</td><td>1</td><td>4</td></tr>",
                            "<tr><td>137</td><td>657</td><td>6</td><td>1</td></tr>",
                            "<tr><td>137</td><td>649</td><td>5</td><td>6</td></tr>",
                            "<tr><td>137</td><td>582</td><td>3</td><td>5</td></tr>",
                            "<tr><td>137</td><td>1280</td><td>3</td><td>3</td></tr>",
                            "<tr><td>137</td><td>1201</td><td>6</td><td>3</td></tr>",
                            "<tr><td>138</td><td>1256</td><td>4</td><td>6</td></tr>",
                            "<tr><td>138</td><td>1283</td><td>2</td><td>4</td></tr>",
                            "<tr><td>138</td><td>1294</td><td>5</td><td>2</td></tr>",
                            "<tr><td>138</td><td>1358</td><td>7</td><td>5</td></tr>",
                            "<tr><td>138</td><td>1370</td><td>5</td><td>7</td></tr>",
                            "<tr><td>138</td><td>768</td><td>6</td><td>5</td></tr>",
                            "<tr><td>138</td><td>796</td><td>4</td><td>6</td></tr>",
                            "<tr><td>139</td><td>751</td><td>4</td><td>4</td></tr>",
                            "<tr><td>139</td><td>745</td><td>1</td><td>4</td></tr>",
                            "<tr><td>139</td><td>579</td><td>2</td><td>1</td></tr>",
                            "<tr><td>139</td><td>1042</td><td>2</td><td>2</td></tr>",
                            "<tr><td>139</td><td>1064</td><td>6</td><td>2</td></tr>",
                            "<tr><td>139</td><td>1450</td><td>7</td><td>6</td></tr>",
                            "<tr><td>139</td><td>1433</td><td>6</td><td>7</td></tr>",
                            "<tr><td>140</td><td>1371</td><td>1</td><td>6</td></tr>",
                            "<tr><td>140</td><td>1361</td><td>3</td><td>1</td></tr>",
                            "<tr><td>140</td><td>1357</td><td>4</td><td>3</td></tr>",
                            "<tr><td>140</td><td>1259</td><td>7</td><td>4</td></tr>",
                            "<tr><td>140</td><td>1156</td><td>3</td><td>7</td></tr>",
                            "<tr><td>140</td><td>1098</td><td>2</td><td>3</td></tr>",
                            "<tr><td>140</td><td>915</td><td>2</td><td>2</td></tr>",
                            "<tr><td>140</td><td>733</td><td>1</td><td>2</td></tr>",
                            "<tr><td>141</td><td>761</td><td>3</td><td>1</td></tr>",
                            "<tr><td>141</td><td>784</td><td>7</td><td>3</td></tr>",
                            "<tr><td>141</td><td>565</td><td>6</td><td>7</td></tr>",
                            "<tr><td>141</td><td>908</td><td>2</td><td>6</td></tr>",
                            "<tr><td>141</td><td>1254</td><td>4</td><td>2</td></tr>",
                            "<tr><td>141</td><td>1401</td><td>6</td><td>4</td></tr>",
                            "<tr><td>142</td><td>1369</td><td>6</td><td>6</td></tr>",
                            "<tr><td>142</td><td>1545</td><td>3</td><td>6</td></tr>",
                            "<tr><td>143</td><td>1448</td><td>6</td><td>3</td></tr>",
                            "<tr><td>143</td><td>1394</td><td>3</td><td>6</td></tr>",
                            "<tr><td>143</td><td>1313</td><td>4</td><td>3</td></tr>",
                            "<tr><td>143</td><td>1222</td><td>2</td><td>4</td></tr>",
                            "<tr><td>143</td><td>1155</td><td>7</td><td>2</td></tr>",
                            "<tr><td>143</td><td>1193</td><td>6</td><td>7</td></tr>",
                            "<tr><td>143</td><td>980</td><td>3</td><td>6</td></tr>",
                            "<tr><td>144</td><td>1087</td><td>2</td><td>3</td></tr>",
                            "<tr><td>144</td><td>581</td><td>4</td><td>2</td></tr>",
                            "<tr><td>144</td><td>1199</td><td>7</td><td>4</td></tr>",
                            "<tr><td>144</td><td>1297</td><td>1</td><td>7</td></tr>",
                            "<tr><td>144</td><td>1572</td><td>2</td><td>1</td></tr>",
                            "<tr><td>145</td><td>1471</td><td>1</td><td>2</td></tr>",
                            "<tr><td>145</td><td>1338</td><td>2</td><td>1</td></tr>",
                            "<tr><td>145</td><td>1145</td><td>4</td><td>2</td></tr>",
                            "<tr><td>145</td><td>703</td><td>4</td><td>4</td></tr>",
                            "<tr><td>145</td><td>1077</td><td>1</td><td>4</td></tr>",
                            "<tr><td>145</td><td>1120</td><td>1</td><td>1</td></tr>",
                            "<tr><td>146</td><td>1032</td><td>5</td><td>1</td></tr>",
                            "<tr><td>146</td><td>890</td><td>3</td><td>5</td></tr>",
                            "<tr><td>146</td><td>789</td><td>7</td><td>3</td></tr>",
                            "<tr><td>146</td><td>804</td><td>7</td><td>7</td></tr>",
                            "<tr><td>146</td><td>664</td><td>3</td><td>7</td></tr>",
                            "<tr><td>146</td><td>1479</td><td>6</td><td>3</td></tr>",
                            "<tr><td>147</td><td>771</td><td>4</td><td>6</td></tr>",
                            "<tr><td>148</td><td>765</td><td>3</td><td>4</td></tr>",
                            "<tr><td>148</td><td>808</td><td>2</td><td>3</td></tr>",
                            "<tr><td>148</td><td>783</td><td>7</td><td>2</td></tr>",
                            "<tr><td>148</td><td>812</td><td>6</td><td>7</td></tr>",
                            "<tr><td>148</td><td>678</td><td>4</td><td>6</td></tr>",
                            "<tr><td>148</td><td>1578</td><td>7</td><td>4</td></tr>",
                            "<tr><td>149</td><td>1514</td><td>5</td><td>7</td></tr>",
                            "<tr><td>149</td><td>1146</td><td>6</td><td>5</td></tr>",
                            "<tr><td>149</td><td>652</td><td>1</td><td>6</td></tr>",
                            "<tr><td>149</td><td>591</td><td>1</td><td>1</td></tr>",
                            "<tr><td>149</td><td>833</td><td>2</td><td>1</td></tr>",
                            "<tr><td>149</td><td>834</td><td>5</td><td>2</td></tr>",
                            "<tr><td>149</td><td>843</td><td>4</td><td>5</td></tr>",
                            "<tr><td>150</td><td>1100</td><td>5</td><td>4</td></tr>",
                            "<tr><td>150</td><td>1105</td><td>1</td><td>5</td></tr>",
                            "<tr><td>150</td><td>641</td><td>3</td><td>1</td></tr>",
                            "<tr><td>150</td><td>1177</td><td>1</td><td>3</td></tr>",
                            "<tr><td>150</td><td>1203</td><td>4</td><td>1</td></tr>",
                            "<tr><td>150</td><td>1432</td><td>3</td><td>4</td></tr>",
                            "<tr><td>151</td><td>1115</td><td>3</td><td>3</td></tr>",
                            "<tr><td>151</td><td>1058</td><td>3</td><td>3</td></tr>",
                            "<tr><td>151</td><td>893</td><td>3</td><td>3</td></tr>",
                            "<tr><td>152</td><td>730</td><td>2</td><td>3</td></tr>",
                            "<tr><td>152</td><td>1558</td><td>2</td><td>2</td></tr>",
                            "<tr><td>152</td><td>1197</td><td>6</td><td>2</td></tr>",
                            "<tr><td>152</td><td>1160</td><td>7</td><td>6</td></tr>",
                            "<tr><td>153</td><td>1507</td><td>3</td><td>7</td></tr>",
                            "<tr><td>153</td><td>1470</td><td>5</td><td>3</td></tr>",
                            "<tr><td>153</td><td>1460</td><td>3</td><td>5</td></tr>",
                            "<tr><td>153</td><td>594</td><td>3</td><td>3</td></tr>",
                            "<tr><td>153</td><td>969</td><td>6</td><td>3</td></tr>",
                            "<tr><td>154</td><td>968</td><td>1</td><td>6</td></tr>",
                            "<tr><td>154</td><td>1061</td><td>7</td><td>1</td></tr>",
                            "<tr><td>154</td><td>1539</td><td>2</td><td>7</td></tr>",
                            "<tr><td>154</td><td>1168</td><td>6</td><td>2</td></tr>",
                            "<tr><td>154</td><td>1262</td><td>1</td><td>6</td></tr>",
                            "<tr><td>155</td><td>1310</td><td>1</td><td>1</td></tr>",
                            "<tr><td>155</td><td>1541</td><td>1</td><td>1</td></tr>",
                            "<tr><td>155</td><td>1112</td><td>4</td><td>1</td></tr>",
                            "<tr><td>155</td><td>577</td><td>3</td><td>4</td></tr>",
                            "<tr><td>155</td><td>575</td><td>1</td><td>3</td></tr>",
                            "<tr><td>156</td><td>588</td><td>7</td><td>1</td></tr>",
                            "<tr><td>156</td><td>692</td><td>6</td><td>7</td></tr>",
                            "<tr><td>156</td><td>956</td><td>6</td><td>6</td></tr>",
                            "<tr><td>156</td><td>907</td><td>3</td><td>6</td></tr>",
                            "<tr><td>156</td><td>1561</td><td>4</td><td>3</td></tr>",
                            "<tr><td>156</td><td>1462</td><td>7</td><td>4</td></tr>",
                            "<tr><td>156</td><td>1490</td><td>1</td><td>7</td></tr>",
                            "<tr><td>157</td><td>1551</td><td>3</td><td>1</td></tr>",
                            "<tr><td>157</td><td>1240</td><td>7</td><td>3</td></tr>",
                            "<tr><td>157</td><td>1047</td><td>4</td><td>7</td></tr>",
                            "<tr><td>157</td><td>1025</td><td>3</td><td>4</td></tr>",
                            "<tr><td>157</td><td>648</td><td>4</td><td>3</td></tr>",
                            "<tr><td>158</td><td>825</td><td>4</td><td>4</td></tr>",
                            "<tr><td>158</td><td>1117</td><td>3</td><td>4</td></tr>",
                            "<tr><td>158</td><td>840</td><td>4</td><td>3</td></tr>",
                            "<tr><td>160</td><td>922</td><td>2</td><td>4</td></tr>",
                            "<tr><td>160</td><td>927</td><td>4</td><td>2</td></tr>",
                            "<tr><td>160</td><td>933</td><td>4</td><td>4</td></tr>",
                            "<tr><td>160</td><td>720</td><td>2</td><td>4</td></tr>",
                            "<tr><td>160</td><td>1565</td><td>3</td><td>2</td></tr>",
                            "<tr><td>161</td><td>1571</td><td>4</td><td>3</td></tr>",
                            "<tr><td>161</td><td>1190</td><td>7</td><td>4</td></tr>",
                            "<tr><td>161</td><td>639</td><td>4</td><td>7</td></tr>",
                            "<tr><td>161</td><td>653</td><td>7</td><td>4</td></tr>",
                            "<tr><td>161</td><td>911</td><td>4</td><td>7</td></tr>",
                            "<tr><td>161</td><td>1068</td><td>6</td><td>4</td></tr>",
                            "<tr><td>162</td><td>599</td><td>4</td><td>6</td></tr>",
                            "<tr><td>162</td><td>1205</td><td>6</td><td>4</td></tr>",
                            "<tr><td>162</td><td>1400</td><td>1</td><td>6</td></tr>",
                            "<tr><td>163</td><td>1265</td><td>5</td><td>1</td></tr>",
                            "<tr><td>163</td><td>1487</td><td>3</td><td>5</td></tr>",
                            "<tr><td>163</td><td>630</td><td>2</td><td>3</td></tr>",
                            "<tr><td>163</td><td>782</td><td>3</td><td>2</td></tr>",
                            "<tr><td>163</td><td>1075</td><td>4</td><td>3</td></tr>",
                            "<tr><td>163</td><td>1107</td><td>3</td><td>4</td></tr>",
                            "<tr><td>163</td><td>941</td><td>1</td><td>3</td></tr>",
                            "<tr><td>164</td><td>1010</td><td>2</td><td>1</td></tr>",
                            "<tr><td>164</td><td>742</td><td>6</td><td>2</td></tr>",
                            "<tr><td>164</td><td>570</td><td>7</td><td>6</td></tr>",
                            "<tr><td>164</td><td>1292</td><td>2</td><td>7</td></tr>",
                            "<tr><td>164</td><td>1284</td><td>4</td><td>2</td></tr>",
                            "<tr><td>165</td><td>1375</td><td>4</td><td>4</td></tr>",
                            "<tr><td>165</td><td>1141</td><td>1</td><td>4</td></tr>",
                            "<tr><td>165</td><td>640</td><td>3</td><td>1</td></tr>",
                            "<tr><td>165</td><td>900</td><td>6</td><td>3</td></tr>",
                            "<tr><td>165</td><td>897</td><td>6</td><td>6</td></tr>",
                            "<tr><td>165</td><td>892</td><td>3</td><td>6</td></tr>",
                            "<tr><td>165</td><td>857</td><td>5</td><td>3</td></tr>",
                            "<tr><td>166</td><td>644</td><td>7</td><td>5</td></tr>",
                            "<tr><td>166</td><td>781</td><td>7</td><td>7</td></tr>",
                            "<tr><td>166</td><td>1526</td><td>2</td><td>7</td></tr>",
                            "<tr><td>167</td><td>1414</td><td>3</td><td>2</td></tr>",
                            "<tr><td>167</td><td>854</td><td>7</td><td>3</td></tr>",
                            "<tr><td>168</td><td>930</td><td>3</td><td>7</td></tr>",
                            "<tr><td>168</td><td>794</td><td>4</td><td>3</td></tr>",
                            "<tr><td>168</td><td>792</td><td>3</td><td>4</td></tr>",
                            "<tr><td>168</td><td>1266</td><td>4</td><td>3</td></tr>",
                            "<tr><td>168</td><td>1249</td><td>4</td><td>4</td></tr>",
                            "<tr><td>169</td><td>1356</td><td>4</td><td>4</td></tr>",
                            "<tr><td>169</td><td>1427</td><td>1</td><td>4</td></tr>",
                            "<tr><td>169</td><td>746</td><td>7</td><td>1</td></tr>",
                            "<tr><td>169</td><td>659</td><td>6</td><td>7</td></tr>",
                            "<tr><td>169</td><td>573</td><td>5</td><td>6</td></tr>",
                            "<tr><td>169</td><td>974</td><td>1</td><td>5</td></tr>",
                            "<tr><td>170</td><td>944</td><td>4</td><td>1</td></tr>",
                            "<tr><td>170</td><td>567</td><td>7</td><td>4</td></tr>",
                            "<tr><td>170</td><td>1342</td><td>6</td><td>7</td></tr>",
                            "<tr><td>170</td><td>1267</td><td>7</td><td>6</td></tr>",
                            "<tr><td>170</td><td>1194</td><td>4</td><td>7</td></tr>",
                            "<tr><td>171</td><td>1181</td><td>6</td><td>4</td></tr>",
                            "<tr><td>171</td><td>1329</td><td>5</td><td>6</td></tr>",
                            "<tr><td>171</td><td>1567</td><td>6</td><td>5</td></tr>",
                            "<tr><td>171</td><td>574</td><td>2</td><td>6</td></tr>",
                            "<tr><td>171</td><td>981</td><td>4</td><td>2</td></tr>",
                            "<tr><td>172</td><td>984</td><td>4</td><td>4</td></tr>",
                            "<tr><td>172</td><td>749</td><td>6</td><td>4</td></tr>",
                            "<tr><td>172</td><td>709</td><td>5</td><td>6</td></tr>",
                            "<tr><td>172</td><td>839</td><td>5</td><td>5</td></tr>",
                            "<tr><td>172</td><td>1421</td><td>5</td><td>5</td></tr>",
                            "<tr><td>172</td><td>1491</td><td>2</td><td>5</td></tr>",
                            "<tr><td>172</td><td>1336</td><td>5</td><td>2</td></tr>",
                            "<tr><td>172</td><td>1171</td><td>5</td><td>5</td></tr>",
                            "<tr><td>172</td><td>1142</td><td>4</td><td>5</td></tr>",
                            "<tr><td>173</td><td>1350</td><td>3</td><td>4</td></tr>",
                            "<tr><td>173</td><td>1429</td><td>4</td><td>3</td></tr>",
                            "<tr><td>173</td><td>669</td><td>7</td><td>4</td></tr>",
                            "<tr><td>173</td><td>913</td><td>1</td><td>7</td></tr>",
                            "<tr><td>174</td><td>917</td><td>2</td><td>1</td></tr>",
                            "<tr><td>174</td><td>1015</td><td>5</td><td>2</td></tr>",
                            "<tr><td>174</td><td>682</td><td>3</td><td>5</td></tr>",
                            "<tr><td>174</td><td>1276</td><td>1</td><td>3</td></tr>",
                            "<tr><td>175</td><td>1133</td><td>2</td><td>1</td></tr>",
                            "<tr><td>175</td><td>1407</td><td>7</td><td>2</td></tr>",
                            "<tr><td>175</td><td>799</td><td>4</td><td>7</td></tr>",
                            "<tr><td>175</td><td>1094</td><td>5</td><td>4</td></tr>",
                            "<tr><td>175</td><td>867</td><td>6</td><td>5</td></tr>",
                            "<tr><td>176</td><td>592</td><td>5</td><td>6</td></tr>",
                            "<tr><td>176</td><td>1383</td><td>4</td><td>5</td></tr>",
                            "<tr><td>176</td><td>1278</td><td>6</td><td>4</td></tr>",
                            "<tr><td>176</td><td>1143</td><td>6</td><td>6</td></tr>",
                            "<tr><td>176</td><td>1511</td><td>2</td><td>6</td></tr>",
                            "<tr><td>176</td><td>1570</td><td>3</td><td>2</td></tr>",
                            "<tr><td>177</td><td>1503</td><td>3</td><td>3</td></tr>",
                            "<tr><td>177</td><td>1176</td><td>3</td><td>3</td></tr>",
                            "<tr><td>177</td><td>785</td><td>3</td><td>3</td></tr>",
                            "<tr><td>177</td><td>831</td><td>7</td><td>3</td></tr>",
                            "<tr><td>178</td><td>816</td><td>4</td><td>7</td></tr>",
                            "<tr><td>178</td><td>991</td><td>7</td><td>4</td></tr>",
                            "<tr><td>178</td><td>1242</td><td>1</td><td>7</td></tr>",
                            "<tr><td>178</td><td>1211</td><td>3</td><td>1</td></tr>",
                            "<tr><td>179</td><td>1497</td><td>1</td><td>3</td></tr>",
                            "<tr><td>179</td><td>1021</td><td>1</td><td>1</td></tr>",
                            "<tr><td>179</td><td>662</td><td>2</td><td>1</td></tr>",
                            "<tr><td>180</td><td>905</td><td>5</td><td>2</td></tr>",
                            "<tr><td>180</td><td>1563</td><td>6</td><td>5</td></tr>",
                            "<tr><td>180</td><td>1559</td><td>3</td><td>6</td></tr>",
                            "<tr><td>181</td><td>1346</td><td>6</td><td>3</td></tr>",
                            "<tr><td>181</td><td>937</td><td>3</td><td>6</td></tr>",
                            "<tr><td>181</td><td>958</td><td>5</td><td>3</td></tr>",
                            "<tr><td>181</td><td>1022</td><td>1</td><td>5</td></tr>",
                            "<tr><td>181</td><td>677</td><td>4</td><td>1</td></tr>",
                            "<tr><td>181</td><td>731</td><td>6</td><td>4</td></tr>",
                            "<tr><td>182</td><td>740</td><td>3</td><td>6</td></tr>",
                            "<tr><td>182</td><td>571</td><td>2</td><td>3</td></tr>",
                            "<tr><td>182</td><td>1008</td><td>6</td><td>2</td></tr>",
                            "<tr><td>182</td><td>928</td><td>2</td><td>6</td></tr>",
                            "<tr><td>182</td><td>1410</td><td>4</td><td>2</td></tr>",
                            "<tr><td>182</td><td>1308</td><td>1</td><td>4</td></tr>",
                            "<tr><td>182</td><td>1326</td><td>4</td><td>1</td></tr>",
                            "<tr><td>182</td><td>1317</td><td>3</td><td>4</td></tr>",
                            "<tr><td>182</td><td>1230</td><td>7</td><td>3</td></tr>",
                            "<tr><td>182</td><td>1231</td><td>4</td><td>7</td></tr>",
                            "<tr><td>182</td><td>1188</td><td>1</td><td>4</td></tr>",
                            "<tr><td>182</td><td>1422</td><td>3</td><td>1</td></tr>",
                            "<tr><td>183</td><td>1437</td><td>4</td><td>3</td></tr>",
                            "<tr><td>183</td><td>1147</td><td>4</td><td>4</td></tr>",
                            "<tr><td>183</td><td>939</td><td>4</td><td>4</td></tr>",
                            "<tr><td>183</td><td>1067</td><td>7</td><td>4</td></tr>",
                            "<tr><td>184</td><td>880</td><td>4</td><td>7</td></tr>",
                            "<tr><td>184</td><td>608</td><td>2</td><td>4</td></tr>",
                            "<tr><td>184</td><td>684</td><td>3</td><td>2</td></tr>",
                            "<tr><td>184</td><td>1251</td><td>4</td><td>3</td></tr>",
                            "<tr><td>185</td><td>1183</td><td>5</td><td>4</td></tr>",
                            "<tr><td>185</td><td>1441</td><td>7</td><td>5</td></tr>",
                            "<tr><td>185</td><td>1463</td><td>7</td><td>7</td></tr>",
                            "<tr><td>185</td><td>693</td><td>2</td><td>7</td></tr>",
                            "<tr><td>185</td><td>679</td><td>5</td><td>2</td></tr>",
                            "<tr><td>185</td><td>672</td><td>3</td><td>5</td></tr>",
                            "<tr><td>185</td><td>578</td><td>6</td><td>3</td></tr>",
                            "<tr><td>185</td><td>711</td><td>3</td><td>6</td></tr>",
                            "<tr><td>185</td><td>898</td><td>4</td><td>3</td></tr>",
                            "<tr><td>185</td><td>863</td><td>4</td><td>4</td></tr>",
                            "<tr><td>185</td><td>925</td><td>6</td><td>4</td></tr>",
                            "<tr><td>185</td><td>1125</td><td>3</td><td>6</td></tr>",
                            "<tr><td>186</td><td>615</td><td>3</td><td>3</td></tr>",
                            "<tr><td>186</td><td>1467</td><td>3</td><td>3</td></tr>",
                            "<tr><td>186</td><td>1153</td><td>3</td><td>3</td></tr>",
                            "<tr><td>186</td><td>1248</td><td>2</td><td>3</td></tr>",
                            "<tr><td>187</td><td>1404</td><td>2</td><td>2</td></tr>",
                            "<tr><td>187</td><td>695</td><td>6</td><td>2</td></tr>",
                            "<tr><td>187</td><td>633</td><td>6</td><td>6</td></tr>",
                            "<tr><td>187</td><td>743</td><td>2</td><td>6</td></tr>",
                            "<tr><td>187</td><td>766</td><td>1</td><td>2</td></tr>",
                            "<tr><td>187</td><td>957</td><td>4</td><td>1</td></tr>",
                            "<tr><td>187</td><td>868</td><td>4</td><td>4</td></tr>",
                            "<tr><td>188</td><td>912</td><td>1</td><td>4</td></tr>",
                            "<tr><td>188</td><td>1030</td><td>4</td><td>1</td></tr>",
                            "<tr><td>188</td><td>747</td><td>3</td><td>4</td></tr>",
                            "<tr><td>188</td><td>710</td><td>7</td><td>3</td></tr>",
                            "<tr><td>188</td><td>690</td><td>4</td><td>7</td></tr>",
                            "<tr><td>188</td><td>1390</td><td>5</td><td>4</td></tr>",
                            "<tr><td>189</td><td>1204</td><td>2</td><td>5</td></tr>",
                            "<tr><td>189</td><td>1449</td><td>2</td><td>2</td></tr>",
                            "<tr><td>189</td><td>1576</td><td>3</td><td>2</td></tr>",
                            "<tr><td>189</td><td>699</td><td>2</td><td>3</td></tr>",
                            "<tr><td>189</td><td>753</td><td>1</td><td>2</td></tr>",
                            "<tr><td>190</td><td>774</td><td>5</td><td>1</td></tr>",
                            "<tr><td>190</td><td>600</td><td>7</td><td>5</td></tr>",
                            "<tr><td>190</td><td>1017</td><td>1</td><td>7</td></tr>",
                            "<tr><td>190</td><td>989</td><td>1</td><td>1</td></tr>",
                            "<tr><td>190</td><td>1517</td><td>5</td><td>1</td></tr>",
                            "<tr><td>191</td><td>1502</td><td>2</td><td>5</td></tr>",
                            "<tr><td>191</td><td>1508</td><td>7</td><td>2</td></tr>",
                            "<tr><td>191</td><td>1323</td><td>7</td><td>7</td></tr>",
                            "<tr><td>191</td><td>1302</td><td>1</td><td>7</td></tr>",
                            "<tr><td>191</td><td>1039</td><td>6</td><td>1</td></tr>",
                            "<tr><td>192</td><td>903</td><td>7</td><td>6</td></tr>",
                            "<tr><td>192</td><td>680</td><td>4</td><td>7</td></tr>",
                            "<tr><td>193</td><td>675</td><td>2</td><td>4</td></tr>",
                            "<tr><td>193</td><td>634</td><td>6</td><td>2</td></tr>",
                            "<tr><td>193</td><td>835</td><td>2</td><td>6</td></tr>",
                            "<tr><td>193</td><td>977</td><td>2</td><td>2</td></tr>",
                            "<tr><td>193</td><td>926</td><td>1</td><td>2</td></tr>",
                            "<tr><td>193</td><td>1043</td><td>6</td><td>1</td></tr>",
                            "<tr><td>193</td><td>1238</td><td>6</td><td>6</td></tr>",
                            "<tr><td>194</td><td>1095</td><td>5</td><td>6</td></tr>",
                            "<tr><td>195</td><td>1074</td><td>7</td><td>5</td></tr>",
                            "<tr><td>195</td><td>842</td><td>4</td><td>7</td></tr>",
                            "<tr><td>195</td><td>721</td><td>4</td><td>4</td></tr>",
                            "<tr><td>195</td><td>1184</td><td>5</td><td>4</td></tr>",
                            "<tr><td>195</td><td>1473</td><td>7</td><td>5</td></tr>",
                            "<tr><td>195</td><td>1484</td><td>1</td><td>7</td></tr>",
                            "<tr><td>196</td><td>1314</td><td>5</td><td>1</td></tr>",
                            "<tr><td>196</td><td>1340</td><td>5</td><td>5</td></tr>",
                            "<tr><td>196</td><td>673</td><td>5</td><td>5</td></tr>",
                            "<tr><td>196</td><td>952</td><td>3</td><td>5</td></tr>",
                            "<tr><td>197</td><td>1091</td><td>7</td><td>3</td></tr>",
                            "<tr><td>197</td><td>993</td><td>7</td><td>7</td></tr>",
                            "<tr><td>197</td><td>764</td><td>7</td><td>7</td></tr>",
                            "<tr><td>197</td><td>1304</td><td>7</td><td>7</td></tr>",
                            "<tr><td>197</td><td>1387</td><td>3</td><td>7</td></tr>",
                            "<tr><td>197</td><td>1172</td><td>7</td><td>3</td></tr>",
                            "<tr><td>198</td><td>1138</td><td>5</td><td>7</td></tr>",
                            "<tr><td>198</td><td>1161</td><td>5</td><td>5</td></tr>",
                            "<tr><td>198</td><td>1216</td><td>7</td><td>5</td></tr>",
                            "<tr><td>198</td><td>1420</td><td>5</td><td>7</td></tr>",
                            "<tr><td>198</td><td>1011</td><td>7</td><td>5</td></tr>",
                            "<tr><td>198</td><td>1065</td><td>3</td><td>7</td></tr>",
                            "<tr><td>198</td><td>1116</td><td>1</td><td>3</td></tr>",
                            "<tr><td>198</td><td>978</td><td>1</td><td>1</td></tr>",
                            "</table>"
                        ]
                    }
                }
            ],
            "execution_count": 23
        },
        {
            "cell_type": "markdown",
            "source": [
                "3\\. feladat:\n",
                "\n",
                "Kérdezzük le az átlagosnál kevesebb főre történt foglalások adatait!\n",
                "\n",
                "a. Egy új oszlopban jelenjen meg az ügyfél neve is!\n",
                "\n",
                "b. Egy másik új oszlop mutassa meg, hogy az ügyfél előző három foglalása átlagosan hány főre történt! Az oszlop neve legyen 'Előző három foglalás átlaga'\n",
                "\n",
                "c. A listában azon vendégek is jelenjenek meg, akik még nem foglaltak!"
            ],
            "metadata": {
                "azdata_cell_guid": "9e7cb70b-84d5-4c29-b0b2-54985150e636"
            },
            "attachments": {}
        },
        {
            "cell_type": "code",
            "source": [
                "SELECT\r\n",
                "v.NEV,\r\n",
                "SUM(FELNOTT_SZAM + GYERMEK_SZAM) AS 'Előző három foglalás átlaga'\r\n",
                "FROM Foglalas f JOIN Vendeg v ON f.UGYFEL_FK = v.USERNEV\r\n",
                "\r\n",
                "WHERE FELNOTT_SZAM + GYERMEK_SZAM <\r\n",
                "(\r\n",
                "SELECT\r\n",
                "avg(FELNOTT_SZAM + GYERMEK_SZAM)\r\n",
                "FROM Foglalas\r\n",
                ")\r\n",
                "GROUP BY v.NEV"
            ],
            "metadata": {
                "azdata_cell_guid": "d7a417d0-faf8-46b4-9f20-496506b94c90",
                "language": "sql"
            },
            "outputs": [
                {
                    "output_type": "display_data",
                    "data": {
                        "text/html": "(100 rows affected)"
                    },
                    "metadata": {}
                },
                {
                    "output_type": "display_data",
                    "data": {
                        "text/html": "Total execution time: 00:00:00.036"
                    },
                    "metadata": {}
                },
                {
                    "output_type": "execute_result",
                    "metadata": {},
                    "execution_count": 31,
                    "data": {
                        "application/vnd.dataresource+json": {
                            "schema": {
                                "fields": [
                                    {
                                        "name": "NEV"
                                    },
                                    {
                                        "name": "Előző három foglalás átlaga"
                                    }
                                ]
                            },
                            "data": [
                                {
                                    "NEV": "Ambrus Dávid",
                                    "Előző három foglalás átlaga": "1"
                                },
                                {
                                    "NEV": "Antal László",
                                    "Előző három foglalás átlaga": "1"
                                },
                                {
                                    "NEV": "Bagi Beáta",
                                    "Előző három foglalás átlaga": "2"
                                },
                                {
                                    "NEV": "Bagóczki Alexandra",
                                    "Előző három foglalás átlaga": "1"
                                },
                                {
                                    "NEV": "Balogh Eszter",
                                    "Előző három foglalás átlaga": "6"
                                },
                                {
                                    "NEV": "Baráth Mária",
                                    "Előző három foglalás átlaga": "3"
                                },
                                {
                                    "NEV": "Barkóci Ádám",
                                    "Előző három foglalás átlaga": "1"
                                },
                                {
                                    "NEV": "Barna Zoltán",
                                    "Előző három foglalás átlaga": "4"
                                },
                                {
                                    "NEV": "Barta Zsuzsanna",
                                    "Előző három foglalás átlaga": "1"
                                },
                                {
                                    "NEV": "Berendi Péter",
                                    "Előző három foglalás átlaga": "2"
                                },
                                {
                                    "NEV": "Béres Norbert",
                                    "Előző három foglalás átlaga": "1"
                                },
                                {
                                    "NEV": "Bíró Ákos",
                                    "Előző három foglalás átlaga": "2"
                                },
                                {
                                    "NEV": "Bori Krisztina",
                                    "Előző három foglalás átlaga": "1"
                                },
                                {
                                    "NEV": "Boros Vivien",
                                    "Előző három foglalás átlaga": "1"
                                },
                                {
                                    "NEV": "Böröcz Anikó",
                                    "Előző három foglalás átlaga": "1"
                                },
                                {
                                    "NEV": "Czérna Krisztián",
                                    "Előző három foglalás átlaga": "3"
                                },
                                {
                                    "NEV": "Csiger Bertalan",
                                    "Előző három foglalás átlaga": "1"
                                },
                                {
                                    "NEV": "Csóti Attila",
                                    "Előző három foglalás átlaga": "1"
                                },
                                {
                                    "NEV": "Dunai Aladár",
                                    "Előző három foglalás átlaga": "2"
                                },
                                {
                                    "NEV": "Erdei András",
                                    "Előző három foglalás átlaga": "1"
                                },
                                {
                                    "NEV": "Farkas Béla",
                                    "Előző három foglalás átlaga": "1"
                                },
                                {
                                    "NEV": "Farkas Sándor",
                                    "Előző három foglalás átlaga": "1"
                                },
                                {
                                    "NEV": "Farkas Sára",
                                    "Előző három foglalás átlaga": "1"
                                },
                                {
                                    "NEV": "Fényes Tamás",
                                    "Előző három foglalás átlaga": "1"
                                },
                                {
                                    "NEV": "Ferencz Roland",
                                    "Előző három foglalás átlaga": "1"
                                },
                                {
                                    "NEV": "Feró Valentin",
                                    "Előző három foglalás átlaga": "1"
                                },
                                {
                                    "NEV": "Frank Fruzsina",
                                    "Előző három foglalás átlaga": "1"
                                },
                                {
                                    "NEV": "Giliga János",
                                    "Előző három foglalás átlaga": "1"
                                },
                                {
                                    "NEV": "Gombos Tibor",
                                    "Előző három foglalás átlaga": "1"
                                },
                                {
                                    "NEV": "Gondos Katalin",
                                    "Előző három foglalás átlaga": "2"
                                },
                                {
                                    "NEV": "Gondos Miklós",
                                    "Előző három foglalás átlaga": "1"
                                },
                                {
                                    "NEV": "Gulyás Attila",
                                    "Előző három foglalás átlaga": "1"
                                },
                                {
                                    "NEV": "Gyárfás Krisztina",
                                    "Előző három foglalás átlaga": "2"
                                },
                                {
                                    "NEV": "Győrffy Bence",
                                    "Előző három foglalás átlaga": "1"
                                },
                                {
                                    "NEV": "Gyuris József",
                                    "Előző három foglalás átlaga": "2"
                                },
                                {
                                    "NEV": "Harangozó János",
                                    "Előző három foglalás átlaga": "2"
                                },
                                {
                                    "NEV": "Hartyánszky Ágnes",
                                    "Előző három foglalás átlaga": "1"
                                },
                                {
                                    "NEV": "Hegedűs Norbert",
                                    "Előző három foglalás átlaga": "2"
                                },
                                {
                                    "NEV": "Hídasi Judit",
                                    "Előző három foglalás átlaga": "1"
                                },
                                {
                                    "NEV": "Horváth Ágnes",
                                    "Előző három foglalás átlaga": "2"
                                },
                                {
                                    "NEV": "Horváth Árpád",
                                    "Előző három foglalás átlaga": "3"
                                },
                                {
                                    "NEV": "Horváth Katalin",
                                    "Előző három foglalás átlaga": "4"
                                },
                                {
                                    "NEV": "Horváth Nikolett",
                                    "Előző három foglalás átlaga": "2"
                                },
                                {
                                    "NEV": "Iván Róbert",
                                    "Előző három foglalás átlaga": "1"
                                },
                                {
                                    "NEV": "Józsa Zsolt",
                                    "Előző három foglalás átlaga": "1"
                                },
                                {
                                    "NEV": "Juhász Mihály",
                                    "Előző három foglalás átlaga": "2"
                                },
                                {
                                    "NEV": "Kalacsi Márton",
                                    "Előző három foglalás átlaga": "1"
                                },
                                {
                                    "NEV": "Kardos Renáta",
                                    "Előző három foglalás átlaga": "4"
                                },
                                {
                                    "NEV": "Kazy Tihamér",
                                    "Előző három foglalás átlaga": "1"
                                },
                                {
                                    "NEV": "Kertész Katalin",
                                    "Előző három foglalás átlaga": "1"
                                },
                                {
                                    "NEV": "Kispál Márk",
                                    "Előző három foglalás átlaga": "1"
                                },
                                {
                                    "NEV": "Kiss Ádám",
                                    "Előző három foglalás átlaga": "1"
                                },
                                {
                                    "NEV": "Kiss Lajos",
                                    "Előző három foglalás átlaga": "1"
                                },
                                {
                                    "NEV": "Komjáti András",
                                    "Előző három foglalás átlaga": "3"
                                },
                                {
                                    "NEV": "Kornseé Gyöngyi",
                                    "Előző három foglalás átlaga": "1"
                                },
                                {
                                    "NEV": "Kovács Bernadett",
                                    "Előző három foglalás átlaga": "1"
                                },
                                {
                                    "NEV": "Kovács Katalin",
                                    "Előző három foglalás átlaga": "1"
                                },
                                {
                                    "NEV": "Köves Gábor",
                                    "Előző három foglalás átlaga": "2"
                                },
                                {
                                    "NEV": "Kuruc Emese",
                                    "Előző három foglalás átlaga": "1"
                                },
                                {
                                    "NEV": "Lengyel Ágnes",
                                    "Előző három foglalás átlaga": "1"
                                },
                                {
                                    "NEV": "Maródi Andrea",
                                    "Előző három foglalás átlaga": "1"
                                },
                                {
                                    "NEV": "Mile Norbert",
                                    "Előző három foglalás átlaga": "1"
                                },
                                {
                                    "NEV": "Mogyródi Krisztián",
                                    "Előző három foglalás átlaga": "1"
                                },
                                {
                                    "NEV": "Mohos Mónika",
                                    "Előző három foglalás átlaga": "2"
                                },
                                {
                                    "NEV": "Molnár András",
                                    "Előző három foglalás átlaga": "1"
                                },
                                {
                                    "NEV": "Molnár Bálint",
                                    "Előző három foglalás átlaga": "2"
                                },
                                {
                                    "NEV": "Móricz Árpád",
                                    "Előző három foglalás átlaga": "1"
                                },
                                {
                                    "NEV": "Nádudvari Henrik",
                                    "Előző három foglalás átlaga": "1"
                                },
                                {
                                    "NEV": "Nagy Júlia",
                                    "Előző három foglalás átlaga": "1"
                                },
                                {
                                    "NEV": "Nagy László",
                                    "Előző három foglalás átlaga": "3"
                                },
                                {
                                    "NEV": "Nagy Sándor",
                                    "Előző három foglalás átlaga": "2"
                                },
                                {
                                    "NEV": "Neizer Andrea",
                                    "Előző három foglalás átlaga": "1"
                                },
                                {
                                    "NEV": "Oroszi György",
                                    "Előző három foglalás átlaga": "1"
                                },
                                {
                                    "NEV": "Patay Róbert",
                                    "Előző három foglalás átlaga": "1"
                                },
                                {
                                    "NEV": "Perlinger Éva",
                                    "Előző három foglalás átlaga": "1"
                                },
                                {
                                    "NEV": "Pivarcsi Anett",
                                    "Előző három foglalás átlaga": "2"
                                },
                                {
                                    "NEV": "Rácz Dániel",
                                    "Előző három foglalás átlaga": "1"
                                },
                                {
                                    "NEV": "Regős Annamária",
                                    "Előző három foglalás átlaga": "1"
                                },
                                {
                                    "NEV": "Simon Anikó",
                                    "Előző három foglalás átlaga": "1"
                                },
                                {
                                    "NEV": "Simon Bernadett",
                                    "Előző három foglalás átlaga": "1"
                                },
                                {
                                    "NEV": "Szalai Péter",
                                    "Előző három foglalás átlaga": "2"
                                },
                                {
                                    "NEV": "Szalai Szilárd",
                                    "Előző három foglalás átlaga": "1"
                                },
                                {
                                    "NEV": "Szedlár Krisztina",
                                    "Előző három foglalás átlaga": "2"
                                },
                                {
                                    "NEV": "Székely Brigitta",
                                    "Előző három foglalás átlaga": "1"
                                },
                                {
                                    "NEV": "Szekendi Beatrix",
                                    "Előző három foglalás átlaga": "1"
                                },
                                {
                                    "NEV": "Szilágyi Mátyás",
                                    "Előző három foglalás átlaga": "2"
                                },
                                {
                                    "NEV": "Szirmai Renáta",
                                    "Előző három foglalás átlaga": "1"
                                },
                                {
                                    "NEV": "Szűcs Balázs",
                                    "Előző három foglalás átlaga": "1"
                                },
                                {
                                    "NEV": "Szűcs Norbert",
                                    "Előző három foglalás átlaga": "2"
                                },
                                {
                                    "NEV": "Tankó Veronika",
                                    "Előző három foglalás átlaga": "1"
                                },
                                {
                                    "NEV": "Telek Gábor",
                                    "Előző három foglalás átlaga": "1"
                                },
                                {
                                    "NEV": "Tóth András",
                                    "Előző három foglalás átlaga": "1"
                                },
                                {
                                    "NEV": "Tóth Júlia",
                                    "Előző három foglalás átlaga": "1"
                                },
                                {
                                    "NEV": "Turcsik Tünde",
                                    "Előző három foglalás átlaga": "1"
                                },
                                {
                                    "NEV": "Urbán Viktoria",
                                    "Előző három foglalás átlaga": "1"
                                },
                                {
                                    "NEV": "Vajda Zsuzsa",
                                    "Előző három foglalás átlaga": "1"
                                },
                                {
                                    "NEV": "Vígh András",
                                    "Előző három foglalás átlaga": "2"
                                },
                                {
                                    "NEV": "Vizi István",
                                    "Előző három foglalás átlaga": "1"
                                },
                                {
                                    "NEV": "Vörös Dániel",
                                    "Előző három foglalás átlaga": "2"
                                },
                                {
                                    "NEV": "Vukasinovity Bálint",
                                    "Előző három foglalás átlaga": "1"
                                }
                            ]
                        },
                        "text/html": [
                            "<table>",
                            "<tr><th>NEV</th><th>Előző három foglalás átlaga</th></tr>",
                            "<tr><td>Ambrus Dávid</td><td>1</td></tr>",
                            "<tr><td>Antal László</td><td>1</td></tr>",
                            "<tr><td>Bagi Beáta</td><td>2</td></tr>",
                            "<tr><td>Bagóczki Alexandra</td><td>1</td></tr>",
                            "<tr><td>Balogh Eszter</td><td>6</td></tr>",
                            "<tr><td>Baráth Mária</td><td>3</td></tr>",
                            "<tr><td>Barkóci Ádám</td><td>1</td></tr>",
                            "<tr><td>Barna Zoltán</td><td>4</td></tr>",
                            "<tr><td>Barta Zsuzsanna</td><td>1</td></tr>",
                            "<tr><td>Berendi Péter</td><td>2</td></tr>",
                            "<tr><td>Béres Norbert</td><td>1</td></tr>",
                            "<tr><td>Bíró Ákos</td><td>2</td></tr>",
                            "<tr><td>Bori Krisztina</td><td>1</td></tr>",
                            "<tr><td>Boros Vivien</td><td>1</td></tr>",
                            "<tr><td>Böröcz Anikó</td><td>1</td></tr>",
                            "<tr><td>Czérna Krisztián</td><td>3</td></tr>",
                            "<tr><td>Csiger Bertalan</td><td>1</td></tr>",
                            "<tr><td>Csóti Attila</td><td>1</td></tr>",
                            "<tr><td>Dunai Aladár</td><td>2</td></tr>",
                            "<tr><td>Erdei András</td><td>1</td></tr>",
                            "<tr><td>Farkas Béla</td><td>1</td></tr>",
                            "<tr><td>Farkas Sándor</td><td>1</td></tr>",
                            "<tr><td>Farkas Sára</td><td>1</td></tr>",
                            "<tr><td>Fényes Tamás</td><td>1</td></tr>",
                            "<tr><td>Ferencz Roland</td><td>1</td></tr>",
                            "<tr><td>Feró Valentin</td><td>1</td></tr>",
                            "<tr><td>Frank Fruzsina</td><td>1</td></tr>",
                            "<tr><td>Giliga János</td><td>1</td></tr>",
                            "<tr><td>Gombos Tibor</td><td>1</td></tr>",
                            "<tr><td>Gondos Katalin</td><td>2</td></tr>",
                            "<tr><td>Gondos Miklós</td><td>1</td></tr>",
                            "<tr><td>Gulyás Attila</td><td>1</td></tr>",
                            "<tr><td>Gyárfás Krisztina</td><td>2</td></tr>",
                            "<tr><td>Győrffy Bence</td><td>1</td></tr>",
                            "<tr><td>Gyuris József</td><td>2</td></tr>",
                            "<tr><td>Harangozó János</td><td>2</td></tr>",
                            "<tr><td>Hartyánszky Ágnes</td><td>1</td></tr>",
                            "<tr><td>Hegedűs Norbert</td><td>2</td></tr>",
                            "<tr><td>Hídasi Judit</td><td>1</td></tr>",
                            "<tr><td>Horváth Ágnes</td><td>2</td></tr>",
                            "<tr><td>Horváth Árpád</td><td>3</td></tr>",
                            "<tr><td>Horváth Katalin</td><td>4</td></tr>",
                            "<tr><td>Horváth Nikolett</td><td>2</td></tr>",
                            "<tr><td>Iván Róbert</td><td>1</td></tr>",
                            "<tr><td>Józsa Zsolt</td><td>1</td></tr>",
                            "<tr><td>Juhász Mihály</td><td>2</td></tr>",
                            "<tr><td>Kalacsi Márton</td><td>1</td></tr>",
                            "<tr><td>Kardos Renáta</td><td>4</td></tr>",
                            "<tr><td>Kazy Tihamér</td><td>1</td></tr>",
                            "<tr><td>Kertész Katalin</td><td>1</td></tr>",
                            "<tr><td>Kispál Márk</td><td>1</td></tr>",
                            "<tr><td>Kiss Ádám</td><td>1</td></tr>",
                            "<tr><td>Kiss Lajos</td><td>1</td></tr>",
                            "<tr><td>Komjáti András</td><td>3</td></tr>",
                            "<tr><td>Kornseé Gyöngyi</td><td>1</td></tr>",
                            "<tr><td>Kovács Bernadett</td><td>1</td></tr>",
                            "<tr><td>Kovács Katalin</td><td>1</td></tr>",
                            "<tr><td>Köves Gábor</td><td>2</td></tr>",
                            "<tr><td>Kuruc Emese</td><td>1</td></tr>",
                            "<tr><td>Lengyel Ágnes</td><td>1</td></tr>",
                            "<tr><td>Maródi Andrea</td><td>1</td></tr>",
                            "<tr><td>Mile Norbert</td><td>1</td></tr>",
                            "<tr><td>Mogyródi Krisztián</td><td>1</td></tr>",
                            "<tr><td>Mohos Mónika</td><td>2</td></tr>",
                            "<tr><td>Molnár András</td><td>1</td></tr>",
                            "<tr><td>Molnár Bálint</td><td>2</td></tr>",
                            "<tr><td>Móricz Árpád</td><td>1</td></tr>",
                            "<tr><td>Nádudvari Henrik</td><td>1</td></tr>",
                            "<tr><td>Nagy Júlia</td><td>1</td></tr>",
                            "<tr><td>Nagy László</td><td>3</td></tr>",
                            "<tr><td>Nagy Sándor</td><td>2</td></tr>",
                            "<tr><td>Neizer Andrea</td><td>1</td></tr>",
                            "<tr><td>Oroszi György</td><td>1</td></tr>",
                            "<tr><td>Patay Róbert</td><td>1</td></tr>",
                            "<tr><td>Perlinger Éva</td><td>1</td></tr>",
                            "<tr><td>Pivarcsi Anett</td><td>2</td></tr>",
                            "<tr><td>Rácz Dániel</td><td>1</td></tr>",
                            "<tr><td>Regős Annamária</td><td>1</td></tr>",
                            "<tr><td>Simon Anikó</td><td>1</td></tr>",
                            "<tr><td>Simon Bernadett</td><td>1</td></tr>",
                            "<tr><td>Szalai Péter</td><td>2</td></tr>",
                            "<tr><td>Szalai Szilárd</td><td>1</td></tr>",
                            "<tr><td>Szedlár Krisztina</td><td>2</td></tr>",
                            "<tr><td>Székely Brigitta</td><td>1</td></tr>",
                            "<tr><td>Szekendi Beatrix</td><td>1</td></tr>",
                            "<tr><td>Szilágyi Mátyás</td><td>2</td></tr>",
                            "<tr><td>Szirmai Renáta</td><td>1</td></tr>",
                            "<tr><td>Szűcs Balázs</td><td>1</td></tr>",
                            "<tr><td>Szűcs Norbert</td><td>2</td></tr>",
                            "<tr><td>Tankó Veronika</td><td>1</td></tr>",
                            "<tr><td>Telek Gábor</td><td>1</td></tr>",
                            "<tr><td>Tóth András</td><td>1</td></tr>",
                            "<tr><td>Tóth Júlia</td><td>1</td></tr>",
                            "<tr><td>Turcsik Tünde</td><td>1</td></tr>",
                            "<tr><td>Urbán Viktoria</td><td>1</td></tr>",
                            "<tr><td>Vajda Zsuzsa</td><td>1</td></tr>",
                            "<tr><td>Vígh András</td><td>2</td></tr>",
                            "<tr><td>Vizi István</td><td>1</td></tr>",
                            "<tr><td>Vörös Dániel</td><td>2</td></tr>",
                            "<tr><td>Vukasinovity Bálint</td><td>1</td></tr>",
                            "</table>"
                        ]
                    }
                }
            ],
            "execution_count": 31
        }
    ]
}