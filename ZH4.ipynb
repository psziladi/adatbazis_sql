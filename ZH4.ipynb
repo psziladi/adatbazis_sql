{
    "metadata": {
        "kernelspec": {
            "name": "SQL",
            "display_name": "SQL",
            "language": "sql"
        },
        "language_info": {
            "name": "sql",
            "version": ""
        }
    },
    "nbformat_minor": 2,
    "nbformat": 4,
    "cells": [
        {
            "cell_type": "markdown",
            "source": [
                "Jelenítsük meg minden egyes szoba esetén, hogy hányszor foglalták le!\n",
                "\n",
                "- Csak a szoba azonosítója és a foglalások darabszáma jelenjen meg\n",
                "- Azok a szobák is jelenjenek meg, ahol nem történt foglalás"
            ],
            "metadata": {
                "azdata_cell_guid": "375eccc1-b115-46cf-9c15-b91ca050ff47"
            },
            "attachments": {}
        },
        {
            "cell_type": "code",
            "source": [
                "SELECT sz.SZOBA_ID,\r\n",
                "       COUNT(f.FOGLALAS_PK) AS 'DB'\r\n",
                "FROM Foglalas f RIGHT JOIN Szoba sz ON f.SZOBA_FK= sz.szoba_id\r\n",
                "GROUP BY sz.SZOBA_ID"
            ],
            "metadata": {
                "azdata_cell_guid": "9f874eb2-cfc2-460b-89e4-944f6d8ec952",
                "language": "sql",
                "tags": []
            },
            "outputs": [
                {
                    "output_type": "display_data",
                    "data": {
                        "text/html": "(294 rows affected)"
                    },
                    "metadata": {}
                },
                {
                    "output_type": "display_data",
                    "data": {
                        "text/html": "Total execution time: 00:00:00.061"
                    },
                    "metadata": {}
                },
                {
                    "output_type": "execute_result",
                    "metadata": {},
                    "execution_count": 26,
                    "data": {
                        "application/vnd.dataresource+json": {
                            "schema": {
                                "fields": [
                                    {
                                        "name": "SZOBA_ID"
                                    },
                                    {
                                        "name": "DB"
                                    }
                                ]
                            },
                            "data": [
                                {
                                    "SZOBA_ID": "1",
                                    "DB": "8"
                                },
                                {
                                    "SZOBA_ID": "2",
                                    "DB": "4"
                                },
                                {
                                    "SZOBA_ID": "3",
                                    "DB": "8"
                                },
                                {
                                    "SZOBA_ID": "4",
                                    "DB": "6"
                                },
                                {
                                    "SZOBA_ID": "5",
                                    "DB": "4"
                                },
                                {
                                    "SZOBA_ID": "6",
                                    "DB": "6"
                                },
                                {
                                    "SZOBA_ID": "7",
                                    "DB": "6"
                                },
                                {
                                    "SZOBA_ID": "8",
                                    "DB": "5"
                                },
                                {
                                    "SZOBA_ID": "9",
                                    "DB": "6"
                                },
                                {
                                    "SZOBA_ID": "10",
                                    "DB": "4"
                                },
                                {
                                    "SZOBA_ID": "11",
                                    "DB": "4"
                                },
                                {
                                    "SZOBA_ID": "12",
                                    "DB": "9"
                                },
                                {
                                    "SZOBA_ID": "13",
                                    "DB": "4"
                                },
                                {
                                    "SZOBA_ID": "14",
                                    "DB": "3"
                                },
                                {
                                    "SZOBA_ID": "15",
                                    "DB": "6"
                                },
                                {
                                    "SZOBA_ID": "16",
                                    "DB": "5"
                                },
                                {
                                    "SZOBA_ID": "17",
                                    "DB": "6"
                                },
                                {
                                    "SZOBA_ID": "18",
                                    "DB": "6"
                                },
                                {
                                    "SZOBA_ID": "19",
                                    "DB": "6"
                                },
                                {
                                    "SZOBA_ID": "20",
                                    "DB": "5"
                                },
                                {
                                    "SZOBA_ID": "21",
                                    "DB": "4"
                                },
                                {
                                    "SZOBA_ID": "22",
                                    "DB": "6"
                                },
                                {
                                    "SZOBA_ID": "23",
                                    "DB": "3"
                                },
                                {
                                    "SZOBA_ID": "24",
                                    "DB": "3"
                                },
                                {
                                    "SZOBA_ID": "25",
                                    "DB": "2"
                                },
                                {
                                    "SZOBA_ID": "26",
                                    "DB": "2"
                                },
                                {
                                    "SZOBA_ID": "27",
                                    "DB": "7"
                                },
                                {
                                    "SZOBA_ID": "28",
                                    "DB": "6"
                                },
                                {
                                    "SZOBA_ID": "29",
                                    "DB": "6"
                                },
                                {
                                    "SZOBA_ID": "30",
                                    "DB": "3"
                                },
                                {
                                    "SZOBA_ID": "31",
                                    "DB": "3"
                                },
                                {
                                    "SZOBA_ID": "32",
                                    "DB": "1"
                                },
                                {
                                    "SZOBA_ID": "33",
                                    "DB": "6"
                                },
                                {
                                    "SZOBA_ID": "34",
                                    "DB": "4"
                                },
                                {
                                    "SZOBA_ID": "35",
                                    "DB": "9"
                                },
                                {
                                    "SZOBA_ID": "36",
                                    "DB": "6"
                                },
                                {
                                    "SZOBA_ID": "37",
                                    "DB": "3"
                                },
                                {
                                    "SZOBA_ID": "38",
                                    "DB": "8"
                                },
                                {
                                    "SZOBA_ID": "39",
                                    "DB": "7"
                                },
                                {
                                    "SZOBA_ID": "40",
                                    "DB": "4"
                                },
                                {
                                    "SZOBA_ID": "41",
                                    "DB": "2"
                                },
                                {
                                    "SZOBA_ID": "42",
                                    "DB": "6"
                                },
                                {
                                    "SZOBA_ID": "43",
                                    "DB": "8"
                                },
                                {
                                    "SZOBA_ID": "44",
                                    "DB": "6"
                                },
                                {
                                    "SZOBA_ID": "45",
                                    "DB": "5"
                                },
                                {
                                    "SZOBA_ID": "46",
                                    "DB": "4"
                                },
                                {
                                    "SZOBA_ID": "47",
                                    "DB": "2"
                                },
                                {
                                    "SZOBA_ID": "48",
                                    "DB": "9"
                                },
                                {
                                    "SZOBA_ID": "49",
                                    "DB": "7"
                                },
                                {
                                    "SZOBA_ID": "50",
                                    "DB": "4"
                                },
                                {
                                    "SZOBA_ID": "51",
                                    "DB": "5"
                                },
                                {
                                    "SZOBA_ID": "52",
                                    "DB": "5"
                                },
                                {
                                    "SZOBA_ID": "53",
                                    "DB": "2"
                                },
                                {
                                    "SZOBA_ID": "54",
                                    "DB": "6"
                                },
                                {
                                    "SZOBA_ID": "55",
                                    "DB": "8"
                                },
                                {
                                    "SZOBA_ID": "56",
                                    "DB": "2"
                                },
                                {
                                    "SZOBA_ID": "57",
                                    "DB": "4"
                                },
                                {
                                    "SZOBA_ID": "58",
                                    "DB": "13"
                                },
                                {
                                    "SZOBA_ID": "59",
                                    "DB": "7"
                                },
                                {
                                    "SZOBA_ID": "60",
                                    "DB": "1"
                                },
                                {
                                    "SZOBA_ID": "61",
                                    "DB": "5"
                                },
                                {
                                    "SZOBA_ID": "62",
                                    "DB": "5"
                                },
                                {
                                    "SZOBA_ID": "63",
                                    "DB": "4"
                                },
                                {
                                    "SZOBA_ID": "64",
                                    "DB": "6"
                                },
                                {
                                    "SZOBA_ID": "65",
                                    "DB": "1"
                                },
                                {
                                    "SZOBA_ID": "66",
                                    "DB": "4"
                                },
                                {
                                    "SZOBA_ID": "67",
                                    "DB": "6"
                                },
                                {
                                    "SZOBA_ID": "68",
                                    "DB": "3"
                                },
                                {
                                    "SZOBA_ID": "69",
                                    "DB": "4"
                                },
                                {
                                    "SZOBA_ID": "70",
                                    "DB": "11"
                                },
                                {
                                    "SZOBA_ID": "71",
                                    "DB": "3"
                                },
                                {
                                    "SZOBA_ID": "72",
                                    "DB": "4"
                                },
                                {
                                    "SZOBA_ID": "73",
                                    "DB": "4"
                                },
                                {
                                    "SZOBA_ID": "74",
                                    "DB": "9"
                                },
                                {
                                    "SZOBA_ID": "75",
                                    "DB": "3"
                                },
                                {
                                    "SZOBA_ID": "76",
                                    "DB": "3"
                                },
                                {
                                    "SZOBA_ID": "77",
                                    "DB": "6"
                                },
                                {
                                    "SZOBA_ID": "78",
                                    "DB": "6"
                                },
                                {
                                    "SZOBA_ID": "79",
                                    "DB": "5"
                                },
                                {
                                    "SZOBA_ID": "80",
                                    "DB": "7"
                                },
                                {
                                    "SZOBA_ID": "81",
                                    "DB": "5"
                                },
                                {
                                    "SZOBA_ID": "82",
                                    "DB": "6"
                                },
                                {
                                    "SZOBA_ID": "83",
                                    "DB": "8"
                                },
                                {
                                    "SZOBA_ID": "84",
                                    "DB": "4"
                                },
                                {
                                    "SZOBA_ID": "85",
                                    "DB": "4"
                                },
                                {
                                    "SZOBA_ID": "86",
                                    "DB": "5"
                                },
                                {
                                    "SZOBA_ID": "87",
                                    "DB": "5"
                                },
                                {
                                    "SZOBA_ID": "88",
                                    "DB": "8"
                                },
                                {
                                    "SZOBA_ID": "89",
                                    "DB": "8"
                                },
                                {
                                    "SZOBA_ID": "90",
                                    "DB": "4"
                                },
                                {
                                    "SZOBA_ID": "91",
                                    "DB": "4"
                                },
                                {
                                    "SZOBA_ID": "92",
                                    "DB": "6"
                                },
                                {
                                    "SZOBA_ID": "93",
                                    "DB": "5"
                                },
                                {
                                    "SZOBA_ID": "94",
                                    "DB": "10"
                                },
                                {
                                    "SZOBA_ID": "95",
                                    "DB": "4"
                                },
                                {
                                    "SZOBA_ID": "96",
                                    "DB": "7"
                                },
                                {
                                    "SZOBA_ID": "97",
                                    "DB": "7"
                                },
                                {
                                    "SZOBA_ID": "98",
                                    "DB": "4"
                                },
                                {
                                    "SZOBA_ID": "99",
                                    "DB": "5"
                                },
                                {
                                    "SZOBA_ID": "100",
                                    "DB": "4"
                                },
                                {
                                    "SZOBA_ID": "101",
                                    "DB": "3"
                                },
                                {
                                    "SZOBA_ID": "102",
                                    "DB": "2"
                                },
                                {
                                    "SZOBA_ID": "103",
                                    "DB": "4"
                                },
                                {
                                    "SZOBA_ID": "104",
                                    "DB": "4"
                                },
                                {
                                    "SZOBA_ID": "105",
                                    "DB": "2"
                                },
                                {
                                    "SZOBA_ID": "106",
                                    "DB": "6"
                                },
                                {
                                    "SZOBA_ID": "107",
                                    "DB": "5"
                                },
                                {
                                    "SZOBA_ID": "108",
                                    "DB": "2"
                                },
                                {
                                    "SZOBA_ID": "109",
                                    "DB": "7"
                                },
                                {
                                    "SZOBA_ID": "110",
                                    "DB": "8"
                                },
                                {
                                    "SZOBA_ID": "111",
                                    "DB": "5"
                                },
                                {
                                    "SZOBA_ID": "112",
                                    "DB": "5"
                                },
                                {
                                    "SZOBA_ID": "113",
                                    "DB": "5"
                                },
                                {
                                    "SZOBA_ID": "114",
                                    "DB": "4"
                                },
                                {
                                    "SZOBA_ID": "115",
                                    "DB": "7"
                                },
                                {
                                    "SZOBA_ID": "116",
                                    "DB": "2"
                                },
                                {
                                    "SZOBA_ID": "117",
                                    "DB": "8"
                                },
                                {
                                    "SZOBA_ID": "118",
                                    "DB": "7"
                                },
                                {
                                    "SZOBA_ID": "119",
                                    "DB": "5"
                                },
                                {
                                    "SZOBA_ID": "120",
                                    "DB": "6"
                                },
                                {
                                    "SZOBA_ID": "121",
                                    "DB": "8"
                                },
                                {
                                    "SZOBA_ID": "122",
                                    "DB": "9"
                                },
                                {
                                    "SZOBA_ID": "123",
                                    "DB": "5"
                                },
                                {
                                    "SZOBA_ID": "124",
                                    "DB": "6"
                                },
                                {
                                    "SZOBA_ID": "125",
                                    "DB": "1"
                                },
                                {
                                    "SZOBA_ID": "126",
                                    "DB": "6"
                                },
                                {
                                    "SZOBA_ID": "127",
                                    "DB": "7"
                                },
                                {
                                    "SZOBA_ID": "128",
                                    "DB": "5"
                                },
                                {
                                    "SZOBA_ID": "129",
                                    "DB": "4"
                                },
                                {
                                    "SZOBA_ID": "130",
                                    "DB": "6"
                                },
                                {
                                    "SZOBA_ID": "131",
                                    "DB": "5"
                                },
                                {
                                    "SZOBA_ID": "132",
                                    "DB": "6"
                                },
                                {
                                    "SZOBA_ID": "133",
                                    "DB": "6"
                                },
                                {
                                    "SZOBA_ID": "134",
                                    "DB": "6"
                                },
                                {
                                    "SZOBA_ID": "135",
                                    "DB": "3"
                                },
                                {
                                    "SZOBA_ID": "136",
                                    "DB": "3"
                                },
                                {
                                    "SZOBA_ID": "137",
                                    "DB": "6"
                                },
                                {
                                    "SZOBA_ID": "138",
                                    "DB": "7"
                                },
                                {
                                    "SZOBA_ID": "139",
                                    "DB": "7"
                                },
                                {
                                    "SZOBA_ID": "140",
                                    "DB": "8"
                                },
                                {
                                    "SZOBA_ID": "141",
                                    "DB": "6"
                                },
                                {
                                    "SZOBA_ID": "142",
                                    "DB": "2"
                                },
                                {
                                    "SZOBA_ID": "143",
                                    "DB": "7"
                                },
                                {
                                    "SZOBA_ID": "144",
                                    "DB": "5"
                                },
                                {
                                    "SZOBA_ID": "145",
                                    "DB": "6"
                                },
                                {
                                    "SZOBA_ID": "146",
                                    "DB": "6"
                                },
                                {
                                    "SZOBA_ID": "147",
                                    "DB": "1"
                                },
                                {
                                    "SZOBA_ID": "148",
                                    "DB": "6"
                                },
                                {
                                    "SZOBA_ID": "149",
                                    "DB": "7"
                                },
                                {
                                    "SZOBA_ID": "150",
                                    "DB": "6"
                                },
                                {
                                    "SZOBA_ID": "151",
                                    "DB": "3"
                                },
                                {
                                    "SZOBA_ID": "152",
                                    "DB": "4"
                                },
                                {
                                    "SZOBA_ID": "153",
                                    "DB": "5"
                                },
                                {
                                    "SZOBA_ID": "154",
                                    "DB": "5"
                                },
                                {
                                    "SZOBA_ID": "155",
                                    "DB": "5"
                                },
                                {
                                    "SZOBA_ID": "156",
                                    "DB": "7"
                                },
                                {
                                    "SZOBA_ID": "157",
                                    "DB": "5"
                                },
                                {
                                    "SZOBA_ID": "158",
                                    "DB": "3"
                                },
                                {
                                    "SZOBA_ID": "159",
                                    "DB": "0"
                                },
                                {
                                    "SZOBA_ID": "160",
                                    "DB": "5"
                                },
                                {
                                    "SZOBA_ID": "161",
                                    "DB": "6"
                                },
                                {
                                    "SZOBA_ID": "162",
                                    "DB": "3"
                                },
                                {
                                    "SZOBA_ID": "163",
                                    "DB": "7"
                                },
                                {
                                    "SZOBA_ID": "164",
                                    "DB": "5"
                                },
                                {
                                    "SZOBA_ID": "165",
                                    "DB": "7"
                                },
                                {
                                    "SZOBA_ID": "166",
                                    "DB": "3"
                                },
                                {
                                    "SZOBA_ID": "167",
                                    "DB": "2"
                                },
                                {
                                    "SZOBA_ID": "168",
                                    "DB": "5"
                                },
                                {
                                    "SZOBA_ID": "169",
                                    "DB": "6"
                                },
                                {
                                    "SZOBA_ID": "170",
                                    "DB": "5"
                                },
                                {
                                    "SZOBA_ID": "171",
                                    "DB": "5"
                                },
                                {
                                    "SZOBA_ID": "172",
                                    "DB": "9"
                                },
                                {
                                    "SZOBA_ID": "173",
                                    "DB": "4"
                                },
                                {
                                    "SZOBA_ID": "174",
                                    "DB": "4"
                                },
                                {
                                    "SZOBA_ID": "175",
                                    "DB": "5"
                                },
                                {
                                    "SZOBA_ID": "176",
                                    "DB": "6"
                                },
                                {
                                    "SZOBA_ID": "177",
                                    "DB": "4"
                                },
                                {
                                    "SZOBA_ID": "178",
                                    "DB": "4"
                                },
                                {
                                    "SZOBA_ID": "179",
                                    "DB": "3"
                                },
                                {
                                    "SZOBA_ID": "180",
                                    "DB": "3"
                                },
                                {
                                    "SZOBA_ID": "181",
                                    "DB": "6"
                                },
                                {
                                    "SZOBA_ID": "182",
                                    "DB": "12"
                                },
                                {
                                    "SZOBA_ID": "183",
                                    "DB": "4"
                                },
                                {
                                    "SZOBA_ID": "184",
                                    "DB": "4"
                                },
                                {
                                    "SZOBA_ID": "185",
                                    "DB": "12"
                                },
                                {
                                    "SZOBA_ID": "186",
                                    "DB": "4"
                                },
                                {
                                    "SZOBA_ID": "187",
                                    "DB": "7"
                                },
                                {
                                    "SZOBA_ID": "188",
                                    "DB": "6"
                                },
                                {
                                    "SZOBA_ID": "189",
                                    "DB": "5"
                                },
                                {
                                    "SZOBA_ID": "190",
                                    "DB": "5"
                                },
                                {
                                    "SZOBA_ID": "191",
                                    "DB": "5"
                                },
                                {
                                    "SZOBA_ID": "192",
                                    "DB": "2"
                                },
                                {
                                    "SZOBA_ID": "193",
                                    "DB": "7"
                                },
                                {
                                    "SZOBA_ID": "194",
                                    "DB": "1"
                                },
                                {
                                    "SZOBA_ID": "195",
                                    "DB": "6"
                                },
                                {
                                    "SZOBA_ID": "196",
                                    "DB": "4"
                                },
                                {
                                    "SZOBA_ID": "197",
                                    "DB": "6"
                                },
                                {
                                    "SZOBA_ID": "198",
                                    "DB": "8"
                                },
                                {
                                    "SZOBA_ID": "199",
                                    "DB": "0"
                                },
                                {
                                    "SZOBA_ID": "200",
                                    "DB": "0"
                                },
                                {
                                    "SZOBA_ID": "201",
                                    "DB": "0"
                                },
                                {
                                    "SZOBA_ID": "202",
                                    "DB": "0"
                                },
                                {
                                    "SZOBA_ID": "203",
                                    "DB": "0"
                                },
                                {
                                    "SZOBA_ID": "204",
                                    "DB": "0"
                                },
                                {
                                    "SZOBA_ID": "205",
                                    "DB": "0"
                                },
                                {
                                    "SZOBA_ID": "206",
                                    "DB": "0"
                                },
                                {
                                    "SZOBA_ID": "207",
                                    "DB": "0"
                                },
                                {
                                    "SZOBA_ID": "208",
                                    "DB": "0"
                                },
                                {
                                    "SZOBA_ID": "209",
                                    "DB": "0"
                                },
                                {
                                    "SZOBA_ID": "210",
                                    "DB": "0"
                                },
                                {
                                    "SZOBA_ID": "211",
                                    "DB": "0"
                                },
                                {
                                    "SZOBA_ID": "212",
                                    "DB": "0"
                                },
                                {
                                    "SZOBA_ID": "213",
                                    "DB": "0"
                                },
                                {
                                    "SZOBA_ID": "214",
                                    "DB": "0"
                                },
                                {
                                    "SZOBA_ID": "215",
                                    "DB": "0"
                                },
                                {
                                    "SZOBA_ID": "216",
                                    "DB": "0"
                                },
                                {
                                    "SZOBA_ID": "217",
                                    "DB": "0"
                                },
                                {
                                    "SZOBA_ID": "218",
                                    "DB": "0"
                                },
                                {
                                    "SZOBA_ID": "219",
                                    "DB": "0"
                                },
                                {
                                    "SZOBA_ID": "220",
                                    "DB": "0"
                                },
                                {
                                    "SZOBA_ID": "221",
                                    "DB": "0"
                                },
                                {
                                    "SZOBA_ID": "222",
                                    "DB": "0"
                                },
                                {
                                    "SZOBA_ID": "223",
                                    "DB": "0"
                                },
                                {
                                    "SZOBA_ID": "224",
                                    "DB": "0"
                                },
                                {
                                    "SZOBA_ID": "225",
                                    "DB": "0"
                                },
                                {
                                    "SZOBA_ID": "226",
                                    "DB": "0"
                                },
                                {
                                    "SZOBA_ID": "227",
                                    "DB": "0"
                                },
                                {
                                    "SZOBA_ID": "228",
                                    "DB": "0"
                                },
                                {
                                    "SZOBA_ID": "229",
                                    "DB": "0"
                                },
                                {
                                    "SZOBA_ID": "230",
                                    "DB": "0"
                                },
                                {
                                    "SZOBA_ID": "231",
                                    "DB": "0"
                                },
                                {
                                    "SZOBA_ID": "232",
                                    "DB": "0"
                                },
                                {
                                    "SZOBA_ID": "233",
                                    "DB": "0"
                                },
                                {
                                    "SZOBA_ID": "234",
                                    "DB": "0"
                                },
                                {
                                    "SZOBA_ID": "235",
                                    "DB": "0"
                                },
                                {
                                    "SZOBA_ID": "236",
                                    "DB": "0"
                                },
                                {
                                    "SZOBA_ID": "237",
                                    "DB": "0"
                                },
                                {
                                    "SZOBA_ID": "238",
                                    "DB": "0"
                                },
                                {
                                    "SZOBA_ID": "239",
                                    "DB": "0"
                                },
                                {
                                    "SZOBA_ID": "240",
                                    "DB": "0"
                                },
                                {
                                    "SZOBA_ID": "241",
                                    "DB": "0"
                                },
                                {
                                    "SZOBA_ID": "242",
                                    "DB": "0"
                                },
                                {
                                    "SZOBA_ID": "243",
                                    "DB": "0"
                                },
                                {
                                    "SZOBA_ID": "244",
                                    "DB": "0"
                                },
                                {
                                    "SZOBA_ID": "245",
                                    "DB": "0"
                                },
                                {
                                    "SZOBA_ID": "246",
                                    "DB": "0"
                                },
                                {
                                    "SZOBA_ID": "247",
                                    "DB": "0"
                                },
                                {
                                    "SZOBA_ID": "248",
                                    "DB": "0"
                                },
                                {
                                    "SZOBA_ID": "249",
                                    "DB": "0"
                                },
                                {
                                    "SZOBA_ID": "250",
                                    "DB": "0"
                                },
                                {
                                    "SZOBA_ID": "251",
                                    "DB": "0"
                                },
                                {
                                    "SZOBA_ID": "252",
                                    "DB": "0"
                                },
                                {
                                    "SZOBA_ID": "253",
                                    "DB": "0"
                                },
                                {
                                    "SZOBA_ID": "254",
                                    "DB": "0"
                                },
                                {
                                    "SZOBA_ID": "255",
                                    "DB": "0"
                                },
                                {
                                    "SZOBA_ID": "256",
                                    "DB": "0"
                                },
                                {
                                    "SZOBA_ID": "257",
                                    "DB": "0"
                                },
                                {
                                    "SZOBA_ID": "258",
                                    "DB": "0"
                                },
                                {
                                    "SZOBA_ID": "259",
                                    "DB": "0"
                                },
                                {
                                    "SZOBA_ID": "260",
                                    "DB": "0"
                                },
                                {
                                    "SZOBA_ID": "261",
                                    "DB": "0"
                                },
                                {
                                    "SZOBA_ID": "262",
                                    "DB": "0"
                                },
                                {
                                    "SZOBA_ID": "263",
                                    "DB": "0"
                                },
                                {
                                    "SZOBA_ID": "264",
                                    "DB": "0"
                                },
                                {
                                    "SZOBA_ID": "265",
                                    "DB": "0"
                                },
                                {
                                    "SZOBA_ID": "266",
                                    "DB": "0"
                                },
                                {
                                    "SZOBA_ID": "267",
                                    "DB": "0"
                                },
                                {
                                    "SZOBA_ID": "268",
                                    "DB": "0"
                                },
                                {
                                    "SZOBA_ID": "269",
                                    "DB": "0"
                                },
                                {
                                    "SZOBA_ID": "270",
                                    "DB": "0"
                                },
                                {
                                    "SZOBA_ID": "271",
                                    "DB": "0"
                                },
                                {
                                    "SZOBA_ID": "272",
                                    "DB": "0"
                                },
                                {
                                    "SZOBA_ID": "273",
                                    "DB": "0"
                                },
                                {
                                    "SZOBA_ID": "274",
                                    "DB": "0"
                                },
                                {
                                    "SZOBA_ID": "275",
                                    "DB": "0"
                                },
                                {
                                    "SZOBA_ID": "276",
                                    "DB": "0"
                                },
                                {
                                    "SZOBA_ID": "277",
                                    "DB": "0"
                                },
                                {
                                    "SZOBA_ID": "278",
                                    "DB": "0"
                                },
                                {
                                    "SZOBA_ID": "279",
                                    "DB": "0"
                                },
                                {
                                    "SZOBA_ID": "280",
                                    "DB": "0"
                                },
                                {
                                    "SZOBA_ID": "281",
                                    "DB": "0"
                                },
                                {
                                    "SZOBA_ID": "282",
                                    "DB": "0"
                                },
                                {
                                    "SZOBA_ID": "283",
                                    "DB": "0"
                                },
                                {
                                    "SZOBA_ID": "284",
                                    "DB": "0"
                                },
                                {
                                    "SZOBA_ID": "285",
                                    "DB": "0"
                                },
                                {
                                    "SZOBA_ID": "286",
                                    "DB": "0"
                                },
                                {
                                    "SZOBA_ID": "287",
                                    "DB": "0"
                                },
                                {
                                    "SZOBA_ID": "288",
                                    "DB": "0"
                                },
                                {
                                    "SZOBA_ID": "289",
                                    "DB": "0"
                                },
                                {
                                    "SZOBA_ID": "290",
                                    "DB": "0"
                                },
                                {
                                    "SZOBA_ID": "291",
                                    "DB": "0"
                                },
                                {
                                    "SZOBA_ID": "292",
                                    "DB": "0"
                                },
                                {
                                    "SZOBA_ID": "293",
                                    "DB": "0"
                                },
                                {
                                    "SZOBA_ID": "294",
                                    "DB": "0"
                                }
                            ]
                        },
                        "text/html": [
                            "<table>",
                            "<tr><th>SZOBA_ID</th><th>DB</th></tr>",
                            "<tr><td>1</td><td>8</td></tr>",
                            "<tr><td>2</td><td>4</td></tr>",
                            "<tr><td>3</td><td>8</td></tr>",
                            "<tr><td>4</td><td>6</td></tr>",
                            "<tr><td>5</td><td>4</td></tr>",
                            "<tr><td>6</td><td>6</td></tr>",
                            "<tr><td>7</td><td>6</td></tr>",
                            "<tr><td>8</td><td>5</td></tr>",
                            "<tr><td>9</td><td>6</td></tr>",
                            "<tr><td>10</td><td>4</td></tr>",
                            "<tr><td>11</td><td>4</td></tr>",
                            "<tr><td>12</td><td>9</td></tr>",
                            "<tr><td>13</td><td>4</td></tr>",
                            "<tr><td>14</td><td>3</td></tr>",
                            "<tr><td>15</td><td>6</td></tr>",
                            "<tr><td>16</td><td>5</td></tr>",
                            "<tr><td>17</td><td>6</td></tr>",
                            "<tr><td>18</td><td>6</td></tr>",
                            "<tr><td>19</td><td>6</td></tr>",
                            "<tr><td>20</td><td>5</td></tr>",
                            "<tr><td>21</td><td>4</td></tr>",
                            "<tr><td>22</td><td>6</td></tr>",
                            "<tr><td>23</td><td>3</td></tr>",
                            "<tr><td>24</td><td>3</td></tr>",
                            "<tr><td>25</td><td>2</td></tr>",
                            "<tr><td>26</td><td>2</td></tr>",
                            "<tr><td>27</td><td>7</td></tr>",
                            "<tr><td>28</td><td>6</td></tr>",
                            "<tr><td>29</td><td>6</td></tr>",
                            "<tr><td>30</td><td>3</td></tr>",
                            "<tr><td>31</td><td>3</td></tr>",
                            "<tr><td>32</td><td>1</td></tr>",
                            "<tr><td>33</td><td>6</td></tr>",
                            "<tr><td>34</td><td>4</td></tr>",
                            "<tr><td>35</td><td>9</td></tr>",
                            "<tr><td>36</td><td>6</td></tr>",
                            "<tr><td>37</td><td>3</td></tr>",
                            "<tr><td>38</td><td>8</td></tr>",
                            "<tr><td>39</td><td>7</td></tr>",
                            "<tr><td>40</td><td>4</td></tr>",
                            "<tr><td>41</td><td>2</td></tr>",
                            "<tr><td>42</td><td>6</td></tr>",
                            "<tr><td>43</td><td>8</td></tr>",
                            "<tr><td>44</td><td>6</td></tr>",
                            "<tr><td>45</td><td>5</td></tr>",
                            "<tr><td>46</td><td>4</td></tr>",
                            "<tr><td>47</td><td>2</td></tr>",
                            "<tr><td>48</td><td>9</td></tr>",
                            "<tr><td>49</td><td>7</td></tr>",
                            "<tr><td>50</td><td>4</td></tr>",
                            "<tr><td>51</td><td>5</td></tr>",
                            "<tr><td>52</td><td>5</td></tr>",
                            "<tr><td>53</td><td>2</td></tr>",
                            "<tr><td>54</td><td>6</td></tr>",
                            "<tr><td>55</td><td>8</td></tr>",
                            "<tr><td>56</td><td>2</td></tr>",
                            "<tr><td>57</td><td>4</td></tr>",
                            "<tr><td>58</td><td>13</td></tr>",
                            "<tr><td>59</td><td>7</td></tr>",
                            "<tr><td>60</td><td>1</td></tr>",
                            "<tr><td>61</td><td>5</td></tr>",
                            "<tr><td>62</td><td>5</td></tr>",
                            "<tr><td>63</td><td>4</td></tr>",
                            "<tr><td>64</td><td>6</td></tr>",
                            "<tr><td>65</td><td>1</td></tr>",
                            "<tr><td>66</td><td>4</td></tr>",
                            "<tr><td>67</td><td>6</td></tr>",
                            "<tr><td>68</td><td>3</td></tr>",
                            "<tr><td>69</td><td>4</td></tr>",
                            "<tr><td>70</td><td>11</td></tr>",
                            "<tr><td>71</td><td>3</td></tr>",
                            "<tr><td>72</td><td>4</td></tr>",
                            "<tr><td>73</td><td>4</td></tr>",
                            "<tr><td>74</td><td>9</td></tr>",
                            "<tr><td>75</td><td>3</td></tr>",
                            "<tr><td>76</td><td>3</td></tr>",
                            "<tr><td>77</td><td>6</td></tr>",
                            "<tr><td>78</td><td>6</td></tr>",
                            "<tr><td>79</td><td>5</td></tr>",
                            "<tr><td>80</td><td>7</td></tr>",
                            "<tr><td>81</td><td>5</td></tr>",
                            "<tr><td>82</td><td>6</td></tr>",
                            "<tr><td>83</td><td>8</td></tr>",
                            "<tr><td>84</td><td>4</td></tr>",
                            "<tr><td>85</td><td>4</td></tr>",
                            "<tr><td>86</td><td>5</td></tr>",
                            "<tr><td>87</td><td>5</td></tr>",
                            "<tr><td>88</td><td>8</td></tr>",
                            "<tr><td>89</td><td>8</td></tr>",
                            "<tr><td>90</td><td>4</td></tr>",
                            "<tr><td>91</td><td>4</td></tr>",
                            "<tr><td>92</td><td>6</td></tr>",
                            "<tr><td>93</td><td>5</td></tr>",
                            "<tr><td>94</td><td>10</td></tr>",
                            "<tr><td>95</td><td>4</td></tr>",
                            "<tr><td>96</td><td>7</td></tr>",
                            "<tr><td>97</td><td>7</td></tr>",
                            "<tr><td>98</td><td>4</td></tr>",
                            "<tr><td>99</td><td>5</td></tr>",
                            "<tr><td>100</td><td>4</td></tr>",
                            "<tr><td>101</td><td>3</td></tr>",
                            "<tr><td>102</td><td>2</td></tr>",
                            "<tr><td>103</td><td>4</td></tr>",
                            "<tr><td>104</td><td>4</td></tr>",
                            "<tr><td>105</td><td>2</td></tr>",
                            "<tr><td>106</td><td>6</td></tr>",
                            "<tr><td>107</td><td>5</td></tr>",
                            "<tr><td>108</td><td>2</td></tr>",
                            "<tr><td>109</td><td>7</td></tr>",
                            "<tr><td>110</td><td>8</td></tr>",
                            "<tr><td>111</td><td>5</td></tr>",
                            "<tr><td>112</td><td>5</td></tr>",
                            "<tr><td>113</td><td>5</td></tr>",
                            "<tr><td>114</td><td>4</td></tr>",
                            "<tr><td>115</td><td>7</td></tr>",
                            "<tr><td>116</td><td>2</td></tr>",
                            "<tr><td>117</td><td>8</td></tr>",
                            "<tr><td>118</td><td>7</td></tr>",
                            "<tr><td>119</td><td>5</td></tr>",
                            "<tr><td>120</td><td>6</td></tr>",
                            "<tr><td>121</td><td>8</td></tr>",
                            "<tr><td>122</td><td>9</td></tr>",
                            "<tr><td>123</td><td>5</td></tr>",
                            "<tr><td>124</td><td>6</td></tr>",
                            "<tr><td>125</td><td>1</td></tr>",
                            "<tr><td>126</td><td>6</td></tr>",
                            "<tr><td>127</td><td>7</td></tr>",
                            "<tr><td>128</td><td>5</td></tr>",
                            "<tr><td>129</td><td>4</td></tr>",
                            "<tr><td>130</td><td>6</td></tr>",
                            "<tr><td>131</td><td>5</td></tr>",
                            "<tr><td>132</td><td>6</td></tr>",
                            "<tr><td>133</td><td>6</td></tr>",
                            "<tr><td>134</td><td>6</td></tr>",
                            "<tr><td>135</td><td>3</td></tr>",
                            "<tr><td>136</td><td>3</td></tr>",
                            "<tr><td>137</td><td>6</td></tr>",
                            "<tr><td>138</td><td>7</td></tr>",
                            "<tr><td>139</td><td>7</td></tr>",
                            "<tr><td>140</td><td>8</td></tr>",
                            "<tr><td>141</td><td>6</td></tr>",
                            "<tr><td>142</td><td>2</td></tr>",
                            "<tr><td>143</td><td>7</td></tr>",
                            "<tr><td>144</td><td>5</td></tr>",
                            "<tr><td>145</td><td>6</td></tr>",
                            "<tr><td>146</td><td>6</td></tr>",
                            "<tr><td>147</td><td>1</td></tr>",
                            "<tr><td>148</td><td>6</td></tr>",
                            "<tr><td>149</td><td>7</td></tr>",
                            "<tr><td>150</td><td>6</td></tr>",
                            "<tr><td>151</td><td>3</td></tr>",
                            "<tr><td>152</td><td>4</td></tr>",
                            "<tr><td>153</td><td>5</td></tr>",
                            "<tr><td>154</td><td>5</td></tr>",
                            "<tr><td>155</td><td>5</td></tr>",
                            "<tr><td>156</td><td>7</td></tr>",
                            "<tr><td>157</td><td>5</td></tr>",
                            "<tr><td>158</td><td>3</td></tr>",
                            "<tr><td>159</td><td>0</td></tr>",
                            "<tr><td>160</td><td>5</td></tr>",
                            "<tr><td>161</td><td>6</td></tr>",
                            "<tr><td>162</td><td>3</td></tr>",
                            "<tr><td>163</td><td>7</td></tr>",
                            "<tr><td>164</td><td>5</td></tr>",
                            "<tr><td>165</td><td>7</td></tr>",
                            "<tr><td>166</td><td>3</td></tr>",
                            "<tr><td>167</td><td>2</td></tr>",
                            "<tr><td>168</td><td>5</td></tr>",
                            "<tr><td>169</td><td>6</td></tr>",
                            "<tr><td>170</td><td>5</td></tr>",
                            "<tr><td>171</td><td>5</td></tr>",
                            "<tr><td>172</td><td>9</td></tr>",
                            "<tr><td>173</td><td>4</td></tr>",
                            "<tr><td>174</td><td>4</td></tr>",
                            "<tr><td>175</td><td>5</td></tr>",
                            "<tr><td>176</td><td>6</td></tr>",
                            "<tr><td>177</td><td>4</td></tr>",
                            "<tr><td>178</td><td>4</td></tr>",
                            "<tr><td>179</td><td>3</td></tr>",
                            "<tr><td>180</td><td>3</td></tr>",
                            "<tr><td>181</td><td>6</td></tr>",
                            "<tr><td>182</td><td>12</td></tr>",
                            "<tr><td>183</td><td>4</td></tr>",
                            "<tr><td>184</td><td>4</td></tr>",
                            "<tr><td>185</td><td>12</td></tr>",
                            "<tr><td>186</td><td>4</td></tr>",
                            "<tr><td>187</td><td>7</td></tr>",
                            "<tr><td>188</td><td>6</td></tr>",
                            "<tr><td>189</td><td>5</td></tr>",
                            "<tr><td>190</td><td>5</td></tr>",
                            "<tr><td>191</td><td>5</td></tr>",
                            "<tr><td>192</td><td>2</td></tr>",
                            "<tr><td>193</td><td>7</td></tr>",
                            "<tr><td>194</td><td>1</td></tr>",
                            "<tr><td>195</td><td>6</td></tr>",
                            "<tr><td>196</td><td>4</td></tr>",
                            "<tr><td>197</td><td>6</td></tr>",
                            "<tr><td>198</td><td>8</td></tr>",
                            "<tr><td>199</td><td>0</td></tr>",
                            "<tr><td>200</td><td>0</td></tr>",
                            "<tr><td>201</td><td>0</td></tr>",
                            "<tr><td>202</td><td>0</td></tr>",
                            "<tr><td>203</td><td>0</td></tr>",
                            "<tr><td>204</td><td>0</td></tr>",
                            "<tr><td>205</td><td>0</td></tr>",
                            "<tr><td>206</td><td>0</td></tr>",
                            "<tr><td>207</td><td>0</td></tr>",
                            "<tr><td>208</td><td>0</td></tr>",
                            "<tr><td>209</td><td>0</td></tr>",
                            "<tr><td>210</td><td>0</td></tr>",
                            "<tr><td>211</td><td>0</td></tr>",
                            "<tr><td>212</td><td>0</td></tr>",
                            "<tr><td>213</td><td>0</td></tr>",
                            "<tr><td>214</td><td>0</td></tr>",
                            "<tr><td>215</td><td>0</td></tr>",
                            "<tr><td>216</td><td>0</td></tr>",
                            "<tr><td>217</td><td>0</td></tr>",
                            "<tr><td>218</td><td>0</td></tr>",
                            "<tr><td>219</td><td>0</td></tr>",
                            "<tr><td>220</td><td>0</td></tr>",
                            "<tr><td>221</td><td>0</td></tr>",
                            "<tr><td>222</td><td>0</td></tr>",
                            "<tr><td>223</td><td>0</td></tr>",
                            "<tr><td>224</td><td>0</td></tr>",
                            "<tr><td>225</td><td>0</td></tr>",
                            "<tr><td>226</td><td>0</td></tr>",
                            "<tr><td>227</td><td>0</td></tr>",
                            "<tr><td>228</td><td>0</td></tr>",
                            "<tr><td>229</td><td>0</td></tr>",
                            "<tr><td>230</td><td>0</td></tr>",
                            "<tr><td>231</td><td>0</td></tr>",
                            "<tr><td>232</td><td>0</td></tr>",
                            "<tr><td>233</td><td>0</td></tr>",
                            "<tr><td>234</td><td>0</td></tr>",
                            "<tr><td>235</td><td>0</td></tr>",
                            "<tr><td>236</td><td>0</td></tr>",
                            "<tr><td>237</td><td>0</td></tr>",
                            "<tr><td>238</td><td>0</td></tr>",
                            "<tr><td>239</td><td>0</td></tr>",
                            "<tr><td>240</td><td>0</td></tr>",
                            "<tr><td>241</td><td>0</td></tr>",
                            "<tr><td>242</td><td>0</td></tr>",
                            "<tr><td>243</td><td>0</td></tr>",
                            "<tr><td>244</td><td>0</td></tr>",
                            "<tr><td>245</td><td>0</td></tr>",
                            "<tr><td>246</td><td>0</td></tr>",
                            "<tr><td>247</td><td>0</td></tr>",
                            "<tr><td>248</td><td>0</td></tr>",
                            "<tr><td>249</td><td>0</td></tr>",
                            "<tr><td>250</td><td>0</td></tr>",
                            "<tr><td>251</td><td>0</td></tr>",
                            "<tr><td>252</td><td>0</td></tr>",
                            "<tr><td>253</td><td>0</td></tr>",
                            "<tr><td>254</td><td>0</td></tr>",
                            "<tr><td>255</td><td>0</td></tr>",
                            "<tr><td>256</td><td>0</td></tr>",
                            "<tr><td>257</td><td>0</td></tr>",
                            "<tr><td>258</td><td>0</td></tr>",
                            "<tr><td>259</td><td>0</td></tr>",
                            "<tr><td>260</td><td>0</td></tr>",
                            "<tr><td>261</td><td>0</td></tr>",
                            "<tr><td>262</td><td>0</td></tr>",
                            "<tr><td>263</td><td>0</td></tr>",
                            "<tr><td>264</td><td>0</td></tr>",
                            "<tr><td>265</td><td>0</td></tr>",
                            "<tr><td>266</td><td>0</td></tr>",
                            "<tr><td>267</td><td>0</td></tr>",
                            "<tr><td>268</td><td>0</td></tr>",
                            "<tr><td>269</td><td>0</td></tr>",
                            "<tr><td>270</td><td>0</td></tr>",
                            "<tr><td>271</td><td>0</td></tr>",
                            "<tr><td>272</td><td>0</td></tr>",
                            "<tr><td>273</td><td>0</td></tr>",
                            "<tr><td>274</td><td>0</td></tr>",
                            "<tr><td>275</td><td>0</td></tr>",
                            "<tr><td>276</td><td>0</td></tr>",
                            "<tr><td>277</td><td>0</td></tr>",
                            "<tr><td>278</td><td>0</td></tr>",
                            "<tr><td>279</td><td>0</td></tr>",
                            "<tr><td>280</td><td>0</td></tr>",
                            "<tr><td>281</td><td>0</td></tr>",
                            "<tr><td>282</td><td>0</td></tr>",
                            "<tr><td>283</td><td>0</td></tr>",
                            "<tr><td>284</td><td>0</td></tr>",
                            "<tr><td>285</td><td>0</td></tr>",
                            "<tr><td>286</td><td>0</td></tr>",
                            "<tr><td>287</td><td>0</td></tr>",
                            "<tr><td>288</td><td>0</td></tr>",
                            "<tr><td>289</td><td>0</td></tr>",
                            "<tr><td>290</td><td>0</td></tr>",
                            "<tr><td>291</td><td>0</td></tr>",
                            "<tr><td>292</td><td>0</td></tr>",
                            "<tr><td>293</td><td>0</td></tr>",
                            "<tr><td>294</td><td>0</td></tr>",
                            "</table>"
                        ]
                    }
                }
            ],
            "execution_count": 26
        },
        {
            "cell_type": "markdown",
            "source": [
                "<span style=\"color: rgb(0, 0, 0); font-family: &quot;Open Sans&quot;, sans-serif; font-size: 14.44px; background-color: rgb(255, 255, 255);\">Listázzuk azon szálláshelyek azonosítóját és nevét, amelyek a saját helyükön (HELY) a legtöbb csillaggal rendelkeznek!</span>\n",
                "\n",
                "<span style=\"color: rgb(0, 0, 0); font-family: &quot;Open Sans&quot;, sans-serif; font-size: 14.44px; background-color: rgb(255, 255, 255);\"><br></span>"
            ],
            "metadata": {
                "azdata_cell_guid": "e7968e71-6f01-427a-a8ba-8df125e96b4b"
            },
            "attachments": {}
        },
        {
            "cell_type": "code",
            "source": [
                "SELECT sz1.SZALLAS_ID, sz1.SZALLAS_NEV\r\n",
                "FROM szallashely sz1\r\n",
                "WHERE sz1.CSILLAGOK_SZAMA = (\r\n",
                "  SELECT MAX(sz2.CSILLAGOK_SZAMA)\r\n",
                "  FROM szallashely sz2\r\n",
                "  WHERE sz1.HELY = sz2.HELY\r\n",
                ")"
            ],
            "metadata": {
                "azdata_cell_guid": "7b782b5b-e828-4085-bace-4b3a7760eb5b",
                "language": "sql"
            },
            "outputs": [
                {
                    "output_type": "display_data",
                    "data": {
                        "text/html": "(11 rows affected)"
                    },
                    "metadata": {}
                },
                {
                    "output_type": "display_data",
                    "data": {
                        "text/html": "Total execution time: 00:00:00.020"
                    },
                    "metadata": {}
                },
                {
                    "output_type": "execute_result",
                    "metadata": {},
                    "execution_count": 25,
                    "data": {
                        "application/vnd.dataresource+json": {
                            "schema": {
                                "fields": [
                                    {
                                        "name": "SZALLAS_ID"
                                    },
                                    {
                                        "name": "SZALLAS_NEV"
                                    }
                                ]
                            },
                            "data": [
                                {
                                    "SZALLAS_ID": "17",
                                    "SZALLAS_NEV": "Szarvas Hotel"
                                },
                                {
                                    "SZALLAS_ID": "16",
                                    "SZALLAS_NEV": "Bagoly Hotel"
                                },
                                {
                                    "SZALLAS_ID": "3",
                                    "SZALLAS_NEV": "Fortuna Apartman"
                                },
                                {
                                    "SZALLAS_ID": "18",
                                    "SZALLAS_NEV": "Fortuna Apartman"
                                },
                                {
                                    "SZALLAS_ID": "19",
                                    "SZALLAS_NEV": "Nyárfás Vendégház"
                                },
                                {
                                    "SZALLAS_ID": "21",
                                    "SZALLAS_NEV": "Müller Vendégház"
                                },
                                {
                                    "SZALLAS_ID": "13",
                                    "SZALLAS_NEV": "Riviéra Panzió"
                                },
                                {
                                    "SZALLAS_ID": "10",
                                    "SZALLAS_NEV": "Lagúna Hotel"
                                },
                                {
                                    "SZALLAS_ID": "5",
                                    "SZALLAS_NEV": "Fortuna Panzió"
                                },
                                {
                                    "SZALLAS_ID": "11",
                                    "SZALLAS_NEV": "Partiszél Vendégház"
                                },
                                {
                                    "SZALLAS_ID": "8",
                                    "SZALLAS_NEV": "Hotel Három Hattyú"
                                }
                            ]
                        },
                        "text/html": [
                            "<table>",
                            "<tr><th>SZALLAS_ID</th><th>SZALLAS_NEV</th></tr>",
                            "<tr><td>17</td><td>Szarvas Hotel</td></tr>",
                            "<tr><td>16</td><td>Bagoly Hotel</td></tr>",
                            "<tr><td>3</td><td>Fortuna Apartman</td></tr>",
                            "<tr><td>18</td><td>Fortuna Apartman</td></tr>",
                            "<tr><td>19</td><td>Nyárfás Vendégház</td></tr>",
                            "<tr><td>21</td><td>Müller Vendégház</td></tr>",
                            "<tr><td>13</td><td>Riviéra Panzió</td></tr>",
                            "<tr><td>10</td><td>Lagúna Hotel</td></tr>",
                            "<tr><td>5</td><td>Fortuna Panzió</td></tr>",
                            "<tr><td>11</td><td>Partiszél Vendégház</td></tr>",
                            "<tr><td>8</td><td>Hotel Három Hattyú</td></tr>",
                            "</table>"
                        ]
                    }
                }
            ],
            "execution_count": 25
        },
        {
            "cell_type": "markdown",
            "source": [
                "Listázzuk a vendégek azonosítóját, nevét és születési dátumát!\n",
                "\n",
                "- Vegyünk fel két új oszlopot, amelyben a vendég legelső, illetve legutolsó foglalásának dátuma szerepel\n",
                "- A foglalás dátumánál a METTOL oszlopot használjuk"
            ],
            "metadata": {
                "azdata_cell_guid": "ce246e9a-05ca-419b-82bd-6b810201581f"
            },
            "attachments": {}
        },
        {
            "cell_type": "code",
            "source": [
                "SELECT v.USERNEV,\r\n",
                "v.NEV,\r\n",
                "v.SZUL_DAT,\r\n",
                "MIN(f.METTOL) AS \"Legelső foglalás\",\r\n",
                "MAX(f.METTOL) AS \"Legutóbbi foglalás\"\r\n",
                "FROM Foglalas f JOIN Vendeg v ON f.UGYFEL_FK = v.USERNEV\r\n",
                "GROUP BY v.USERNEV,\r\n",
                "v.NEV,\r\n",
                "v.SZUL_DAT"
            ],
            "metadata": {
                "azdata_cell_guid": "a7c08b67-743b-456e-9d77-aefd4f6e967b",
                "language": "sql",
                "tags": []
            },
            "outputs": [
                {
                    "output_type": "display_data",
                    "data": {
                        "text/html": "(195 rows affected)"
                    },
                    "metadata": {}
                },
                {
                    "output_type": "display_data",
                    "data": {
                        "text/html": "Total execution time: 00:00:00.084"
                    },
                    "metadata": {}
                },
                {
                    "output_type": "execute_result",
                    "metadata": {},
                    "execution_count": 27,
                    "data": {
                        "application/vnd.dataresource+json": {
                            "schema": {
                                "fields": [
                                    {
                                        "name": "USERNEV"
                                    },
                                    {
                                        "name": "NEV"
                                    },
                                    {
                                        "name": "SZUL_DAT"
                                    },
                                    {
                                        "name": "Legelső foglalás"
                                    },
                                    {
                                        "name": "Legutóbbi foglalás"
                                    }
                                ]
                            },
                            "data": [
                                {
                                    "USERNEV": "adam1",
                                    "NEV": "Kiss Ádám",
                                    "SZUL_DAT": "1991-12-28",
                                    "Legelső foglalás": "2016-05-28",
                                    "Legutóbbi foglalás": "2016-10-19"
                                },
                                {
                                    "USERNEV": "adam3",
                                    "NEV": "Barkóci Ádám",
                                    "SZUL_DAT": "1970-06-07",
                                    "Legelső foglalás": "2016-09-12",
                                    "Legutóbbi foglalás": "2017-02-06"
                                },
                                {
                                    "USERNEV": "adam4",
                                    "NEV": "Bieniek Ádám",
                                    "SZUL_DAT": "1976-08-01",
                                    "Legelső foglalás": "2016-08-28",
                                    "Legutóbbi foglalás": "2017-02-23"
                                },
                                {
                                    "USERNEV": "agnes",
                                    "NEV": "Lengyel Ágnes",
                                    "SZUL_DAT": "1979-12-10",
                                    "Legelső foglalás": "2016-05-09",
                                    "Legutóbbi foglalás": "2016-11-07"
                                },
                                {
                                    "USERNEV": "agnes3",
                                    "NEV": "Hartyánszky Ágnes",
                                    "SZUL_DAT": "1967-04-11",
                                    "Legelső foglalás": "2016-08-04",
                                    "Legutóbbi foglalás": "2017-02-16"
                                },
                                {
                                    "USERNEV": "AGNESH",
                                    "NEV": "Horváth Ágnes",
                                    "SZUL_DAT": "1981-12-24",
                                    "Legelső foglalás": "2016-04-10",
                                    "Legutóbbi foglalás": "2017-01-16"
                                },
                                {
                                    "USERNEV": "AGNESK",
                                    "NEV": "Kovács Ágnes",
                                    "SZUL_DAT": "1988-10-02",
                                    "Legelső foglalás": "2016-07-29",
                                    "Legutóbbi foglalás": "2016-12-17"
                                },
                                {
                                    "USERNEV": "akos",
                                    "NEV": "Bíró Ákos",
                                    "SZUL_DAT": "1982-04-24",
                                    "Legelső foglalás": "2016-05-18",
                                    "Legutóbbi foglalás": "2016-12-29"
                                },
                                {
                                    "USERNEV": "aladar",
                                    "NEV": "Dunai Aladár",
                                    "SZUL_DAT": "1980-11-01",
                                    "Legelső foglalás": "2016-05-17",
                                    "Legutóbbi foglalás": "2016-11-22"
                                },
                                {
                                    "USERNEV": "alexandra",
                                    "NEV": "Bagóczki Alexandra",
                                    "SZUL_DAT": "1992-03-25",
                                    "Legelső foglalás": "2016-05-21",
                                    "Legutóbbi foglalás": "2017-01-19"
                                },
                                {
                                    "USERNEV": "andi",
                                    "NEV": "Maródi Andrea",
                                    "SZUL_DAT": "1968-05-07",
                                    "Legelső foglalás": "2016-05-08",
                                    "Legutóbbi foglalás": "2017-01-13"
                                },
                                {
                                    "USERNEV": "andras2",
                                    "NEV": "Tóth András",
                                    "SZUL_DAT": "1997-10-31",
                                    "Legelső foglalás": "2016-05-30",
                                    "Legutóbbi foglalás": "2017-02-08"
                                },
                                {
                                    "USERNEV": "andras21",
                                    "NEV": "Molnár András",
                                    "SZUL_DAT": "1977-11-16",
                                    "Legelső foglalás": "2016-06-21",
                                    "Legutóbbi foglalás": "2017-01-28"
                                },
                                {
                                    "USERNEV": "andras3",
                                    "NEV": "Vígh András",
                                    "SZUL_DAT": "1971-04-02",
                                    "Legelső foglalás": "2016-05-01",
                                    "Legutóbbi foglalás": "2017-02-02"
                                },
                                {
                                    "USERNEV": "andras4",
                                    "NEV": "Back András",
                                    "SZUL_DAT": "1984-04-07",
                                    "Legelső foglalás": "2016-09-17",
                                    "Legutóbbi foglalás": "2017-01-09"
                                },
                                {
                                    "USERNEV": "andras41",
                                    "NEV": "Komjáti András",
                                    "SZUL_DAT": "1997-10-25",
                                    "Legelső foglalás": "2016-05-14",
                                    "Legutóbbi foglalás": "2016-11-23"
                                },
                                {
                                    "USERNEV": "ANDRASE",
                                    "NEV": "Erdei András",
                                    "SZUL_DAT": "1997-05-29",
                                    "Legelső foglalás": "2016-04-24",
                                    "Legutóbbi foglalás": "2016-11-29"
                                },
                                {
                                    "USERNEV": "ANDRASN",
                                    "NEV": "Nagy András",
                                    "SZUL_DAT": "1980-09-05",
                                    "Legelső foglalás": "2016-11-25",
                                    "Legutóbbi foglalás": "2016-11-25"
                                },
                                {
                                    "USERNEV": "andrea",
                                    "NEV": "Kiss Andrea",
                                    "SZUL_DAT": "1993-03-25",
                                    "Legelső foglalás": "2016-07-27",
                                    "Legutóbbi foglalás": "2017-02-09"
                                },
                                {
                                    "USERNEV": "andrea3",
                                    "NEV": "Szomor Andrea",
                                    "SZUL_DAT": "1996-05-10",
                                    "Legelső foglalás": "2016-11-19",
                                    "Legutóbbi foglalás": "2016-11-19"
                                },
                                {
                                    "USERNEV": "andrea4",
                                    "NEV": "Neizer Andrea",
                                    "SZUL_DAT": "1981-05-17",
                                    "Legelső foglalás": "2016-05-27",
                                    "Legutóbbi foglalás": "2017-01-22"
                                },
                                {
                                    "USERNEV": "ANDREAT",
                                    "NEV": "Tornyos Andrea",
                                    "SZUL_DAT": "1986-11-14",
                                    "Legelső foglalás": "2016-07-27",
                                    "Legutóbbi foglalás": "2016-10-08"
                                },
                                {
                                    "USERNEV": "anett3",
                                    "NEV": "Pivarcsi Anett",
                                    "SZUL_DAT": "1967-01-03",
                                    "Legelső foglalás": "2016-04-10",
                                    "Legutóbbi foglalás": "2016-10-16"
                                },
                                {
                                    "USERNEV": "aniko",
                                    "NEV": "Tóth Anikó",
                                    "SZUL_DAT": "1973-06-03",
                                    "Legelső foglalás": "2016-06-25",
                                    "Legutóbbi foglalás": "2017-02-23"
                                },
                                {
                                    "USERNEV": "aniko4",
                                    "NEV": "Böröcz Anikó",
                                    "SZUL_DAT": "1978-03-26",
                                    "Legelső foglalás": "2016-07-02",
                                    "Legutóbbi foglalás": "2016-10-16"
                                },
                                {
                                    "USERNEV": "ANIKOS",
                                    "NEV": "Simon Anikó",
                                    "SZUL_DAT": "1988-12-14",
                                    "Legelső foglalás": "2016-04-19",
                                    "Legutóbbi foglalás": "2016-11-10"
                                },
                                {
                                    "USERNEV": "anita",
                                    "NEV": "Hamvay-Kovács Anita",
                                    "SZUL_DAT": "1971-03-20",
                                    "Legelső foglalás": "2016-09-28",
                                    "Legutóbbi foglalás": "2017-02-20"
                                },
                                {
                                    "USERNEV": "annamaria1",
                                    "NEV": "Szűcs Annamária",
                                    "SZUL_DAT": "1990-04-27",
                                    "Legelső foglalás": "2016-06-06",
                                    "Legutóbbi foglalás": "2017-01-30"
                                },
                                {
                                    "USERNEV": "ANNAMARIAR",
                                    "NEV": "Regős Annamária",
                                    "SZUL_DAT": "1977-09-26",
                                    "Legelső foglalás": "2016-06-08",
                                    "Legutóbbi foglalás": "2017-02-16"
                                },
                                {
                                    "USERNEV": "aron2",
                                    "NEV": "Jakab Áron",
                                    "SZUL_DAT": "1971-04-26",
                                    "Legelső foglalás": "2016-04-11",
                                    "Legutóbbi foglalás": "2017-02-26"
                                },
                                {
                                    "USERNEV": "ARONK",
                                    "NEV": "Kelemen Áron",
                                    "SZUL_DAT": "1989-08-10",
                                    "Legelső foglalás": "2016-04-06",
                                    "Legutóbbi foglalás": "2017-02-21"
                                },
                                {
                                    "USERNEV": "arpad2",
                                    "NEV": "Ötvös Árpád",
                                    "SZUL_DAT": "1990-06-08",
                                    "Legelső foglalás": "2016-06-05",
                                    "Legutóbbi foglalás": "2017-02-18"
                                },
                                {
                                    "USERNEV": "ARPADH",
                                    "NEV": "Horváth Árpád",
                                    "SZUL_DAT": "1990-05-18",
                                    "Legelső foglalás": "2016-06-06",
                                    "Legutóbbi foglalás": "2017-02-16"
                                },
                                {
                                    "USERNEV": "ARPADM",
                                    "NEV": "Móricz Árpád",
                                    "SZUL_DAT": "1986-04-20",
                                    "Legelső foglalás": "2016-05-29",
                                    "Legutóbbi foglalás": "2017-02-12"
                                },
                                {
                                    "USERNEV": "attila",
                                    "NEV": "Csóti Attila",
                                    "SZUL_DAT": "1979-12-25",
                                    "Legelső foglalás": "2016-09-30",
                                    "Legutóbbi foglalás": "2016-12-22"
                                },
                                {
                                    "USERNEV": "attila1",
                                    "NEV": "Gulyás Attila",
                                    "SZUL_DAT": "1982-08-16",
                                    "Legelső foglalás": "2016-05-20",
                                    "Legutóbbi foglalás": "2017-01-23"
                                },
                                {
                                    "USERNEV": "attila4",
                                    "NEV": "Baróti Attila",
                                    "SZUL_DAT": "1975-11-06",
                                    "Legelső foglalás": "2016-08-18",
                                    "Legutóbbi foglalás": "2017-02-15"
                                },
                                {
                                    "USERNEV": "ATTILAO",
                                    "NEV": "Opra Attila",
                                    "SZUL_DAT": "1995-05-08",
                                    "Legelső foglalás": "2016-05-21",
                                    "Legutóbbi foglalás": "2017-02-22"
                                },
                                {
                                    "USERNEV": "balazs1",
                                    "NEV": "Bozsik Balázs",
                                    "SZUL_DAT": "1992-11-03",
                                    "Legelső foglalás": "2016-05-07",
                                    "Legutóbbi foglalás": "2017-02-12"
                                },
                                {
                                    "USERNEV": "balazs2",
                                    "NEV": "Szűcs Balázs",
                                    "SZUL_DAT": "1984-10-31",
                                    "Legelső foglalás": "2016-04-16",
                                    "Legutóbbi foglalás": "2017-02-27"
                                },
                                {
                                    "USERNEV": "balazs3",
                                    "NEV": "Bakódy Balázs",
                                    "SZUL_DAT": "1986-09-09",
                                    "Legelső foglalás": "2016-07-17",
                                    "Legutóbbi foglalás": "2017-01-20"
                                },
                                {
                                    "USERNEV": "balint",
                                    "NEV": "Horváth Bálint",
                                    "SZUL_DAT": "1996-03-17",
                                    "Legelső foglalás": "2016-04-22",
                                    "Legutóbbi foglalás": "2016-11-24"
                                },
                                {
                                    "USERNEV": "balint1",
                                    "NEV": "Molnár Bálint",
                                    "SZUL_DAT": "1989-08-24",
                                    "Legelső foglalás": "2016-06-07",
                                    "Legutóbbi foglalás": "2017-01-03"
                                },
                                {
                                    "USERNEV": "balint2",
                                    "NEV": "Vukasinovity Bálint",
                                    "SZUL_DAT": "1997-09-03",
                                    "Legelső foglalás": "2016-07-21",
                                    "Legutóbbi foglalás": "2016-12-04"
                                },
                                {
                                    "USERNEV": "balu",
                                    "NEV": "Endresz Bálint",
                                    "SZUL_DAT": "1976-08-01",
                                    "Legelső foglalás": "2016-08-06",
                                    "Legutóbbi foglalás": "2016-12-22"
                                },
                                {
                                    "USERNEV": "beata4",
                                    "NEV": "Bagi Beáta",
                                    "SZUL_DAT": "1994-03-19",
                                    "Legelső foglalás": "2016-04-20",
                                    "Legutóbbi foglalás": "2016-10-03"
                                },
                                {
                                    "USERNEV": "BEATRIXK",
                                    "NEV": "Kerényi Beatrix",
                                    "SZUL_DAT": "1972-04-06",
                                    "Legelső foglalás": "2016-06-10",
                                    "Legutóbbi foglalás": "2017-02-08"
                                },
                                {
                                    "USERNEV": "BEATRIXS",
                                    "NEV": "Szekendi Beatrix",
                                    "SZUL_DAT": "1981-04-06",
                                    "Legelső foglalás": "2016-04-18",
                                    "Legutóbbi foglalás": "2017-02-03"
                                },
                                {
                                    "USERNEV": "BELAF",
                                    "NEV": "Farkas Béla",
                                    "SZUL_DAT": "1995-02-24",
                                    "Legelső foglalás": "2016-07-27",
                                    "Legutóbbi foglalás": "2016-12-06"
                                },
                                {
                                    "USERNEV": "bence",
                                    "NEV": "Győrffy Bence",
                                    "SZUL_DAT": "1987-07-09",
                                    "Legelső foglalás": "2016-05-08",
                                    "Legutóbbi foglalás": "2017-02-05"
                                },
                                {
                                    "USERNEV": "BENCEB",
                                    "NEV": "Bajusz Bence",
                                    "SZUL_DAT": "1973-06-21",
                                    "Legelső foglalás": "2016-05-14",
                                    "Legutóbbi foglalás": "2017-02-12"
                                },
                                {
                                    "USERNEV": "bernadett1",
                                    "NEV": "Simon Bernadett",
                                    "SZUL_DAT": "1984-10-13",
                                    "Legelső foglalás": "2016-06-12",
                                    "Legutóbbi foglalás": "2017-02-24"
                                },
                                {
                                    "USERNEV": "bernadett2",
                                    "NEV": "Kovács Bernadett",
                                    "SZUL_DAT": "1996-08-20",
                                    "Legelső foglalás": "2016-05-01",
                                    "Legutóbbi foglalás": "2017-01-24"
                                },
                                {
                                    "USERNEV": "BERNADETTO",
                                    "NEV": "Orbán Bernadett",
                                    "SZUL_DAT": "1987-12-07",
                                    "Legelső foglalás": "2016-04-10",
                                    "Legutóbbi foglalás": "2017-01-28"
                                },
                                {
                                    "USERNEV": "bertalan",
                                    "NEV": "Csiger Bertalan",
                                    "SZUL_DAT": "1977-10-15",
                                    "Legelső foglalás": "2016-05-18",
                                    "Legutóbbi foglalás": "2017-02-20"
                                },
                                {
                                    "USERNEV": "brigitta",
                                    "NEV": "Székely Brigitta",
                                    "SZUL_DAT": "1978-09-13",
                                    "Legelső foglalás": "2016-05-30",
                                    "Legutóbbi foglalás": "2017-01-23"
                                },
                                {
                                    "USERNEV": "brigitta3",
                                    "NEV": "Pataki Brigitta",
                                    "SZUL_DAT": "1991-05-23",
                                    "Legelső foglalás": "2016-06-01",
                                    "Legutóbbi foglalás": "2017-02-09"
                                },
                                {
                                    "USERNEV": "csongor3",
                                    "NEV": "Nagymihály Csongor",
                                    "SZUL_DAT": "1984-03-05",
                                    "Legelső foglalás": "2016-05-01",
                                    "Legutóbbi foglalás": "2017-02-13"
                                },
                                {
                                    "USERNEV": "dani",
                                    "NEV": "Vörös Dániel",
                                    "SZUL_DAT": "1986-10-14",
                                    "Legelső foglalás": "2016-06-06",
                                    "Legutóbbi foglalás": "2017-02-25"
                                },
                                {
                                    "USERNEV": "daniel",
                                    "NEV": "Rácz Dániel",
                                    "SZUL_DAT": "1978-11-28",
                                    "Legelső foglalás": "2016-04-10",
                                    "Legutóbbi foglalás": "2017-02-20"
                                },
                                {
                                    "USERNEV": "daniel1",
                                    "NEV": "Keszler Dániel",
                                    "SZUL_DAT": "1969-07-16",
                                    "Legelső foglalás": "2016-04-10",
                                    "Legutóbbi foglalás": "2017-03-01"
                                },
                                {
                                    "USERNEV": "david",
                                    "NEV": "Ambrus Dávid",
                                    "SZUL_DAT": "1974-02-11",
                                    "Legelső foglalás": "2016-05-18",
                                    "Legutóbbi foglalás": "2017-01-18"
                                },
                                {
                                    "USERNEV": "david1",
                                    "NEV": "Sobják Dávid",
                                    "SZUL_DAT": "1970-08-16",
                                    "Legelső foglalás": "2016-09-20",
                                    "Legutóbbi foglalás": "2017-02-25"
                                },
                                {
                                    "USERNEV": "david4",
                                    "NEV": "Berta Dávid",
                                    "SZUL_DAT": "1990-10-08",
                                    "Legelső foglalás": "2017-02-16",
                                    "Legutóbbi foglalás": "2017-02-16"
                                },
                                {
                                    "USERNEV": "debora",
                                    "NEV": "Barna Debóra",
                                    "SZUL_DAT": "1976-10-14",
                                    "Legelső foglalás": "2016-06-22",
                                    "Legutóbbi foglalás": "2017-02-04"
                                },
                                {
                                    "USERNEV": "denes",
                                    "NEV": "Tömböly Dénes",
                                    "SZUL_DAT": "1975-03-14",
                                    "Legelső foglalás": "2016-05-27",
                                    "Legutóbbi foglalás": "2016-11-06"
                                },
                                {
                                    "USERNEV": "dora3",
                                    "NEV": "Sarodi Dóra",
                                    "SZUL_DAT": "1995-05-18",
                                    "Legelső foglalás": "2016-08-16",
                                    "Legutóbbi foglalás": "2016-11-22"
                                },
                                {
                                    "USERNEV": "edit",
                                    "NEV": "Bittmann Edit",
                                    "SZUL_DAT": "1984-04-20",
                                    "Legelső foglalás": "2016-07-14",
                                    "Legutóbbi foglalás": "2017-02-08"
                                },
                                {
                                    "USERNEV": "emese",
                                    "NEV": "Kuruc Emese",
                                    "SZUL_DAT": "1989-08-10",
                                    "Legelső foglalás": "2016-07-22",
                                    "Legutóbbi foglalás": "2017-01-30"
                                },
                                {
                                    "USERNEV": "eszter",
                                    "NEV": "Molnár Eszter",
                                    "SZUL_DAT": "1987-05-10",
                                    "Legelső foglalás": "2016-08-12",
                                    "Legutóbbi foglalás": "2016-12-23"
                                },
                                {
                                    "USERNEV": "eszter2",
                                    "NEV": "Balogh Eszter",
                                    "SZUL_DAT": "1998-01-31",
                                    "Legelső foglalás": "2016-06-30",
                                    "Legutóbbi foglalás": "2016-12-29"
                                },
                                {
                                    "USERNEV": "eszter4",
                                    "NEV": "Fülöp Eszter",
                                    "SZUL_DAT": "1993-06-28",
                                    "Legelső foglalás": "2017-01-05",
                                    "Legutóbbi foglalás": "2017-02-26"
                                },
                                {
                                    "USERNEV": "ESZTERE",
                                    "NEV": "Érsek Eszter",
                                    "SZUL_DAT": "1978-08-28",
                                    "Legelső foglalás": "2016-05-30",
                                    "Legutóbbi foglalás": "2017-02-10"
                                },
                                {
                                    "USERNEV": "eva",
                                    "NEV": "Enyedi Éva",
                                    "SZUL_DAT": "1967-06-30",
                                    "Legelső foglalás": "2016-10-06",
                                    "Legutóbbi foglalás": "2017-01-14"
                                },
                                {
                                    "USERNEV": "eva2",
                                    "NEV": "Perlinger Éva",
                                    "SZUL_DAT": "1971-08-19",
                                    "Legelső foglalás": "2016-09-02",
                                    "Legutóbbi foglalás": "2017-01-06"
                                },
                                {
                                    "USERNEV": "EVAV",
                                    "NEV": "Viktor Éva",
                                    "SZUL_DAT": "1980-12-26",
                                    "Legelső foglalás": "2016-05-01",
                                    "Legutóbbi foglalás": "2017-02-04"
                                },
                                {
                                    "USERNEV": "ferenc1",
                                    "NEV": "Orosz Ferenc",
                                    "SZUL_DAT": "1983-10-08",
                                    "Legelső foglalás": "2016-05-08",
                                    "Legutóbbi foglalás": "2016-11-07"
                                },
                                {
                                    "USERNEV": "fruzsina4",
                                    "NEV": "Frank Fruzsina",
                                    "SZUL_DAT": "1996-08-16",
                                    "Legelső foglalás": "2016-06-02",
                                    "Legutóbbi foglalás": "2017-01-22"
                                },
                                {
                                    "USERNEV": "gabor1",
                                    "NEV": "Köves Gábor",
                                    "SZUL_DAT": "1973-07-15",
                                    "Legelső foglalás": "2016-06-20",
                                    "Legutóbbi foglalás": "2016-11-19"
                                },
                                {
                                    "USERNEV": "gabor4",
                                    "NEV": "Telek Gábor",
                                    "SZUL_DAT": "1987-03-15",
                                    "Legelső foglalás": "2016-04-26",
                                    "Legutóbbi foglalás": "2016-11-07"
                                },
                                {
                                    "USERNEV": "gabriella1",
                                    "NEV": "Nagy Gabriella",
                                    "SZUL_DAT": "1982-11-01",
                                    "Legelső foglalás": "2016-04-21",
                                    "Legutóbbi foglalás": "2017-02-21"
                                },
                                {
                                    "USERNEV": "gabriella10",
                                    "NEV": "Vida Gabriella",
                                    "SZUL_DAT": "1969-06-18",
                                    "Legelső foglalás": "2016-10-01",
                                    "Legutóbbi foglalás": "2016-10-01"
                                },
                                {
                                    "USERNEV": "georgij",
                                    "NEV": "Nyíri Georgij",
                                    "SZUL_DAT": "1983-02-23",
                                    "Legelső foglalás": "2016-06-16",
                                    "Legutóbbi foglalás": "2016-09-18"
                                },
                                {
                                    "USERNEV": "gusztav",
                                    "NEV": "Bárci Gusztáv",
                                    "SZUL_DAT": "1967-02-25",
                                    "Legelső foglalás": "2016-05-06",
                                    "Legutóbbi foglalás": "2017-02-23"
                                },
                                {
                                    "USERNEV": "GYONGYIK",
                                    "NEV": "Kornseé Gyöngyi",
                                    "SZUL_DAT": "1974-06-07",
                                    "Legelső foglalás": "2016-06-02",
                                    "Legutóbbi foglalás": "2017-01-22"
                                },
                                {
                                    "USERNEV": "GYORGYO",
                                    "NEV": "Oroszi György",
                                    "SZUL_DAT": "1980-03-23",
                                    "Legelső foglalás": "2016-05-27",
                                    "Legutóbbi foglalás": "2017-02-24"
                                },
                                {
                                    "USERNEV": "henrik3",
                                    "NEV": "Nádudvari Henrik",
                                    "SZUL_DAT": "1986-12-05",
                                    "Legelső foglalás": "2016-08-24",
                                    "Legutóbbi foglalás": "2017-01-27"
                                },
                                {
                                    "USERNEV": "IBOLYAA",
                                    "NEV": "Andor Ibolya",
                                    "SZUL_DAT": "1983-11-27",
                                    "Legelső foglalás": "2016-08-29",
                                    "Legutóbbi foglalás": "2017-01-17"
                                },
                                {
                                    "USERNEV": "ilona3",
                                    "NEV": "Bosnyák Ilona",
                                    "SZUL_DAT": "1990-08-06",
                                    "Legelső foglalás": "2016-07-31",
                                    "Legutóbbi foglalás": "2016-12-25"
                                },
                                {
                                    "USERNEV": "imre",
                                    "NEV": "Búza Imre",
                                    "SZUL_DAT": "1988-09-30",
                                    "Legelső foglalás": "2016-09-17",
                                    "Legutóbbi foglalás": "2016-10-28"
                                },
                                {
                                    "USERNEV": "imre1",
                                    "NEV": "Papp Imre",
                                    "SZUL_DAT": "1976-06-25",
                                    "Legelső foglalás": "2016-06-23",
                                    "Legutóbbi foglalás": "2017-02-05"
                                },
                                {
                                    "USERNEV": "istvan",
                                    "NEV": "Soós István",
                                    "SZUL_DAT": "1986-06-28",
                                    "Legelső foglalás": "2016-10-07",
                                    "Legutóbbi foglalás": "2017-01-02"
                                },
                                {
                                    "USERNEV": "istvan1",
                                    "NEV": "Vizi István",
                                    "SZUL_DAT": "1997-12-01",
                                    "Legelső foglalás": "2016-04-16",
                                    "Legutóbbi foglalás": "2017-02-07"
                                },
                                {
                                    "USERNEV": "ISTVANV",
                                    "NEV": "Varga István",
                                    "SZUL_DAT": "1989-04-09",
                                    "Legelső foglalás": "2016-07-01",
                                    "Legutóbbi foglalás": "2016-09-29"
                                },
                                {
                                    "USERNEV": "janos3",
                                    "NEV": "Harangozó János",
                                    "SZUL_DAT": "1967-11-02",
                                    "Legelső foglalás": "2016-06-04",
                                    "Legutóbbi foglalás": "2017-02-12"
                                },
                                {
                                    "USERNEV": "JANOSG",
                                    "NEV": "Giliga János",
                                    "SZUL_DAT": "1975-01-03",
                                    "Legelső foglalás": "2016-05-09",
                                    "Legutóbbi foglalás": "2017-01-31"
                                },
                                {
                                    "USERNEV": "JANOSP",
                                    "NEV": "Pálinkás János",
                                    "SZUL_DAT": "1984-10-12",
                                    "Legelső foglalás": "2016-07-04",
                                    "Legutóbbi foglalás": "2016-12-18"
                                },
                                {
                                    "USERNEV": "jozsef",
                                    "NEV": "Gergely József",
                                    "SZUL_DAT": "1985-11-01",
                                    "Legelső foglalás": "2016-09-13",
                                    "Legutóbbi foglalás": "2016-12-06"
                                },
                                {
                                    "USERNEV": "jozsef2",
                                    "NEV": "Vajda József",
                                    "SZUL_DAT": "1978-09-04",
                                    "Legelső foglalás": "2016-07-06",
                                    "Legutóbbi foglalás": "2016-11-25"
                                },
                                {
                                    "USERNEV": "JOZSEFG",
                                    "NEV": "Gyuris József",
                                    "SZUL_DAT": "1975-05-26",
                                    "Legelső foglalás": "2016-05-02",
                                    "Legutóbbi foglalás": "2017-02-24"
                                },
                                {
                                    "USERNEV": "JUDITH",
                                    "NEV": "Hídasi Judit",
                                    "SZUL_DAT": "1997-07-12",
                                    "Legelső foglalás": "2016-06-06",
                                    "Legutóbbi foglalás": "2016-12-19"
                                },
                                {
                                    "USERNEV": "julia",
                                    "NEV": "Tóth Júlia",
                                    "SZUL_DAT": "1993-03-02",
                                    "Legelső foglalás": "2016-04-21",
                                    "Legutóbbi foglalás": "2017-02-27"
                                },
                                {
                                    "USERNEV": "julia4",
                                    "NEV": "Nagy Júlia",
                                    "SZUL_DAT": "1985-08-11",
                                    "Legelső foglalás": "2016-11-07",
                                    "Legutóbbi foglalás": "2017-02-04"
                                },
                                {
                                    "USERNEV": "julianna4",
                                    "NEV": "Szabó Julianna",
                                    "SZUL_DAT": "1990-09-29",
                                    "Legelső foglalás": "2016-07-20",
                                    "Legutóbbi foglalás": "2016-11-27"
                                },
                                {
                                    "USERNEV": "kata",
                                    "NEV": "Gondos Katalin",
                                    "SZUL_DAT": "1968-06-22",
                                    "Legelső foglalás": "2016-04-10",
                                    "Legutóbbi foglalás": "2017-01-15"
                                },
                                {
                                    "USERNEV": "katalin",
                                    "NEV": "Horváth Katalin",
                                    "SZUL_DAT": "1968-01-01",
                                    "Legelső foglalás": "2016-04-10",
                                    "Legutóbbi foglalás": "2017-02-24"
                                },
                                {
                                    "USERNEV": "katalin4",
                                    "NEV": "Kertész Katalin",
                                    "SZUL_DAT": "1986-04-13",
                                    "Legelső foglalás": "2016-07-01",
                                    "Legutóbbi foglalás": "2017-01-24"
                                },
                                {
                                    "USERNEV": "kati",
                                    "NEV": "Zatykó Katalin",
                                    "SZUL_DAT": "1995-05-01",
                                    "Legelső foglalás": "2016-06-06",
                                    "Legutóbbi foglalás": "2016-10-30"
                                },
                                {
                                    "USERNEV": "katka",
                                    "NEV": "Kovács Katalin",
                                    "SZUL_DAT": "1975-03-31",
                                    "Legelső foglalás": "2016-04-10",
                                    "Legutóbbi foglalás": "2017-01-19"
                                },
                                {
                                    "USERNEV": "klaudia2",
                                    "NEV": "Bakó Klaudia",
                                    "SZUL_DAT": "1982-04-16",
                                    "Legelső foglalás": "2016-06-06",
                                    "Legutóbbi foglalás": "2016-10-02"
                                },
                                {
                                    "USERNEV": "kornel4",
                                    "NEV": "Lukács Kornél",
                                    "SZUL_DAT": "1975-09-30",
                                    "Legelső foglalás": "2016-05-08",
                                    "Legutóbbi foglalás": "2016-09-23"
                                },
                                {
                                    "USERNEV": "kristof4",
                                    "NEV": "Poprádi Kristóf",
                                    "SZUL_DAT": "1984-01-15",
                                    "Legelső foglalás": "2016-04-08",
                                    "Legutóbbi foglalás": "2016-09-30"
                                },
                                {
                                    "USERNEV": "kriszti",
                                    "NEV": "Horváth Krisztina",
                                    "SZUL_DAT": "1978-06-12",
                                    "Legelső foglalás": "2016-05-19",
                                    "Legutóbbi foglalás": "2017-03-03"
                                },
                                {
                                    "USERNEV": "krisztian4",
                                    "NEV": "Czérna Krisztián",
                                    "SZUL_DAT": "1970-08-01",
                                    "Legelső foglalás": "2016-06-03",
                                    "Legutóbbi foglalás": "2017-02-23"
                                },
                                {
                                    "USERNEV": "KRISZTIANM",
                                    "NEV": "Mogyródi Krisztián",
                                    "SZUL_DAT": "1968-05-27",
                                    "Legelső foglalás": "2016-04-09",
                                    "Legutóbbi foglalás": "2017-01-16"
                                },
                                {
                                    "USERNEV": "krisztina",
                                    "NEV": "Szedlár Krisztina",
                                    "SZUL_DAT": "1979-05-10",
                                    "Legelső foglalás": "2016-05-21",
                                    "Legutóbbi foglalás": "2017-02-16"
                                },
                                {
                                    "USERNEV": "krisztina1",
                                    "NEV": "Bori Krisztina",
                                    "SZUL_DAT": "1969-10-13",
                                    "Legelső foglalás": "2016-04-28",
                                    "Legutóbbi foglalás": "2017-01-21"
                                },
                                {
                                    "USERNEV": "KRISZTINAG",
                                    "NEV": "Gyárfás Krisztina",
                                    "SZUL_DAT": "1987-09-19",
                                    "Legelső foglalás": "2016-04-23",
                                    "Legutóbbi foglalás": "2017-01-25"
                                },
                                {
                                    "USERNEV": "lajos",
                                    "NEV": "Kiss Lajos",
                                    "SZUL_DAT": "1978-10-31",
                                    "Legelső foglalás": "2016-07-18",
                                    "Legutóbbi foglalás": "2017-02-12"
                                },
                                {
                                    "USERNEV": "lala",
                                    "NEV": "Nagymihály Lajos",
                                    "SZUL_DAT": "1997-02-24",
                                    "Legelső foglalás": "2016-06-16",
                                    "Legutóbbi foglalás": "2017-01-17"
                                },
                                {
                                    "USERNEV": "laszlo1",
                                    "NEV": "Farkas László",
                                    "SZUL_DAT": "1967-10-30",
                                    "Legelső foglalás": "2016-09-23",
                                    "Legutóbbi foglalás": "2016-09-23"
                                },
                                {
                                    "USERNEV": "laszlo2",
                                    "NEV": "Móra László",
                                    "SZUL_DAT": "1975-02-19",
                                    "Legelső foglalás": "2016-04-06",
                                    "Legutóbbi foglalás": "2016-11-25"
                                },
                                {
                                    "USERNEV": "LASZLOA",
                                    "NEV": "Antal László",
                                    "SZUL_DAT": "1969-06-29",
                                    "Legelső foglalás": "2016-06-03",
                                    "Legutóbbi foglalás": "2017-02-08"
                                },
                                {
                                    "USERNEV": "LASZLON",
                                    "NEV": "Nagy László",
                                    "SZUL_DAT": "1969-04-12",
                                    "Legelső foglalás": "2016-06-03",
                                    "Legutóbbi foglalás": "2017-02-18"
                                },
                                {
                                    "USERNEV": "maria1",
                                    "NEV": "Baráth Mária",
                                    "SZUL_DAT": "1995-11-19",
                                    "Legelső foglalás": "2016-05-13",
                                    "Legutóbbi foglalás": "2017-02-24"
                                },
                                {
                                    "USERNEV": "mark",
                                    "NEV": "Kispál Márk",
                                    "SZUL_DAT": "1996-01-23",
                                    "Legelső foglalás": "2016-04-19",
                                    "Legutóbbi foglalás": "2016-11-19"
                                },
                                {
                                    "USERNEV": "MARKH",
                                    "NEV": "Horváth Márk",
                                    "SZUL_DAT": "1997-09-23",
                                    "Legelső foglalás": "2016-09-14",
                                    "Legutóbbi foglalás": "2017-01-22"
                                },
                                {
                                    "USERNEV": "marton",
                                    "NEV": "Kalacsi Márton",
                                    "SZUL_DAT": "1989-06-24",
                                    "Legelső foglalás": "2016-04-27",
                                    "Legutóbbi foglalás": "2017-03-02"
                                },
                                {
                                    "USERNEV": "MATEK",
                                    "NEV": "Koza Máté",
                                    "SZUL_DAT": "1997-02-28",
                                    "Legelső foglalás": "2016-08-17",
                                    "Legutóbbi foglalás": "2017-01-16"
                                },
                                {
                                    "USERNEV": "matyas2",
                                    "NEV": "Botka Mátyás",
                                    "SZUL_DAT": "1972-07-07",
                                    "Legelső foglalás": "2016-07-13",
                                    "Legutóbbi foglalás": "2016-12-09"
                                },
                                {
                                    "USERNEV": "MATYASS",
                                    "NEV": "Szilágyi Mátyás",
                                    "SZUL_DAT": "1975-03-22",
                                    "Legelső foglalás": "2016-05-10",
                                    "Legutóbbi foglalás": "2017-01-09"
                                },
                                {
                                    "USERNEV": "MIHALYJ",
                                    "NEV": "Juhász Mihály",
                                    "SZUL_DAT": "1979-10-12",
                                    "Legelső foglalás": "2016-05-30",
                                    "Legutóbbi foglalás": "2017-02-06"
                                },
                                {
                                    "USERNEV": "miklos2",
                                    "NEV": "Gondos Miklós",
                                    "SZUL_DAT": "1995-10-07",
                                    "Legelső foglalás": "2016-04-19",
                                    "Legutóbbi foglalás": "2016-11-16"
                                },
                                {
                                    "USERNEV": "MIKLOSB",
                                    "NEV": "Balla Miklós",
                                    "SZUL_DAT": "1979-02-16",
                                    "Legelső foglalás": "2016-06-26",
                                    "Legutóbbi foglalás": "2016-12-05"
                                },
                                {
                                    "USERNEV": "MONIKAM",
                                    "NEV": "Mohos Mónika",
                                    "SZUL_DAT": "1974-10-01",
                                    "Legelső foglalás": "2016-04-29",
                                    "Legutóbbi foglalás": "2017-02-23"
                                },
                                {
                                    "USERNEV": "NANDORF",
                                    "NEV": "Fő Nándor",
                                    "SZUL_DAT": "1968-11-12",
                                    "Legelső foglalás": "2016-04-06",
                                    "Legutóbbi foglalás": "2017-02-05"
                                },
                                {
                                    "USERNEV": "nikolett3",
                                    "NEV": "Horváth Nikolett",
                                    "SZUL_DAT": "1981-09-29",
                                    "Legelső foglalás": "2016-05-24",
                                    "Legutóbbi foglalás": "2016-10-22"
                                },
                                {
                                    "USERNEV": "nikoletta4",
                                    "NEV": "Kő Nikoletta",
                                    "SZUL_DAT": "1972-01-10",
                                    "Legelső foglalás": "2016-04-08",
                                    "Legutóbbi foglalás": "2017-02-01"
                                },
                                {
                                    "USERNEV": "NIKOLETTAT",
                                    "NEV": "Tatár Nikoletta",
                                    "SZUL_DAT": "1997-10-19",
                                    "Legelső foglalás": "2016-05-22",
                                    "Legutóbbi foglalás": "2016-09-21"
                                },
                                {
                                    "USERNEV": "norbert",
                                    "NEV": "Szűcs Norbert",
                                    "SZUL_DAT": "1969-07-17",
                                    "Legelső foglalás": "2016-07-08",
                                    "Legutóbbi foglalás": "2017-02-26"
                                },
                                {
                                    "USERNEV": "norbert2",
                                    "NEV": "Hegedűs Norbert",
                                    "SZUL_DAT": "1991-07-17",
                                    "Legelső foglalás": "2016-04-19",
                                    "Legutóbbi foglalás": "2017-01-29"
                                },
                                {
                                    "USERNEV": "norbert4",
                                    "NEV": "Mile Norbert",
                                    "SZUL_DAT": "1983-06-15",
                                    "Legelső foglalás": "2016-04-10",
                                    "Legutóbbi foglalás": "2017-03-03"
                                },
                                {
                                    "USERNEV": "norbert5",
                                    "NEV": "Béres Norbert",
                                    "SZUL_DAT": "1975-07-27",
                                    "Legelső foglalás": "2016-06-24",
                                    "Legutóbbi foglalás": "2016-11-05"
                                },
                                {
                                    "USERNEV": "pal",
                                    "NEV": "Barabás Pál",
                                    "SZUL_DAT": "1968-02-06",
                                    "Legelső foglalás": "2016-08-14",
                                    "Legutóbbi foglalás": "2017-02-20"
                                },
                                {
                                    "USERNEV": "peter1",
                                    "NEV": "Kozma Péter",
                                    "SZUL_DAT": "1976-03-18",
                                    "Legelső foglalás": "2016-07-14",
                                    "Legutóbbi foglalás": "2017-02-28"
                                },
                                {
                                    "USERNEV": "peter2",
                                    "NEV": "Bozsó Péter",
                                    "SZUL_DAT": "1976-01-26",
                                    "Legelső foglalás": "2016-07-03",
                                    "Legutóbbi foglalás": "2016-11-15"
                                },
                                {
                                    "USERNEV": "peter3",
                                    "NEV": "Szalai Péter",
                                    "SZUL_DAT": "1983-07-18",
                                    "Legelső foglalás": "2016-06-30",
                                    "Legutóbbi foglalás": "2017-02-21"
                                },
                                {
                                    "USERNEV": "peter4",
                                    "NEV": "Bíró Péter",
                                    "SZUL_DAT": "1985-09-01",
                                    "Legelső foglalás": "2016-04-12",
                                    "Legutóbbi foglalás": "2017-02-05"
                                },
                                {
                                    "USERNEV": "PETERB",
                                    "NEV": "Berendi Péter",
                                    "SZUL_DAT": "1969-01-01",
                                    "Legelső foglalás": "2016-04-06",
                                    "Legutóbbi foglalás": "2016-11-17"
                                },
                                {
                                    "USERNEV": "polla",
                                    "NEV": "Palágyi Polla",
                                    "SZUL_DAT": "1994-02-04",
                                    "Legelső foglalás": "2016-04-17",
                                    "Legutóbbi foglalás": "2017-02-11"
                                },
                                {
                                    "USERNEV": "rajmond4",
                                    "NEV": "Rácz Rajmond",
                                    "SZUL_DAT": "1993-09-25",
                                    "Legelső foglalás": "2016-09-05",
                                    "Legutóbbi foglalás": "2016-11-16"
                                },
                                {
                                    "USERNEV": "reka4",
                                    "NEV": "Szikszai Réka",
                                    "SZUL_DAT": "1969-11-27",
                                    "Legelső foglalás": "2016-07-27",
                                    "Legutóbbi foglalás": "2017-02-26"
                                },
                                {
                                    "USERNEV": "RENATAK",
                                    "NEV": "Kardos Renáta",
                                    "SZUL_DAT": "1988-05-17",
                                    "Legelső foglalás": "2016-10-27",
                                    "Legutóbbi foglalás": "2017-03-01"
                                },
                                {
                                    "USERNEV": "RENATAS",
                                    "NEV": "Szirmai Renáta",
                                    "SZUL_DAT": "1991-03-26",
                                    "Legelső foglalás": "2016-05-04",
                                    "Legutóbbi foglalás": "2017-02-14"
                                },
                                {
                                    "USERNEV": "robert2",
                                    "NEV": "Patay Róbert",
                                    "SZUL_DAT": "1977-01-08",
                                    "Legelső foglalás": "2016-05-15",
                                    "Legutóbbi foglalás": "2016-12-17"
                                },
                                {
                                    "USERNEV": "ROBERTI",
                                    "NEV": "Iván Róbert",
                                    "SZUL_DAT": "1967-07-02",
                                    "Legelső foglalás": "2016-07-12",
                                    "Legutóbbi foglalás": "2017-02-17"
                                },
                                {
                                    "USERNEV": "ROBERTP",
                                    "NEV": "Pásztor Róbert",
                                    "SZUL_DAT": "1972-05-16",
                                    "Legelső foglalás": "2016-07-30",
                                    "Legutóbbi foglalás": "2016-09-08"
                                },
                                {
                                    "USERNEV": "roland",
                                    "NEV": "Tóth Roland",
                                    "SZUL_DAT": "1968-03-21",
                                    "Legelső foglalás": "2016-06-09",
                                    "Legutóbbi foglalás": "2016-11-19"
                                },
                                {
                                    "USERNEV": "roland1",
                                    "NEV": "Ferencz Roland",
                                    "SZUL_DAT": "1985-12-31",
                                    "Legelső foglalás": "2016-11-05",
                                    "Legutóbbi foglalás": "2017-01-16"
                                },
                                {
                                    "USERNEV": "roza2",
                                    "NEV": "Bucskó Róza",
                                    "SZUL_DAT": "1988-12-26",
                                    "Legelső foglalás": "2016-09-10",
                                    "Legutóbbi foglalás": "2017-02-18"
                                },
                                {
                                    "USERNEV": "sandor",
                                    "NEV": "Karasz Sándor",
                                    "SZUL_DAT": "1970-01-27",
                                    "Legelső foglalás": "2016-07-04",
                                    "Legutóbbi foglalás": "2016-09-19"
                                },
                                {
                                    "USERNEV": "sandor3",
                                    "NEV": "Farkas Sándor",
                                    "SZUL_DAT": "1989-01-27",
                                    "Legelső foglalás": "2016-05-12",
                                    "Legutóbbi foglalás": "2016-11-10"
                                },
                                {
                                    "USERNEV": "sandor4",
                                    "NEV": "Nagy Sándor",
                                    "SZUL_DAT": "1997-06-11",
                                    "Legelső foglalás": "2016-10-15",
                                    "Legutóbbi foglalás": "2017-01-22"
                                },
                                {
                                    "USERNEV": "sara",
                                    "NEV": "Farkas Sára",
                                    "SZUL_DAT": "1973-04-05",
                                    "Legelső foglalás": "2016-05-28",
                                    "Legutóbbi foglalás": "2016-12-25"
                                },
                                {
                                    "USERNEV": "SEBASTIANF",
                                    "NEV": "Foltényi Sebastián",
                                    "SZUL_DAT": "1992-09-09",
                                    "Legelső foglalás": "2016-04-06",
                                    "Legutóbbi foglalás": "2016-09-17"
                                },
                                {
                                    "USERNEV": "sebestyen",
                                    "NEV": "Rab Sebestyén",
                                    "SZUL_DAT": "1992-03-03",
                                    "Legelső foglalás": "2016-04-07",
                                    "Legutóbbi foglalás": "2016-10-26"
                                },
                                {
                                    "USERNEV": "szabolcs",
                                    "NEV": "Bodor Szabolcs",
                                    "SZUL_DAT": "1990-07-16",
                                    "Legelső foglalás": "2016-12-05",
                                    "Legutóbbi foglalás": "2016-12-05"
                                },
                                {
                                    "USERNEV": "SZABOLCSM",
                                    "NEV": "Miklós Szabolcs",
                                    "SZUL_DAT": "1980-08-11",
                                    "Legelső foglalás": "2016-06-18",
                                    "Legutóbbi foglalás": "2017-02-04"
                                },
                                {
                                    "USERNEV": "SZILARDS",
                                    "NEV": "Szalai Szilárd",
                                    "SZUL_DAT": "1967-09-28",
                                    "Legelső foglalás": "2016-04-23",
                                    "Legutóbbi foglalás": "2017-02-08"
                                },
                                {
                                    "USERNEV": "szilvia1",
                                    "NEV": "Tari Szilvia",
                                    "SZUL_DAT": "1971-03-09",
                                    "Legelső foglalás": "2016-05-14",
                                    "Legutóbbi foglalás": "2017-01-28"
                                },
                                {
                                    "USERNEV": "tamara2",
                                    "NEV": "Miklós Tamara",
                                    "SZUL_DAT": "1980-08-11",
                                    "Legelső foglalás": "2016-08-12",
                                    "Legutóbbi foglalás": "2016-11-15"
                                },
                                {
                                    "USERNEV": "tamas",
                                    "NEV": "Antal Tamás",
                                    "SZUL_DAT": "1984-09-05",
                                    "Legelső foglalás": "2016-05-17",
                                    "Legutóbbi foglalás": "2017-02-14"
                                },
                                {
                                    "USERNEV": "TAMASF",
                                    "NEV": "Fényes Tamás",
                                    "SZUL_DAT": "1997-11-06",
                                    "Legelső foglalás": "2016-05-03",
                                    "Legutóbbi foglalás": "2017-02-16"
                                },
                                {
                                    "USERNEV": "tibor",
                                    "NEV": "Gombos Tibor",
                                    "SZUL_DAT": "1993-11-28",
                                    "Legelső foglalás": "2016-10-09",
                                    "Legutóbbi foglalás": "2016-11-05"
                                },
                                {
                                    "USERNEV": "tibor2",
                                    "NEV": "Dániel Tibor",
                                    "SZUL_DAT": "1985-02-02",
                                    "Legelső foglalás": "2016-10-20",
                                    "Legutóbbi foglalás": "2016-10-20"
                                },
                                {
                                    "USERNEV": "tihamer",
                                    "NEV": "Kazy Tihamér",
                                    "SZUL_DAT": "1991-07-05",
                                    "Legelső foglalás": "2016-05-30",
                                    "Legutóbbi foglalás": "2016-12-25"
                                },
                                {
                                    "USERNEV": "timea",
                                    "NEV": "Papós Tímea",
                                    "SZUL_DAT": "1996-01-08",
                                    "Legelső foglalás": "2016-12-26",
                                    "Legutóbbi foglalás": "2016-12-26"
                                },
                                {
                                    "USERNEV": "timea2",
                                    "NEV": "Dusha Tímea",
                                    "SZUL_DAT": "1975-08-22",
                                    "Legelső foglalás": "2016-06-06",
                                    "Legutóbbi foglalás": "2016-12-14"
                                },
                                {
                                    "USERNEV": "tunde",
                                    "NEV": "Turcsik Tünde",
                                    "SZUL_DAT": "1974-02-12",
                                    "Legelső foglalás": "2016-06-03",
                                    "Legutóbbi foglalás": "2017-01-03"
                                },
                                {
                                    "USERNEV": "valentin",
                                    "NEV": "Feró Valentin",
                                    "SZUL_DAT": "1986-01-09",
                                    "Legelső foglalás": "2016-05-24",
                                    "Legutóbbi foglalás": "2016-12-01"
                                },
                                {
                                    "USERNEV": "veronika4",
                                    "NEV": "Tankó Veronika",
                                    "SZUL_DAT": "1983-08-28",
                                    "Legelső foglalás": "2016-05-30",
                                    "Legutóbbi foglalás": "2017-02-03"
                                },
                                {
                                    "USERNEV": "VIKTORIAU",
                                    "NEV": "Urbán Viktoria",
                                    "SZUL_DAT": "1996-05-03",
                                    "Legelső foglalás": "2016-04-30",
                                    "Legutóbbi foglalás": "2016-10-26"
                                },
                                {
                                    "USERNEV": "VIKTORK",
                                    "NEV": "Keresztúri Viktor",
                                    "SZUL_DAT": "1989-05-05",
                                    "Legelső foglalás": "2016-05-30",
                                    "Legutóbbi foglalás": "2016-06-06"
                                },
                                {
                                    "USERNEV": "vivien3",
                                    "NEV": "Boros Vivien",
                                    "SZUL_DAT": "1991-07-01",
                                    "Legelső foglalás": "2016-05-02",
                                    "Legutóbbi foglalás": "2016-12-24"
                                },
                                {
                                    "USERNEV": "zoltan",
                                    "NEV": "Fodor Zoltán",
                                    "SZUL_DAT": "1979-11-25",
                                    "Legelső foglalás": "2016-08-24",
                                    "Legutóbbi foglalás": "2016-09-05"
                                },
                                {
                                    "USERNEV": "zoltan4",
                                    "NEV": "Barna Zoltán",
                                    "SZUL_DAT": "1986-05-20",
                                    "Legelső foglalás": "2016-05-12",
                                    "Legutóbbi foglalás": "2017-01-01"
                                },
                                {
                                    "USERNEV": "ZOLTANP",
                                    "NEV": "Pintér Zoltán",
                                    "SZUL_DAT": "1977-06-07",
                                    "Legelső foglalás": "2016-06-05",
                                    "Legutóbbi foglalás": "2016-12-25"
                                },
                                {
                                    "USERNEV": "ZOLTANT",
                                    "NEV": "Tóth Zoltán",
                                    "SZUL_DAT": "1985-12-14",
                                    "Legelső foglalás": "2016-05-01",
                                    "Legutóbbi foglalás": "2017-01-16"
                                },
                                {
                                    "USERNEV": "zsofi1",
                                    "NEV": "Molnár Zsófi",
                                    "SZUL_DAT": "1983-11-17",
                                    "Legelső foglalás": "2016-06-16",
                                    "Legutóbbi foglalás": "2017-02-18"
                                },
                                {
                                    "USERNEV": "zsolt1",
                                    "NEV": "Pulai Zsolt",
                                    "SZUL_DAT": "1988-05-27",
                                    "Legelső foglalás": "2016-04-14",
                                    "Legutóbbi foglalás": "2016-07-31"
                                },
                                {
                                    "USERNEV": "ZSOLTJ",
                                    "NEV": "Józsa Zsolt",
                                    "SZUL_DAT": "1983-09-29",
                                    "Legelső foglalás": "2016-04-24",
                                    "Legutóbbi foglalás": "2016-10-01"
                                },
                                {
                                    "USERNEV": "zsuzsa",
                                    "NEV": "Pusztai Zsuzsanna",
                                    "SZUL_DAT": "1980-09-17",
                                    "Legelső foglalás": "2016-07-24",
                                    "Legutóbbi foglalás": "2016-11-28"
                                },
                                {
                                    "USERNEV": "zsuzsa3",
                                    "NEV": "Varsányi Zsuzsa",
                                    "SZUL_DAT": "1979-03-06",
                                    "Legelső foglalás": "2016-07-30",
                                    "Legutóbbi foglalás": "2016-10-27"
                                },
                                {
                                    "USERNEV": "zsuzsanna",
                                    "NEV": "Barta Zsuzsanna",
                                    "SZUL_DAT": "1994-10-07",
                                    "Legelső foglalás": "2016-05-17",
                                    "Legutóbbi foglalás": "2017-01-16"
                                },
                                {
                                    "USERNEV": "ZSUZSAV",
                                    "NEV": "Vajda Zsuzsa",
                                    "SZUL_DAT": "1976-12-11",
                                    "Legelső foglalás": "2016-04-14",
                                    "Legutóbbi foglalás": "2016-11-21"
                                }
                            ]
                        },
                        "text/html": [
                            "<table>",
                            "<tr><th>USERNEV</th><th>NEV</th><th>SZUL_DAT</th><th>Legelső foglalás</th><th>Legutóbbi foglalás</th></tr>",
                            "<tr><td>adam1</td><td>Kiss Ádám</td><td>1991-12-28</td><td>2016-05-28</td><td>2016-10-19</td></tr>",
                            "<tr><td>adam3</td><td>Barkóci Ádám</td><td>1970-06-07</td><td>2016-09-12</td><td>2017-02-06</td></tr>",
                            "<tr><td>adam4</td><td>Bieniek Ádám</td><td>1976-08-01</td><td>2016-08-28</td><td>2017-02-23</td></tr>",
                            "<tr><td>agnes</td><td>Lengyel Ágnes</td><td>1979-12-10</td><td>2016-05-09</td><td>2016-11-07</td></tr>",
                            "<tr><td>agnes3</td><td>Hartyánszky Ágnes</td><td>1967-04-11</td><td>2016-08-04</td><td>2017-02-16</td></tr>",
                            "<tr><td>AGNESH</td><td>Horváth Ágnes</td><td>1981-12-24</td><td>2016-04-10</td><td>2017-01-16</td></tr>",
                            "<tr><td>AGNESK</td><td>Kovács Ágnes</td><td>1988-10-02</td><td>2016-07-29</td><td>2016-12-17</td></tr>",
                            "<tr><td>akos</td><td>Bíró Ákos</td><td>1982-04-24</td><td>2016-05-18</td><td>2016-12-29</td></tr>",
                            "<tr><td>aladar</td><td>Dunai Aladár</td><td>1980-11-01</td><td>2016-05-17</td><td>2016-11-22</td></tr>",
                            "<tr><td>alexandra</td><td>Bagóczki Alexandra</td><td>1992-03-25</td><td>2016-05-21</td><td>2017-01-19</td></tr>",
                            "<tr><td>andi</td><td>Maródi Andrea</td><td>1968-05-07</td><td>2016-05-08</td><td>2017-01-13</td></tr>",
                            "<tr><td>andras2</td><td>Tóth András</td><td>1997-10-31</td><td>2016-05-30</td><td>2017-02-08</td></tr>",
                            "<tr><td>andras21</td><td>Molnár András</td><td>1977-11-16</td><td>2016-06-21</td><td>2017-01-28</td></tr>",
                            "<tr><td>andras3</td><td>Vígh András</td><td>1971-04-02</td><td>2016-05-01</td><td>2017-02-02</td></tr>",
                            "<tr><td>andras4</td><td>Back András</td><td>1984-04-07</td><td>2016-09-17</td><td>2017-01-09</td></tr>",
                            "<tr><td>andras41</td><td>Komjáti András</td><td>1997-10-25</td><td>2016-05-14</td><td>2016-11-23</td></tr>",
                            "<tr><td>ANDRASE</td><td>Erdei András</td><td>1997-05-29</td><td>2016-04-24</td><td>2016-11-29</td></tr>",
                            "<tr><td>ANDRASN</td><td>Nagy András</td><td>1980-09-05</td><td>2016-11-25</td><td>2016-11-25</td></tr>",
                            "<tr><td>andrea</td><td>Kiss Andrea</td><td>1993-03-25</td><td>2016-07-27</td><td>2017-02-09</td></tr>",
                            "<tr><td>andrea3</td><td>Szomor Andrea</td><td>1996-05-10</td><td>2016-11-19</td><td>2016-11-19</td></tr>",
                            "<tr><td>andrea4</td><td>Neizer Andrea</td><td>1981-05-17</td><td>2016-05-27</td><td>2017-01-22</td></tr>",
                            "<tr><td>ANDREAT</td><td>Tornyos Andrea</td><td>1986-11-14</td><td>2016-07-27</td><td>2016-10-08</td></tr>",
                            "<tr><td>anett3</td><td>Pivarcsi Anett</td><td>1967-01-03</td><td>2016-04-10</td><td>2016-10-16</td></tr>",
                            "<tr><td>aniko</td><td>Tóth Anikó</td><td>1973-06-03</td><td>2016-06-25</td><td>2017-02-23</td></tr>",
                            "<tr><td>aniko4</td><td>Böröcz Anikó</td><td>1978-03-26</td><td>2016-07-02</td><td>2016-10-16</td></tr>",
                            "<tr><td>ANIKOS</td><td>Simon Anikó</td><td>1988-12-14</td><td>2016-04-19</td><td>2016-11-10</td></tr>",
                            "<tr><td>anita</td><td>Hamvay-Kovács Anita</td><td>1971-03-20</td><td>2016-09-28</td><td>2017-02-20</td></tr>",
                            "<tr><td>annamaria1</td><td>Szűcs Annamária</td><td>1990-04-27</td><td>2016-06-06</td><td>2017-01-30</td></tr>",
                            "<tr><td>ANNAMARIAR</td><td>Regős Annamária</td><td>1977-09-26</td><td>2016-06-08</td><td>2017-02-16</td></tr>",
                            "<tr><td>aron2</td><td>Jakab Áron</td><td>1971-04-26</td><td>2016-04-11</td><td>2017-02-26</td></tr>",
                            "<tr><td>ARONK</td><td>Kelemen Áron</td><td>1989-08-10</td><td>2016-04-06</td><td>2017-02-21</td></tr>",
                            "<tr><td>arpad2</td><td>Ötvös Árpád</td><td>1990-06-08</td><td>2016-06-05</td><td>2017-02-18</td></tr>",
                            "<tr><td>ARPADH</td><td>Horváth Árpád</td><td>1990-05-18</td><td>2016-06-06</td><td>2017-02-16</td></tr>",
                            "<tr><td>ARPADM</td><td>Móricz Árpád</td><td>1986-04-20</td><td>2016-05-29</td><td>2017-02-12</td></tr>",
                            "<tr><td>attila</td><td>Csóti Attila</td><td>1979-12-25</td><td>2016-09-30</td><td>2016-12-22</td></tr>",
                            "<tr><td>attila1</td><td>Gulyás Attila</td><td>1982-08-16</td><td>2016-05-20</td><td>2017-01-23</td></tr>",
                            "<tr><td>attila4</td><td>Baróti Attila</td><td>1975-11-06</td><td>2016-08-18</td><td>2017-02-15</td></tr>",
                            "<tr><td>ATTILAO</td><td>Opra Attila</td><td>1995-05-08</td><td>2016-05-21</td><td>2017-02-22</td></tr>",
                            "<tr><td>balazs1</td><td>Bozsik Balázs</td><td>1992-11-03</td><td>2016-05-07</td><td>2017-02-12</td></tr>",
                            "<tr><td>balazs2</td><td>Szűcs Balázs</td><td>1984-10-31</td><td>2016-04-16</td><td>2017-02-27</td></tr>",
                            "<tr><td>balazs3</td><td>Bakódy Balázs</td><td>1986-09-09</td><td>2016-07-17</td><td>2017-01-20</td></tr>",
                            "<tr><td>balint</td><td>Horváth Bálint</td><td>1996-03-17</td><td>2016-04-22</td><td>2016-11-24</td></tr>",
                            "<tr><td>balint1</td><td>Molnár Bálint</td><td>1989-08-24</td><td>2016-06-07</td><td>2017-01-03</td></tr>",
                            "<tr><td>balint2</td><td>Vukasinovity Bálint</td><td>1997-09-03</td><td>2016-07-21</td><td>2016-12-04</td></tr>",
                            "<tr><td>balu</td><td>Endresz Bálint</td><td>1976-08-01</td><td>2016-08-06</td><td>2016-12-22</td></tr>",
                            "<tr><td>beata4</td><td>Bagi Beáta</td><td>1994-03-19</td><td>2016-04-20</td><td>2016-10-03</td></tr>",
                            "<tr><td>BEATRIXK</td><td>Kerényi Beatrix</td><td>1972-04-06</td><td>2016-06-10</td><td>2017-02-08</td></tr>",
                            "<tr><td>BEATRIXS</td><td>Szekendi Beatrix</td><td>1981-04-06</td><td>2016-04-18</td><td>2017-02-03</td></tr>",
                            "<tr><td>BELAF</td><td>Farkas Béla</td><td>1995-02-24</td><td>2016-07-27</td><td>2016-12-06</td></tr>",
                            "<tr><td>bence</td><td>Győrffy Bence</td><td>1987-07-09</td><td>2016-05-08</td><td>2017-02-05</td></tr>",
                            "<tr><td>BENCEB</td><td>Bajusz Bence</td><td>1973-06-21</td><td>2016-05-14</td><td>2017-02-12</td></tr>",
                            "<tr><td>bernadett1</td><td>Simon Bernadett</td><td>1984-10-13</td><td>2016-06-12</td><td>2017-02-24</td></tr>",
                            "<tr><td>bernadett2</td><td>Kovács Bernadett</td><td>1996-08-20</td><td>2016-05-01</td><td>2017-01-24</td></tr>",
                            "<tr><td>BERNADETTO</td><td>Orbán Bernadett</td><td>1987-12-07</td><td>2016-04-10</td><td>2017-01-28</td></tr>",
                            "<tr><td>bertalan</td><td>Csiger Bertalan</td><td>1977-10-15</td><td>2016-05-18</td><td>2017-02-20</td></tr>",
                            "<tr><td>brigitta</td><td>Székely Brigitta</td><td>1978-09-13</td><td>2016-05-30</td><td>2017-01-23</td></tr>",
                            "<tr><td>brigitta3</td><td>Pataki Brigitta</td><td>1991-05-23</td><td>2016-06-01</td><td>2017-02-09</td></tr>",
                            "<tr><td>csongor3</td><td>Nagymihály Csongor</td><td>1984-03-05</td><td>2016-05-01</td><td>2017-02-13</td></tr>",
                            "<tr><td>dani</td><td>Vörös Dániel</td><td>1986-10-14</td><td>2016-06-06</td><td>2017-02-25</td></tr>",
                            "<tr><td>daniel</td><td>Rácz Dániel</td><td>1978-11-28</td><td>2016-04-10</td><td>2017-02-20</td></tr>",
                            "<tr><td>daniel1</td><td>Keszler Dániel</td><td>1969-07-16</td><td>2016-04-10</td><td>2017-03-01</td></tr>",
                            "<tr><td>david</td><td>Ambrus Dávid</td><td>1974-02-11</td><td>2016-05-18</td><td>2017-01-18</td></tr>",
                            "<tr><td>david1</td><td>Sobják Dávid</td><td>1970-08-16</td><td>2016-09-20</td><td>2017-02-25</td></tr>",
                            "<tr><td>david4</td><td>Berta Dávid</td><td>1990-10-08</td><td>2017-02-16</td><td>2017-02-16</td></tr>",
                            "<tr><td>debora</td><td>Barna Debóra</td><td>1976-10-14</td><td>2016-06-22</td><td>2017-02-04</td></tr>",
                            "<tr><td>denes</td><td>Tömböly Dénes</td><td>1975-03-14</td><td>2016-05-27</td><td>2016-11-06</td></tr>",
                            "<tr><td>dora3</td><td>Sarodi Dóra</td><td>1995-05-18</td><td>2016-08-16</td><td>2016-11-22</td></tr>",
                            "<tr><td>edit</td><td>Bittmann Edit</td><td>1984-04-20</td><td>2016-07-14</td><td>2017-02-08</td></tr>",
                            "<tr><td>emese</td><td>Kuruc Emese</td><td>1989-08-10</td><td>2016-07-22</td><td>2017-01-30</td></tr>",
                            "<tr><td>eszter</td><td>Molnár Eszter</td><td>1987-05-10</td><td>2016-08-12</td><td>2016-12-23</td></tr>",
                            "<tr><td>eszter2</td><td>Balogh Eszter</td><td>1998-01-31</td><td>2016-06-30</td><td>2016-12-29</td></tr>",
                            "<tr><td>eszter4</td><td>Fülöp Eszter</td><td>1993-06-28</td><td>2017-01-05</td><td>2017-02-26</td></tr>",
                            "<tr><td>ESZTERE</td><td>Érsek Eszter</td><td>1978-08-28</td><td>2016-05-30</td><td>2017-02-10</td></tr>",
                            "<tr><td>eva</td><td>Enyedi Éva</td><td>1967-06-30</td><td>2016-10-06</td><td>2017-01-14</td></tr>",
                            "<tr><td>eva2</td><td>Perlinger Éva</td><td>1971-08-19</td><td>2016-09-02</td><td>2017-01-06</td></tr>",
                            "<tr><td>EVAV</td><td>Viktor Éva</td><td>1980-12-26</td><td>2016-05-01</td><td>2017-02-04</td></tr>",
                            "<tr><td>ferenc1</td><td>Orosz Ferenc</td><td>1983-10-08</td><td>2016-05-08</td><td>2016-11-07</td></tr>",
                            "<tr><td>fruzsina4</td><td>Frank Fruzsina</td><td>1996-08-16</td><td>2016-06-02</td><td>2017-01-22</td></tr>",
                            "<tr><td>gabor1</td><td>Köves Gábor</td><td>1973-07-15</td><td>2016-06-20</td><td>2016-11-19</td></tr>",
                            "<tr><td>gabor4</td><td>Telek Gábor</td><td>1987-03-15</td><td>2016-04-26</td><td>2016-11-07</td></tr>",
                            "<tr><td>gabriella1</td><td>Nagy Gabriella</td><td>1982-11-01</td><td>2016-04-21</td><td>2017-02-21</td></tr>",
                            "<tr><td>gabriella10</td><td>Vida Gabriella</td><td>1969-06-18</td><td>2016-10-01</td><td>2016-10-01</td></tr>",
                            "<tr><td>georgij</td><td>Nyíri Georgij</td><td>1983-02-23</td><td>2016-06-16</td><td>2016-09-18</td></tr>",
                            "<tr><td>gusztav</td><td>Bárci Gusztáv</td><td>1967-02-25</td><td>2016-05-06</td><td>2017-02-23</td></tr>",
                            "<tr><td>GYONGYIK</td><td>Kornseé Gyöngyi</td><td>1974-06-07</td><td>2016-06-02</td><td>2017-01-22</td></tr>",
                            "<tr><td>GYORGYO</td><td>Oroszi György</td><td>1980-03-23</td><td>2016-05-27</td><td>2017-02-24</td></tr>",
                            "<tr><td>henrik3</td><td>Nádudvari Henrik</td><td>1986-12-05</td><td>2016-08-24</td><td>2017-01-27</td></tr>",
                            "<tr><td>IBOLYAA</td><td>Andor Ibolya</td><td>1983-11-27</td><td>2016-08-29</td><td>2017-01-17</td></tr>",
                            "<tr><td>ilona3</td><td>Bosnyák Ilona</td><td>1990-08-06</td><td>2016-07-31</td><td>2016-12-25</td></tr>",
                            "<tr><td>imre</td><td>Búza Imre</td><td>1988-09-30</td><td>2016-09-17</td><td>2016-10-28</td></tr>",
                            "<tr><td>imre1</td><td>Papp Imre</td><td>1976-06-25</td><td>2016-06-23</td><td>2017-02-05</td></tr>",
                            "<tr><td>istvan</td><td>Soós István</td><td>1986-06-28</td><td>2016-10-07</td><td>2017-01-02</td></tr>",
                            "<tr><td>istvan1</td><td>Vizi István</td><td>1997-12-01</td><td>2016-04-16</td><td>2017-02-07</td></tr>",
                            "<tr><td>ISTVANV</td><td>Varga István</td><td>1989-04-09</td><td>2016-07-01</td><td>2016-09-29</td></tr>",
                            "<tr><td>janos3</td><td>Harangozó János</td><td>1967-11-02</td><td>2016-06-04</td><td>2017-02-12</td></tr>",
                            "<tr><td>JANOSG</td><td>Giliga János</td><td>1975-01-03</td><td>2016-05-09</td><td>2017-01-31</td></tr>",
                            "<tr><td>JANOSP</td><td>Pálinkás János</td><td>1984-10-12</td><td>2016-07-04</td><td>2016-12-18</td></tr>",
                            "<tr><td>jozsef</td><td>Gergely József</td><td>1985-11-01</td><td>2016-09-13</td><td>2016-12-06</td></tr>",
                            "<tr><td>jozsef2</td><td>Vajda József</td><td>1978-09-04</td><td>2016-07-06</td><td>2016-11-25</td></tr>",
                            "<tr><td>JOZSEFG</td><td>Gyuris József</td><td>1975-05-26</td><td>2016-05-02</td><td>2017-02-24</td></tr>",
                            "<tr><td>JUDITH</td><td>Hídasi Judit</td><td>1997-07-12</td><td>2016-06-06</td><td>2016-12-19</td></tr>",
                            "<tr><td>julia</td><td>Tóth Júlia</td><td>1993-03-02</td><td>2016-04-21</td><td>2017-02-27</td></tr>",
                            "<tr><td>julia4</td><td>Nagy Júlia</td><td>1985-08-11</td><td>2016-11-07</td><td>2017-02-04</td></tr>",
                            "<tr><td>julianna4</td><td>Szabó Julianna</td><td>1990-09-29</td><td>2016-07-20</td><td>2016-11-27</td></tr>",
                            "<tr><td>kata</td><td>Gondos Katalin</td><td>1968-06-22</td><td>2016-04-10</td><td>2017-01-15</td></tr>",
                            "<tr><td>katalin</td><td>Horváth Katalin</td><td>1968-01-01</td><td>2016-04-10</td><td>2017-02-24</td></tr>",
                            "<tr><td>katalin4</td><td>Kertész Katalin</td><td>1986-04-13</td><td>2016-07-01</td><td>2017-01-24</td></tr>",
                            "<tr><td>kati</td><td>Zatykó Katalin</td><td>1995-05-01</td><td>2016-06-06</td><td>2016-10-30</td></tr>",
                            "<tr><td>katka</td><td>Kovács Katalin</td><td>1975-03-31</td><td>2016-04-10</td><td>2017-01-19</td></tr>",
                            "<tr><td>klaudia2</td><td>Bakó Klaudia</td><td>1982-04-16</td><td>2016-06-06</td><td>2016-10-02</td></tr>",
                            "<tr><td>kornel4</td><td>Lukács Kornél</td><td>1975-09-30</td><td>2016-05-08</td><td>2016-09-23</td></tr>",
                            "<tr><td>kristof4</td><td>Poprádi Kristóf</td><td>1984-01-15</td><td>2016-04-08</td><td>2016-09-30</td></tr>",
                            "<tr><td>kriszti</td><td>Horváth Krisztina</td><td>1978-06-12</td><td>2016-05-19</td><td>2017-03-03</td></tr>",
                            "<tr><td>krisztian4</td><td>Czérna Krisztián</td><td>1970-08-01</td><td>2016-06-03</td><td>2017-02-23</td></tr>",
                            "<tr><td>KRISZTIANM</td><td>Mogyródi Krisztián</td><td>1968-05-27</td><td>2016-04-09</td><td>2017-01-16</td></tr>",
                            "<tr><td>krisztina</td><td>Szedlár Krisztina</td><td>1979-05-10</td><td>2016-05-21</td><td>2017-02-16</td></tr>",
                            "<tr><td>krisztina1</td><td>Bori Krisztina</td><td>1969-10-13</td><td>2016-04-28</td><td>2017-01-21</td></tr>",
                            "<tr><td>KRISZTINAG</td><td>Gyárfás Krisztina</td><td>1987-09-19</td><td>2016-04-23</td><td>2017-01-25</td></tr>",
                            "<tr><td>lajos</td><td>Kiss Lajos</td><td>1978-10-31</td><td>2016-07-18</td><td>2017-02-12</td></tr>",
                            "<tr><td>lala</td><td>Nagymihály Lajos</td><td>1997-02-24</td><td>2016-06-16</td><td>2017-01-17</td></tr>",
                            "<tr><td>laszlo1</td><td>Farkas László</td><td>1967-10-30</td><td>2016-09-23</td><td>2016-09-23</td></tr>",
                            "<tr><td>laszlo2</td><td>Móra László</td><td>1975-02-19</td><td>2016-04-06</td><td>2016-11-25</td></tr>",
                            "<tr><td>LASZLOA</td><td>Antal László</td><td>1969-06-29</td><td>2016-06-03</td><td>2017-02-08</td></tr>",
                            "<tr><td>LASZLON</td><td>Nagy László</td><td>1969-04-12</td><td>2016-06-03</td><td>2017-02-18</td></tr>",
                            "<tr><td>maria1</td><td>Baráth Mária</td><td>1995-11-19</td><td>2016-05-13</td><td>2017-02-24</td></tr>",
                            "<tr><td>mark</td><td>Kispál Márk</td><td>1996-01-23</td><td>2016-04-19</td><td>2016-11-19</td></tr>",
                            "<tr><td>MARKH</td><td>Horváth Márk</td><td>1997-09-23</td><td>2016-09-14</td><td>2017-01-22</td></tr>",
                            "<tr><td>marton</td><td>Kalacsi Márton</td><td>1989-06-24</td><td>2016-04-27</td><td>2017-03-02</td></tr>",
                            "<tr><td>MATEK</td><td>Koza Máté</td><td>1997-02-28</td><td>2016-08-17</td><td>2017-01-16</td></tr>",
                            "<tr><td>matyas2</td><td>Botka Mátyás</td><td>1972-07-07</td><td>2016-07-13</td><td>2016-12-09</td></tr>",
                            "<tr><td>MATYASS</td><td>Szilágyi Mátyás</td><td>1975-03-22</td><td>2016-05-10</td><td>2017-01-09</td></tr>",
                            "<tr><td>MIHALYJ</td><td>Juhász Mihály</td><td>1979-10-12</td><td>2016-05-30</td><td>2017-02-06</td></tr>",
                            "<tr><td>miklos2</td><td>Gondos Miklós</td><td>1995-10-07</td><td>2016-04-19</td><td>2016-11-16</td></tr>",
                            "<tr><td>MIKLOSB</td><td>Balla Miklós</td><td>1979-02-16</td><td>2016-06-26</td><td>2016-12-05</td></tr>",
                            "<tr><td>MONIKAM</td><td>Mohos Mónika</td><td>1974-10-01</td><td>2016-04-29</td><td>2017-02-23</td></tr>",
                            "<tr><td>NANDORF</td><td>Fő Nándor</td><td>1968-11-12</td><td>2016-04-06</td><td>2017-02-05</td></tr>",
                            "<tr><td>nikolett3</td><td>Horváth Nikolett</td><td>1981-09-29</td><td>2016-05-24</td><td>2016-10-22</td></tr>",
                            "<tr><td>nikoletta4</td><td>Kő Nikoletta</td><td>1972-01-10</td><td>2016-04-08</td><td>2017-02-01</td></tr>",
                            "<tr><td>NIKOLETTAT</td><td>Tatár Nikoletta</td><td>1997-10-19</td><td>2016-05-22</td><td>2016-09-21</td></tr>",
                            "<tr><td>norbert</td><td>Szűcs Norbert</td><td>1969-07-17</td><td>2016-07-08</td><td>2017-02-26</td></tr>",
                            "<tr><td>norbert2</td><td>Hegedűs Norbert</td><td>1991-07-17</td><td>2016-04-19</td><td>2017-01-29</td></tr>",
                            "<tr><td>norbert4</td><td>Mile Norbert</td><td>1983-06-15</td><td>2016-04-10</td><td>2017-03-03</td></tr>",
                            "<tr><td>norbert5</td><td>Béres Norbert</td><td>1975-07-27</td><td>2016-06-24</td><td>2016-11-05</td></tr>",
                            "<tr><td>pal</td><td>Barabás Pál</td><td>1968-02-06</td><td>2016-08-14</td><td>2017-02-20</td></tr>",
                            "<tr><td>peter1</td><td>Kozma Péter</td><td>1976-03-18</td><td>2016-07-14</td><td>2017-02-28</td></tr>",
                            "<tr><td>peter2</td><td>Bozsó Péter</td><td>1976-01-26</td><td>2016-07-03</td><td>2016-11-15</td></tr>",
                            "<tr><td>peter3</td><td>Szalai Péter</td><td>1983-07-18</td><td>2016-06-30</td><td>2017-02-21</td></tr>",
                            "<tr><td>peter4</td><td>Bíró Péter</td><td>1985-09-01</td><td>2016-04-12</td><td>2017-02-05</td></tr>",
                            "<tr><td>PETERB</td><td>Berendi Péter</td><td>1969-01-01</td><td>2016-04-06</td><td>2016-11-17</td></tr>",
                            "<tr><td>polla</td><td>Palágyi Polla</td><td>1994-02-04</td><td>2016-04-17</td><td>2017-02-11</td></tr>",
                            "<tr><td>rajmond4</td><td>Rácz Rajmond</td><td>1993-09-25</td><td>2016-09-05</td><td>2016-11-16</td></tr>",
                            "<tr><td>reka4</td><td>Szikszai Réka</td><td>1969-11-27</td><td>2016-07-27</td><td>2017-02-26</td></tr>",
                            "<tr><td>RENATAK</td><td>Kardos Renáta</td><td>1988-05-17</td><td>2016-10-27</td><td>2017-03-01</td></tr>",
                            "<tr><td>RENATAS</td><td>Szirmai Renáta</td><td>1991-03-26</td><td>2016-05-04</td><td>2017-02-14</td></tr>",
                            "<tr><td>robert2</td><td>Patay Róbert</td><td>1977-01-08</td><td>2016-05-15</td><td>2016-12-17</td></tr>",
                            "<tr><td>ROBERTI</td><td>Iván Róbert</td><td>1967-07-02</td><td>2016-07-12</td><td>2017-02-17</td></tr>",
                            "<tr><td>ROBERTP</td><td>Pásztor Róbert</td><td>1972-05-16</td><td>2016-07-30</td><td>2016-09-08</td></tr>",
                            "<tr><td>roland</td><td>Tóth Roland</td><td>1968-03-21</td><td>2016-06-09</td><td>2016-11-19</td></tr>",
                            "<tr><td>roland1</td><td>Ferencz Roland</td><td>1985-12-31</td><td>2016-11-05</td><td>2017-01-16</td></tr>",
                            "<tr><td>roza2</td><td>Bucskó Róza</td><td>1988-12-26</td><td>2016-09-10</td><td>2017-02-18</td></tr>",
                            "<tr><td>sandor</td><td>Karasz Sándor</td><td>1970-01-27</td><td>2016-07-04</td><td>2016-09-19</td></tr>",
                            "<tr><td>sandor3</td><td>Farkas Sándor</td><td>1989-01-27</td><td>2016-05-12</td><td>2016-11-10</td></tr>",
                            "<tr><td>sandor4</td><td>Nagy Sándor</td><td>1997-06-11</td><td>2016-10-15</td><td>2017-01-22</td></tr>",
                            "<tr><td>sara</td><td>Farkas Sára</td><td>1973-04-05</td><td>2016-05-28</td><td>2016-12-25</td></tr>",
                            "<tr><td>SEBASTIANF</td><td>Foltényi Sebastián</td><td>1992-09-09</td><td>2016-04-06</td><td>2016-09-17</td></tr>",
                            "<tr><td>sebestyen</td><td>Rab Sebestyén</td><td>1992-03-03</td><td>2016-04-07</td><td>2016-10-26</td></tr>",
                            "<tr><td>szabolcs</td><td>Bodor Szabolcs</td><td>1990-07-16</td><td>2016-12-05</td><td>2016-12-05</td></tr>",
                            "<tr><td>SZABOLCSM</td><td>Miklós Szabolcs</td><td>1980-08-11</td><td>2016-06-18</td><td>2017-02-04</td></tr>",
                            "<tr><td>SZILARDS</td><td>Szalai Szilárd</td><td>1967-09-28</td><td>2016-04-23</td><td>2017-02-08</td></tr>",
                            "<tr><td>szilvia1</td><td>Tari Szilvia</td><td>1971-03-09</td><td>2016-05-14</td><td>2017-01-28</td></tr>",
                            "<tr><td>tamara2</td><td>Miklós Tamara</td><td>1980-08-11</td><td>2016-08-12</td><td>2016-11-15</td></tr>",
                            "<tr><td>tamas</td><td>Antal Tamás</td><td>1984-09-05</td><td>2016-05-17</td><td>2017-02-14</td></tr>",
                            "<tr><td>TAMASF</td><td>Fényes Tamás</td><td>1997-11-06</td><td>2016-05-03</td><td>2017-02-16</td></tr>",
                            "<tr><td>tibor</td><td>Gombos Tibor</td><td>1993-11-28</td><td>2016-10-09</td><td>2016-11-05</td></tr>",
                            "<tr><td>tibor2</td><td>Dániel Tibor</td><td>1985-02-02</td><td>2016-10-20</td><td>2016-10-20</td></tr>",
                            "<tr><td>tihamer</td><td>Kazy Tihamér</td><td>1991-07-05</td><td>2016-05-30</td><td>2016-12-25</td></tr>",
                            "<tr><td>timea</td><td>Papós Tímea</td><td>1996-01-08</td><td>2016-12-26</td><td>2016-12-26</td></tr>",
                            "<tr><td>timea2</td><td>Dusha Tímea</td><td>1975-08-22</td><td>2016-06-06</td><td>2016-12-14</td></tr>",
                            "<tr><td>tunde</td><td>Turcsik Tünde</td><td>1974-02-12</td><td>2016-06-03</td><td>2017-01-03</td></tr>",
                            "<tr><td>valentin</td><td>Feró Valentin</td><td>1986-01-09</td><td>2016-05-24</td><td>2016-12-01</td></tr>",
                            "<tr><td>veronika4</td><td>Tankó Veronika</td><td>1983-08-28</td><td>2016-05-30</td><td>2017-02-03</td></tr>",
                            "<tr><td>VIKTORIAU</td><td>Urbán Viktoria</td><td>1996-05-03</td><td>2016-04-30</td><td>2016-10-26</td></tr>",
                            "<tr><td>VIKTORK</td><td>Keresztúri Viktor</td><td>1989-05-05</td><td>2016-05-30</td><td>2016-06-06</td></tr>",
                            "<tr><td>vivien3</td><td>Boros Vivien</td><td>1991-07-01</td><td>2016-05-02</td><td>2016-12-24</td></tr>",
                            "<tr><td>zoltan</td><td>Fodor Zoltán</td><td>1979-11-25</td><td>2016-08-24</td><td>2016-09-05</td></tr>",
                            "<tr><td>zoltan4</td><td>Barna Zoltán</td><td>1986-05-20</td><td>2016-05-12</td><td>2017-01-01</td></tr>",
                            "<tr><td>ZOLTANP</td><td>Pintér Zoltán</td><td>1977-06-07</td><td>2016-06-05</td><td>2016-12-25</td></tr>",
                            "<tr><td>ZOLTANT</td><td>Tóth Zoltán</td><td>1985-12-14</td><td>2016-05-01</td><td>2017-01-16</td></tr>",
                            "<tr><td>zsofi1</td><td>Molnár Zsófi</td><td>1983-11-17</td><td>2016-06-16</td><td>2017-02-18</td></tr>",
                            "<tr><td>zsolt1</td><td>Pulai Zsolt</td><td>1988-05-27</td><td>2016-04-14</td><td>2016-07-31</td></tr>",
                            "<tr><td>ZSOLTJ</td><td>Józsa Zsolt</td><td>1983-09-29</td><td>2016-04-24</td><td>2016-10-01</td></tr>",
                            "<tr><td>zsuzsa</td><td>Pusztai Zsuzsanna</td><td>1980-09-17</td><td>2016-07-24</td><td>2016-11-28</td></tr>",
                            "<tr><td>zsuzsa3</td><td>Varsányi Zsuzsa</td><td>1979-03-06</td><td>2016-07-30</td><td>2016-10-27</td></tr>",
                            "<tr><td>zsuzsanna</td><td>Barta Zsuzsanna</td><td>1994-10-07</td><td>2016-05-17</td><td>2017-01-16</td></tr>",
                            "<tr><td>ZSUZSAV</td><td>Vajda Zsuzsa</td><td>1976-12-11</td><td>2016-04-14</td><td>2016-11-21</td></tr>",
                            "</table>"
                        ]
                    }
                }
            ],
            "execution_count": 27
        },
        {
            "cell_type": "markdown",
            "source": [
                "Készítsen lekérdezést, amely megjeleníti, hogy szálláshelyenként, azon belül a pótágyak száma szerint hány főre foglaltak összesen (felnőtt + gyermek)!\n",
                "\n",
                "- Jelenjenek meg a részösszegek és a végösszeg is!"
            ],
            "metadata": {
                "azdata_cell_guid": "95b393a4-68ba-41b1-94a4-e75833a584c3"
            },
            "attachments": {}
        },
        {
            "cell_type": "code",
            "source": [
                "SELECT    szh.SZALLAS_NEV,\r\n",
                "sz.POTAGY,\r\n",
                "SUM(f.FELNOTT_SZAM + f.GYERMEK_SZAM)\r\n",
                "FROM Foglalas f JOIN Szoba sz ON f.szoba_fk = sz.szoba_id\r\n",
                "                JOIN Szallashely szh ON sz.SZALLAS_FK = szh.SZALLAS_ID\r\n",
                "GROUP BY ROLLUP (szh.SZALLAS_NEV,sz.POTAGY)"
            ],
            "metadata": {
                "azdata_cell_guid": "cbe3ae40-2f21-480a-8464-1987d527a521",
                "language": "sql"
            },
            "outputs": [
                {
                    "output_type": "display_data",
                    "data": {
                        "text/html": "(41 rows affected)"
                    },
                    "metadata": {}
                },
                {
                    "output_type": "display_data",
                    "data": {
                        "text/html": "Total execution time: 00:00:00.033"
                    },
                    "metadata": {}
                },
                {
                    "output_type": "execute_result",
                    "metadata": {},
                    "execution_count": 28,
                    "data": {
                        "application/vnd.dataresource+json": {
                            "schema": {
                                "fields": [
                                    {
                                        "name": "SZALLAS_NEV"
                                    },
                                    {
                                        "name": "POTAGY"
                                    },
                                    {
                                        "name": "(No column name)"
                                    }
                                ]
                            },
                            "data": [
                                {
                                    "SZALLAS_NEV": "Családi Ház",
                                    "POTAGY": "0",
                                    "(No column name)": "10"
                                },
                                {
                                    "SZALLAS_NEV": "Családi Ház",
                                    "POTAGY": "1",
                                    "(No column name)": "31"
                                },
                                {
                                    "SZALLAS_NEV": "Családi Ház",
                                    "POTAGY": "2",
                                    "(No column name)": "11"
                                },
                                {
                                    "SZALLAS_NEV": "Családi Ház",
                                    "POTAGY": "NULL",
                                    "(No column name)": "52"
                                },
                                {
                                    "SZALLAS_NEV": "Fortuna Apartman",
                                    "POTAGY": "0",
                                    "(No column name)": "18"
                                },
                                {
                                    "SZALLAS_NEV": "Fortuna Apartman",
                                    "POTAGY": "1",
                                    "(No column name)": "52"
                                },
                                {
                                    "SZALLAS_NEV": "Fortuna Apartman",
                                    "POTAGY": "2",
                                    "(No column name)": "36"
                                },
                                {
                                    "SZALLAS_NEV": "Fortuna Apartman",
                                    "POTAGY": "NULL",
                                    "(No column name)": "106"
                                },
                                {
                                    "SZALLAS_NEV": "Fortuna Panzió",
                                    "POTAGY": "0",
                                    "(No column name)": "158"
                                },
                                {
                                    "SZALLAS_NEV": "Fortuna panzió",
                                    "POTAGY": "1",
                                    "(No column name)": "113"
                                },
                                {
                                    "SZALLAS_NEV": "Fortuna panzió",
                                    "POTAGY": "2",
                                    "(No column name)": "40"
                                },
                                {
                                    "SZALLAS_NEV": "Fortuna Panzió",
                                    "POTAGY": "NULL",
                                    "(No column name)": "311"
                                },
                                {
                                    "SZALLAS_NEV": "Gold Hotel",
                                    "POTAGY": "0",
                                    "(No column name)": "216"
                                },
                                {
                                    "SZALLAS_NEV": "Gold Hotel",
                                    "POTAGY": "1",
                                    "(No column name)": "93"
                                },
                                {
                                    "SZALLAS_NEV": "Gold Hotel",
                                    "POTAGY": "2",
                                    "(No column name)": "119"
                                },
                                {
                                    "SZALLAS_NEV": "Gold Hotel",
                                    "POTAGY": "NULL",
                                    "(No column name)": "428"
                                },
                                {
                                    "SZALLAS_NEV": "Hotel Három Hattyú",
                                    "POTAGY": "0",
                                    "(No column name)": "183"
                                },
                                {
                                    "SZALLAS_NEV": "Hotel Három Hattyú",
                                    "POTAGY": "1",
                                    "(No column name)": "258"
                                },
                                {
                                    "SZALLAS_NEV": "Hotel Három Hattyú",
                                    "POTAGY": "2",
                                    "(No column name)": "63"
                                },
                                {
                                    "SZALLAS_NEV": "Hotel Három Hattyú",
                                    "POTAGY": "NULL",
                                    "(No column name)": "504"
                                },
                                {
                                    "SZALLAS_NEV": "Jáde panzió",
                                    "POTAGY": "0",
                                    "(No column name)": "66"
                                },
                                {
                                    "SZALLAS_NEV": "Jáde panzió",
                                    "POTAGY": "NULL",
                                    "(No column name)": "66"
                                },
                                {
                                    "SZALLAS_NEV": "Kentaur Hotel",
                                    "POTAGY": "0",
                                    "(No column name)": "168"
                                },
                                {
                                    "SZALLAS_NEV": "Kentaur Hotel",
                                    "POTAGY": "1",
                                    "(No column name)": "224"
                                },
                                {
                                    "SZALLAS_NEV": "Kentaur Hotel",
                                    "POTAGY": "2",
                                    "(No column name)": "28"
                                },
                                {
                                    "SZALLAS_NEV": "Kentaur Hotel",
                                    "POTAGY": "NULL",
                                    "(No column name)": "420"
                                },
                                {
                                    "SZALLAS_NEV": "Lagúna Hotel",
                                    "POTAGY": "0",
                                    "(No column name)": "105"
                                },
                                {
                                    "SZALLAS_NEV": "Lagúna Hotel",
                                    "POTAGY": "1",
                                    "(No column name)": "150"
                                },
                                {
                                    "SZALLAS_NEV": "Lagúna Hotel",
                                    "POTAGY": "2",
                                    "(No column name)": "36"
                                },
                                {
                                    "SZALLAS_NEV": "Lagúna Hotel",
                                    "POTAGY": "NULL",
                                    "(No column name)": "291"
                                },
                                {
                                    "SZALLAS_NEV": "Partiszél Vendégház",
                                    "POTAGY": "0",
                                    "(No column name)": "31"
                                },
                                {
                                    "SZALLAS_NEV": "Partiszél Vendégház",
                                    "POTAGY": "1",
                                    "(No column name)": "17"
                                },
                                {
                                    "SZALLAS_NEV": "Partiszél Vendégház",
                                    "POTAGY": "2",
                                    "(No column name)": "15"
                                },
                                {
                                    "SZALLAS_NEV": "Partiszél Vendégház",
                                    "POTAGY": "NULL",
                                    "(No column name)": "63"
                                },
                                {
                                    "SZALLAS_NEV": "Sába-Ház",
                                    "POTAGY": "0",
                                    "(No column name)": "67"
                                },
                                {
                                    "SZALLAS_NEV": "Sába-Ház",
                                    "POTAGY": "1",
                                    "(No column name)": "99"
                                },
                                {
                                    "SZALLAS_NEV": "Sába-Ház",
                                    "POTAGY": "NULL",
                                    "(No column name)": "166"
                                },
                                {
                                    "SZALLAS_NEV": "Szieszta Apartmanház",
                                    "POTAGY": "0",
                                    "(No column name)": "64"
                                },
                                {
                                    "SZALLAS_NEV": "Szieszta Apartmanház",
                                    "POTAGY": "1",
                                    "(No column name)": "19"
                                },
                                {
                                    "SZALLAS_NEV": "Szieszta Apartmanház",
                                    "POTAGY": "NULL",
                                    "(No column name)": "83"
                                },
                                {
                                    "SZALLAS_NEV": "NULL",
                                    "POTAGY": "NULL",
                                    "(No column name)": "2490"
                                }
                            ]
                        },
                        "text/html": [
                            "<table>",
                            "<tr><th>SZALLAS_NEV</th><th>POTAGY</th><th>(No column name)</th></tr>",
                            "<tr><td>Családi Ház</td><td>0</td><td>10</td></tr>",
                            "<tr><td>Családi Ház</td><td>1</td><td>31</td></tr>",
                            "<tr><td>Családi Ház</td><td>2</td><td>11</td></tr>",
                            "<tr><td>Családi Ház</td><td>NULL</td><td>52</td></tr>",
                            "<tr><td>Fortuna Apartman</td><td>0</td><td>18</td></tr>",
                            "<tr><td>Fortuna Apartman</td><td>1</td><td>52</td></tr>",
                            "<tr><td>Fortuna Apartman</td><td>2</td><td>36</td></tr>",
                            "<tr><td>Fortuna Apartman</td><td>NULL</td><td>106</td></tr>",
                            "<tr><td>Fortuna Panzió</td><td>0</td><td>158</td></tr>",
                            "<tr><td>Fortuna panzió</td><td>1</td><td>113</td></tr>",
                            "<tr><td>Fortuna panzió</td><td>2</td><td>40</td></tr>",
                            "<tr><td>Fortuna Panzió</td><td>NULL</td><td>311</td></tr>",
                            "<tr><td>Gold Hotel</td><td>0</td><td>216</td></tr>",
                            "<tr><td>Gold Hotel</td><td>1</td><td>93</td></tr>",
                            "<tr><td>Gold Hotel</td><td>2</td><td>119</td></tr>",
                            "<tr><td>Gold Hotel</td><td>NULL</td><td>428</td></tr>",
                            "<tr><td>Hotel Három Hattyú</td><td>0</td><td>183</td></tr>",
                            "<tr><td>Hotel Három Hattyú</td><td>1</td><td>258</td></tr>",
                            "<tr><td>Hotel Három Hattyú</td><td>2</td><td>63</td></tr>",
                            "<tr><td>Hotel Három Hattyú</td><td>NULL</td><td>504</td></tr>",
                            "<tr><td>Jáde panzió</td><td>0</td><td>66</td></tr>",
                            "<tr><td>Jáde panzió</td><td>NULL</td><td>66</td></tr>",
                            "<tr><td>Kentaur Hotel</td><td>0</td><td>168</td></tr>",
                            "<tr><td>Kentaur Hotel</td><td>1</td><td>224</td></tr>",
                            "<tr><td>Kentaur Hotel</td><td>2</td><td>28</td></tr>",
                            "<tr><td>Kentaur Hotel</td><td>NULL</td><td>420</td></tr>",
                            "<tr><td>Lagúna Hotel</td><td>0</td><td>105</td></tr>",
                            "<tr><td>Lagúna Hotel</td><td>1</td><td>150</td></tr>",
                            "<tr><td>Lagúna Hotel</td><td>2</td><td>36</td></tr>",
                            "<tr><td>Lagúna Hotel</td><td>NULL</td><td>291</td></tr>",
                            "<tr><td>Partiszél Vendégház</td><td>0</td><td>31</td></tr>",
                            "<tr><td>Partiszél Vendégház</td><td>1</td><td>17</td></tr>",
                            "<tr><td>Partiszél Vendégház</td><td>2</td><td>15</td></tr>",
                            "<tr><td>Partiszél Vendégház</td><td>NULL</td><td>63</td></tr>",
                            "<tr><td>Sába-Ház</td><td>0</td><td>67</td></tr>",
                            "<tr><td>Sába-Ház</td><td>1</td><td>99</td></tr>",
                            "<tr><td>Sába-Ház</td><td>NULL</td><td>166</td></tr>",
                            "<tr><td>Szieszta Apartmanház</td><td>0</td><td>64</td></tr>",
                            "<tr><td>Szieszta Apartmanház</td><td>1</td><td>19</td></tr>",
                            "<tr><td>Szieszta Apartmanház</td><td>NULL</td><td>83</td></tr>",
                            "<tr><td>NULL</td><td>NULL</td><td>2490</td></tr>",
                            "</table>"
                        ]
                    }
                }
            ],
            "execution_count": 28
        },
        {
            "cell_type": "markdown",
            "source": [
                "Készítsünk ideiglenes táblát #MASKED\\_GUEST néven, ahol \n",
                "\n",
                "- a tábla felépítése megegyezik a vendég tábláéval, DE\n",
                "- a vendégek nevének csak az első 2, és az utolsó 3 karaktere jelenjen meg, közötte X-ek legyenek!"
            ],
            "metadata": {
                "azdata_cell_guid": "60863335-535a-47ae-9e7b-80a53075cbfc"
            },
            "attachments": {}
        },
        {
            "cell_type": "code",
            "source": [
                "CREATE TABLE #MASKED_GUEST\r\n",
                "(\r\n",
                "    USERNEV nvarchar(20) PRIMARY KEY,\r\n",
                "    NEV nvarchar(20) MASKED WITH (FUNCTION = 'partial(2, \"XXXX\", 3)'),\r\n",
                "    EMAIL nvarchar(40),\r\n",
                "    SZAML_CIM nvarchar(40),\r\n",
                "    SZUL_DAT date\r\n",
                ")"
            ],
            "metadata": {
                "azdata_cell_guid": "f0a78d41-21a4-4347-b5ad-d83db3544ce3",
                "language": "sql",
                "tags": []
            },
            "outputs": [
                {
                    "output_type": "display_data",
                    "data": {
                        "text/html": "Commands completed successfully."
                    },
                    "metadata": {}
                },
                {
                    "output_type": "display_data",
                    "data": {
                        "text/html": "Total execution time: 00:00:00.005"
                    },
                    "metadata": {}
                }
            ],
            "execution_count": 29
        },
        {
            "cell_type": "markdown",
            "source": [
                "Oldja meg REDIS-ben a következő feladatokat:\n",
                "\n",
                "- hozzon létre egy string kulcsot, amely egy könyvtár nevét tartalmazza\n",
                "- hozzon létre egy hash kulcsot, amely egy könyv legalább 3 adatát tartalmazza\n",
                "- hozzon létre egy set kulcsot, amely a könyvtárban lévő könyvek műfajait tartalmazza (legalább 3)\n",
                "- hozzon létre egy list kulcsot, amely a kikölcsönzött könyvek címeit tartalmazza (legalább 3)\n",
                "- hozzon létre egy sorted set kulcsot, amely az adott könyvek címeit és a könyv kölcsönzéseinek számát tartalmazza (legalább 3)"
            ],
            "metadata": {
                "azdata_cell_guid": "95952500-b56d-483e-b302-d50415bcab22"
            },
            "attachments": {}
        },
        {
            "cell_type": "code",
            "source": [
                "SET konyvtar \"Konyvtar\"\r\n",
                "\r\n",
                "HMSET konyv:1 cim \"A nagy Gatsby\" szerzo \"F Scott Fitzgerald\" ev 1925\r\n",
                "\r\n",
                "SADD mufaj \"regeny\" \"tortenelmi\" \"fantasy\"\r\n",
                "\r\n",
                "LPUSH kolcsonzott \"A nagy Gatsby\" \"Moby Dick\" \"1984\"\r\n",
                "\r\n",
                "ZADD kikolcsonzott 3 \"A nagy Gatsby\" 2 \"Moby Dick\" 5 \"1984\""
            ],
            "metadata": {
                "azdata_cell_guid": "6d989d15-3a81-464a-a4b9-ae796c60b054",
                "language": "sql"
            },
            "outputs": [
                {
                    "output_type": "display_data",
                    "data": {
                        "text/html": "Query was canceled by user"
                    },
                    "metadata": {}
                },
                {
                    "output_type": "display_data",
                    "data": {
                        "text/html": "Total execution time: 00:00:00"
                    },
                    "metadata": {}
                }
            ],
            "execution_count": 20
        },
        {
            "cell_type": "markdown",
            "source": [
                "Cassandra CQL Shellben hozza létre a következő táblát:\n",
                "\n",
                "STUDENT(ID, Nev, Teljesitett\\_felevek, Eredmenyek, Nyelvtudas)\n",
                "\n",
                "- Az ID legyen az elsődleges kulcs\n",
                "- A Teljesitett félévek legyen LIST, tartalma egész számok, pl: 1, 2, 3\n",
                "- Az Eredmenyek legyen MAP, tartalma, hogy melyik félévben mennyi volt az átlag, pl: 1: 3,00, 2: 4.55, 3: 4,10\n",
                "- A Nyelvtudas legyen SET, tartalma a nyelvek megnevezése\n",
                "\n",
                "Vigyen fel legalább 2 rekordot!"
            ],
            "metadata": {
                "azdata_cell_guid": "44145735-2258-4ff1-b09e-d797bfe4d11f"
            },
            "attachments": {}
        },
        {
            "cell_type": "code",
            "source": [
                ""
            ],
            "metadata": {
                "azdata_cell_guid": "42803fe1-54b3-4a21-a039-39aedb35d0fe",
                "language": "sql"
            },
            "outputs": [
                {
                    "output_type": "display_data",
                    "data": {
                        "text/html": "Commands completed successfully."
                    },
                    "metadata": {}
                },
                {
                    "output_type": "display_data",
                    "data": {
                        "text/html": "Total execution time: 00:00:00"
                    },
                    "metadata": {}
                }
            ],
            "execution_count": 21
        },
        {
            "cell_type": "markdown",
            "source": [
                "A Neo4j Sandbox-ban vagy a Desktopban jelenítsük meg azon személyeket, akik egy filmben szerepeltek Tom Hanks-sel.\n",
                "\n",
                "- Egy szereplő neve csak egyszer jelenjen meg\n",
                "- Tom Hanks ne legyen benne a listában"
            ],
            "metadata": {
                "azdata_cell_guid": "39d14730-8414-4d8d-8dc0-2c72cd8b0259"
            },
            "attachments": {}
        },
        {
            "cell_type": "code",
            "source": [
                "MATCH (p:Person)-[:ACTED_IN]->(m:Movie)<-[:ACTED_IN]-(p2:Person)\r\n",
                "WHERE p.name= 'Tom Hanks'\r\n",
                "RETURN DISTINCT p2.name"
            ],
            "metadata": {
                "azdata_cell_guid": "63299345-b9a4-48dd-93aa-12859a351646",
                "language": "sql"
            },
            "outputs": [
                {
                    "output_type": "display_data",
                    "data": {
                        "text/html": "Query was canceled by user"
                    },
                    "metadata": {}
                },
                {
                    "output_type": "display_data",
                    "data": {
                        "text/html": "Total execution time: 00:00:00"
                    },
                    "metadata": {}
                }
            ],
            "execution_count": 22
        }
    ]
}